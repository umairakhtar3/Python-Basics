{
  "cells": [
    {
      "metadata": {},
      "cell_type": "markdown",
      "source": "# Luku 2: Kontrollirakenteet"
    },
    {
      "metadata": {},
      "cell_type": "markdown",
      "source": "Ohjelmoinnin kulmakiviä ovat kontrollirakenteet. Ohjelmointikieleen sisäänrakennetut kontrollirakenteet auttavat ohjelmoijaa tekemään mukautuvia ja tehokkaita ohjelmia. Kontrollirakenteista yleisimmät ovat **valintakäskyt**, joiden avulla koodin kulkua ohjataan, sekä **toistokäskyt** eli **silmukat** (loop), joiden avulla koodirivejä voidaan suorittaa tehokkaasti uudelleen. Toistokäskyt käsitellään seuraavassa luvussa."
    },
    {
      "metadata": {},
      "cell_type": "markdown",
      "source": "## if-else -rakenne"
    },
    {
      "metadata": {},
      "cell_type": "markdown",
      "source": "Tähän asti ohjelmat ovat suorittaneet käskyt siinä järjestyksessä, kun ne on listattu. Kuitenkin monissa tilanteissa halutaan päättää missä tilanteissa ohjelma toimii milläkin tavalla. Esimerkiksi ohjelman kulkua voidaan haluta muokata, riippuen käyttäjän antamasta syötteestä.\n\nTätä varten Pythonissa on `if-else` -rakenne."
    },
    {
      "metadata": {},
      "cell_type": "markdown",
      "source": "```python\nif condition:\n    command1\nelse:\n    command2\n```"
    },
    {
      "metadata": {},
      "cell_type": "markdown",
      "source": "Rakenteen periaate on se, että ensin tutkitaan onko ehto tosi vai ei. Jos ehto on tosi, ohjelma siirtyy ensimmäiseen ohjelmalohkoon ja suorittaa käskyn 1. Jos ehto on epätosi, ohjelma menee jälkimmäiseen ohjelmalohkoon ja suorittaa käskyn 2. Ohjelma suorittaa siis vain toisen käskyistä riippuen ehdon toteutumisesta ja toista käskyä ei suoriteta.\n\nEhto on jokin lauseke, joka palauttaa totuusarvon `True` tai `False` (Boolean). Boolean arvoja voitiin luoda kuudella eli vertailuoperaattorilla. Kaiken tyyppisillä arvoilla voidaan käyttää: \n- `==` (Yhtäsuuruus) \n- `!=` (Erisuuruus)\n\nTämän lisäksi numeerisilla arvoilla (kokonais- ja desimaaliluvut) voidaan käyttää:\n- `<` (Pienempi kuin)\n- `<=` (Pienempi tai yhtä pieni kuin)\n- `>` (Suurempi kuin)\n- `>=` (Suurempi tai yhtäsuuri kuin)\n\nEhtona voisi olla esimerkiksi `i < 5`."
    },
    {
      "metadata": {
        "trusted": true
      },
      "cell_type": "code",
      "source": "i = 3\nif i < 5:\n    print(i,'is less than 5!')\nelse:\n    print(i,'is 5 or greater!')",
      "execution_count": null,
      "outputs": []
    },
    {
      "metadata": {},
      "cell_type": "markdown",
      "source": "Ohjelmassa tallennetaan muuttujaan `i` numero `3`. Tämän jälkeen ohjelma vertailee onko `i`:n arvo pienempi kuin `5`. Tässä tilanteessa `3 < 5` palauttaa arvon `True` (eli tosi), joten ohjelma suorittaa tätä tilannetta vastaavat ohjelmalohkon ja lopettaa toimintansa suorittamatta toista ohjelmalohkoa. "
    },
    {
      "metadata": {
        "trusted": true
      },
      "cell_type": "code",
      "source": "i = 6\nif i < 5:\n    print(i,'is less than 5!')\nelse:\n    print(i,'is 5 or greater!')",
      "execution_count": null,
      "outputs": []
    },
    {
      "metadata": {},
      "cell_type": "markdown",
      "source": "Ohjelma tallentaa numeron `6` muuttujaan `i`. Tämän jälkeen ohjelma tarkistaa onko ensimmäinen ehto tosi ja tässä tapauksessa ehto `6 < 5` on `False` (eli epätosi). Tällöin ohjelma siirtyy toiseen vaihtoehtoon ja suorittaa sille määrätyn käskyn."
    },
    {
      "metadata": {},
      "cell_type": "markdown",
      "source": "**Huom!** `if` ja `else` ehtojen perässä **on oltava kaksoispisteet, sillä muuten ohjelma ei toimi.** Tällöin tulostuu virhekoodi, jossa on nuoli puuttuvan kaksoispisteen kohdalla. Alla on edellinen esimerkki ilman kaksoispistettä, jolloin näytölle tulostuu virhekoodi."
    },
    {
      "metadata": {
        "trusted": true
      },
      "cell_type": "code",
      "source": "i = 6\nif i < 5\n    print('Less than 5!')\nelse:\n    print('5 or higher!')",
      "execution_count": null,
      "outputs": []
    },
    {
      "metadata": {},
      "cell_type": "markdown",
      "source": "Kuten aiemmin mainittiin, ohjelmassa voidaan haluta suorittaa käskyt riippuen käyttäjän syötteestä."
    },
    {
      "metadata": {
        "trusted": true
      },
      "cell_type": "code",
      "source": "age = int(input('Tell me your age:\\n'))\nif age < 18:\n    print('You are underaged')\nelse:\n    print('You are an adult')",
      "execution_count": null,
      "outputs": []
    },
    {
      "metadata": {},
      "cell_type": "markdown",
      "source": "Tässä ohjelma kysyy ensiksi käyttäjän iän `input`-funktion avulla. Vastaus muutetaan heti kokonaisluvuksi tyyppimuunnos funktion `int` avulla. Ohjelma vertailee sitten onko annettu ikä pienempi kuin 18. Jos vertailu `age < 18` palauttaa arvon `True`, siirtyy ohjelma ensimmäiseen ohjelmalohkoon, jossa ohjelma tulostaa tekstin *\"You are underaged\"*. Muuten ohjelma tulostaa tekstin *\"You are an adult\"*. "
    },
    {
      "metadata": {},
      "cell_type": "markdown",
      "source": "### Rakenteen käyttö"
    },
    {
      "metadata": {},
      "cell_type": "markdown",
      "source": "`If-else` -rakenteessa on ehdottoman tärkeää sisentää ohjelmalohkojen käskyt. Sisentämisellä tarkoitetaan `Tab`-näppäimellä tehtyä väliä tai neljää välilyöntejä. Pythonissa on tapana sisentää yhdellä `Tab` -välillä. Rakenne päättyy kun aloitetaan uusi rivi koodia ilman sisennystä. \n\nEnnen käskyjä täytyy rakenteen perässä olla kaksoispiste `:`. Muuten ohjelma ilmoittaa `SyntaxError: Invalid Syntax` -virheestä.\n\n`If-else` -rakenteeseen voi myös laittaa käskyosuuteen niin monta riviä koodia kuin halutaan. Käytetyt esimerkit ovat toistaiseksi olleet vain suhteellisen yksinkertaisia, joten ohjelmalohkoissa on ollut vain yksi komento. "
    },
    {
      "metadata": {},
      "cell_type": "markdown",
      "source": "**Esimerkkiohjelma 1:** Valuuttalaskuri"
    },
    {
      "metadata": {
        "trusted": true
      },
      "cell_type": "code",
      "source": "print(\"Welcome to the number comparison program.\")\nnum1 = 10\nnum2 = float(input(\"Give the number you wanna compare to number 10: \"))\nif num2 >= num1:\n    print(\"The number the user gave is greater or equal to number 10.\")\nelse:\n    print(\"The number the user gave is smaller than 10. \")",
      "execution_count": null,
      "outputs": []
    },
    {
      "metadata": {},
      "cell_type": "markdown",
      "source": "Käydään ohjelman toiminta läpi:\n\n- Rivi 1: Ohjelma tulostaa tervehdyksen.\n- Rivi 2: Annetaan muuttujalle `num1` arvo `10`.\n- Rivi 3: Kysytään käyttäjältä lukua `input()`-funktiolla, muutetaan se desimaaliluvuksi komennolla `float()` ja tallenetaan se muuttujaan `num2`.\n- Rivi 4: Tarkastellaan, onko muuttujan `num2` arvo **suurempi tai yhtäsuuri** kuin muuttujan `num1` arvo.\n- Rivi 5: Mikä ehtolause on totta, tulostetaan, että käyttäjän antama luku on suurempi tai yhtäsuuri kuin luku 10.\n- Rivi 6: Mikäli ehtolause ei ole totta, tulostetaan, että käyttäjän antama luku on pienempi kuin luku 10. "
    },
    {
      "metadata": {},
      "cell_type": "markdown",
      "source": "##### HARJOITUS 1"
    },
    {
      "metadata": {},
      "cell_type": "markdown",
      "source": "Kirjoita ohjelma, joka pyytää käyttäjältä jonkin luvun. Tallenna tämä luku muuttujaan `number`. Muista muuttaa annetun syötteen tyyppi komennolla `float()`!\n\nTämän jälkeen tarkastele lukua käyttäen if-else -rakennetta. Mikäli luku on pienempi kuin 50, luodaan uusi muuttuja, jonka arvo on `number + 10`, eli lukuun lisätään luku kymmennen. Muussa tapauksessa luodaan uusi muuttuja, jonka arvo on `number - 10`, eli luvusta vähennetään luku kymmennen.\n\nLopuksi ohjelma tulostaa muuttujan `new_number` arvon saatetekstin kera. \n\nAlla esimerkki ohjelman suorituksesta:\n```\nEnter a number: 5\nThe value of the new number is: 15.0\n```\n---------------\n```\nEnter a number: 100\nThe value of the new number is: 90.0\n```"
    },
    {
      "metadata": {
        "trusted": true
      },
      "cell_type": "code",
      "source": "",
      "execution_count": null,
      "outputs": []
    },
    {
      "metadata": {},
      "cell_type": "markdown",
      "source": "##### HARJOITUS 2"
    },
    {
      "metadata": {},
      "cell_type": "markdown",
      "source": "Kirjoita ohjelma, joka pyytää käyttäjältä kokonaisluvun ja tarkistaa onko luku parillinen vai pariton. Jos käyttäjän antama luku on parillinen, ohjelma tulostaa tekstin \"The number is even\", muussa tapauksessa ohjelma tulostaa tekstin \"The number is odd\". *Vinkki: voit vertailla parillisuutta jakojäännöksellä `%` (`luku % 2 == 0`, tässä otetaan muuttujan `luku` jakojäännös kun se jaetaan luvulla `2`, ja vertaillaan sitä lukuun `0`). Kun parillinen luku jaetaan kahdella on jakojäännös 0.* (Tuloste)\n\nAlla muutama esimerkkiajo ohjelman suorittamisesta:\n```\nEnter a number: 5\nThe number is odd\n```\n----------\n```\nEnter a number: 8\nThe number is even\n```"
    },
    {
      "metadata": {
        "trusted": true
      },
      "cell_type": "code",
      "source": "luku = int(input(\"Enter a number: \"))\nif luku % 2 == 0:\n    print(\"The number is even\")\nelse:\n    print(\"The number is odd\")",
      "execution_count": null,
      "outputs": []
    },
    {
      "metadata": {},
      "cell_type": "markdown",
      "source": "###  If ilman elseä"
    },
    {
      "metadata": {},
      "cell_type": "markdown",
      "source": "Pythonissa on myös mahdollista tehdä `if`-lauseke ilman `else`-osuutta. Tämä tehdään jättämällä `else` ja sitä vastaava ohjelmalohko kokonaan pois."
    },
    {
      "metadata": {},
      "cell_type": "markdown",
      "source": "Alla olevassa ohjelma tervehtii käyttäjää ainoastaan mikäli hän vastaa haluavansa tulla tervehdytyksi. Mikäli käyttäjä kirjoittaa syötteeksi merkkijonon *yes*, ohjelma tulostaa tekstin *Greetings!*. Muuten ohjelma ei tee mitään."
    },
    {
      "metadata": {
        "trusted": true
      },
      "cell_type": "code",
      "source": "answer = input('Do you want to be greeted? ')\nif answer == 'yes':\n    print('Greetings!')",
      "execution_count": null,
      "outputs": []
    },
    {
      "metadata": {},
      "cell_type": "markdown",
      "source": "##### HARJOITUS 3 "
    },
    {
      "metadata": {},
      "cell_type": "markdown",
      "source": "Kirjoita ohjelma, joka pyytää käyttäjältä luvun 1-10. Ohjelma tehdään ilman `else`-käskyä. Halutaan tietää onko käyttäjän luku 5. Jos käyttäjän luku on juuri 5, ohjelma tulostaa \"The number is exactly 5\". Muuten ohjelma ei tee mitään. Ennen ohjelman loppua ohjelma tulostaa tekstin \"The program ends.\". (Tuloste)"
    },
    {
      "metadata": {
        "trusted": true
      },
      "cell_type": "code",
      "source": "",
      "execution_count": null,
      "outputs": []
    },
    {
      "metadata": {},
      "cell_type": "markdown",
      "source": "### Sisäkkäiset valintakäskyt "
    },
    {
      "metadata": {},
      "cell_type": "markdown",
      "source": "`if-else` rakenteita voi käyttää myös sisäkkäin. Voidaan esimerkiksi haluta ensimmäisen ehdon jälkeen tarkistaa vielä toinen ehto."
    },
    {
      "metadata": {},
      "cell_type": "markdown",
      "source": "**Esimerkkiohjelma 2:** Alkometri"
    },
    {
      "metadata": {
        "trusted": true
      },
      "cell_type": "code",
      "source": "print('This program tells you whether you are legally allowed to drive or not.')\nlevel = float(input('How many permilles do you have in your blood?\\n'))\n\nif level > 0.0:\n    print('The legal limit for driving in Finland is under 0.5 permilles.')\n    \n    if level > 0.5:\n        print('Your permille level is over the legal limit so you have no permisson to drive!')\n    else:\n        print('Your permille level is under the legal limit so you are free to drive. However, it is not recommended to drive.')\n        \nelse:\n    print('You are good to go!')",
      "execution_count": null,
      "outputs": []
    },
    {
      "metadata": {},
      "cell_type": "markdown",
      "source": "Alkometriesimerkissä näkyy, kuinka hyödyntämällä sisäkkäisiä valintakäskyjä voidaan luoda valintaketjuja, joissa ohjelman kulkua ohjataan useammalla ehdolla. Tämän ohjelman `If-else`-rakenteet mahdollistavat yhteensä 3 eri lopputulosta.\n\nJos veren promillemäärä on enemmän kuin `0.0` (rivi 4), suoritetaan kaikki sisennetyt rivit ennen **seuraavaa ei-sisennettyä `else`ä**, eli rivit 5-12. Tämä käsky sisältää toisen `if-else` -rakenteen (rivit 7-10).\n\nJos promilleja on enemmän kuin `0.5`, suoritetaan rivi 8. Jos promilleja on yli `0`, mutta alle `0.5`, suoritetaan rivi 10. Toisin sanoen, ulomman `if-else`:n `if`-käskyn sisällä on kaksi mahdollista lopputulosta.\n\nTämän lisäksi ulomman valintakäskyn `else`-käsky toteutuu jos promilleja ei ole enemmän kuin `0.0`. Yhteensä mahdollisia lopputuloksia ohjelmalle on siis 3. Useilla sisäkkäisillä valintakäskyillä voidaan luoda monimutkaisia ohjelmia. Sisäkkäiset valintakäskyt hankaloittavat kuitenkin ohjelman lukemista, ja harvoin käytetään enemmän kuin kahden `if-else` -rakenteen syvyisiä sisäkkäisiä valintakäskyyjä."
    },
    {
      "metadata": {},
      "cell_type": "markdown",
      "source": "##### HARJOITUS 4"
    },
    {
      "metadata": {},
      "cell_type": "markdown",
      "source": "Tehtävänä on luoda ohjelma, joka tarkastelee onko käyttäjä pitempi kuin saman sukupuolen keskiverto suomalainen. Suomalaisen miehen keskipituus on 178 cm ja naisen 164 cm.\n\nOhjelma luodaan käyttäen sisäkkäistä `if-else` -rakennetta. Ehtolauseita varten tarvitsemme käyttäjältä kaksi syötettä, jotka saadaan kahden erillisen `input()`-komennon avulla. Ohjelman tulee ensiksi kysyä käyttäjän sukupuoli (mies vai nainen), jonka jälkeen se kysyy käyttäjän pituuden senttimetreissä. Muista muuttaa käyttäjän pituus desimaaliluvuksi käyttäen `float()`-komentoa.\n\nTämän jälkeen ohjelma aloittaa ensimmäisen `if-else` -rakenteen, jossa ehtolauseena onko käyttäjä nainen. Jos tämä ehto täyttyy, ohjelma siirtyy ehtolausetta vastaavaan ohjelmalohkoon. \n\nTässä ohjelmalohkossa on uusi `if-else` -rakenne, jossa ehtolauseena verrataan käyttäjän syöttämää pituutta naisten keskipituuteen. Mikäli ehto toteutuu, tulostetaan teksti *\"You are taller than the average Finnish woman\"*. Jos ehto ei toteudu, tulostuu teksti *\"You are shorter than the average Finnish woman\"*.\n\nMikäli ohjelman ensimmäinen ehtolause ei täyttynyt, niin ohjelma siirtyy ehtolausetta vastaavaan `else`-haaraan. Eli siis tapaukseen, jossa käyttäjä on mies. Tässä ohjelmalohkossa on myös uusi `if-else` -rakenne, jossa ehtolauseena vertaillaan käyttäjän syöttämää pituutta miesten keskipituuteen. Mikäli ehtolause toteutuu, tulostetaan teksti *\"You are taller than we average Finnish man\"*. Jos ehto ei toteudu, tulostetaan teksti *\"You are shorter than the average Finnish man\"*.\n\nAlla muutama esimerkki ohjelman toiminnasta:\n```\nEnter your gender (male/female): female\nEnter your height in centimeters: 169\nYou are taller than the average Finnish woman\n```\n-----------\n```\nEnter your gender (male/female): male\nEnter your height in centimeters: 171\nYou are shorter than the average Finnish man\n```\n----------\n```\nEnter your gender (male/female): female\nEnter your height in centimeters: 159\nYou are shorter than the average Finnish woman\n```"
    },
    {
      "metadata": {
        "trusted": true
      },
      "cell_type": "code",
      "source": "gender = input(\"Enter your gender (male/female): \")\nheight = float(input(\"Enter your height in centimeters: \"))\nif gender == \"female\":\n    if height >= 164:\n        print(\"You are taller than the average Finnish woman\")\n    else:\n        print(\"You are shorter than the average Finnish woman\")\nelse:\n    if height >= 178:\n        print(\"You are taller than the average Finnish man\")\n    else:\n        print(\"You are shorter than the average Finnish man\")",
      "execution_count": null,
      "outputs": []
    },
    {
      "metadata": {},
      "cell_type": "markdown",
      "source": "### Whitespace "
    },
    {
      "metadata": {},
      "cell_type": "markdown",
      "source": "Poiketen aiheesta, välihuomio esimerkkiohjelma 2:sen **whitespacen** käyttöön."
    },
    {
      "metadata": {},
      "cell_type": "markdown",
      "source": "Whitespace tarkoittaa välilyontejä, rivinvaihtoja, ja sisennyksiä. Pythonissa saa käyttää välilyöntejä ja rivinvaihtoja niin paljon kuin haluaa, **mutta sisennyksiä saa tehdä vain, kun luodaan uusia ohjelmalohkoja**. Yksi uusia ohjelmalohkoja luova menetelmä on kontrollirakenteet. Niin kuin `if-else`:ssä, myös kohta läpikäytävät silmukat vaativat oikeaoppisen sisennyksen toimiakseen."
    },
    {
      "metadata": {},
      "cell_type": "markdown",
      "source": "#### Miksi sisennys?"
    },
    {
      "metadata": {},
      "cell_type": "markdown",
      "source": "Pythonissa on keskeistä helppolukuisuus. Valtaosassa muissa ohjelmointikielissä on tapana käyttää erilaisia sulkuratkaisuja kontrollirakenteen käskyosuuksien merkitsemiseen. Ongelmaksi tulee hiemankin monimutkaiset rakenteet, sillä sekä aloittelevilla että kokeneillakin ohjelmoijilla liialliset sulut menevät helposti solmuun. Pythonia kehittäessä on valittu sisennykset ylimääräisten sulkujen sijaan, minkä takia sisennyksissä pitää olla huolellinen.\n\nYleisesti Pythonissa suositellaan käyttämään rivinvaihtoja ja välimerkkejä niin että koodista tulee mahdollisimman luettavaa. Aikaisemmassa Alkometri-esimerkissä rivinvaihtoja on käytetty `if-else`:jen ympärillä, jotta ne eivät menisi sekaisin. Jo muutama rivinvaihto voi tehdä merkittävän eron koodin luettavuudessa!"
    },
    {
      "metadata": {},
      "cell_type": "markdown",
      "source": "Seuraavaksi käymme läpi tekniikoita, jotka helpottavat luomaan `if-else`:istä tehokkaampia ja selkeämpiä."
    },
    {
      "metadata": {},
      "cell_type": "markdown",
      "source": "### Totuusarvojen vertailuoperaattorit"
    },
    {
      "metadata": {},
      "cell_type": "markdown",
      "source": "Aikaisemmin kävimme läpi yleisiä vertailuoperaattoreita\n- Numeroiden väliset vertailuoperaattorit (`<`,`>`,`<=`,`>=`)\n- Yleiset, kaikille datatyypeille soveltuvat vertailuoperaattorit (`==`,`!=`)\n\nNämä vertailut palauttavat aina totuusarvon (booleanin), eli joko `True` tai `False`."
    },
    {
      "metadata": {},
      "cell_type": "markdown",
      "source": "Seuraavaksi esittelemme **totuusarvojen vertailuoperaattorit**\n```python\na and b\na or b\nnot a\n```\nNämä operaatiot toimivat ainoastaan, jos sekä `a` että `b` palauttavat totuusarvot. Operaatiot toimivat nimiensä mukaisesti:\n- **`and`** palauttaa `True`, jos **sekä `a` että `b`** ovat `True` . Muuten palauttaa `False`\n- **`or`** palauttaa `True`, jos **`a` tai `b`** on `True`. Jos molemmat ovat `False`, palauttaa `False`.\n- **`not`** palauttaa `a`:n vastakohdan (negaatio). Jos `a` on `True`, palauttaa `False`, ja päinvastoin."
    },
    {
      "metadata": {},
      "cell_type": "markdown",
      "source": "![Picture](Images/Boolean4.png)"
    },
    {
      "metadata": {},
      "cell_type": "markdown",
      "source": "Kuten yllä olevasta kuvasta nähdään, `and` on `True` silloin, kun alkio kuuluu sekä A:han, että B:hen, eli molemmat toteutuvat. `or` on `True`, jos alkio kuuluu jompaan kumpaan, eli jompi kumpi toteutuu."
    },
    {
      "metadata": {
        "trusted": true
      },
      "cell_type": "code",
      "source": "a = True\nb = False\nprint(a and b)\nprint(a or b)\nprint(not a)",
      "execution_count": null,
      "outputs": []
    },
    {
      "metadata": {},
      "cell_type": "markdown",
      "source": "Käydään yllä oleva esimerkki rivi kerrallaan läpi:    \n- Rivit 1-2: sijoitetaan totuusarvot `True`ja `False` muuttujiin `a` sekä `b`, vastaavasti.\n- Rivi 3: tulostaa `False`, koska molemmat muuttujat eivät ole totta. `and` palauttaa `True` jos ja vain jos molemmat totuusarvot ovat `True`.\n- Rivi 4: tulostaa `True`, koska operaatio `or` palauttaa `True`, jos edes toinen arvoista on `True`.\n- Rivi 5: palauttaa `False`, koska `True`:n *negaatio* on `False'"
    },
    {
      "metadata": {},
      "cell_type": "markdown",
      "source": "Nämä uudet vertailuoperaatiot tekevät helpottavat laajempien `if-else` rakenteiden tekemistä. Sisäkkäisten `if-else`:jen sijaan, usein koodista saa ytimekästä ja helpommin luettavaa yhdistämällä ehtoja vertailuoperaatioiden avulla."
    },
    {
      "metadata": {},
      "cell_type": "markdown",
      "source": "**Esimerkkiohjelma 3:** neliölaskuri"
    },
    {
      "metadata": {
        "trusted": true
      },
      "cell_type": "code",
      "source": "number = int(input('Give me an integer between 1 and 10 and I will calculate its square:\\n'))\nif number > 0 and number < 11:\n    square = number**2\n    print(square)\nelse: \n    print('You did not give an integer between 1 and 10.')",
      "execution_count": null,
      "outputs": []
    },
    {
      "metadata": {},
      "cell_type": "markdown",
      "source": "Tässä esimerkissä näkyy, miten käyttämällä `and` operaatiolla voidaan säästää tilaa jättämällä pois sisäkkäinen valintakäsky."
    },
    {
      "metadata": {},
      "cell_type": "markdown",
      "source": "Numeroiden vertailuoperaattoreita voidaan käyttää myös lyhyempää muotoa, kuin mitä esimerkkiohjelma 3:ssa käytettiin. Vertailuja voidaan tehdä ns. peräkkäin:\n``` Python\nif number > 0 and number < 11:\n```\nvoidaan kirjoittaa muodossa\n``` Python\nif 0 < number < 11:\n```\nTässä vertaillaan onko muuttuja `number` kuin 0, mutta pienempi kuin 11. Myös tämä jälkimmäinen vertailu palauttaa totuusarvon `True` tai `False`."
    },
    {
      "metadata": {
        "trusted": true
      },
      "cell_type": "code",
      "source": "number = 5\n0 < number < 11",
      "execution_count": null,
      "outputs": []
    },
    {
      "metadata": {},
      "cell_type": "markdown",
      "source": "Tehdään esimerkkiohjelma 3 uudelleen:"
    },
    {
      "metadata": {
        "trusted": true
      },
      "cell_type": "code",
      "source": "number = int(input('Give me an integer between 1 and 10 and I will calculate its square:\\n'))\nif 0 < number < 11:\n    square = number**2\n    print(square)\nelse: \n    print('You did not give an integer between 1 and 10.')",
      "execution_count": null,
      "outputs": []
    },
    {
      "metadata": {},
      "cell_type": "markdown",
      "source": "Molemmat muodot tekevät siis saman asian. Saat itse ohjelmoijana päättää mitä muotoa haluat käyttää ohjelmissasi!"
    },
    {
      "metadata": {},
      "cell_type": "markdown",
      "source": "##### HARJOITUS 5 "
    },
    {
      "metadata": {},
      "cell_type": "markdown",
      "source": "K-13 elokuvaan pääsee, jos on iältään yli 13, tai vanhemman seurassa jos on iältään alle 13. Kirjoita ohjelma, joka kysyy käyttäjältä iän ja onko käyttäjällä vanhempi mukana (tarvitaan kaksi erillistä `input()` käskyä). Käyttäjän ollessa yli 13 **TAI** vanhemman ollessa mukana, ohjelma tulostaa \"Enjoy the movie!\". Kirjoita nämä kaksi vertailuoperaatiota samaan `if`-ehtoon. Muussa tapauksessa ohjelma tulostaa \"You are not allowed to watch this movie!\". (Tuloste)"
    },
    {
      "metadata": {
        "trusted": true
      },
      "cell_type": "code",
      "source": "",
      "execution_count": null,
      "outputs": []
    },
    {
      "metadata": {},
      "cell_type": "markdown",
      "source": "### ELIF"
    },
    {
      "metadata": {},
      "cell_type": "markdown",
      "source": "`if-else`-rakenteeseen voidaan haluta enemmän kuin kaksi mahdollista vaihtoehtoa suorittaa käskyjä. Tälloin voidaan käyttää `if-elif-else` -rakennetta, joka mahdollistaa useampien peräkkäisten ehtojen tarkastamisen. Rakenteeseen voidaan laittaa niin monta `elif`-ehtoa kuin halutaan.\n\n```Python\nif condition:\n    command1\nelif condition2:\n    command2\nelif condition3:\n    command3\nelse:\n    command4\n```\n\nMyös `if-elif-else` rakenne pysähtyy ensimmäiseen ehtoon, jonka ehtolause on tosi, eikä muita ehtolauseita enää tarkisteta tai niiden ohjelmalohkoja suoriteta.\n"
    },
    {
      "metadata": {
        "trusted": true
      },
      "cell_type": "code",
      "source": "i = 4\nif i > 0:\n    print('Larger than 0')\nelif 1 <= i <= 10:\n    print('Between 1 and 10')\nelse:\n    print('Larger than 10')",
      "execution_count": null,
      "outputs": []
    },
    {
      "metadata": {},
      "cell_type": "markdown",
      "source": "Vaihda rivillä 4 oleva `elif` `if`:iksi, ja katso miten ohjelman toiminta muuttuu. Mistä ero johtuu?"
    },
    {
      "metadata": {},
      "cell_type": "markdown",
      "source": "**Esimerkkiohjelma 1:** Hintalaskuri\n\nEräässä huvipuistossa on neljän eri hintaluokan lippuja:\n\nLastenlippu (alle 15v):  **10 e**  \nNuorisolippu (15-24v):   **15 e**  \nAikuisten lippu (25-65v): **20 e**  \nEläkeläislipput (yli 65v): **15 e**\n\n\nOhjelma kysyy käyttäjältä iän ja kertoo lippuluokan ja hinnan."
    },
    {
      "metadata": {
        "trusted": true
      },
      "cell_type": "code",
      "source": "print('Welcome to check the ticket prices!')\nage=int(input('Tell me your age:\\n'))\n\nif age < 15:\n    print(\"Children's ticket price is 10 euros\")\n\nelif age >= 15 and age <= 24: \n    print(\"Youth ticket price is 15 euros\")\n    \nelif 25 <= age <= 65: # shorter way to combine two booleans\n    print(\"Adult ticket price is 20 euros\")\n    \nelse: \n    print(\"Pensioner ticket price is 15 euros\")",
      "execution_count": null,
      "outputs": []
    },
    {
      "metadata": {},
      "cell_type": "markdown",
      "source": "Yllä oleva hintalaskuri on oiva esimerkki `elif`:in ja vertailuoperaattoreiden käytöstä. Käydään ohjelma läpi rivi kerrallaan:"
    },
    {
      "metadata": {},
      "cell_type": "markdown",
      "source": "- Rivi 1: Tulostetaan tervehdysteksti.\n- Rivi 2: Kysytään käyttäjän ikää `input()`:illa, muutetaan syöte kokonaisluvuksi `int()`:llä ja sijoitetaan muuttujaan `age`.\n- Rivi 4: Aloitetaan `if`-rakenne. Ehtona on `age < 15`.\n- Rivi 5: Ensimmäinen käsky. Suoritetaan vain jos rivin 4 ehto on totta.\n- Rivi 7: Jos ehto ei ollut totta, eli tässä tapauksessa käyttäjän antama ikä on isompi tai yhtäsuuri kuin 15, siirrytään tälle riville. `elif`:illä annetaan uusi ehto: `age >= 15 and age <= 24`\n- Rivi 8: Toinen käsky. Suoritetaan vain jos molemmat vertailut rivillä 7 ovat totta, eli jos ikä on välillä 15-24.\n- Rivi 10: Taas, jos aikaisemmat ehdot eivät olleet tosia, siirrytään tälle riville. Annetaan uusi ehto: `25 <= age <= 65`. Huom! Tämä ehto toimii täysin samalla tavalla kuin ehto rivillä 7, mutta koska samaa muuttujaa käytetään, voi koodin määrää lyhentää ja vertailut yhdistää, koska molempien pitää olla totta.\n- Rivi 11: Kolmas käsky. Tälle riville siirrytään riviltä 10 ainoastaan jos sen ehto on tosi.\n- Rivi 13: `else`. Jos mikään ehdoista ei ole täyttyny, siirrytään tälle riville.\n- Rivi 14: Viimeinen käsky. Suoritetaan jos `if`-rakenteessa päästään `else`:en, eli riville 13, asti ilman että yksikään ehto on siihen mennessä ollut totta."
    },
    {
      "metadata": {},
      "cell_type": "markdown",
      "source": "### If-elif-else rakenne"
    },
    {
      "metadata": {},
      "cell_type": "markdown",
      "source": "Tiivistettynä, Pythonissa `if`-lauseke tehdään seuraavasti:     \n- **1** kpl if-haaroja. Jokainen `if-elif-else` lauseke vaatii tasan yhden, rakenteen aloittavan `if`-lausekkeen.\n- **0-ääretön** määrä `elif`-haaroja. `if`-haaran jälkeen voi `elif`-haaroja olla niin monta kuin haluaa.\n- **0-1** kpl `else`-haaroja. `else`-haara on aina viimeinen, niitä voi olla yksi mutta se ei ole pakollinen. `else`-haara on aina viimeinen, ja sillä ei ole omaa ehtoa. `else`-haara suoritetaan jos minkään aikaisemman haaran ehto ei ole ollut `True`."
    },
    {
      "metadata": {},
      "cell_type": "markdown",
      "source": "##### HARJOITUS 6 "
    },
    {
      "metadata": {},
      "cell_type": "markdown",
      "source": "Kirjoita ohjelma, joka laskee kertyneen bonuksen määrästä riippuen tuotteen hinnan. Ohjelma kysyy ensiksi käyttäjältä kertyneiden bonuspisteiden määrän (1-500), ja sitten tuotteen hinnan. \n- Bonustasolla 1 (pisteitä 1-100) käyttäjä saa 10% alennusta hinnasta\n- Bonustasolla 2 (pisteitä 101-250) käyttäjä saa 20% alennusta hinnasta\n- Bonustasolla 3 (pisteitä 251-400) käyttäjä saa 30% alennusta hinnasta\n- Bonustasolla 4 (pisteitä 401-500) käyttäjä saa 40% alennusta hinnasta   \n\nOhjelma tutkii käyttäjän pisteiden perusteella alennuksen ja tulostaa bonustason ja sen avulla saadun hinnan tuotteelle. (Tuloste)"
    },
    {
      "metadata": {
        "trusted": true
      },
      "cell_type": "code",
      "source": "# Write your code here",
      "execution_count": null,
      "outputs": []
    },
    {
      "metadata": {},
      "cell_type": "markdown",
      "source": "## Kertaus"
    },
    {
      "metadata": {},
      "cell_type": "markdown",
      "source": "**Valintakäskyillä** voidaan ohjata koodin kulkua. Tätä varten Pythonissa on `if-else`-rakenne."
    },
    {
      "metadata": {
        "trusted": true
      },
      "cell_type": "code",
      "source": "i = 2\nif i < 3:\n    value = True\nelse:\n    value = False\nvalue",
      "execution_count": null,
      "outputs": []
    },
    {
      "metadata": {},
      "cell_type": "markdown",
      "source": "**Huom!** ehtolauseen jälkeen täytyy aina olla kaksoispiste `:`. Muuten Python ilmoittaa virheestä virhekoodilla `SyntaxError`."
    },
    {
      "metadata": {},
      "cell_type": "markdown",
      "source": "Rakenteesta voidaan jättää kokonaan pois `else`-haara, tai vaihtoehtoisesti lisätä väliin haluttu määrä `elif`-haaroja, joilla voidaan lisätä ehtoja rakenteeseen. Rakenteesta suoritetaan ainoastaan se ohjelmalohko, jota vastaava ehtolause on tosi."
    },
    {
      "metadata": {
        "trusted": true
      },
      "cell_type": "code",
      "source": "i = 4\nif i > 10:\n    print('Larger than 10')\nelif 1 <= i <= 10:\n    print('Between 1 and 10')\nelse:\n    print('Smaller than 1')",
      "execution_count": null,
      "outputs": []
    },
    {
      "metadata": {},
      "cell_type": "markdown",
      "source": "`if-else` rakenteita voi myös käyttää sisäkkäin. Tämän helpottamiseen voidaan kuitenkin käytetään **totuusarvojen vertailuoperaattoreita**."
    },
    {
      "metadata": {},
      "cell_type": "markdown",
      "source": "- **and** palauttaa `True`, jos **sekä a että b** ovat `True` . Muuten palauttaa `False`\n- **or** palauttaa `True`, jos **a tai b** ovat `True`. Jos molemmat ovat `False`, palauttaa `False`.\n- **not** palauttaa a:n vastakohdan (negaatio). Jos a on `True`, `not a` palauttaa arvon `False`."
    },
    {
      "metadata": {
        "trusted": true
      },
      "cell_type": "code",
      "source": "i = 4\nif i > 0 and i < 10:\n    print('Between 1 and 10')\nelse:\n    print('Not between 1 and 10')",
      "execution_count": null,
      "outputs": []
    },
    {
      "metadata": {},
      "cell_type": "markdown",
      "source": "`if-elif-else` rakenne:\n- 1 kpl `if`-haarjoja\n- 0 - ääretön määrä `elif`-haaroja\n- 0 - 1 kpl `else`-haaroja"
    },
    {
      "metadata": {
        "trusted": true
      },
      "cell_type": "code",
      "source": "num = float(input(\"Please give a number: \"))\n\nif num < 0:\n    print(\"User gave a negative number.\")\nelif 0 <= num <=  100:\n    print(\"User gave a number between 0 and 100.\")\nelif 101 <= num <= 10000:\n    print(\"User gave a number between 101 and 10000.\")\nelse:\n    print(\"User gave a really big number.\")",
      "execution_count": null,
      "outputs": []
    },
    {
      "metadata": {},
      "cell_type": "markdown",
      "source": "### Palaute\n\nMuistathan antaa [palautetta](https://docs.google.com/forms/d/e/1FAIpQLSfZH6EDFiU7JxZd90j07YagAVFFJqWNu47RtHDQozDeaeQcXw/viewform?usp=sf_link)!"
    }
  ],
  "metadata": {
    "kernelspec": {
      "name": "python3",
      "display_name": "Python 3",
      "language": "python"
    },
    "language_info": {
      "mimetype": "text/x-python",
      "nbconvert_exporter": "python",
      "name": "python",
      "file_extension": ".py",
      "version": "3.5.4",
      "pygments_lexer": "ipython3",
      "codemirror_mode": {
        "version": 3,
        "name": "ipython"
      }
    }
  },
  "nbformat": 4,
  "nbformat_minor": 2
}