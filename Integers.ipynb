{
 "cells": [
  {
   "cell_type": "markdown",
   "metadata": {},
   "source": [
    "# Luku 6: Merkkijonot"
   ]
  },
  {
   "cell_type": "markdown",
   "metadata": {},
   "source": [
    "Kävimme jo merkkijonot läpi ensimmäisessä luvussa, mutta tässä luvussa perehdytään merkkijonoihin hieman tarkemmin."
   ]
  },
  {
   "cell_type": "markdown",
   "metadata": {},
   "source": [
    "## Merkkijonot listana"
   ]
  },
  {
   "cell_type": "markdown",
   "metadata": {},
   "source": [
    "Pythonissa merkkijono on nimensä mukaisesti **jono merkkejä**. Merkkijonot toimivat käytännössä samalla tavalla kuin listat, ja siksi **merkkijonoihin voi käyttää listaoperaatioita.**"
   ]
  },
  {
   "cell_type": "markdown",
   "metadata": {},
   "source": [
    "Merkkijonoista voi hakea yhden merkin käyttämällä indeksiä"
   ]
  },
  {
   "cell_type": "code",
   "execution_count": 1,
   "metadata": {},
   "outputs": [
    {
     "data": {
      "text/plain": [
       "'H'"
      ]
     },
     "execution_count": 1,
     "metadata": {},
     "output_type": "execute_result"
    }
   ],
   "source": [
    "string = 'Hello!'\n",
    "string[0]"
   ]
  },
  {
   "cell_type": "markdown",
   "metadata": {},
   "source": [
    "Myös Slicing-operaatioita voidaan tehdä merkkijonoille. Operaatio toimii samalla tavalla, kuin listoilla:"
   ]
  },
  {
   "cell_type": "code",
   "execution_count": null,
   "metadata": {},
   "outputs": [],
   "source": [
    "text = 'hhHello, my name is Patrik!11'\n",
    "filtered_text = text[2:-2]\n",
    "print(filtered_text)\n",
    "\n",
    "reversed_text = filtered_text[::-1]\n",
    "print(reversed_text)"
   ]
  },
  {
   "cell_type": "markdown",
   "metadata": {},
   "source": [
    "Yllä oleva esimerkki tulostaa alkuperäisen tekstin lukuunottamatta kahta ensimmäistä ja kahta viimeistä merkkiä, ja sen jälkeen ohjelma tulostaa merkkijonosta käänteisen version."
   ]
  },
  {
   "cell_type": "markdown",
   "metadata": {},
   "source": [
    "`for`-silmukassa silmukkamuuttuja käy läpi yksitellen jokaisen merkkijonon merkin. Allaolevassa esimerkissä silmukan sisällä tulostetaan silmukkamuuttuja, joka havainnolistaa miten silmukkamuuttujan arvo muuttuu."
   ]
  },
  {
   "cell_type": "code",
   "execution_count": 2,
   "metadata": {},
   "outputs": [
    {
     "name": "stdout",
     "output_type": "stream",
     "text": [
      "T\n",
      "h\n",
      "i\n",
      "s\n",
      " \n",
      "i\n",
      "s\n",
      " \n",
      "t\n",
      "e\n",
      "x\n",
      "t\n"
     ]
    }
   ],
   "source": [
    "text = 'This is text'\n",
    "for character in text:\n",
    "    print(character)"
   ]
  },
  {
   "cell_type": "markdown",
   "metadata": {},
   "source": [
    "##### HARJOITUS 1"
   ]
  },
  {
   "cell_type": "markdown",
   "metadata": {},
   "source": [
    "Annettuna on merkkijono `text`. Löydä Slice-operaatio, joka tekee tekstistä luettavamman poistamalla reunoista ylimääräisiä merkkejä ja tulosta tämä luettavampi teksti. (Tuloste)"
   ]
  },
  {
   "cell_type": "code",
   "execution_count": 3,
   "metadata": {},
   "outputs": [
    {
     "name": "stdout",
     "output_type": "stream",
     "text": [
      "q\n",
      "w\n",
      "3\n",
      "2\n",
      "q\n",
      "w\n",
      "G\n",
      "o\n",
      "o\n",
      "d\n",
      " \n",
      "M\n",
      "o\n",
      "r\n",
      "n\n",
      "i\n",
      "n\n",
      "g\n",
      "!\n",
      "+\n",
      "x\n",
      "+\n",
      "3\n",
      "8\n"
     ]
    }
   ],
   "source": [
    "text = 'qw32qwGood Morning!+x+38'\n",
    "# Write your code here\n",
    "for character in text:\n",
    "    print(character)"
   ]
  },
  {
   "cell_type": "markdown",
   "metadata": {},
   "source": [
    "### Listafunktiot ja merkkijonot"
   ]
  },
  {
   "cell_type": "markdown",
   "metadata": {},
   "source": [
    "Useita samoja funktiota mitä voitiin käyttää listojen kanssa, voidaan käyttää myös merkkijonojen kanssa."
   ]
  },
  {
   "cell_type": "markdown",
   "metadata": {},
   "source": [
    "Merkkijonon pituuden voi selvittää `len()`-funktiolla:"
   ]
  },
  {
   "cell_type": "code",
   "execution_count": 1,
   "metadata": {},
   "outputs": [
    {
     "data": {
      "text/plain": [
       "123"
      ]
     },
     "execution_count": 1,
     "metadata": {},
     "output_type": "execute_result"
    }
   ],
   "source": [
    "long_text = 'Lorem ipsum dolor sit amet, consectetur adipiscing elit, sed do eiusmod tempor incididunt ut labore et dolore magna aliqua.'\n",
    "len(long_text)"
   ]
  },
  {
   "cell_type": "markdown",
   "metadata": {},
   "source": [
    "Funktio palauttaa siis yksittäisten merkkien määrän. Tämä pitää sisällään merkkijonossa olevat kirjaimet, numerot, välilyönnit, erikoismerkit jne. "
   ]
  },
  {
   "cell_type": "markdown",
   "metadata": {},
   "source": [
    "Merkkijonon suurin ja pienin arvo saadaan `max()`- ja `min()`-funktiolla, vastaavasti."
   ]
  },
  {
   "cell_type": "code",
   "execution_count": 2,
   "metadata": {},
   "outputs": [
    {
     "name": "stdout",
     "output_type": "stream",
     "text": [
      "w\n",
      "d\n"
     ]
    }
   ],
   "source": [
    "text = \"word\"\n",
    "print(max(text))\n",
    "print(min(text))"
   ]
  },
  {
   "cell_type": "markdown",
   "metadata": {},
   "source": [
    "Voit kokeilla mitä tapahtuu, jos muutat muuttujan `text` arvon esimerkiksi merkkijonoksi `\"HelloWorld\"`. Entäpä mitä tapahtuu, jos lisäät merkkijonon sanojen väliin?\n",
    "\n",
    "Merkkijonojen vertailusta täytyy muistaa se, että pieni kirjain on vertailussa \"isompi\" kuin iso kirjain. "
   ]
  },
  {
   "cell_type": "markdown",
   "metadata": {},
   "source": [
    "Teksti voidaan järjestää `sorted()` funktiolla. Huomaa, että `sorted()` palauttaa **listan**, eikä merkkijonoa!"
   ]
  },
  {
   "cell_type": "code",
   "execution_count": 3,
   "metadata": {},
   "outputs": [
    {
     "data": {
      "text/plain": [
       "[' ', '!', 'E', 'a', 'e', 'e', 'l', 'm', 'p', 't', 't', 'x', 'x']"
      ]
     },
     "execution_count": 3,
     "metadata": {},
     "output_type": "execute_result"
    }
   ],
   "source": [
    "text = 'Example text!'\n",
    "sorted(text)"
   ]
  },
  {
   "cell_type": "markdown",
   "metadata": {},
   "source": [
    "Koska `sorted()`-funktio järjestää merkit suurimmasta pienempään, voidaan huomata, että välimerkki ja huutomerkki ovat pienimpiä merkkejä, ja iso kirjain `'E'` on pienempi kuin pieni kirjain `'a'`. Voit kokeilla muuttaa muuttujan `text` arvoa ja katsoa, että miten `sorted()`-funktio järjestää erilaisia merkkejä."
   ]
  },
  {
   "cell_type": "markdown",
   "metadata": {},
   "source": [
    "Huomaa kuitenkin, että merkkijono ei ole täysin sama asia kuin lista, vaikka monet operaatiot ja funktiot toimivatkin molemmille. Merkkijonosta voi tehdä listan käyttämällä `list`-funktiota."
   ]
  },
  {
   "cell_type": "code",
   "execution_count": 4,
   "metadata": {},
   "outputs": [
    {
     "data": {
      "text/plain": [
       "['E', 'x', 'a', 'm', 'p', 'l', 'e', ' ', 't', 'e', 'x', 't', '!']"
      ]
     },
     "execution_count": 4,
     "metadata": {},
     "output_type": "execute_result"
    }
   ],
   "source": [
    "a = 'Example text!'\n",
    "list(a)"
   ]
  },
  {
   "cell_type": "markdown",
   "metadata": {},
   "source": [
    "Tällöin merkkijono muutetaan listaksi, ja jokainen merkki on listan oma alkionsa. "
   ]
  },
  {
   "cell_type": "markdown",
   "metadata": {},
   "source": [
    "##### HARJOITUS 2"
   ]
  },
  {
   "cell_type": "markdown",
   "metadata": {},
   "source": [
    "Sinulle on annettu valmiina merkkijono muuttujassa `text`. Suorita sille seuraavat operaatiot:\n",
    "- Tulosta merkkijonon pituus\n",
    "- Tulosta merkkijonon maksimiarvo\n",
    "- Tulosta merkkijonon minimiarvo\n",
    "- Tulosta merkkijono järjestettynä listana"
   ]
  },
  {
   "cell_type": "code",
   "execution_count": 5,
   "metadata": {},
   "outputs": [
    {
     "name": "stdout",
     "output_type": "stream",
     "text": [
      "32\n",
      "y\n",
      " \n",
      "[' ', ' ', ' ', ' ', 'P', 'a', 'a', 'a', 'a', 'e', 'g', 'g', 'g', 'g', 'h', 'i', 'i', 'l', 'm', 'm', 'n', 'n', 'n', 'o', 'o', 'p', 'r', 'r', 's', 't', 'u', 'y']\n"
     ]
    }
   ],
   "source": [
    "text = \"Python is a programming language\"\n",
    "print(len(text))\n",
    "print(max(text))\n",
    "print(min(text))\n",
    "print(sorted(text))"
   ]
  },
  {
   "cell_type": "markdown",
   "metadata": {},
   "source": [
    "### Merkkijonot ja metodit"
   ]
  },
  {
   "cell_type": "markdown",
   "metadata": {},
   "source": [
    "Niin kuin listoille, myös merkkijonoille on omia metodeja. Käydään läpi niistä muutama yleisin:"
   ]
  },
  {
   "cell_type": "markdown",
   "metadata": {},
   "source": [
    "- `upper()`\n",
    "- `lower()`\n",
    "- `index()`\n",
    "- `replace()`\n",
    "- `split()`\n",
    "- `join()`\n",
    "- `strip()`"
   ]
  },
  {
   "cell_type": "markdown",
   "metadata": {},
   "source": [
    "### `lower()` & `upper()`"
   ]
  },
  {
   "cell_type": "markdown",
   "metadata": {},
   "source": [
    "Usein on kätevää muuttaa kaikki merkkijonon merkit pieniksi tai isoiksi. Tätä varten on funktiot `lower()`ja `upper()`."
   ]
  },
  {
   "cell_type": "code",
   "execution_count": 4,
   "metadata": {},
   "outputs": [
    {
     "name": "stdout",
     "output_type": "stream",
     "text": [
      "thank god it's friday!\n",
      "THANK GOD IT'S FRIDAY!\n"
     ]
    }
   ],
   "source": [
    "text = \"Thank God it's Friday!\"\n",
    "print(text.lower())\n",
    "print(text.upper())"
   ]
  },
  {
   "cell_type": "markdown",
   "metadata": {},
   "source": [
    "### `index()`"
   ]
  },
  {
   "cell_type": "markdown",
   "metadata": {},
   "source": [
    "Samaan tapaan kuin listojen kanssa, voidaan `index()`-metodin avulla etsiä merkkijonosta jonkin tietyn arvon sijaintia. Merkkijonojen tapauksessa tämä tarkoittaa jotain alimerkkijonoa, joka metodille annetaan parametriksi.\n",
    "\n",
    "Metodi palauttaa ensimmäisen indeksin, josta alimerkkijono alkaa. Eli jos parametrina annettu alimerkkijono löytyy useammin, ainostaan ensimmäistä tapausta vastaava indeksi palautetaan. Jos alimerkkijonoa ei löydy merkkijonosta, palautuu virhe viesti. "
   ]
  },
  {
   "cell_type": "code",
   "execution_count": 8,
   "metadata": {},
   "outputs": [
    {
     "name": "stdout",
     "output_type": "stream",
     "text": [
      "1\n"
     ]
    }
   ],
   "source": [
    "text = \"Sentence with different words\"\n",
    "print(text.index(\"entenc\"))"
   ]
  },
  {
   "cell_type": "markdown",
   "metadata": {},
   "source": [
    "Etsimme, mistä indeksistä alimerkkijono `\"entenc\"` alkaa. Metodi palauttaa arvon `1`, sillä tästä indeksistä alkaa ensimmäinen parametria vastaava alimerkkijono."
   ]
  },
  {
   "cell_type": "code",
   "execution_count": 9,
   "metadata": {},
   "outputs": [
    {
     "name": "stdout",
     "output_type": "stream",
     "text": [
      "2\n"
     ]
    }
   ],
   "source": [
    "text = \"Sentence with different words\"\n",
    "print(text.index(\"nt\"))"
   ]
  },
  {
   "cell_type": "markdown",
   "metadata": {},
   "source": [
    "Nyt etsimme alimerkkijonoa `\"ent\"`. Vastaukseksi tulee indeksi `2`. Merkkijonossa esiintyisi toinen tapaus merkkijonosta `\"ent\"` sanassa `\"different\"`, mutta metodi palauttaa ainoastaan ensimmäisenä vastaantulevan tapauksen indeksin."
   ]
  },
  {
   "cell_type": "code",
   "execution_count": 10,
   "metadata": {},
   "outputs": [
    {
     "ename": "ValueError",
     "evalue": "substring not found",
     "output_type": "error",
     "traceback": [
      "\u001b[1;31m---------------------------------------------------------------------------\u001b[0m",
      "\u001b[1;31mValueError\u001b[0m                                Traceback (most recent call last)",
      "\u001b[1;32m<ipython-input-10-2e627f8416ac>\u001b[0m in \u001b[0;36m<module>\u001b[1;34m\u001b[0m\n\u001b[0;32m      1\u001b[0m \u001b[0mtext\u001b[0m \u001b[1;33m=\u001b[0m \u001b[1;34m\"Sentence with different words\"\u001b[0m\u001b[1;33m\u001b[0m\u001b[1;33m\u001b[0m\u001b[0m\n\u001b[1;32m----> 2\u001b[1;33m \u001b[0mprint\u001b[0m\u001b[1;33m(\u001b[0m\u001b[0mtext\u001b[0m\u001b[1;33m.\u001b[0m\u001b[0mindex\u001b[0m\u001b[1;33m(\u001b[0m\u001b[1;34m\"diferent\"\u001b[0m\u001b[1;33m)\u001b[0m\u001b[1;33m)\u001b[0m\u001b[1;33m\u001b[0m\u001b[1;33m\u001b[0m\u001b[0m\n\u001b[0m",
      "\u001b[1;31mValueError\u001b[0m: substring not found"
     ]
    }
   ],
   "source": [
    "text = \"Sentence with different words\"\n",
    "print(text.index(\"diferent\"))"
   ]
  },
  {
   "cell_type": "markdown",
   "metadata": {},
   "source": [
    "Etsimme alimerkkijonoa `\"diferent\"`, mutta koska sitä ei merkkijonosta löydy, tulostuu ruudulle virheviesti. "
   ]
  },
  {
   "cell_type": "markdown",
   "metadata": {},
   "source": [
    "### `replace()`"
   ]
  },
  {
   "cell_type": "markdown",
   "metadata": {},
   "source": [
    "`replace()`-metodilla voidaan korvata joku tietty merkkijonossa esiintyvä alimerkkijono toisella merkkijonolla. Metodi ei muokkaa alkuperäistä merkkijonoa, vaan palauttaa **uuden merkkijonon**, joka voidaan tallentaa erilliseen muuttujaan. \n",
    "\n",
    "Jos korvattavaa alimerkkijonoa ei löydy, metodi palauttaa alkuperäisen merkkijonon ilman muutoksia."
   ]
  },
  {
   "cell_type": "code",
   "execution_count": 11,
   "metadata": {},
   "outputs": [
    {
     "data": {
      "text/plain": [
       "'I love programming'"
      ]
     },
     "execution_count": 11,
     "metadata": {},
     "output_type": "execute_result"
    }
   ],
   "source": [
    "text = \"I like programming\"\n",
    "text.replace(\"like\", \"love\")"
   ]
  },
  {
   "cell_type": "markdown",
   "metadata": {},
   "source": [
    "Ylläolevassa esimerkissä korvaamme merkkijonon `\"like\"` merkkijonolla `\"love\"`."
   ]
  },
  {
   "cell_type": "code",
   "execution_count": 12,
   "metadata": {},
   "outputs": [
    {
     "data": {
      "text/plain": [
       "'I like programming'"
      ]
     },
     "execution_count": 12,
     "metadata": {},
     "output_type": "execute_result"
    }
   ],
   "source": [
    "text = \"I like programming\"\n",
    "text.replace(\"hate\", \"love\")"
   ]
  },
  {
   "cell_type": "markdown",
   "metadata": {},
   "source": [
    "Nyt merkkijonosta ei löydy korvattavaa alimerkkijonoa `\"hate\"`, joten `replace()`-metodi ei tee mitään, ja palauttaa alkuperäisen merkkijonon. "
   ]
  },
  {
   "cell_type": "markdown",
   "metadata": {},
   "source": [
    "### `split()`"
   ]
  },
  {
   "cell_type": "markdown",
   "metadata": {},
   "source": [
    "`split()`-funktio leikkaa merkkijonon osiin jokaisesta parametrinä annetun merkkijono kohdalta. Leikatut osat palautetaan listana. **Jos funktiolle ei anna parametriä, leikkaa funktio merkkijonon välilyöntien kohdalta**:"
   ]
  },
  {
   "cell_type": "code",
   "execution_count": 13,
   "metadata": {},
   "outputs": [
    {
     "data": {
      "text/plain": [
       "['Hi!', 'My', 'name', 'is', 'John']"
      ]
     },
     "execution_count": 13,
     "metadata": {},
     "output_type": "execute_result"
    }
   ],
   "source": [
    "text = 'Hi! My name is John'\n",
    "text.split()"
   ]
  },
  {
   "cell_type": "markdown",
   "metadata": {},
   "source": [
    "`split()` palauttaa listan, jonka alkiot ovat osia alkuperäisestä merkkijonosta. Yhdessäkään alkiossa ei ole välilyöntiä, sillä metodi on katkaissut merkkijonot välilyöntien kohdalta. "
   ]
  },
  {
   "cell_type": "code",
   "execution_count": 14,
   "metadata": {},
   "outputs": [
    {
     "data": {
      "text/plain": [
       "['H', 'llo strang', 'r!']"
      ]
     },
     "execution_count": 14,
     "metadata": {},
     "output_type": "execute_result"
    }
   ],
   "source": [
    "text = 'Hello stranger!'\n",
    "text.split('e')"
   ]
  },
  {
   "cell_type": "markdown",
   "metadata": {},
   "source": [
    "Nyt parametrina annettiin merkkijono `\"e\"`. Huomaa, että koska funktio \"leikkaa\" parametrinä annetun merkkijonon kohdalta, ei parametrina annettua merkkijonoa esiinny listassa. (Ylemmässä esimerkissä `'e'` kirjainta ei ole listan yhdessäkään alkiossa)"
   ]
  },
  {
   "cell_type": "code",
   "execution_count": 15,
   "metadata": {},
   "outputs": [
    {
     "data": {
      "text/plain": [
       "['h', ' y', 'w elbow']"
      ]
     },
     "execution_count": 15,
     "metadata": {},
     "output_type": "execute_result"
    }
   ],
   "source": [
    "text = 'hello yellow elbow'\n",
    "text.split('ello')"
   ]
  },
  {
   "cell_type": "markdown",
   "metadata": {},
   "source": [
    "Huomaa että merkkijono \"leikataan\" vain niissä kohdissa, joissa parametrinä annettu merkkijono esiintyy **kokonaan**."
   ]
  },
  {
   "cell_type": "markdown",
   "metadata": {},
   "source": [
    "### `join()`"
   ]
  },
  {
   "cell_type": "markdown",
   "metadata": {},
   "source": [
    "`join()` palauttaa merkkijonon, jossa on yhdistetty parametrinä annettu lista haluamalla erottimella. Huomaa, että listan arvojen tulee olla kaikkien **merkkijonoja**. "
   ]
  },
  {
   "cell_type": "code",
   "execution_count": 16,
   "metadata": {},
   "outputs": [
    {
     "data": {
      "text/plain": [
       "'13/August/2018'"
      ]
     },
     "execution_count": 16,
     "metadata": {},
     "output_type": "execute_result"
    }
   ],
   "source": [
    "char = '/'\n",
    "dates= ['13', 'August', '2018']\n",
    "\n",
    "char.join(dates)"
   ]
  },
  {
   "cell_type": "markdown",
   "metadata": {},
   "source": [
    "Yllä erottimena käytetään merkkiä `'/'` muuttujassa `char`. Kutsumalla `char`:ille `join`-funktiota, jonka parametrinä on `dates` lista, palautuu merkkijono, jossa listan `dates` arvoja erottaa kauttaviiva. "
   ]
  },
  {
   "cell_type": "code",
   "execution_count": 17,
   "metadata": {},
   "outputs": [
    {
     "ename": "TypeError",
     "evalue": "sequence item 0: expected str instance, int found",
     "output_type": "error",
     "traceback": [
      "\u001b[1;31m---------------------------------------------------------------------------\u001b[0m",
      "\u001b[1;31mTypeError\u001b[0m                                 Traceback (most recent call last)",
      "\u001b[1;32m<ipython-input-17-db17f2e9551d>\u001b[0m in \u001b[0;36m<module>\u001b[1;34m\u001b[0m\n\u001b[0;32m      2\u001b[0m \u001b[0mdates\u001b[0m\u001b[1;33m=\u001b[0m \u001b[1;33m[\u001b[0m\u001b[1;36m13\u001b[0m\u001b[1;33m,\u001b[0m \u001b[1;34m'August'\u001b[0m\u001b[1;33m,\u001b[0m \u001b[1;34m'2018'\u001b[0m\u001b[1;33m]\u001b[0m\u001b[1;33m\u001b[0m\u001b[1;33m\u001b[0m\u001b[0m\n\u001b[0;32m      3\u001b[0m \u001b[1;33m\u001b[0m\u001b[0m\n\u001b[1;32m----> 4\u001b[1;33m \u001b[0mchar\u001b[0m\u001b[1;33m.\u001b[0m\u001b[0mjoin\u001b[0m\u001b[1;33m(\u001b[0m\u001b[0mdates\u001b[0m\u001b[1;33m)\u001b[0m\u001b[1;33m\u001b[0m\u001b[1;33m\u001b[0m\u001b[0m\n\u001b[0m",
      "\u001b[1;31mTypeError\u001b[0m: sequence item 0: expected str instance, int found"
     ]
    }
   ],
   "source": [
    "char = '/'\n",
    "dates= [13, 'August', '2018']\n",
    "\n",
    "char.join(dates)"
   ]
  },
  {
   "cell_type": "markdown",
   "metadata": {},
   "source": [
    "Nyt yksi listan alkio on kokonaisluku, joten ruudulle tulostuu virheilmoitus. "
   ]
  },
  {
   "cell_type": "markdown",
   "metadata": {},
   "source": [
    "Koska merkkijonot toimivat listojen tavoin, toimii `join()` myös pelkällä merkkijonolla."
   ]
  },
  {
   "cell_type": "code",
   "execution_count": 18,
   "metadata": {},
   "outputs": [
    {
     "data": {
      "text/plain": [
       "'P-O-T-A-T-O'"
      ]
     },
     "execution_count": 18,
     "metadata": {},
     "output_type": "execute_result"
    }
   ],
   "source": [
    "'-'.join('POTATO')"
   ]
  },
  {
   "cell_type": "markdown",
   "metadata": {},
   "source": [
    "Nyt viivalla yhdistetään jokainen merkkijonossa oleva kirjain."
   ]
  },
  {
   "cell_type": "markdown",
   "metadata": {},
   "source": [
    "### `strip()`"
   ]
  },
  {
   "cell_type": "markdown",
   "metadata": {},
   "source": [
    "Merkkijonihin saattaa jäädä reunoille turhia välilyöntejä tai rivinvaihtoja. Niistä pääsee eroo `strip()`-funktiolla:"
   ]
  },
  {
   "cell_type": "code",
   "execution_count": 19,
   "metadata": {},
   "outputs": [
    {
     "name": "stdout",
     "output_type": "stream",
     "text": [
      "---\n",
      "\n",
      "\n",
      "\n",
      "\n",
      "    This is text\n",
      "\n",
      "\n",
      "\n",
      "---\n",
      "This is text\n"
     ]
    }
   ],
   "source": [
    "messy_text = '''\n",
    "\n",
    "\n",
    "\n",
    "    This is text\n",
    "\n",
    "\n",
    "'''\n",
    "print('---')\n",
    "print(messy_text)\n",
    "\n",
    "clean_text = messy_text.strip()\n",
    "print('---')\n",
    "print(clean_text)"
   ]
  },
  {
   "cell_type": "markdown",
   "metadata": {},
   "source": [
    "Esimerkissä tulostettiin kolme viivaa merkkijonon väliin, jotta tulostuksesta näkee helpommin, kuinka `strip()` poista turhat rivinvaihdot ja välilyönnit. Kolmen `'` merkin käyttö mahdollistaa merkkijonojen luomisen, jossa on rivinvaihtoja. "
   ]
  },
  {
   "cell_type": "markdown",
   "metadata": {},
   "source": [
    "##### HARJOITUS 3"
   ]
  },
  {
   "cell_type": "markdown",
   "metadata": {},
   "source": [
    "Tee ohjelma, joka kysyy käyttäjältä syötteenä hänen lempiruokansa. Sen jälkeen ohjelma tulostaa syötteen isoilla kirjaimilla."
   ]
  },
  {
   "cell_type": "code",
   "execution_count": 22,
   "metadata": {},
   "outputs": [
    {
     "name": "stdout",
     "output_type": "stream",
     "text": [
      "Write your favorite food small letters:Sea Food, Pasta, Burger, Pizza\n",
      "SEA FOOD, PASTA, BURGER, PIZZA\n"
     ]
    }
   ],
   "source": [
    "text = input(str('Write your favorite food small letters:'))\n",
    "#print(text.lower())\n",
    "#print(text.upper())\n",
    "print(text.upper())"
   ]
  },
  {
   "cell_type": "markdown",
   "metadata": {},
   "source": [
    "##### HARJOITUS 4"
   ]
  },
  {
   "cell_type": "markdown",
   "metadata": {},
   "source": [
    "Sinulle on annettu valmiina muuttuja `text`, joka on merkkijono. Tee sille seuraavat operaatiot:\n",
    "- Tulosta mistä indeksistä alkaa merkkijono `\"William\"`\n",
    "- Korvaa merkkijono `\"tragedy\"` merkkijonolla `\"comedy\"`, ja tallenna palautuva teksti erilliseen muuttujaan. Tulosta tämä uusi muuttuja. \n"
   ]
  },
  {
   "cell_type": "code",
   "execution_count": 23,
   "metadata": {},
   "outputs": [
    {
     "name": "stdout",
     "output_type": "stream",
     "text": [
      "38\n",
      "Hamlet is a famous comedy written by William Shakespeare a long time ago.\n"
     ]
    }
   ],
   "source": [
    "text = \"Hamlet is a famous tragedy written by William Shakespeare a long time ago.\"\n",
    "print(text.index(\"William\"))\n",
    "new_text = text.replace(\"tragedy\", \"comedy\")\n",
    "print(new_text)"
   ]
  },
  {
   "cell_type": "markdown",
   "metadata": {},
   "source": [
    "##### HARJOITUS 5"
   ]
  },
  {
   "cell_type": "markdown",
   "metadata": {},
   "source": [
    "Annettuna on päivämäärä merkkijonomuodossa. Haluamme kuitenkin käyttää `/`-merkkiä `-`:n sijaan. Tee funktio, joka ottaa parametriksi päivämäärän merkkijonomuodossa `'dd-mm-yyyy'`. Funktio käyttää `split()` ja `join()`-operaatioita, ja palauttaa muunnetun päivämäärän muodosssa `'dd/mm/yyyy'`. Koodikentässä on testipäivämääriä, joilla voi testata ohjelman toimivuutta. (Tuloste)"
   ]
  },
  {
   "cell_type": "code",
   "execution_count": 37,
   "metadata": {},
   "outputs": [
    {
     "data": {
      "text/plain": [
       "'12/10/1990'"
      ]
     },
     "execution_count": 37,
     "metadata": {},
     "output_type": "execute_result"
    }
   ],
   "source": [
    "date1 = '01-01-2001'\n",
    "date2 = '17-07-2016'\n",
    "date3 = '12-10-1990'\n",
    "char = '/'\n",
    "char1 = char\n",
    "date1.split(\"-\")\n",
    "date2.split(\"-\")\n",
    "date3.split(\"-\")\n",
    "char1.join(date1.split(\"-\"))\n",
    "char1.join(date2.split(\"-\"))\n",
    "char1.join(date3.split(\"-\"))"
   ]
  },
  {
   "cell_type": "markdown",
   "metadata": {},
   "source": [
    "##### HARJOITUS 6"
   ]
  },
  {
   "cell_type": "markdown",
   "metadata": {},
   "source": [
    "Luodaan ohjelma, jossa kysytään käyttäjän etunimeä syötteenä. Ohjelma tarkistaa, että annettu nimi koostuu ainoastaan kirjaimista ja tulostaa käyttäjän nimen. Mikäli nimessä on muutakin kuin kirjaimia, ohjelma kysyy käyttäjältä nimeä uudelleen.\n",
    "\n",
    "1. Luo funktio `check_name(name)`. Tämä funktio saa parametrinään käyttäjän antaman syötteen. Funktiossa luo muuttuja `alphabet`, joka on merkkijono `\"abcdefghijklmnopqrstuvwxyzåäö\"`. Funktiossa käydään for-silmukan avulla läpi parametri `name`, jonka voidaan olettaa olevan merkkijono. For-silmukassa tarkastellaan onko jokainen yksittäinen tarkasteltava merkki aakkonen vai ei, eli löytyykö se siis muuttujasta `alphabet` (`in` vertailu). Mikäli merkkijonosta löytyy pelkästään aakkosia, funktio palauttaa arvon `True`. Mikäli nimestä löytyy yksikin merkki, joka ei ole aakkonen, funktio palauttaa arvon `False`. Huomaa, että nimen kaikista merkeistä tulee tehdä pieniä merkkejä, ennen kuin tarkastellaan, löytyykö se muuttujasta `alphabet` (metodi `lower()`). \n",
    "2. Luo pääohjelmaan ikuinen silmukka, jossa kysytään käyttäjän nimeä niin kauan, kunnes käyttäjä antaa hyväksytyn syötteen. Eli silmukassa käytetään siis hyödyksi funktion `check_name()` palauttamaa totuusarvoa arvoa. \n",
    "3. Käyttäjän nimi tulostetaan, kun käyttäjä on antanut hyväksytyn syötteen.\n",
    "\n",
    "\n",
    "\n",
    "Huom! Tässä ohjelmassa ei oteta huomioon kirjaimia, joissa on aksentti. \n",
    "\n",
    "Alla muutama esimerkki ohjelman ajosta:\n",
    "\n",
    "```\n",
    "Enter your first name: Topi,\n",
    "Your name contains forbidden characters. Please re-enter your name.\n",
    "Enter your first name: Topi\n",
    "The user's first name is:  Topi\n",
    "```\n",
    "---------------\n",
    "```\n",
    "Enter your first name: 8Sari\n",
    "Your name contains forbidden characters. Please re-enter your name.\n",
    "Enter your first name: Sari\n",
    "The user's first name is:  Sari```"
   ]
  },
  {
   "cell_type": "code",
   "execution_count": 39,
   "metadata": {},
   "outputs": [
    {
     "name": "stdout",
     "output_type": "stream",
     "text": [
      "Enter your first name: topi3\n",
      "Your name contains forbidden characters. Please re-enter your name.\n",
      "Enter your first name: topis_\n",
      "Your name contains forbidden characters. Please re-enter your name.\n",
      "Enter your first name: Umair\n",
      "The user's first name is:  Umair\n"
     ]
    }
   ],
   "source": [
    "def check_name(name):\n",
    "    alphabet = \"abcdefghijklmnopqrstuvwxyzåäö\"\n",
    "    for char in name:\n",
    "        if char.lower() not in alphabet:\n",
    "            return False        \n",
    "    return True\n",
    "\n",
    "while True:\n",
    "    name = input(\"Enter your first name: \")\n",
    "    if check_name(name):\n",
    "        break\n",
    "    else:\n",
    "        print(\"Your name contains forbidden characters. Please re-enter your name.\")\n",
    "print(\"The user's first name is: \", name)"
   ]
  },
  {
   "cell_type": "code",
   "execution_count": 40,
   "metadata": {},
   "outputs": [
    {
     "name": "stdout",
     "output_type": "stream",
     "text": [
      "A*\n"
     ]
    }
   ],
   "source": [
    "a = \"a*\"\n",
    "print(a.upper())"
   ]
  },
  {
   "cell_type": "markdown",
   "metadata": {},
   "source": [
    "## Kertaus"
   ]
  },
  {
   "cell_type": "markdown",
   "metadata": {},
   "source": [
    "Koska merkkijonot ovat merkeistä koostuvia jonoja, niiden kanssa pystyy käyttämään listaoperaatioita."
   ]
  },
  {
   "cell_type": "markdown",
   "metadata": {},
   "source": [
    "Merkkijonosta voidaan ottaa yksittäisiä merkkejä käyttäen indeksöintiä:"
   ]
  },
  {
   "cell_type": "code",
   "execution_count": null,
   "metadata": {},
   "outputs": [],
   "source": [
    "text = \"Example string with words\"\n",
    "print(text[3])"
   ]
  },
  {
   "cell_type": "markdown",
   "metadata": {},
   "source": [
    "Merkkijonoille voidaan tehdä myös slicing-operaatioita:"
   ]
  },
  {
   "cell_type": "code",
   "execution_count": null,
   "metadata": {},
   "outputs": [],
   "source": [
    "text = \"Example string with words\"\n",
    "print(text[0:7])"
   ]
  },
  {
   "cell_type": "markdown",
   "metadata": {},
   "source": [
    "Merkkijono voidaan käydä merkkijono kerrallaan lävitse for-silmukan avulla:"
   ]
  },
  {
   "cell_type": "code",
   "execution_count": 41,
   "metadata": {},
   "outputs": [
    {
     "name": "stdout",
     "output_type": "stream",
     "text": [
      "E\n",
      "x\n",
      "a\n",
      "m\n",
      "p\n",
      "l\n",
      "e\n"
     ]
    }
   ],
   "source": [
    "text = \"Example\"\n",
    "for char in text:\n",
    "    print(char)"
   ]
  },
  {
   "cell_type": "markdown",
   "metadata": {},
   "source": [
    "`in`-vertailun avulla voidaan tarkastaa, esiintyykö joku merkkijono toisessa merkkijonossa:"
   ]
  },
  {
   "cell_type": "code",
   "execution_count": 43,
   "metadata": {},
   "outputs": [
    {
     "name": "stdout",
     "output_type": "stream",
     "text": [
      "True\n"
     ]
    }
   ],
   "source": [
    "text = \"Example string with words\"\n",
    "print(\"words\" in text)"
   ]
  },
  {
   "cell_type": "markdown",
   "metadata": {},
   "source": [
    "#### Merkkijonot ja listafunktiot"
   ]
  },
  {
   "cell_type": "markdown",
   "metadata": {},
   "source": [
    "Samoja funktioita mitä käytettiin listojen kanssa, voidaan käyttää myös merkkijonoille."
   ]
  },
  {
   "cell_type": "markdown",
   "metadata": {},
   "source": [
    "`len()`-funktio palauttaa merkkijonon pituuden:"
   ]
  },
  {
   "cell_type": "code",
   "execution_count": 44,
   "metadata": {},
   "outputs": [
    {
     "name": "stdout",
     "output_type": "stream",
     "text": [
      "25\n"
     ]
    }
   ],
   "source": [
    "text = \"Example string with words\"\n",
    "print(len(text))"
   ]
  },
  {
   "cell_type": "markdown",
   "metadata": {},
   "source": [
    "`max()`- ja `min()`-funktiot palauttavat listan suurimman ja pienimmän kirjaimen:"
   ]
  },
  {
   "cell_type": "code",
   "execution_count": 45,
   "metadata": {},
   "outputs": [
    {
     "name": "stdout",
     "output_type": "stream",
     "text": [
      "w\n",
      "d\n"
     ]
    }
   ],
   "source": [
    "text = \"word\"\n",
    "print(max(text))\n",
    "print(min(text))"
   ]
  },
  {
   "cell_type": "markdown",
   "metadata": {},
   "source": [
    "`sorted()`-funktio palauttaa merkkijonon järjestettynä pienimmästä suurimpaan:"
   ]
  },
  {
   "cell_type": "code",
   "execution_count": 46,
   "metadata": {},
   "outputs": [
    {
     "name": "stdout",
     "output_type": "stream",
     "text": [
      "[' ', ' ', ' ', 'E', 'a', 'd', 'e', 'g', 'h', 'i', 'i', 'l', 'm', 'n', 'o', 'p', 'r', 'r', 's', 's', 't', 't', 'w', 'w', 'x']\n"
     ]
    }
   ],
   "source": [
    "text = \"Example string with words\"\n",
    "print(sorted(text))"
   ]
  },
  {
   "cell_type": "markdown",
   "metadata": {},
   "source": [
    "`list()`-funktion avulla voidaan muokata merkkijono listaksi:"
   ]
  },
  {
   "cell_type": "code",
   "execution_count": 47,
   "metadata": {},
   "outputs": [
    {
     "name": "stdout",
     "output_type": "stream",
     "text": [
      "['E', 'x', 'a', 'm', 'p', 'l', 'e', ' ', 's', 't', 'r', 'i', 'n', 'g', ' ', 'w', 'i', 't', 'h', ' ', 'w', 'o', 'r', 'd', 's']\n"
     ]
    }
   ],
   "source": [
    "text = \"Example string with words\"\n",
    "print(list(text))"
   ]
  },
  {
   "cell_type": "markdown",
   "metadata": {},
   "source": [
    "#### Merkkijonojen metodit"
   ]
  },
  {
   "cell_type": "markdown",
   "metadata": {},
   "source": [
    "`lower()` palauttaa merkkijonon pienillä kirjaimilla:"
   ]
  },
  {
   "cell_type": "code",
   "execution_count": 48,
   "metadata": {},
   "outputs": [
    {
     "name": "stdout",
     "output_type": "stream",
     "text": [
      "example string with words\n"
     ]
    }
   ],
   "source": [
    "text = \"Example String With Words\"\n",
    "print(text.lower()) "
   ]
  },
  {
   "cell_type": "markdown",
   "metadata": {},
   "source": [
    "`upper()` palauttaa merkkijonon isoilla kirjaimilla:"
   ]
  },
  {
   "cell_type": "code",
   "execution_count": 49,
   "metadata": {},
   "outputs": [
    {
     "name": "stdout",
     "output_type": "stream",
     "text": [
      "EXAMPLE STRING WITH WORDS\n"
     ]
    }
   ],
   "source": [
    "text = \"Example string with words\"\n",
    "print(text.upper()) "
   ]
  },
  {
   "cell_type": "markdown",
   "metadata": {},
   "source": [
    "`index()` palauttaa merkkijonosta ensimmäisenä löytyvän parametrinä annetun alimerkkijonon indeksin:"
   ]
  },
  {
   "cell_type": "code",
   "execution_count": 50,
   "metadata": {},
   "outputs": [
    {
     "name": "stdout",
     "output_type": "stream",
     "text": [
      "20\n"
     ]
    }
   ],
   "source": [
    "text = \"Example string with words\"\n",
    "print(text.index(\"words\")) "
   ]
  },
  {
   "cell_type": "markdown",
   "metadata": {},
   "source": [
    "`replace()` korvaa jonkin merkkijonosta löytyvän alimerkkijonon toisella alimerkkijonolla:"
   ]
  },
  {
   "cell_type": "code",
   "execution_count": 51,
   "metadata": {},
   "outputs": [
    {
     "name": "stdout",
     "output_type": "stream",
     "text": [
      "One string with words\n"
     ]
    }
   ],
   "source": [
    "text = \"Example string with words\"\n",
    "print(text.replace(\"Example\", \"One\")) "
   ]
  },
  {
   "cell_type": "markdown",
   "metadata": {},
   "source": [
    "`split()` palauttaa listan, joka on luotu merkkijonosta leikkaamalla parametrinä annetun merkkijonon kohdista. Jos parametria ei anneta, leikataan välilyöntien kohdalta:"
   ]
  },
  {
   "cell_type": "code",
   "execution_count": 52,
   "metadata": {},
   "outputs": [
    {
     "name": "stdout",
     "output_type": "stream",
     "text": [
      "['Example', 'string', 'with', 'words']\n"
     ]
    }
   ],
   "source": [
    "text = \"Example string with words\"\n",
    "print(text.split()) "
   ]
  },
  {
   "cell_type": "markdown",
   "metadata": {},
   "source": [
    "`join()` kutsutaan merkkijonolle, ja se palauttaa merkkijonon, jossa parametrinä annetun listan alkiot on yhdistetty kutsutun merkkijonon avulla."
   ]
  },
  {
   "cell_type": "code",
   "execution_count": 53,
   "metadata": {},
   "outputs": [
    {
     "name": "stdout",
     "output_type": "stream",
     "text": [
      "Example-string-with-words\n"
     ]
    }
   ],
   "source": [
    "text = [\"Example\", \"string\", \"with\", \"words\"]\n",
    "print('-'.join(text)) "
   ]
  },
  {
   "cell_type": "markdown",
   "metadata": {},
   "source": [
    "`strip()` palauttaa merkkijonon, josta on poistettu alusta ja lopusta ylimääräiset välilyönnit sekä rivinvaihdot:"
   ]
  },
  {
   "cell_type": "code",
   "execution_count": 54,
   "metadata": {},
   "outputs": [
    {
     "name": "stdout",
     "output_type": "stream",
     "text": [
      "Example string with words\n"
     ]
    }
   ],
   "source": [
    "text = \"       Example string with words      \"\n",
    "print(text.strip()) "
   ]
  },
  {
   "cell_type": "markdown",
   "metadata": {},
   "source": [
    "### Palaute\n",
    "\n",
    "Muistathan antaa [palautetta](https://docs.google.com/forms/d/e/1FAIpQLSfZH6EDFiU7JxZd90j07YagAVFFJqWNu47RtHDQozDeaeQcXw/viewform?usp=sf_link)!"
   ]
  }
 ],
 "metadata": {
  "kernelspec": {
   "display_name": "Python 3",
   "language": "python",
   "name": "python3"
  },
  "language_info": {
   "codemirror_mode": {
    "name": "ipython",
    "version": 3
   },
   "file_extension": ".py",
   "mimetype": "text/x-python",
   "name": "python",
   "nbconvert_exporter": "python",
   "pygments_lexer": "ipython3",
   "version": "3.7.4"
  }
 },
 "nbformat": 4,
 "nbformat_minor": 2
}
