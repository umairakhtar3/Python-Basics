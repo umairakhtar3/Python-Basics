{
 "cells": [
  {
   "cell_type": "markdown",
   "metadata": {},
   "source": [
    "# Luku 2: Kontrollirakenteet"
   ]
  },
  {
   "cell_type": "markdown",
   "metadata": {},
   "source": [
    "Ohjelmoinnin kulmakiviä ovat kontrollirakenteet. Ohjelmointikieleen sisäänrakennetut kontrollirakenteet auttavat ohjelmoijaa tekemään mukautuvia ja tehokkaita ohjelmia. Kontrollirakenteista yleisimmät ovat **valintakäskyt**, joiden avulla koodin kulkua ohjataan, sekä **toistokäskyt** eli **silmukat** (loop), joiden avulla koodirivejä voidaan suorittaa tehokkaasti uudelleen. Toistokäskyt käsitellään seuraavassa luvussa."
   ]
  },
  {
   "cell_type": "markdown",
   "metadata": {},
   "source": [
    "## if-else -rakenne"
   ]
  },
  {
   "cell_type": "markdown",
   "metadata": {},
   "source": [
    "Tähän asti ohjelmat ovat suorittaneet käskyt siinä järjestyksessä, kun ne on listattu. Kuitenkin monissa tilanteissa halutaan päättää missä tilanteissa ohjelma toimii milläkin tavalla. Esimerkiksi ohjelman kulkua voidaan haluta muokata, riippuen käyttäjän antamasta syötteestä.\n",
    "\n",
    "Tätä varten Pythonissa on `if-else` -rakenne."
   ]
  },
  {
   "cell_type": "markdown",
   "metadata": {},
   "source": [
    "```python\n",
    "if condition:\n",
    "    command1\n",
    "else:\n",
    "    command2\n",
    "```"
   ]
  },
  {
   "cell_type": "markdown",
   "metadata": {},
   "source": [
    "Rakenteen periaate on se, että ensin tutkitaan onko ehto tosi vai ei. Jos ehto on tosi, ohjelma siirtyy ensimmäiseen ohjelmalohkoon ja suorittaa käskyn 1. Jos ehto on epätosi, ohjelma menee jälkimmäiseen ohjelmalohkoon ja suorittaa käskyn 2. Ohjelma suorittaa siis vain toisen käskyistä riippuen ehdon toteutumisesta ja toista käskyä ei suoriteta.\n",
    "\n",
    "Ehto on jokin lauseke, joka palauttaa totuusarvon `True` tai `False` (Boolean). Boolean arvoja voitiin luoda kuudella eli vertailuoperaattorilla. Kaiken tyyppisillä arvoilla voidaan käyttää: \n",
    "- `==` (Yhtäsuuruus) \n",
    "- `!=` (Erisuuruus)\n",
    "\n",
    "Tämän lisäksi numeerisilla arvoilla (kokonais- ja desimaaliluvut) voidaan käyttää:\n",
    "- `<` (Pienempi kuin)\n",
    "- `<=` (Pienempi tai yhtä pieni kuin)\n",
    "- `>` (Suurempi kuin)\n",
    "- `>=` (Suurempi tai yhtäsuuri kuin)\n",
    "\n",
    "Ehtona voisi olla esimerkiksi `i < 5`."
   ]
  },
  {
   "cell_type": "code",
   "execution_count": 1,
   "metadata": {},
   "outputs": [
    {
     "name": "stdout",
     "output_type": "stream",
     "text": [
      "3 is less than 5!\n"
     ]
    }
   ],
   "source": [
    "i = 3\n",
    "if i < 5:\n",
    "    print(i,'is less than 5!')\n",
    "else:\n",
    "    print(i,'is 5 or greater!')"
   ]
  },
  {
   "cell_type": "markdown",
   "metadata": {},
   "source": [
    "Ohjelmassa tallennetaan muuttujaan `i` numero `3`. Tämän jälkeen ohjelma vertailee onko `i`:n arvo pienempi kuin `5`. Tässä tilanteessa `3 < 5` palauttaa arvon `True` (eli tosi), joten ohjelma suorittaa tätä tilannetta vastaavat ohjelmalohkon ja lopettaa toimintansa suorittamatta toista ohjelmalohkoa. "
   ]
  },
  {
   "cell_type": "code",
   "execution_count": null,
   "metadata": {},
   "outputs": [],
   "source": [
    "i = 6\n",
    "if i < 5:\n",
    "    print(i,'is less than 5!')\n",
    "else:\n",
    "    print(i,'is 5 or greater!')"
   ]
  },
  {
   "cell_type": "markdown",
   "metadata": {},
   "source": [
    "Ohjelma tallentaa numeron `6` muuttujaan `i`. Tämän jälkeen ohjelma tarkistaa onko ensimmäinen ehto tosi ja tässä tapauksessa ehto `6 < 5` on `False` (eli epätosi). Tällöin ohjelma siirtyy toiseen vaihtoehtoon ja suorittaa sille määrätyn käskyn."
   ]
  },
  {
   "cell_type": "markdown",
   "metadata": {},
   "source": [
    "**Huom!** `if` ja `else` ehtojen perässä **on oltava kaksoispisteet, sillä muuten ohjelma ei toimi.** Tällöin tulostuu virhekoodi, jossa on nuoli puuttuvan kaksoispisteen kohdalla. Alla on edellinen esimerkki ilman kaksoispistettä, jolloin näytölle tulostuu virhekoodi."
   ]
  },
  {
   "cell_type": "code",
   "execution_count": 1,
   "metadata": {},
   "outputs": [
    {
     "ename": "SyntaxError",
     "evalue": "invalid syntax (<ipython-input-1-599d3baee6b0>, line 2)",
     "output_type": "error",
     "traceback": [
      "\u001b[1;36m  File \u001b[1;32m\"<ipython-input-1-599d3baee6b0>\"\u001b[1;36m, line \u001b[1;32m2\u001b[0m\n\u001b[1;33m    if i < 5\u001b[0m\n\u001b[1;37m            ^\u001b[0m\n\u001b[1;31mSyntaxError\u001b[0m\u001b[1;31m:\u001b[0m invalid syntax\n"
     ]
    }
   ],
   "source": [
    "i = 6\n",
    "if i < 5\n",
    "    print('Less than 5!')\n",
    "else:\n",
    "    print('5 or higher!')"
   ]
  },
  {
   "cell_type": "markdown",
   "metadata": {},
   "source": [
    "Kuten aiemmin mainittiin, ohjelmassa voidaan haluta suorittaa käskyt riippuen käyttäjän syötteestä."
   ]
  },
  {
   "cell_type": "code",
   "execution_count": 7,
   "metadata": {},
   "outputs": [
    {
     "name": "stdout",
     "output_type": "stream",
     "text": [
      "Tell me your age:\n",
      "17\n",
      "You are underaged\n"
     ]
    }
   ],
   "source": [
    "age = int(input('Tell me your age:\\n'))\n",
    "if age < 18:\n",
    "    print('You are underaged')\n",
    "else:\n",
    "    print('You are an adult')"
   ]
  },
  {
   "cell_type": "markdown",
   "metadata": {},
   "source": [
    "Tässä ohjelma kysyy ensiksi käyttäjän iän `input`-funktion avulla. Vastaus muutetaan heti kokonaisluvuksi tyyppimuunnos funktion `int` avulla. Ohjelma vertailee sitten onko annettu ikä pienempi kuin 18. Jos vertailu `age < 18` palauttaa arvon `True`, siirtyy ohjelma ensimmäiseen ohjelmalohkoon, jossa ohjelma tulostaa tekstin *\"You are underaged\"*. Muuten ohjelma tulostaa tekstin *\"You are an adult\"*. "
   ]
  },
  {
   "cell_type": "markdown",
   "metadata": {},
   "source": [
    "### Rakenteen käyttö"
   ]
  },
  {
   "cell_type": "markdown",
   "metadata": {},
   "source": [
    "`If-else` -rakenteessa on ehdottoman tärkeää sisentää ohjelmalohkojen käskyt. Sisentämisellä tarkoitetaan `Tab`-näppäimellä tehtyä väliä tai neljää välilyöntejä. Pythonissa on tapana sisentää yhdellä `Tab` -välillä. Rakenne päättyy kun aloitetaan uusi rivi koodia ilman sisennystä. \n",
    "\n",
    "Ennen käskyjä täytyy rakenteen perässä olla kaksoispiste `:`. Muuten ohjelma ilmoittaa `SyntaxError: Invalid Syntax` -virheestä.\n",
    "\n",
    "`If-else` -rakenteeseen voi myös laittaa käskyosuuteen niin monta riviä koodia kuin halutaan. Käytetyt esimerkit ovat toistaiseksi olleet vain suhteellisen yksinkertaisia, joten ohjelmalohkoissa on ollut vain yksi komento. "
   ]
  },
  {
   "cell_type": "markdown",
   "metadata": {},
   "source": [
    "**Esimerkkiohjelma 1:** Valuuttalaskuri"
   ]
  },
  {
   "cell_type": "code",
   "execution_count": 8,
   "metadata": {},
   "outputs": [
    {
     "name": "stdout",
     "output_type": "stream",
     "text": [
      "Welcome to the number comparison program.\n",
      "Give the number you wanna compare to number 10: 9\n",
      "The number the user gave is smaller than 10. \n"
     ]
    }
   ],
   "source": [
    "print(\"Welcome to the number comparison program.\")\n",
    "num1 = 10\n",
    "num2 = float(input(\"Give the number you wanna compare to number 10: \"))\n",
    "if num2 >= num1:\n",
    "    print(\"The number the user gave is greater or equal to number 10.\")\n",
    "else:\n",
    "    print(\"The number the user gave is smaller than 10. \")"
   ]
  },
  {
   "cell_type": "markdown",
   "metadata": {},
   "source": [
    "Käydään ohjelman toiminta läpi:\n",
    "\n",
    "- Rivi 1: Ohjelma tulostaa tervehdyksen.\n",
    "- Rivi 2: Annetaan muuttujalle `num1` arvo `10`.\n",
    "- Rivi 3: Kysytään käyttäjältä lukua `input()`-funktiolla, muutetaan se desimaaliluvuksi komennolla `float()` ja tallenetaan se muuttujaan `num2`.\n",
    "- Rivi 4: Tarkastellaan, onko muuttujan `num2` arvo **suurempi tai yhtäsuuri** kuin muuttujan `num1` arvo.\n",
    "- Rivi 5: Mikä ehtolause on totta, tulostetaan, että käyttäjän antama luku on suurempi tai yhtäsuuri kuin luku 10.\n",
    "- Rivi 6: Mikäli ehtolause ei ole totta, tulostetaan, että käyttäjän antama luku on pienempi kuin luku 10. "
   ]
  },
  {
   "cell_type": "markdown",
   "metadata": {},
   "source": [
    "##### HARJOITUS 1"
   ]
  },
  {
   "cell_type": "markdown",
   "metadata": {},
   "source": [
    "Kirjoita ohjelma, joka pyytää käyttäjältä jonkin luvun. Tallenna tämä luku muuttujaan `number`. Muista muuttaa annetun syötteen tyyppi komennolla `float()`!\n",
    "\n",
    "Tämän jälkeen tarkastele lukua käyttäen if-else -rakennetta. Mikäli luku on pienempi kuin 50, luodaan uusi muuttuja, jonka arvo on `number + 10`, eli lukuun lisätään luku kymmennen. Muussa tapauksessa luodaan uusi muuttuja, jonka arvo on `number - 10`, eli luvusta vähennetään luku kymmennen.\n",
    "\n",
    "Lopuksi ohjelma tulostaa muuttujan `new_number` arvon saatetekstin kera. \n",
    "\n",
    "Alla esimerkki ohjelman suorituksesta:\n",
    "```\n",
    "Enter a number: 5\n",
    "The value of the new number is: 15.0\n",
    "```\n",
    "---------------\n",
    "```\n",
    "Enter a number: 100\n",
    "The value of the new number is: 90.0\n",
    "```"
   ]
  },
  {
   "cell_type": "code",
   "execution_count": 40,
   "metadata": {},
   "outputs": [
    {
     "name": "stdout",
     "output_type": "stream",
     "text": [
      "Enter a number : 43\n",
      "The value of the new number is : 53.0\n"
     ]
    }
   ],
   "source": [
    "num1 = float(input(\"Enter a number : \"))\n",
    "X2 = num1 + 10\n",
    "X3 = num1 - 10\n",
    "if num1 < 50:\n",
    "    print('The value of the new number is :', X2)\n",
    "else:\n",
    "    print('The value of the new number is :', X3)"
   ]
  },
  {
   "cell_type": "markdown",
   "metadata": {},
   "source": [
    "##### HARJOITUS 2"
   ]
  },
  {
   "cell_type": "markdown",
   "metadata": {},
   "source": [
    "Kirjoita ohjelma, joka pyytää käyttäjältä kokonaisluvun ja tarkistaa onko luku parillinen vai pariton. Jos käyttäjän antama luku on parillinen, ohjelma tulostaa tekstin \"The number is even\", muussa tapauksessa ohjelma tulostaa tekstin \"The number is odd\". *Vinkki: voit vertailla parillisuutta jakojäännöksellä `%` (`luku % 2 == 0`, tässä otetaan muuttujan `luku` jakojäännös kun se jaetaan luvulla `2`, ja vertaillaan sitä lukuun `0`). Kun parillinen luku jaetaan kahdella on jakojäännös 0.* (Tuloste)\n",
    "\n",
    "Alla muutama esimerkkiajo ohjelman suorittamisesta:\n",
    "```\n",
    "Enter a number: 5\n",
    "The number is odd\n",
    "```\n",
    "----------\n",
    "```\n",
    "Enter a number: 8\n",
    "The number is even\n",
    "```"
   ]
  },
  {
   "cell_type": "code",
   "execution_count": 2,
   "metadata": {},
   "outputs": [
    {
     "name": "stdout",
     "output_type": "stream",
     "text": [
      "Enter a number: 12\n",
      "The number is even\n"
     ]
    }
   ],
   "source": [
    "luku = int(input(\"Enter a number: \"))\n",
    "if luku % 2 == 0:\n",
    "    print(\"The number is even\")\n",
    "else:\n",
    "    print(\"The number is odd\")"
   ]
  },
  {
   "cell_type": "markdown",
   "metadata": {},
   "source": [
    "###  If ilman elseä"
   ]
  },
  {
   "cell_type": "markdown",
   "metadata": {},
   "source": [
    "Pythonissa on myös mahdollista tehdä `if`-lauseke ilman `else`-osuutta. Tämä tehdään jättämällä `else` ja sitä vastaava ohjelmalohko kokonaan pois."
   ]
  },
  {
   "cell_type": "markdown",
   "metadata": {},
   "source": [
    "Alla olevassa ohjelma tervehtii käyttäjää ainoastaan mikäli hän vastaa haluavansa tulla tervehdytyksi. Mikäli käyttäjä kirjoittaa syötteeksi merkkijonon *yes*, ohjelma tulostaa tekstin *Greetings!*. Muuten ohjelma ei tee mitään."
   ]
  },
  {
   "cell_type": "code",
   "execution_count": 42,
   "metadata": {},
   "outputs": [
    {
     "name": "stdout",
     "output_type": "stream",
     "text": [
      "Do you want to be greeted? yes\n",
      "Greetings!\n"
     ]
    }
   ],
   "source": [
    "answer = input('Do you want to be greeted? ')\n",
    "if answer == 'yes':\n",
    "    print('Greetings!')"
   ]
  },
  {
   "cell_type": "markdown",
   "metadata": {},
   "source": [
    "##### HARJOITUS 3 "
   ]
  },
  {
   "cell_type": "markdown",
   "metadata": {},
   "source": [
    "Kirjoita ohjelma, joka pyytää käyttäjältä luvun 1-10. Ohjelma tehdään ilman `else`-käskyä. Halutaan tietää onko käyttäjän luku 5. Jos käyttäjän luku on juuri 5, ohjelma tulostaa \"The number is exactly 5\". Muuten ohjelma ei tee mitään. Ennen ohjelman loppua ohjelma tulostaa tekstin \"The program ends.\". (Tuloste)"
   ]
  },
  {
   "cell_type": "code",
   "execution_count": 56,
   "metadata": {},
   "outputs": [
    {
     "name": "stdout",
     "output_type": "stream",
     "text": [
      "What is the number? 5\n",
      "The number is is exactly 5\n"
     ]
    }
   ],
   "source": [
    "answer = input('What is the number? ')\n",
    "if answer ==  '5':\n",
    "    print('The number is is exactly 5')"
   ]
  },
  {
   "cell_type": "markdown",
   "metadata": {},
   "source": [
    "### Sisäkkäiset valintakäskyt "
   ]
  },
  {
   "cell_type": "markdown",
   "metadata": {},
   "source": [
    "`if-else` rakenteita voi käyttää myös sisäkkäin. Voidaan esimerkiksi haluta ensimmäisen ehdon jälkeen tarkistaa vielä toinen ehto."
   ]
  },
  {
   "cell_type": "markdown",
   "metadata": {},
   "source": [
    "**Esimerkkiohjelma 2:** Alkometri"
   ]
  },
  {
   "cell_type": "code",
   "execution_count": 59,
   "metadata": {
    "scrolled": true
   },
   "outputs": [
    {
     "name": "stdout",
     "output_type": "stream",
     "text": [
      "This program tells you whether you are legally allowed to drive or not.\n",
      "How many permilles do you have in your blood?\n",
      "0.0\n",
      "You are good to go!\n"
     ]
    }
   ],
   "source": [
    "print('This program tells you whether you are legally allowed to drive or not.')\n",
    "level = float(input('How many permilles do you have in your blood?\\n'))\n",
    "\n",
    "if level > 0.0:\n",
    "    print('The legal limit for driving in Finland is under 0.5 permilles.')\n",
    "    \n",
    "    if level > 0.5:\n",
    "        print('Your permille level is over the legal limit so you have no permisson to drive!')\n",
    "    else:\n",
    "        print('Your permille level is under the legal limit so you are free to drive. However, it is not recommended to drive.')\n",
    "        \n",
    "else:\n",
    "    print('You are good to go!')"
   ]
  },
  {
   "cell_type": "markdown",
   "metadata": {},
   "source": [
    "Alkometriesimerkissä näkyy, kuinka hyödyntämällä sisäkkäisiä valintakäskyjä voidaan luoda valintaketjuja, joissa ohjelman kulkua ohjataan useammalla ehdolla. Tämän ohjelman `If-else`-rakenteet mahdollistavat yhteensä 3 eri lopputulosta.\n",
    "\n",
    "Jos veren promillemäärä on enemmän kuin `0.0` (rivi 4), suoritetaan kaikki sisennetyt rivit ennen **seuraavaa ei-sisennettyä `else`ä**, eli rivit 5-12. Tämä käsky sisältää toisen `if-else` -rakenteen (rivit 7-10).\n",
    "\n",
    "Jos promilleja on enemmän kuin `0.5`, suoritetaan rivi 8. Jos promilleja on yli `0`, mutta alle `0.5`, suoritetaan rivi 10. Toisin sanoen, ulomman `if-else`:n `if`-käskyn sisällä on kaksi mahdollista lopputulosta.\n",
    "\n",
    "Tämän lisäksi ulomman valintakäskyn `else`-käsky toteutuu jos promilleja ei ole enemmän kuin `0.0`. Yhteensä mahdollisia lopputuloksia ohjelmalle on siis 3. Useilla sisäkkäisillä valintakäskyillä voidaan luoda monimutkaisia ohjelmia. Sisäkkäiset valintakäskyt hankaloittavat kuitenkin ohjelman lukemista, ja harvoin käytetään enemmän kuin kahden `if-else` -rakenteen syvyisiä sisäkkäisiä valintakäskyyjä."
   ]
  },
  {
   "cell_type": "markdown",
   "metadata": {},
   "source": [
    "##### HARJOITUS 4"
   ]
  },
  {
   "cell_type": "markdown",
   "metadata": {},
   "source": [
    "Tehtävänä on luoda ohjelma, joka tarkastelee onko käyttäjä pitempi kuin saman sukupuolen keskiverto suomalainen. Suomalaisen miehen keskipituus on 178 cm ja naisen 164 cm.\n",
    "\n",
    "Ohjelma luodaan käyttäen sisäkkäistä `if-else` -rakennetta. Ehtolauseita varten tarvitsemme käyttäjältä kaksi syötettä, jotka saadaan kahden erillisen `input()`-komennon avulla. Ohjelman tulee ensiksi kysyä käyttäjän sukupuoli (mies vai nainen), jonka jälkeen se kysyy käyttäjän pituuden senttimetreissä. Muista muuttaa käyttäjän pituus desimaaliluvuksi käyttäen `float()`-komentoa.\n",
    "\n",
    "Tämän jälkeen ohjelma aloittaa ensimmäisen `if-else` -rakenteen, jossa ehtolauseena onko käyttäjä nainen. Jos tämä ehto täyttyy, ohjelma siirtyy ehtolausetta vastaavaan ohjelmalohkoon. \n",
    "\n",
    "Tässä ohjelmalohkossa on uusi `if-else` -rakenne, jossa ehtolauseena verrataan käyttäjän syöttämää pituutta naisten keskipituuteen. Mikäli ehto toteutuu, tulostetaan teksti *\"You are taller than the average Finnish woman\"*. Jos ehto ei toteudu, tulostuu teksti *\"You are shorter than the average Finnish woman\"*.\n",
    "\n",
    "Mikäli ohjelman ensimmäinen ehtolause ei täyttynyt, niin ohjelma siirtyy ehtolausetta vastaavaan `else`-haaraan. Eli siis tapaukseen, jossa käyttäjä on mies. Tässä ohjelmalohkossa on myös uusi `if-else` -rakenne, jossa ehtolauseena vertaillaan käyttäjän syöttämää pituutta miesten keskipituuteen. Mikäli ehtolause toteutuu, tulostetaan teksti *\"You are taller than we average Finnish man\"*. Jos ehto ei toteudu, tulostetaan teksti *\"You are shorter than the average Finnish man\"*.\n",
    "\n",
    "Alla muutama esimerkki ohjelman toiminnasta:\n",
    "```\n",
    "Enter your gender (male/female): female\n",
    "Enter your height in centimeters: 169\n",
    "You are taller than the average Finnish woman\n",
    "```\n",
    "-----------\n",
    "```\n",
    "Enter your gender (male/female): male\n",
    "Enter your height in centimeters: 171\n",
    "You are shorter than the average Finnish man\n",
    "```\n",
    "----------\n",
    "```\n",
    "Enter your gender (male/female): female\n",
    "Enter your height in centimeters: 159\n",
    "You are shorter than the average Finnish woman\n",
    "```"
   ]
  },
  {
   "cell_type": "code",
   "execution_count": 5,
   "metadata": {},
   "outputs": [
    {
     "name": "stdout",
     "output_type": "stream",
     "text": [
      "Enter your gender (male/female): female\n",
      "Enter your height in centimeters: 173\n",
      "You are taller than the average Finnish woman\n"
     ]
    }
   ],
   "source": [
    "gender = input(\"Enter your gender (male/female): \")\n",
    "height = float(input(\"Enter your height in centimeters: \"))\n",
    "if gender == \"female\":\n",
    "    if height >= 164:\n",
    "        print(\"You are taller than the average Finnish woman\")\n",
    "    else:\n",
    "        print(\"You are shorter than the average Finnish woman\")\n",
    "else:\n",
    "    if height >= 178:\n",
    "        print(\"You are taller than the average Finnish man\")\n",
    "    else:\n",
    "        print(\"You are shorter than the average Finnish man\")"
   ]
  },
  {
   "cell_type": "markdown",
   "metadata": {},
   "source": [
    "### Whitespace "
   ]
  },
  {
   "cell_type": "markdown",
   "metadata": {},
   "source": [
    "Poiketen aiheesta, välihuomio esimerkkiohjelma 2:sen **whitespacen** käyttöön."
   ]
  },
  {
   "cell_type": "markdown",
   "metadata": {},
   "source": [
    "Whitespace tarkoittaa välilyontejä, rivinvaihtoja, ja sisennyksiä. Pythonissa saa käyttää välilyöntejä ja rivinvaihtoja niin paljon kuin haluaa, **mutta sisennyksiä saa tehdä vain, kun luodaan uusia ohjelmalohkoja**. Yksi uusia ohjelmalohkoja luova menetelmä on kontrollirakenteet. Niin kuin `if-else`:ssä, myös kohta läpikäytävät silmukat vaativat oikeaoppisen sisennyksen toimiakseen."
   ]
  },
  {
   "cell_type": "markdown",
   "metadata": {},
   "source": [
    "#### Miksi sisennys?"
   ]
  },
  {
   "cell_type": "markdown",
   "metadata": {},
   "source": [
    "Pythonissa on keskeistä helppolukuisuus. Valtaosassa muissa ohjelmointikielissä on tapana käyttää erilaisia sulkuratkaisuja kontrollirakenteen käskyosuuksien merkitsemiseen. Ongelmaksi tulee hiemankin monimutkaiset rakenteet, sillä sekä aloittelevilla että kokeneillakin ohjelmoijilla liialliset sulut menevät helposti solmuun. Pythonia kehittäessä on valittu sisennykset ylimääräisten sulkujen sijaan, minkä takia sisennyksissä pitää olla huolellinen.\n",
    "\n",
    "Yleisesti Pythonissa suositellaan käyttämään rivinvaihtoja ja välimerkkejä niin että koodista tulee mahdollisimman luettavaa. Aikaisemmassa Alkometri-esimerkissä rivinvaihtoja on käytetty `if-else`:jen ympärillä, jotta ne eivät menisi sekaisin. Jo muutama rivinvaihto voi tehdä merkittävän eron koodin luettavuudessa!"
   ]
  },
  {
   "cell_type": "markdown",
   "metadata": {},
   "source": [
    "Seuraavaksi käymme läpi tekniikoita, jotka helpottavat luomaan `if-else`:istä tehokkaampia ja selkeämpiä."
   ]
  },
  {
   "cell_type": "markdown",
   "metadata": {},
   "source": [
    "### Totuusarvojen vertailuoperaattorit"
   ]
  },
  {
   "cell_type": "markdown",
   "metadata": {},
   "source": [
    "Aikaisemmin kävimme läpi yleisiä vertailuoperaattoreita\n",
    "- Numeroiden väliset vertailuoperaattorit (`<`,`>`,`<=`,`>=`)\n",
    "- Yleiset, kaikille datatyypeille soveltuvat vertailuoperaattorit (`==`,`!=`)\n",
    "\n",
    "Nämä vertailut palauttavat aina totuusarvon (booleanin), eli joko `True` tai `False`."
   ]
  },
  {
   "cell_type": "markdown",
   "metadata": {},
   "source": [
    "Seuraavaksi esittelemme **totuusarvojen vertailuoperaattorit**\n",
    "```python\n",
    "a and b\n",
    "a or b\n",
    "not a\n",
    "```\n",
    "Nämä operaatiot toimivat ainoastaan, jos sekä `a` että `b` palauttavat totuusarvot. Operaatiot toimivat nimiensä mukaisesti:\n",
    "- **`and`** palauttaa `True`, jos **sekä `a` että `b`** ovat `True` . Muuten palauttaa `False`\n",
    "- **`or`** palauttaa `True`, jos **`a` tai `b`** on `True`. Jos molemmat ovat `False`, palauttaa `False`.\n",
    "- **`not`** palauttaa `a`:n vastakohdan (negaatio). Jos `a` on `True`, palauttaa `False`, ja päinvastoin."
   ]
  },
  {
   "cell_type": "markdown",
   "metadata": {},
   "source": [
    "![Picture](Images/Boolean4.png)"
   ]
  },
  {
   "cell_type": "markdown",
   "metadata": {},
   "source": [
    "Kuten yllä olevasta kuvasta nähdään, `and` on `True` silloin, kun alkio kuuluu sekä A:han, että B:hen, eli molemmat toteutuvat. `or` on `True`, jos alkio kuuluu jompaan kumpaan, eli jompi kumpi toteutuu."
   ]
  },
  {
   "cell_type": "code",
   "execution_count": 5,
   "metadata": {},
   "outputs": [
    {
     "name": "stdout",
     "output_type": "stream",
     "text": [
      "False\n",
      "True\n",
      "False\n"
     ]
    }
   ],
   "source": [
    "a = True\n",
    "b = False\n",
    "print(a and b)\n",
    "print(a or b)\n",
    "print(not a)"
   ]
  },
  {
   "cell_type": "markdown",
   "metadata": {},
   "source": [
    "Käydään yllä oleva esimerkki rivi kerrallaan läpi:    \n",
    "- Rivit 1-2: sijoitetaan totuusarvot `True`ja `False` muuttujiin `a` sekä `b`, vastaavasti.\n",
    "- Rivi 3: tulostaa `False`, koska molemmat muuttujat eivät ole totta. `and` palauttaa `True` jos ja vain jos molemmat totuusarvot ovat `True`.\n",
    "- Rivi 4: tulostaa `True`, koska operaatio `or` palauttaa `True`, jos edes toinen arvoista on `True`.\n",
    "- Rivi 5: palauttaa `False`, koska `True`:n *negaatio* on `False'"
   ]
  },
  {
   "cell_type": "markdown",
   "metadata": {},
   "source": [
    "Nämä uudet vertailuoperaatiot tekevät helpottavat laajempien `if-else` rakenteiden tekemistä. Sisäkkäisten `if-else`:jen sijaan, usein koodista saa ytimekästä ja helpommin luettavaa yhdistämällä ehtoja vertailuoperaatioiden avulla."
   ]
  },
  {
   "cell_type": "markdown",
   "metadata": {},
   "source": [
    "**Esimerkkiohjelma 3:** neliölaskuri"
   ]
  },
  {
   "cell_type": "code",
   "execution_count": 7,
   "metadata": {},
   "outputs": [
    {
     "name": "stdout",
     "output_type": "stream",
     "text": [
      "Give me an integer between 1 and 10 and I will calculate its square:\n",
      "11\n",
      "You did not give an integer between 1 and 10.\n"
     ]
    }
   ],
   "source": [
    "number = int(input('Give me an integer between 1 and 10 and I will calculate its square:\\n'))\n",
    "if number > 0 and number < 11:\n",
    "    square = number**2\n",
    "    print(square)\n",
    "else: \n",
    "    print('You did not give an integer between 1 and 10.')"
   ]
  },
  {
   "cell_type": "markdown",
   "metadata": {},
   "source": [
    "Tässä esimerkissä näkyy, miten käyttämällä `and` operaatiolla voidaan säästää tilaa jättämällä pois sisäkkäinen valintakäsky."
   ]
  },
  {
   "cell_type": "markdown",
   "metadata": {},
   "source": [
    "Numeroiden vertailuoperaattoreita voidaan käyttää myös lyhyempää muotoa, kuin mitä esimerkkiohjelma 3:ssa käytettiin. Vertailuja voidaan tehdä ns. peräkkäin:\n",
    "``` Python\n",
    "if number > 0 and number < 11:\n",
    "```\n",
    "voidaan kirjoittaa muodossa\n",
    "``` Python\n",
    "if 0 < number < 11:\n",
    "```\n",
    "Tässä vertaillaan onko muuttuja `number` kuin 0, mutta pienempi kuin 11. Myös tämä jälkimmäinen vertailu palauttaa totuusarvon `True` tai `False`."
   ]
  },
  {
   "cell_type": "code",
   "execution_count": 8,
   "metadata": {},
   "outputs": [
    {
     "data": {
      "text/plain": [
       "True"
      ]
     },
     "execution_count": 8,
     "metadata": {},
     "output_type": "execute_result"
    }
   ],
   "source": [
    "number = 5\n",
    "0 < number < 11"
   ]
  },
  {
   "cell_type": "markdown",
   "metadata": {},
   "source": [
    "Tehdään esimerkkiohjelma 3 uudelleen:"
   ]
  },
  {
   "cell_type": "code",
   "execution_count": 9,
   "metadata": {},
   "outputs": [
    {
     "name": "stdout",
     "output_type": "stream",
     "text": [
      "Give me an integer between 1 and 10 and I will calculate its square:\n",
      "5\n",
      "25\n"
     ]
    }
   ],
   "source": [
    "number = int(input('Give me an integer between 1 and 10 and I will calculate its square:\\n'))\n",
    "if 0 < number < 11:\n",
    "    square = number**2\n",
    "    print(square)\n",
    "else: \n",
    "    print('You did not give an integer between 1 and 10.')"
   ]
  },
  {
   "cell_type": "markdown",
   "metadata": {},
   "source": [
    "Molemmat muodot tekevät siis saman asian. Saat itse ohjelmoijana päättää mitä muotoa haluat käyttää ohjelmissasi!"
   ]
  },
  {
   "cell_type": "markdown",
   "metadata": {},
   "source": [
    "##### HARJOITUS 5 "
   ]
  },
  {
   "cell_type": "markdown",
   "metadata": {},
   "source": [
    "K-13 elokuvaan pääsee, jos on iältään yli 13, tai vanhemman seurassa jos on iältään alle 13. Kirjoita ohjelma, joka kysyy käyttäjältä iän ja onko käyttäjällä vanhempi mukana (tarvitaan kaksi erillistä `input()` käskyä). Käyttäjän ollessa yli 13 **TAI** vanhemman ollessa mukana, ohjelma tulostaa \"Enjoy the movie!\". Kirjoita nämä kaksi vertailuoperaatiota samaan `if`-ehtoon. Muussa tapauksessa ohjelma tulostaa \"You are not allowed to watch this movie!\". (Tuloste)"
   ]
  },
  {
   "cell_type": "code",
   "execution_count": 8,
   "metadata": {},
   "outputs": [
    {
     "name": "stdout",
     "output_type": "stream",
     "text": [
      "Enter your age: 16\n",
      "Is any of your parents with you? (yes/no):  no\n",
      "Enjoy the movie!\n"
     ]
    }
   ],
   "source": [
    "age = int(input(\"Enter your age: \"))\n",
    "companion = (input(\"Is any of your parents with you? (yes/no):  \"))\n",
    "if age >= 13 or companion == \"yes\":\n",
    "    print(\"Enjoy the movie!\")\n",
    "else:\n",
    "    print(\"You are not allowed to watch this movie!\")    "
   ]
  },
  {
   "cell_type": "markdown",
   "metadata": {},
   "source": [
    "### ELIF"
   ]
  },
  {
   "cell_type": "markdown",
   "metadata": {},
   "source": [
    "`if-else`-rakenteeseen voidaan haluta enemmän kuin kaksi mahdollista vaihtoehtoa suorittaa käskyjä. Tälloin voidaan käyttää `if-elif-else` -rakennetta, joka mahdollistaa useampien peräkkäisten ehtojen tarkastamisen. Rakenteeseen voidaan laittaa niin monta `elif`-ehtoa kuin halutaan.\n",
    "\n",
    "```Python\n",
    "if condition:\n",
    "    command1\n",
    "elif condition2:\n",
    "    command2\n",
    "elif condition3:\n",
    "    command3\n",
    "else:\n",
    "    command4\n",
    "```\n",
    "\n",
    "Myös `if-elif-else` rakenne pysähtyy ensimmäiseen ehtoon, jonka ehtolause on tosi, eikä muita ehtolauseita enää tarkisteta tai niiden ohjelmalohkoja suoriteta.\n"
   ]
  },
  {
   "cell_type": "code",
   "execution_count": 1,
   "metadata": {},
   "outputs": [
    {
     "name": "stdout",
     "output_type": "stream",
     "text": [
      "Larger than 0\n"
     ]
    }
   ],
   "source": [
    "i = 4\n",
    "if i > 0:\n",
    "    print('Larger than 0')\n",
    "elif 1 <= i <= 10:\n",
    "    print('Between 1 and 10')\n",
    "else:\n",
    "    print('Larger than 10')"
   ]
  },
  {
   "cell_type": "markdown",
   "metadata": {},
   "source": [
    "Vaihda rivillä 4 oleva `elif` `if`:iksi, ja katso miten ohjelman toiminta muuttuu. Mistä ero johtuu?"
   ]
  },
  {
   "cell_type": "markdown",
   "metadata": {},
   "source": [
    "**Esimerkkiohjelma 1:** Hintalaskuri\n",
    "\n",
    "Eräässä huvipuistossa on neljän eri hintaluokan lippuja:\n",
    "\n",
    "Lastenlippu (alle 15v):  **10 e**  \n",
    "Nuorisolippu (15-24v):   **15 e**  \n",
    "Aikuisten lippu (25-65v): **20 e**  \n",
    "Eläkeläislipput (yli 65v): **15 e**\n",
    "\n",
    "\n",
    "Ohjelma kysyy käyttäjältä iän ja kertoo lippuluokan ja hinnan."
   ]
  },
  {
   "cell_type": "code",
   "execution_count": 6,
   "metadata": {},
   "outputs": [
    {
     "name": "stdout",
     "output_type": "stream",
     "text": [
      "Welcome to check the ticket prices!\n",
      "Tell me your age:\n",
      "5\n",
      "Children's ticket price is 10 euros\n"
     ]
    }
   ],
   "source": [
    "print('Welcome to check the ticket prices!')\n",
    "age=int(input('Tell me your age:\\n'))\n",
    "\n",
    "if age < 15:\n",
    "    print(\"Children's ticket price is 10 euros\")\n",
    "\n",
    "elif age >= 15 and age <= 24: \n",
    "    print(\"Youth ticket price is 15 euros\")\n",
    "    \n",
    "elif 25 <= age <= 65: # shorter way to combine two booleans\n",
    "    print(\"Adult ticket price is 20 euros\")\n",
    "    \n",
    "else: \n",
    "    print(\"Pensioner ticket price is 15 euros\")"
   ]
  },
  {
   "cell_type": "markdown",
   "metadata": {},
   "source": [
    "Yllä oleva hintalaskuri on oiva esimerkki `elif`:in ja vertailuoperaattoreiden käytöstä. Käydään ohjelma läpi rivi kerrallaan:"
   ]
  },
  {
   "cell_type": "markdown",
   "metadata": {},
   "source": [
    "- Rivi 1: Tulostetaan tervehdysteksti.\n",
    "- Rivi 2: Kysytään käyttäjän ikää `input()`:illa, muutetaan syöte kokonaisluvuksi `int()`:llä ja sijoitetaan muuttujaan `age`.\n",
    "- Rivi 4: Aloitetaan `if`-rakenne. Ehtona on `age < 15`.\n",
    "- Rivi 5: Ensimmäinen käsky. Suoritetaan vain jos rivin 4 ehto on totta.\n",
    "- Rivi 7: Jos ehto ei ollut totta, eli tässä tapauksessa käyttäjän antama ikä on isompi tai yhtäsuuri kuin 15, siirrytään tälle riville. `elif`:illä annetaan uusi ehto: `age >= 15 and age <= 24`\n",
    "- Rivi 8: Toinen käsky. Suoritetaan vain jos molemmat vertailut rivillä 7 ovat totta, eli jos ikä on välillä 15-24.\n",
    "- Rivi 10: Taas, jos aikaisemmat ehdot eivät olleet tosia, siirrytään tälle riville. Annetaan uusi ehto: `25 <= age <= 65`. Huom! Tämä ehto toimii täysin samalla tavalla kuin ehto rivillä 7, mutta koska samaa muuttujaa käytetään, voi koodin määrää lyhentää ja vertailut yhdistää, koska molempien pitää olla totta.\n",
    "- Rivi 11: Kolmas käsky. Tälle riville siirrytään riviltä 10 ainoastaan jos sen ehto on tosi.\n",
    "- Rivi 13: `else`. Jos mikään ehdoista ei ole täyttyny, siirrytään tälle riville.\n",
    "- Rivi 14: Viimeinen käsky. Suoritetaan jos `if`-rakenteessa päästään `else`:en, eli riville 13, asti ilman että yksikään ehto on siihen mennessä ollut totta."
   ]
  },
  {
   "cell_type": "markdown",
   "metadata": {},
   "source": [
    "### If-elif-else rakenne"
   ]
  },
  {
   "cell_type": "markdown",
   "metadata": {},
   "source": [
    "Tiivistettynä, Pythonissa `if`-lauseke tehdään seuraavasti:     \n",
    "- **1** kpl if-haaroja. Jokainen `if-elif-else` lauseke vaatii tasan yhden, rakenteen aloittavan `if`-lausekkeen.\n",
    "- **0-ääretön** määrä `elif`-haaroja. `if`-haaran jälkeen voi `elif`-haaroja olla niin monta kuin haluaa.\n",
    "- **0-1** kpl `else`-haaroja. `else`-haara on aina viimeinen, niitä voi olla yksi mutta se ei ole pakollinen. `else`-haara on aina viimeinen, ja sillä ei ole omaa ehtoa. `else`-haara suoritetaan jos minkään aikaisemman haaran ehto ei ole ollut `True`."
   ]
  },
  {
   "cell_type": "markdown",
   "metadata": {},
   "source": [
    "##### HARJOITUS 6 "
   ]
  },
  {
   "cell_type": "markdown",
   "metadata": {},
   "source": [
    "Kirjoita ohjelma, joka laskee kertyneen bonuksen määrästä riippuen tuotteen hinnan. Ohjelma kysyy ensiksi käyttäjältä kertyneiden bonuspisteiden määrän (1-500), ja sitten tuotteen hinnan. \n",
    "- Bonustasolla 1 (pisteitä 1-100) käyttäjä saa 10% alennusta hinnasta\n",
    "- Bonustasolla 2 (pisteitä 101-250) käyttäjä saa 20% alennusta hinnasta\n",
    "- Bonustasolla 3 (pisteitä 251-400) käyttäjä saa 30% alennusta hinnasta\n",
    "- Bonustasolla 4 (pisteitä 401-500) käyttäjä saa 40% alennusta hinnasta   \n",
    "\n",
    "Ohjelma tutkii käyttäjän pisteiden perusteella alennuksen ja tulostaa bonustason ja sen avulla saadun hinnan tuotteelle. (Tuloste)"
   ]
  },
  {
   "cell_type": "code",
   "execution_count": 16,
   "metadata": {},
   "outputs": [
    {
     "name": "stdout",
     "output_type": "stream",
     "text": [
      "How many points have you accumulated? (Enter a number from 1-500):1\n",
      "You get 10% discount\n"
     ]
    }
   ],
   "source": [
    "bonus = int(input(\"How many points have you accumulated? (Enter a number from 1-500):\"))\n",
    "if bonus < 100:\n",
    "    print(\"You get 10% discount\")\n",
    "elif 101 <= bonus <= 250:\n",
    "    print(\"You get 20% discount\")\n",
    "elif 251 <= bonus <= 400:\n",
    "    print(\"You get 30% discount\")\n",
    "elif 401 <= bonus <= 500:\n",
    "    print(\"You get 40% discount\")\n",
    "else: \n",
    "    print(\"There is no discount.\")"
   ]
  },
  {
   "cell_type": "markdown",
   "metadata": {},
   "source": [
    "## Kertaus"
   ]
  },
  {
   "cell_type": "markdown",
   "metadata": {},
   "source": [
    "**Valintakäskyillä** voidaan ohjata koodin kulkua. Tätä varten Pythonissa on `if-else`-rakenne."
   ]
  },
  {
   "cell_type": "code",
   "execution_count": 2,
   "metadata": {},
   "outputs": [
    {
     "data": {
      "text/plain": [
       "True"
      ]
     },
     "execution_count": 2,
     "metadata": {},
     "output_type": "execute_result"
    }
   ],
   "source": [
    "i = 2\n",
    "if i < 3:\n",
    "    value = True\n",
    "else:\n",
    "    value = False\n",
    "value"
   ]
  },
  {
   "cell_type": "markdown",
   "metadata": {},
   "source": [
    "**Huom!** ehtolauseen jälkeen täytyy aina olla kaksoispiste `:`. Muuten Python ilmoittaa virheestä virhekoodilla `SyntaxError`."
   ]
  },
  {
   "cell_type": "markdown",
   "metadata": {},
   "source": [
    "Rakenteesta voidaan jättää kokonaan pois `else`-haara, tai vaihtoehtoisesti lisätä väliin haluttu määrä `elif`-haaroja, joilla voidaan lisätä ehtoja rakenteeseen. Rakenteesta suoritetaan ainoastaan se ohjelmalohko, jota vastaava ehtolause on tosi."
   ]
  },
  {
   "cell_type": "code",
   "execution_count": 3,
   "metadata": {},
   "outputs": [
    {
     "name": "stdout",
     "output_type": "stream",
     "text": [
      "Between 1 and 10\n"
     ]
    }
   ],
   "source": [
    "i = 4\n",
    "if i > 10:\n",
    "    print('Larger than 10')\n",
    "elif 1 <= i <= 10:\n",
    "    print('Between 1 and 10')\n",
    "else:\n",
    "    print('Smaller than 1')"
   ]
  },
  {
   "cell_type": "markdown",
   "metadata": {},
   "source": [
    "`if-else` rakenteita voi myös käyttää sisäkkäin. Tämän helpottamiseen voidaan kuitenkin käytetään **totuusarvojen vertailuoperaattoreita**."
   ]
  },
  {
   "cell_type": "markdown",
   "metadata": {},
   "source": [
    "- **and** palauttaa `True`, jos **sekä a että b** ovat `True` . Muuten palauttaa `False`\n",
    "- **or** palauttaa `True`, jos **a tai b** ovat `True`. Jos molemmat ovat `False`, palauttaa `False`.\n",
    "- **not** palauttaa a:n vastakohdan (negaatio). Jos a on `True`, `not a` palauttaa arvon `False`."
   ]
  },
  {
   "cell_type": "code",
   "execution_count": 4,
   "metadata": {},
   "outputs": [
    {
     "name": "stdout",
     "output_type": "stream",
     "text": [
      "Between 1 and 10\n"
     ]
    }
   ],
   "source": [
    "i = 4\n",
    "if i > 0 and i < 10:\n",
    "    print('Between 1 and 10')\n",
    "else:\n",
    "    print('Not between 1 and 10')"
   ]
  },
  {
   "cell_type": "markdown",
   "metadata": {},
   "source": [
    "`if-elif-else` rakenne:\n",
    "- 1 kpl `if`-haarjoja\n",
    "- 0 - ääretön määrä `elif`-haaroja\n",
    "- 0 - 1 kpl `else`-haaroja"
   ]
  },
  {
   "cell_type": "code",
   "execution_count": 6,
   "metadata": {},
   "outputs": [
    {
     "name": "stdout",
     "output_type": "stream",
     "text": [
      "Please give a number: 10\n",
      "User gave a number between 0 and 100.\n"
     ]
    }
   ],
   "source": [
    "num = float(input(\"Please give a number: \"))\n",
    "\n",
    "if num < 0:\n",
    "    print(\"User gave a negative number.\")\n",
    "elif 0 <= num <=  100:\n",
    "    print(\"User gave a number between 0 and 100.\")\n",
    "elif 101 <= num <= 10000:\n",
    "    print(\"User gave a number between 101 and 10000.\")\n",
    "else:\n",
    "    print(\"User gave a really big number.\")"
   ]
  },
  {
   "cell_type": "markdown",
   "metadata": {},
   "source": [
    "### Palaute\n",
    "\n",
    "Muistathan antaa [palautetta](https://docs.google.com/forms/d/e/1FAIpQLSfZH6EDFiU7JxZd90j07YagAVFFJqWNu47RtHDQozDeaeQcXw/viewform?usp=sf_link)!"
   ]
  }
 ],
 "metadata": {
  "kernelspec": {
   "display_name": "Python 3",
   "language": "python",
   "name": "python3"
  },
  "language_info": {
   "codemirror_mode": {
    "name": "ipython",
    "version": 3
   },
   "file_extension": ".py",
   "mimetype": "text/x-python",
   "name": "python",
   "nbconvert_exporter": "python",
   "pygments_lexer": "ipython3",
   "version": "3.7.4"
  }
 },
 "nbformat": 4,
 "nbformat_minor": 2
}
