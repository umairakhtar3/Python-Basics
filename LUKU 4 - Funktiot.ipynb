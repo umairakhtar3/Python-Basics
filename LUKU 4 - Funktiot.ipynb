{
 "cells": [
  {
   "cell_type": "markdown",
   "metadata": {},
   "source": [
    "# Luku 4: Funktiot"
   ]
  },
  {
   "cell_type": "markdown",
   "metadata": {},
   "source": [
    "Kaupalisessa käytössä olevien ohjelmien pituudet voivat kasvaa jopa satoihin ja tuhansiin riveihin. Tätä varten ohjelmia jaetaan pienempään osiin joita kutsutaan funktioiksi. Niin kuin kontrollirakenteetkin, funktiot tarjoavat tavan ohjata koodin kulkua. Funktiolla on jokin oma tehtävä, jonka se suorittaa. Funktio suorittaa tehtävän, kun sitä kutsutaan ohjelmassa. Funktiot voidaan siis nähdä erillisenä aliohjelmana."
   ]
  },
  {
   "cell_type": "markdown",
   "metadata": {},
   "source": [
    "Tältä näyttää funktion rakenne:"
   ]
  },
  {
   "cell_type": "markdown",
   "metadata": {},
   "source": [
    "```python\n",
    "def funktio():\n",
    "    command\n",
    "```"
   ]
  },
  {
   "cell_type": "markdown",
   "metadata": {},
   "source": [
    "Funktion muodostaminen aloitetaan komennolla `def`. Tämän jälkeen seuraa funktion nimi, tässä tapauksessa yksinkertaisesti `funktio`. Funktiota **kutsutaan** tällä nimellä, eli aina kun funktiota halutaan käyttää, kutsutaan sen nimeä. Itse määriteltyjä funktioita kutsutaan täysin samalla tavalla, kuin Pythonissa valmiina olevia funktiota kuten `print()`, `input()` tai `range()`. \n",
    "\n",
    "Niin kuin kontrollirakenteetkin, funktion määrittely päättyy kaksoispisteeseen. Sitä seuraa uusi ohjelmalohko, jonka sisällä olevat käskyt tulee sisentää."
   ]
  },
  {
   "cell_type": "markdown",
   "metadata": {},
   "source": [
    "**Esimerkkiohjelma 1:** hello()"
   ]
  },
  {
   "cell_type": "markdown",
   "metadata": {},
   "source": [
    "Tehdään yksinkertainen funktio:"
   ]
  },
  {
   "cell_type": "code",
   "execution_count": 1,
   "metadata": {},
   "outputs": [
    {
     "name": "stdout",
     "output_type": "stream",
     "text": [
      "Hello there!\n"
     ]
    }
   ],
   "source": [
    "def hello():\n",
    "    print('Hello there!')\n",
    "    \n",
    "hello()"
   ]
  },
  {
   "cell_type": "markdown",
   "metadata": {},
   "source": [
    "Näin olemme luoneet ensimmäisen funktion! Käydään esimerkki läpi rivi kerrallaan.\n",
    "\n",
    "- Rivi 1: Aloitetaan funktion määritteleminen sanalla `def`. Annetaan funktiolle nimeksi `hello`. Funktion ei määritellä saavan parametrejä, joten sulkujen sisälle ei määritellä tulevia parametrejä. Lopetetaan rivi kaksoispisteellä.\n",
    "- Rivi 2: Tästä alkaa funktion käskyosuus. Ainoana sisennettynä rivinä tämä on ainoa rivi joka suoritetaan kun `hello()`-funktiota kutsutaan. Käskynä toimii yksinkertainen tulostus.\n",
    "- Rivi 3: Tämä ei ole pakollinen rivinvaihto, mutta yleensä funktioiden jälkeen yksi tyhjä rivi helpottaa koodin luettavuutta.\n",
    "- Rivi 4: Kutsutaan funktiota. HUOM! Vaikka funktiolla ei ole parametrejä, tarvitaan sitä kutsuessa silti tyhjät sulut!"
   ]
  },
  {
   "cell_type": "markdown",
   "metadata": {},
   "source": [
    "###### HARJOITUS 1"
   ]
  },
  {
   "cell_type": "markdown",
   "metadata": {},
   "source": [
    "Luo funktio, jonka nimi on `calculator()`. Funktio laskee laskun 5 + 5 ja tallentaa sen tuloksen muuttujaan `a`. Tämän jälkeen ohjelma tulostaa muuttujan `a`. Kutsu lopuksi funktiota `calculator()` **funktion ulkopuolella**. (Tuloste) "
   ]
  },
  {
   "cell_type": "code",
   "execution_count": 19,
   "metadata": {},
   "outputs": [
    {
     "name": "stdout",
     "output_type": "stream",
     "text": [
      "10\n"
     ]
    }
   ],
   "source": [
    "def calculator():\n",
    "    a = 5+5\n",
    "    print(a)\n",
    "    \n",
    "calculator()"
   ]
  },
  {
   "cell_type": "markdown",
   "metadata": {},
   "source": [
    "### Parametrit"
   ]
  },
  {
   "cell_type": "markdown",
   "metadata": {},
   "source": [
    "Funktioille voidaan halutessa määritellä **parametrejä**, jotka sijoitetaan sulkujen sisään. Parametrit ovat arvoja, jotka funktiolle pitää antaa sen kutsumisen yhteydessä. Funktiolla voi olla parametrejä mielivaltainen määrä. Funktion rakenne parametrien kanssa näyttää tältä:\n",
    "\n",
    "```python\n",
    "def funktio(parameter1, parameter2, ...):\n",
    "    command\n",
    "```\n",
    "\n",
    "Esimerkiksi `print()`-funktio vaatii parametriksi merkkijonon, minkä se tulostaa. Samalla tavalla `range()`-funktio tarvitsee yhden tai useamman kokonaisluvun luodakseen lukujonon. \n",
    "\n",
    "Parametrit ovat funktion syötteitä, mutta myöskään kaikki funktiot eivät niitä vaadi. Esimerkiksi aikaisemmassa *Esimerkkiohjelma 1*:ssä funktiossa `hello()` ei käytetä parametrejä vaan ohjelman suoritus on aina samanlainen. Tämän takia joissain funktioissa ei sulkujen sisällä ole mitään, kun funktiota kutsutaan.\n",
    "\n",
    "Huomaa, että jos funktion on määritelty saavan parametreja, on funktion kutsussa pakko ne antaa! Vastaavasti, mikäli funktiolle, jonka ei ole määritelty saavan parametriä, ei saa antaa parametriä, sitä kutsuttaessa."
   ]
  },
  {
   "cell_type": "markdown",
   "metadata": {},
   "source": [
    "Jatketaan samaa esimerkkiä.\n",
    "\n",
    "Jos haluamme että, aikaisempi `hello()`-funktio tervehtii parametrinä annettua nimeä, sen voi tehdä näin:"
   ]
  },
  {
   "cell_type": "code",
   "execution_count": 21,
   "metadata": {},
   "outputs": [
    {
     "name": "stdout",
     "output_type": "stream",
     "text": [
      "Hi Lisa\n"
     ]
    }
   ],
   "source": [
    "def hello(name):\n",
    "    print('Hi',name)\n",
    "\n",
    "nick_name = 'Lisa'\n",
    "hello(nick_name)"
   ]
  },
  {
   "cell_type": "markdown",
   "metadata": {},
   "source": [
    "Nyt funktion `hello()` määriteltiin saavan yhden parametrin, parametrin `name`. Funktiossa tulostuskäskyyn kirjoitettiin teksti `\"Hello\"`, johon liitetään pilkun avulla muuttuja `name`. Tässä esimerkissä pääohjelmassa määriteltiin muuttuja `first_name`, joka sai arvokseen merkkijonon `Lisa`. Tämän jälkeen funktiota `hello()` kutsuttiin, antaen sille parametrinä muuttuja `first_name`. Voit kokeilla muokata muuttujan `first_name` arvoa, ja sitten ajaa ohjelman uudelleen. "
   ]
  },
  {
   "cell_type": "markdown",
   "metadata": {},
   "source": [
    "**Parametrien hyöty tulee siitä, että niitä voidaan käyttää funktion käskyosuudessa niin kuin muitakin muuttujia.** Huomaa, että muuttujan nimen, joka annetaan funktiolle parametrinä, **ei tarvitse** olla sama kuin muuttujan nimi, jota käytetään itse funktion käskyosuudessa. Tässä tapauksessa siis pääohjelmassa käytetään muuttujaa `first_name`, ja funktion sisällä muuttujaa `name`. \n",
    "\n",
    "Seuraavassa esimerkissä kutsumme funktiota `hello()` kolmella eri tavalla, jotka kaikki toimivat täysin identtisesti:"
   ]
  },
  {
   "cell_type": "code",
   "execution_count": 22,
   "metadata": {},
   "outputs": [
    {
     "name": "stdout",
     "output_type": "stream",
     "text": [
      "Hello Lisa\n",
      "Hello Lisa\n",
      "Hello Lisa\n"
     ]
    }
   ],
   "source": [
    "def hello(name):\n",
    "    print('Hello',name)\n",
    "\n",
    "first_name = 'Lisa' \n",
    "name = 'Lisa'\n",
    "\n",
    "hello(first_name)\n",
    "hello(name)\n",
    "hello('Lisa')"
   ]
  },
  {
   "cell_type": "markdown",
   "metadata": {},
   "source": [
    "Ylläolevassa esimerkissä, kun funktio `hello()` suoritetaan, on muuttujan `name` arvo jokaisella suorituksella `\"Lisa\"`.\n",
    "\n",
    "Parametrin voi antaa siis funktiota kutsuttaessa myös ilman erillistä muuttujaa. Tämä ei ole kuitenkaan usein ole suositeltavaa, sillä muuttujia käyttäessä koodia on helpompi lukea."
   ]
  },
  {
   "cell_type": "markdown",
   "metadata": {},
   "source": [
    "Huomaa, että funktion käskyosuus suoritetaan ainoastaan kun funktiota kutsutaan."
   ]
  },
  {
   "cell_type": "code",
   "execution_count": 27,
   "metadata": {},
   "outputs": [
    {
     "name": "stdout",
     "output_type": "stream",
     "text": [
      "First print.\n",
      "Second print.\n",
      "This print does not happen unless the function is called\n"
     ]
    }
   ],
   "source": [
    "def function():\n",
    "    print('This print does not happen unless the function is called')\n",
    "\n",
    "print(\"First print.\")\n",
    "print(\"Second print.\")\n",
    "function()"
   ]
  },
  {
   "cell_type": "markdown",
   "metadata": {},
   "source": [
    "Voit kokeilla ajaa ohjelman ja sen jälkeen ajaa ohjelman ilman kommenttimerkkiä `#` ja katsoa eroa funktion suorittamisessa."
   ]
  },
  {
   "cell_type": "markdown",
   "metadata": {},
   "source": [
    "###### HARJOITUS 2"
   ]
  },
  {
   "cell_type": "markdown",
   "metadata": {},
   "source": [
    "Luo funktio, joka saa parametrinä yhden lukuarvon. Funktio laskee luvun neliön ja tulostaa sen. Funktion ulkopuolella pyydä käyttäjältä lukua `input()` komennolla, tallenna se kokonaisluvuksi ja kutsu sitten funktiota. (Tuloste)"
   ]
  },
  {
   "cell_type": "code",
   "execution_count": 62,
   "metadata": {},
   "outputs": [
    {
     "name": "stdout",
     "output_type": "stream",
     "text": [
      "3.0\n",
      "Enter a number: 3\n",
      "\n"
     ]
    }
   ],
   "source": [
    "def square_root(x):\n",
    "    x = 9\n",
    "    print(x**0.5)\n",
    "square_root(9)\n",
    "user_input = int(input('Enter a number: '))\n",
    "print()"
   ]
  },
  {
   "cell_type": "markdown",
   "metadata": {},
   "source": [
    "Jos funktiolle annetaan useampi parametri kutsun yhteydessä, siirtyy tieto samassa järjestyksessä funktioon:"
   ]
  },
  {
   "cell_type": "code",
   "execution_count": 65,
   "metadata": {},
   "outputs": [
    {
     "name": "stdout",
     "output_type": "stream",
     "text": [
      "Hello. My name is 23 and I am Tom years old.\n"
     ]
    }
   ],
   "source": [
    "def hello(name,age):\n",
    "    print(\"Hello. My name is\",name,\"and I am\",age,\"years old.\")\n",
    "\n",
    "variable_name = \"Tom\"\n",
    "variable_age = 23\n",
    "hello(variable_name,variable_age)"
   ]
  },
  {
   "cell_type": "markdown",
   "metadata": {},
   "source": [
    "Ylläolevassa esimerkissä, funktiota `hello()` kutsutaan parametreillä `variable_name` ja `variable_age`. Funktiota suorittaessa funktion sisällä muuttujaan `name` asetetaan funktiokutsussa ensimmäiseksi annettu tieto (eli siis `variable_name`) ja muuttujaan `age` toiseksi annettu tieto (eli siis `variable_age`). \n",
    "\n",
    "Kokeile mitä tapahtuu, jos vaihdat **funktiota kutsuttaessa** muuttujien `variable_name` ja `variable_age` järjestystä!"
   ]
  },
  {
   "cell_type": "markdown",
   "metadata": {},
   "source": [
    "**HARJOITUS 3**"
   ]
  },
  {
   "cell_type": "markdown",
   "metadata": {},
   "source": [
    "Luo funktio `hello()`, joka saa 3 parametriä. **Ensimmäinen parametri edustaa ikää (kokonaisluku), toinen parametri edustaa nimeä (merkkijono) ja kolmas parametri edustaa kotikaupunkia (merkkijono).** Funktio tulostaa näytölle seuraavan tekstin: \"Hi. My name is X and I live in Y. I am Z years old.\" , missä X vastaa nimi parametriä, Y kotikaupunkia ja Z ikää. \n",
    "\n",
    "Pyydä tarvittavat tiedot käyttäjältä pääohjelmassa kolmella eri `input()` käskyllä, ja kutsu sitten funktiota saamillasi parametreillä. Muista muuttaa käyttäjän antama ikä kokonaisluvuksi `int()` komennon avulla."
   ]
  },
  {
   "cell_type": "code",
   "execution_count": 6,
   "metadata": {},
   "outputs": [
    {
     "name": "stdout",
     "output_type": "stream",
     "text": [
      "Write your name. Ali\n",
      "Write your hometown. Rauma\n",
      "Write your age. \n",
      "35\n",
      "Hello. My name is Ali and I live in Rauma .I am 35 years old.\n"
     ]
    }
   ],
   "source": [
    "def hello(X,Y,Z):\n",
    "    print(\"Hello. My name is\",X,\"and I live in\",Y,\".\" \"I am\",Z,\"years old.\")\n",
    "    X = 'name'\n",
    "    Y = 'hometown'\n",
    "    Z = 'age'\n",
    "X = str(input('Write your name. '))\n",
    "Y = str(input('Write your hometown. '))\n",
    "Z = int(input('Write your age. \\n'))\n",
    "hello(X,Y,Z)"
   ]
  },
  {
   "cell_type": "markdown",
   "metadata": {},
   "source": [
    "### Yleisiä huomioita funktiosta"
   ]
  },
  {
   "cell_type": "markdown",
   "metadata": {},
   "source": [
    "Nyt kun olemme nähneet miten funktioita määritellään ja käytetään, on hyvä mainita muutama yleinen huomio funktiosta.\n",
    "- Se, missä funktio määritellään ohjelmassa, on merkityksetöntä. Funktio voidaan siis määrittää missä tahansa kohdassa, sillä se suoritetaan ainoastaan, kun sitä kutsutaan. \n",
    "- Hyvien tapojen mukaista on määritellä funktio(t) heti ohjelman alkuun, ja kirjoittaa niin kutsuttu pääohjelma funktioiden määrittelyn jälkeen. \n",
    "- Funktioiden saamat parametrit toimivat ihan niin kuin mitkä tahansa muuttujat. Ohjelman kirjoittajan täytyy siis itse tietää mikä parametri tekee mitä funktion sisällä, ja monesko annettu parametri vastaa mitä tietoa funktiossa. Parametrit kannattaa usein nimetä kuvaamaan niiden sisältämää tietoa. Tämä helpottaa funktioiden rakentamista ja mahdollisten virheiden korjailua."
   ]
  },
  {
   "cell_type": "markdown",
   "metadata": {},
   "source": [
    "### Muuttujiin sijoittaminen ja palauttaminen"
   ]
  },
  {
   "cell_type": "markdown",
   "metadata": {},
   "source": [
    "Funktiot ovat erityisen hyödyllisiä silloin, kun haluamme toistaa jotain tiettyä asiaa monta kertaa. Tälläiset ovat esimerkiksi matemaattiset kaavat."
   ]
  },
  {
   "cell_type": "markdown",
   "metadata": {},
   "source": [
    "**Esimerkkiohjelma 2:** Ympyrän piirin laskeminen"
   ]
  },
  {
   "cell_type": "code",
   "execution_count": 10,
   "metadata": {},
   "outputs": [
    {
     "name": "stdout",
     "output_type": "stream",
     "text": [
      "A circle with radius 0.5 has the circumference 3.1415\n",
      "A circle with radius 1 has the circumference 6.283\n"
     ]
    }
   ],
   "source": [
    "def circumference(radius):\n",
    "    length =  2 * radius * 3.1415\n",
    "    print('A circle with radius',radius,'has the circumference',length)\n",
    "    \n",
    "circumference(0.5)\n",
    "circumference(1)"
   ]
  },
  {
   "cell_type": "markdown",
   "metadata": {},
   "source": [
    "- Rivi 1: Määritellään funktio, annetaan sille nimeksi `circumference`, ja parametriks `radius` eli säde.\n",
    "- Rivi 2: Lasketaan ympärysmitta ja sijoitetaan se muuttujaan `length`. Ympärysmitan kaava on (pyöristetään $\\pi \\approx 3.1415$): $$area = 2 \\cdot radius \\cdot 3.1415$$\n",
    "- Rivi 3: Tulostetaan vastaus\n",
    "- Rivi 5 ja 6: Kutsutaan funktiota kaksi kertaa eri arvoilla.\n",
    "      "
   ]
  },
  {
   "cell_type": "markdown",
   "metadata": {},
   "source": [
    "**Esimerkkiohjelma 3:** Korkolaskuri"
   ]
  },
  {
   "cell_type": "markdown",
   "metadata": {},
   "source": [
    "Laskuri laskee lainasumman halutulle määrälle vuosia, kun lainaan lisätään vuosittainen korko."
   ]
  },
  {
   "cell_type": "code",
   "execution_count": 4,
   "metadata": {},
   "outputs": [
    {
     "name": "stdout",
     "output_type": "stream",
     "text": [
      "Give interest percent amount as an integer:\n",
      "12\n",
      "Give the loan amount as an integer:\n",
      "100000\n",
      "Give the length of the loan in whole years:\n",
      "25\n",
      "The amount of the loan after 1 years is: 112000.00000000001\n",
      "The amount of the loan after 2 years is: 125440.00000000003\n",
      "The amount of the loan after 3 years is: 140492.80000000005\n",
      "The amount of the loan after 4 years is: 157351.93600000007\n",
      "The amount of the loan after 5 years is: 176234.1683200001\n",
      "The amount of the loan after 6 years is: 197382.26851840015\n",
      "The amount of the loan after 7 years is: 221068.14074060819\n",
      "The amount of the loan after 8 years is: 247596.3176294812\n",
      "The amount of the loan after 9 years is: 277307.87574501894\n",
      "The amount of the loan after 10 years is: 310584.82083442126\n",
      "The amount of the loan after 11 years is: 347854.99933455186\n",
      "The amount of the loan after 12 years is: 389597.59925469814\n",
      "The amount of the loan after 13 years is: 436349.31116526196\n",
      "The amount of the loan after 14 years is: 488711.22850509343\n",
      "The amount of the loan after 15 years is: 547356.5759257047\n",
      "The amount of the loan after 16 years is: 613039.3650367893\n",
      "The amount of the loan after 17 years is: 686604.0888412041\n",
      "The amount of the loan after 18 years is: 768996.5795021487\n",
      "The amount of the loan after 19 years is: 861276.1690424066\n",
      "The amount of the loan after 20 years is: 964629.3093274955\n",
      "The amount of the loan after 21 years is: 1080384.8264467951\n",
      "The amount of the loan after 22 years is: 1210031.0056204107\n",
      "The amount of the loan after 23 years is: 1355234.72629486\n",
      "The amount of the loan after 24 years is: 1517862.8934502434\n",
      "The amount of the loan after 25 years is: 1700006.4406642728\n"
     ]
    }
   ],
   "source": [
    "def interest_calculator(interest, loan, years):\n",
    "    multiplier = 1 + interest/100 # Interest multiplier\n",
    "    loan_amount = loan # Define a new variable to which we will update the interest to\n",
    "    \n",
    "    for i in range(years):\n",
    "        loan_amount = loan_amount*multiplier # Calculate the new amount of the loan\n",
    "        print(\"The amount of the loan after\",i+1,\"years is:\",loan_amount) # Print the amount of the loan\n",
    "    \n",
    "input_a = int(input('Give interest percent amount as an integer:\\n'))\n",
    "input_b = int(input('Give the loan amount as an integer:\\n'))\n",
    "input_c = int(input('Give the length of the loan in whole years:\\n'))\n",
    "        \n",
    "interest_calculator(input_a, input_b, input_c)"
   ]
  },
  {
   "cell_type": "markdown",
   "metadata": {},
   "source": [
    "- Rivi 1: Luodaan funktio nimeltä `interest_calculator`, joka saa parametreiksi korkoprosentin, lainan määrän, halutun määrän vuosia.\n",
    "- Rivi 2: Lasketaan koron avulla vakiokerroin `multiplier` lainalle, eli koron ollessa esim. $5\\%$, kertoimeksi tulee $1 + \\frac{5}{100}$ eli $1.05$.\n",
    "- Rivi 3: Tallennetaan annettu lainan summa uuteen muuttujaan `loan_amount`\n",
    "- Rivi 5: Aloitetaan `for`-silmukka, joka luo alkiojoukon arvoilla $[0,\\dots,\\text{years}-1]$. Alkiojoukon käy läpi muuttuja `i`.\n",
    "\n",
    "- Rivi 6 & 7: Lainan arvoksi muutetaan kertoimella laskettu lainan uusi arvo ja tulostetaan se. `print()`:ssä on `i+1`, sillä `i` alkaa arvolla 0, mutta esim. ensimmäinen tulostus kertoo ensimmäisen vuoden jälkeisen lainan tilanteen, joten `i`:tä pitää kasvataa yhdellä, jotta tulostuksessa on oikea vuosi.\n",
    "\n",
    "- Rivi 9: Pyydetään käyttäjältä lainan koron suuruus, ja muutetaan se kokonaisluvuksi\n",
    "- Rivi 10: Pyydetään käyttäjältä lainan määrä, ja muutetaan se kokonaisluvuksi\n",
    "- Rivi 11: Pyydetään käyttäjältä lainan kesto kokonaisina vuosina, ja muutetaan se kokonaisluvuksi\n",
    "- Rivi 13: Kutsutaan funktiota käyttäjän antamilla parametreillä"
   ]
  },
  {
   "cell_type": "markdown",
   "metadata": {},
   "source": [
    "###### HARJOITUS 4"
   ]
  },
  {
   "cell_type": "markdown",
   "metadata": {},
   "source": [
    "Tee funktio `phone_plan_calculator()`, joka laskee puhelinliittymän hinnan tietyltä ajalta. Liittymän hinta koostuu aloitusmaksusta sekä kuukausimaksusta, joka kerrotaan tietyllä määrällä kuukausia. Funktio saa 3 erillistä parametriä: aloitusmaksun (`starting_fee`), kuukausittaisen hinnan (`monthly_fee`) ja kuukausien määrän (`months`). Funktio laskee ensiksi liittymän hinnan, jonka jälkeen se tulostaa sen. \n",
    "\n",
    "Pyydä aloitusmaksu, kuukausihinta ja kuukausien määrä erikseen käyttäjältä, ja kutsu sitten luomaasi funktiota näillä parametreillä. Aloitus- sekä kuukausimaksu ovat desimaalilukuja ja kuukausien määrä on kokonaisluku. Käytä tyyppimuunnos funktioita `float()` ja `int()` syötteiden muuttamiseen oikeaan tietotyyppiin.  (Tuloste)\n",
    "\n",
    "Alla yksi esimerkki ohjelman ajosta:\n",
    "\n",
    "```\n",
    "Enter the starting fee: \n",
    "20\n",
    "Enter the monthly fee: \n",
    "14.99\n",
    "Enter the amount of months: \n",
    "12\n",
    "Total cost of the plan: 199.88 euros.\n",
    "```"
   ]
  },
  {
   "cell_type": "code",
   "execution_count": 8,
   "metadata": {},
   "outputs": [
    {
     "name": "stdout",
     "output_type": "stream",
     "text": [
      "Enter the starting fee:\n",
      "12\n",
      "Enter the monthly fee:\n",
      "34.6\n",
      "Enter the amount of months:\n",
      "12\n",
      "Total cost of the plan: 0.0 Euros\n",
      "Total cost of the plan: 427.20000000000005 Euros\n",
      "Total cost of the plan: 854.4000000000001 Euros\n",
      "Total cost of the plan: 1281.6000000000001 Euros\n",
      "Total cost of the plan: 1708.8000000000002 Euros\n",
      "Total cost of the plan: 2136.0 Euros\n",
      "Total cost of the plan: 2563.2000000000003 Euros\n",
      "Total cost of the plan: 2990.4000000000005 Euros\n",
      "Total cost of the plan: 3417.6000000000004 Euros\n",
      "Total cost of the plan: 3844.8 Euros\n",
      "Total cost of the plan: 4272.0 Euros\n",
      "Total cost of the plan: 4699.200000000001 Euros\n"
     ]
    }
   ],
   "source": [
    "def phone_plan_calculator(starting_fee,monthly_fee,months):\n",
    "    subcription_price = starting_fee + monthly_fee * months\n",
    "              \n",
    "    for i in range(months):\n",
    "        monthly_fee = monthly_fee*i\n",
    "        print(\"Total cost of the plan:\",subcription_price*i,\"Euros\")\n",
    "    \n",
    "input_a = float(input('Enter the starting fee:\\n'))\n",
    "input_b = float(input('Enter the monthly fee:\\n'))\n",
    "input_c = int(input('Enter the amount of months:\\n'))\n",
    "        \n",
    "phone_plan_calculator(input_a,input_b,input_c)"
   ]
  },
  {
   "cell_type": "markdown",
   "metadata": {},
   "source": [
    "### Palautusarvo"
   ]
  },
  {
   "cell_type": "markdown",
   "metadata": {},
   "source": [
    "Tähänastiset esimerkit ovat ainoastaan laskeneet ja tulostaneet asioita itse funktion sisällä, mutta yleensä funktioilla on **palautusarvo**. Palautusarvon avulla voidaan lähettää jotain tietoa funktion ulkopuolelle. \n",
    "\n",
    "Palautusarvoa käytetään yleensä silloin, kun funktiota halutaan olevan monipuolisempi, kuin että se vain tulostaisi funktion sisällä funktiota kutsuttaessa. Tällöin funktio ikäänkuin kommunikoi takaisinpäin sinne, missä sitä on kutsuttu, palauttaen samalla jonkin tiedon."
   ]
  },
  {
   "cell_type": "markdown",
   "metadata": {},
   "source": [
    "Funktiolle voi määrittää palautusarvon seuraavalla tavalla:\n",
    "```python\n",
    "def function()\n",
    "    command\n",
    "    ...\n",
    "    command\n",
    "    return value\n",
    "```\n"
   ]
  },
  {
   "cell_type": "markdown",
   "metadata": {},
   "source": [
    "Funktiota kutsuttaessa, kun se pääsee käskyosuudessa riville joka alkaa `return`, funktion ajo loppuu, ja se **palauttaa** `return`in jälkeisen arvon (tässä tapauksessa muuttujan `value`)."
   ]
  },
  {
   "cell_type": "markdown",
   "metadata": {},
   "source": [
    "###### Ympyrän pinta-ala"
   ]
  },
  {
   "cell_type": "code",
   "execution_count": 9,
   "metadata": {},
   "outputs": [
    {
     "data": {
      "text/plain": [
       "12.566"
      ]
     },
     "execution_count": 9,
     "metadata": {},
     "output_type": "execute_result"
    }
   ],
   "source": [
    "def circle_area(radius):\n",
    "    area =  3.1415*(radius**2)\n",
    "    return area\n",
    "\n",
    "circle_area(2)"
   ]
  },
  {
   "cell_type": "markdown",
   "metadata": {},
   "source": [
    "Tässä esimerkissä määritellään funktio `circle_area`, joka saa parametrikseen muuttujan `radius`. Funktio laskee ympyrän pinta-alan kaavalla $\\pi r^2$, missä $r$ on ympyrän säde, eli siis parametri `radius`. Pinta-ala tallennetaan muuttujaan `area`, jonka funktio palauttaa."
   ]
  },
  {
   "cell_type": "markdown",
   "metadata": {},
   "source": [
    "Jos funktio palauttaa arvon, voi kyseisen arvon sijoittaa funktion ulkopuoliseen muuttujaan:"
   ]
  },
  {
   "cell_type": "code",
   "execution_count": 10,
   "metadata": {},
   "outputs": [
    {
     "name": "stdout",
     "output_type": "stream",
     "text": [
      "A circle with radius 2 has an area of 12.566\n"
     ]
    }
   ],
   "source": [
    "def circle_area(radius):\n",
    "    area =  3.1415*(radius**2)\n",
    "    return area\n",
    "\n",
    "ca = circle_area(2)\n",
    "print('A circle with radius 2 has an area of',ca)"
   ]
  },
  {
   "cell_type": "markdown",
   "metadata": {},
   "source": [
    "Ohjelma muuttui niin, että nyt funktion palauttama arvo tallennettiin pääohjelmassa muuttujaan `ca`, sekä käytimme `print()`-funktiota tulostamaan pinta-alan arvon saatetekstin kera. "
   ]
  },
  {
   "cell_type": "markdown",
   "metadata": {},
   "source": [
    "Funktiot voivat myös palauttaa useampia arvoja."
   ]
  },
  {
   "cell_type": "code",
   "execution_count": 11,
   "metadata": {},
   "outputs": [
    {
     "name": "stdout",
     "output_type": "stream",
     "text": [
      "A circle with the radius 4 has an area of 50.264, and a circumference of 25.132\n"
     ]
    }
   ],
   "source": [
    "def circle_area_and_circumference(radius):\n",
    "    area =  3.1415*(radius**2)\n",
    "    circumference = 2 * 3.1415 * radius\n",
    "    return area, circumference\n",
    "\n",
    "radius = 4\n",
    "ca, cc = circle_area_and_circumference(radius)\n",
    "print(\"A circle with the radius\",radius,\"has an area of\",str(ca)+\", and a circumference of\",cc)"
   ]
  },
  {
   "cell_type": "markdown",
   "metadata": {},
   "source": [
    "Tässä funktio `circle_area_and_circumference()` laskee ympyrän pinta-alan sekä ympärysmitan muuttujiin `area` ja `circumference`, vastaavasti. Funktio palauttaa nämä molemmat muuttujat.\n",
    "\n",
    "Pää ohjelmassa palautetut arvot tallennetaan muuttujiin `ca` ja `cc`. Tällöin ensimmäiseksi palautettu arvo (eli muuttujan `area` arvo) sijoitetaan muuttujaan `ca`, ja jälkimmäinen arvo (eli muuttujan `circumference` arvo) sijoitetaan muuttujaan `cc`."
   ]
  },
  {
   "cell_type": "markdown",
   "metadata": {},
   "source": [
    "Jos funktiolle ei määritellä paluuarvoa (esim. tämän luvun alkupuolen funktiot), palauttaa funktio oletuksena arvon `None`. `None` on omanlainen tietotyyppinsä, joka edustaa tyhjää arvoa. Se ei kuitenkaan ole sama asia kuin numero `0`."
   ]
  },
  {
   "cell_type": "code",
   "execution_count": 5,
   "metadata": {},
   "outputs": [
    {
     "name": "stdout",
     "output_type": "stream",
     "text": [
      "The new number is: 26\n",
      "The return value is: None\n"
     ]
    }
   ],
   "source": [
    "def function_with_no_return(num):\n",
    "    new_number = 20 + num\n",
    "    print(\"The new number is:\", new_number)\n",
    "    \n",
    "num = 6\n",
    "return_value = function_with_no_return(num)\n",
    "print(\"The return value is:\",return_value)"
   ]
  },
  {
   "cell_type": "markdown",
   "metadata": {},
   "source": [
    "Määriteltiin funktio nimeltä `function_with_no_return()`, joka lisää parametrina saatuun muuttujaan `num` luvun `20`. Tämän jälkeen funktiossa tulostetaan tämä uusi luku. Funktio ei kuitenkaan palauta mitään.\n",
    "\n",
    "Pääohjelmassa määriteltiin muuttuja `num`, joka sai arvo `6`. Tämän jälkeen kutsutaan luotua funktiota, ja tallennetaan sen palautusarvo muuttujaan `return_value`. Lopuksi tulostetaan tämän muuttujan arvo saatetekstin kera. \n",
    "\n",
    "Nähdään, että funktio siis palauttaa arvon `None`, vaikka funktiolle ei ole määritelty palautusarvoa. "
   ]
  },
  {
   "cell_type": "markdown",
   "metadata": {},
   "source": [
    "**Esimerkkiohjelma 4:** Nopeuslaskuri"
   ]
  },
  {
   "cell_type": "markdown",
   "metadata": {},
   "source": [
    "Alla oleva laskuri muodostuu funktiosta, joka ottaa parametriksi nopeuslukuarvon yksikössä mailia per tunti. Funktio muuttaa arvon ensin muuntokertoimella yksikköön kilometriä tunnissa, ja sitten toisella muuntokertoimella yksikköön metriä per sekunti. Funktio palauttaa kaksi arvoa, jotka voidaan pilkulla eroteltuna tallentaa kutsuttaessa erillisiin muuttujiin."
   ]
  },
  {
   "cell_type": "code",
   "execution_count": 13,
   "metadata": {},
   "outputs": [
    {
     "name": "stdout",
     "output_type": "stream",
     "text": [
      "Give me the speed in miles per hour:\n",
      "20\n",
      "20.0 miles per hour is 32.18688 km/h or 8.940800000000001 m/s.\n"
     ]
    }
   ],
   "source": [
    "def speed_calculator(mph):\n",
    "    mph_to_kmh = 1.609344\n",
    "    kmh_to_ms = 3.6\n",
    "    kmh = float(mph) * mph_to_kmh\n",
    "    ms = kmh / kmh_to_ms\n",
    "    return kmh, ms\n",
    "\n",
    "mph = float(input('Give me the speed in miles per hour:\\n'))\n",
    "speed_kmh, speed_ms = speed_calculator(mph)\n",
    "print(mph,'miles per hour is',speed_kmh,'km/h or', speed_ms,'m/s.')"
   ]
  },
  {
   "cell_type": "markdown",
   "metadata": {},
   "source": [
    "Ohjelma alkaa riviltä 8:\n",
    "\n",
    "- Rivi 8: Pyydetään käyttäjältä nopeus yksikössä mailia tunnissa ja asetetaan se desimaaliluvuksi\n",
    "- Rivi 9: Kutsutaan funktiota `speed_calculator` parametrillä `mph`.\n",
    "  \n",
    "Ohjelman kulku siirtyy riville 1:\n",
    "\n",
    "- Rivi 1: Määritellään funktion nimi sekä parametrin nimi, jonka funktio saa (tässä tapauksessa juuri pyydetty nopeus)\n",
    "- Rivi 2: Asetetaan mailia tunnissa $\\longrightarrow$ kilometriä tunnissa muuntokerroin muuttujaan `mph_to_kmh`\n",
    "- Rivi 3: Asetetaan kilometriä tunnissa $\\longrightarrow$ metriä sekunnissa muuntokerroin muuttujaan `kmh_to_ms`\n",
    "- Rivi 4: Muunnetaan annettu mailia tunnissa nopeus kertoimen avulla kilometria tunnissa nopeudeksi ja tallennetaan muuttujaan `kmh`\n",
    "- Rivi 5: Muunnetaan kilometriä tunnissa nopeus metriä sekunnissa nopeudeksi ja tallennetaan muuttujaan `ms`\n",
    "- Rivi 6: Ohjelma palauttaa lasketut kilometriä tunnissa ja metriä sekunnissa nopeudet, eli kaksi erillistä arvoa  \n",
    "\n",
    "Ohjelman kulku palaa riville 9:\n",
    "\n",
    "- Rivi 9: Tallennetaan ohjelman palauttamat kaksi eri arvoa muuttujiin `speed_kmh` ja `speed_ms` (ks. rivi 6) \n",
    "- Rivi 10: Ohjelma tulostaa lasketut nopeudet."
   ]
  },
  {
   "cell_type": "markdown",
   "metadata": {},
   "source": [
    "Funktio on käytännössä välisuoritus, joka tehdään jossain välissä pääohjelmaa. Tämän takia ohjelman suoritus pomppaa pääohjelman riviltä suorittamaan funktiota."
   ]
  },
  {
   "cell_type": "markdown",
   "metadata": {},
   "source": [
    "##### HARJOITUS 5 "
   ]
  },
  {
   "cell_type": "markdown",
   "metadata": {},
   "source": [
    "Luo funktio, joka saa parametrinä yhden lukuarvon. Funktio laskee parametrinä saadun luvun neliön ja palauttaa sen.\n",
    "\n",
    "Kirjoita pääohjelma, jossa käyttäjältä kysytään ensiksi luku, jonka neliö halutaan laskea. Anna tämä luku parametriksi luomallesi funktiolle. Tallenna funktion palauttama arvo erilliseen muuttujaan. Tulosta lopuksi teksti \"Luvun X neliö on Y\", missä X on syötteenä saatu luku ja Y funktion palauttama luku. "
   ]
  },
  {
   "cell_type": "code",
   "execution_count": 1,
   "metadata": {},
   "outputs": [
    {
     "name": "stdout",
     "output_type": "stream",
     "text": [
      "Enter a whole number:\n",
      "2\n",
      "Square of the number 2 is 4 .\n"
     ]
    }
   ],
   "source": [
    "def square_root(x):\n",
    "    x = x**2    \n",
    "    return square_root\n",
    "x = int(input('Enter a whole number:\\n'))\n",
    "y = x**2\n",
    "print('Square of the number',x,'is',y,'.')"
   ]
  },
  {
   "cell_type": "markdown",
   "metadata": {},
   "source": [
    "###### HARJOITUS 6"
   ]
  },
  {
   "cell_type": "markdown",
   "metadata": {},
   "source": [
    "Kirjoita ohjelma, jossa funktio muuntaa Fahrenheitit Celsiuksiksi tai toisinpäin. Ohjelma pyytää käyttäjältä tiedon kummaksi muutetaan ja astemäärän. Luo funktio `muunnin()`, joka saa nämä kaksi tietoa parametreina.\n",
    "\n",
    "Funktion sisällä ohjelma muuttaa `if`-rakenteen avulla asteet oikeaan muotoon oikealla muuntokertoilla. Funktio palauttaa muunnetun astemäärän ja pääohjelma tulostaa \"X Celsius is Y Fahrenheits\" tai \"X Fahrenheits is Y Celcius\". Tätä varten kanattaa käyttää `if`-rakennetta myös pääohjelmassa."
   ]
  },
  {
   "cell_type": "code",
   "execution_count": 9,
   "metadata": {},
   "outputs": [
    {
     "name": "stdout",
     "output_type": "stream",
     "text": [
      "Which temeperature you want to change?:C\n",
      "Write a number you would like to convert:\n",
      "5\n",
      "5.0 Celcius is 41.0 Farenheits\n"
     ]
    }
   ],
   "source": [
    "def converter(outcome, degrees):\n",
    "    if outcome == 'C':\n",
    "        print(degrees, 'Celcius is', (degrees * (9/5)) + 32, 'Farenheits')\n",
    "    else:\n",
    "        print(degrees, 'Farenheits is', (degrees - 32) * (5/9), 'Celcius')\n",
    "outcome = str(input('Which temeperature you want to change?:'))\n",
    "degrees = float(input('Write a number you would like to convert:\\n'))\n",
    "converter(outcome, degrees)"
   ]
  },
  {
   "cell_type": "markdown",
   "metadata": {},
   "source": [
    "###### HARJOITUS 7"
   ]
  },
  {
   "cell_type": "markdown",
   "metadata": {},
   "source": [
    "Luo funktio, joka ottaa yhden luvun parametrinä, kertoo sen kahdella ja lisää siihen luvun 5. Funktio palauttaa lasketun luvun. \n",
    "\n",
    "Luo ohjema joka tekee seuraavat asiat:\n",
    "- Kutsu luomaasi funktiota luvulla `2`\n",
    "- Kerro funktion palauttama luku luvulla `3`\n",
    "- Kutsu luomaasi funktiota uudelleen\n",
    "- Tulosta lopullinen tulos\n",
    "\n",
    "\n",
    "Muista tallentaa palautukset muuttujiin pääohjelmassa, jotta uusi lukuarvo pysyy tallella! Ohjelman vastaukseksi pitäisi tulla luku 59. Funktiota kutsutaan siis kahteen kertaan eri luvuilla."
   ]
  },
  {
   "cell_type": "code",
   "execution_count": 14,
   "metadata": {},
   "outputs": [
    {
     "name": "stdout",
     "output_type": "stream",
     "text": [
      "59\n"
     ]
    }
   ],
   "source": [
    "def calculate_value(num):  \n",
    "    value = (num * 2) + 5\n",
    "    return value\n",
    "\n",
    "a = calculate_value(2)\n",
    "b = a*3\n",
    "c = calculate_value(b)\n",
    "print(c)"
   ]
  },
  {
   "cell_type": "markdown",
   "metadata": {},
   "source": [
    "### Funktiot ja muuttujat"
   ]
  },
  {
   "cell_type": "markdown",
   "metadata": {},
   "source": [
    "\n",
    "Funktiot monimutkaistavat hieman muuttujien käyttöä. Niin kuin ohjelmatkin, funktiot voivat käyttää ainoastaan muuttujia jotka ovat määritelty. Funktio ei voi käyttää muuttujia, jotka ovat määritelty funktion ulkopuolella. Funktio voi määritellä omia muuttujia, mutta funktio voi myös ottaa ulkopuolisia arvoja parametreinään."
   ]
  },
  {
   "cell_type": "markdown",
   "metadata": {},
   "source": [
    "Funktiot tulisi nähdä kokonaan erillisinä ohjelmalohkoina:\n",
    "- Funktio ajetaan ainoastaan kun sitä kutsutaan\n",
    "- Funktio ei tulisi päästä käsiksi aikaisempiin arvoihin, ainoastaan niihin joita se saa syötteenä (eli parametreissä)\n",
    "- Funktio palauttaa ainoastaan sen, mitä `return` palauttaa. "
   ]
  },
  {
   "cell_type": "markdown",
   "metadata": {},
   "source": [
    "###### Virheellinen esimerkki"
   ]
  },
  {
   "cell_type": "code",
   "execution_count": 25,
   "metadata": {},
   "outputs": [
    {
     "ename": "NameError",
     "evalue": "name 'sr' is not defined",
     "output_type": "error",
     "traceback": [
      "\u001b[1;31m---------------------------------------------------------------------------\u001b[0m",
      "\u001b[1;31mNameError\u001b[0m                                 Traceback (most recent call last)",
      "\u001b[1;32m<ipython-input-25-4650a926a134>\u001b[0m in \u001b[0;36m<module>\u001b[1;34m\u001b[0m\n\u001b[0;32m      2\u001b[0m     \u001b[0msr\u001b[0m \u001b[1;33m=\u001b[0m \u001b[0mn\u001b[0m\u001b[1;33m**\u001b[0m\u001b[1;36m2\u001b[0m\u001b[1;33m\u001b[0m\u001b[1;33m\u001b[0m\u001b[0m\n\u001b[0;32m      3\u001b[0m     \u001b[1;32mreturn\u001b[0m \u001b[0msr\u001b[0m\u001b[1;33m\u001b[0m\u001b[1;33m\u001b[0m\u001b[0m\n\u001b[1;32m----> 4\u001b[1;33m \u001b[0mprint\u001b[0m\u001b[1;33m(\u001b[0m\u001b[0msr\u001b[0m\u001b[1;33m)\u001b[0m\u001b[1;33m\u001b[0m\u001b[1;33m\u001b[0m\u001b[0m\n\u001b[0m",
      "\u001b[1;31mNameError\u001b[0m: name 'sr' is not defined"
     ]
    }
   ],
   "source": [
    "def calculate_square(n):\n",
    "    sr = n**2\n",
    "    return sr\n",
    "print(sr)"
   ]
  },
  {
   "cell_type": "markdown",
   "metadata": {},
   "source": [
    "Yllä olevassa esimerkissä virhe syntyy, koska muuttuja `sr` on määritelty ainoastaan funktion sisällä."
   ]
  },
  {
   "cell_type": "markdown",
   "metadata": {},
   "source": [
    "### Funktio ja ohjelman rakenne"
   ]
  },
  {
   "cell_type": "markdown",
   "metadata": {},
   "source": [
    "Funktioiden avulla voidaan muokata ohjelman kulkua merkittävästi. Tarkastellaan alla olevaa koodinpätkää."
   ]
  },
  {
   "cell_type": "code",
   "execution_count": 5,
   "metadata": {},
   "outputs": [
    {
     "name": "stdout",
     "output_type": "stream",
     "text": [
      "Tell me the radius of a sphere (ball) in meters:\n",
      "12\n",
      "The area of the sphere is 452.37600000000003 m^2, circumference is 75.396 m and the volume is 7238.016 m^3.\n"
     ]
    }
   ],
   "source": [
    "def calculate_area(radius):\n",
    "    area = 3.1415 * (radius**2)\n",
    "    return area\n",
    "\n",
    "def calculate_circumference(radius):\n",
    "    circumference = 2*3.1415*radius\n",
    "    return circumference\n",
    "\n",
    "def calculate_volume(radius):\n",
    "    volume = (4/3) *3.1415*(radius**3)\n",
    "    return volume\n",
    "\n",
    "r = float(input('Tell me the radius of a sphere (ball) in meters:\\n'))\n",
    "a,c,v = calculate_area(r), calculate_circumference(r), calculate_volume(r)\n",
    "print('The area of the sphere is',a,'m^2, circumference is',c,'m and the volume is',v,'m^3.')"
   ]
  },
  {
   "cell_type": "markdown",
   "metadata": {},
   "source": [
    "Ohjelman kulkua ei ole tällä kertaa esitetty riveittäin, sillä ohjelman kulku hyppii eri riveillä. Alla kuvataan kuitenkin ohjelman kulku vaihe vaiheelta:\n",
    "\n",
    "1. Ohjelma alkaa riviltä 13 pyytämällä käyttäjältä pallon säteen. \n",
    "2. Tämän jälkeen ohjelmassa tallennetaan muuttujiin `a`, `v` ja `p` pallon pinta-ala, piiri ja tilavuus, mitkä lasketaan erillisissä funktioisa. Muuttujiin tallentuu kutsuttujen funktioiden palauttamat arvot: `area`, `circumference` ja `volume`.\n",
    "3. Ensimmäisen funktion kutsussa `calculate_area(r)` ohjelman kulku siirtyy riville 1 ja toteuttaa funktion. Funktio laskee pallon pinta-alan annetun säteen `r` avulla. Funktio tallentaa pinta-alan muuttujaan `area` ja palauttaa sen. \n",
    "4. Tämän jälkeen ohjelman kulku siirtyy takaisin riville 14. \n",
    "5. Funktion `calculate_circumference` kutsussa ohjelma siirtyy riville 5 ja ajaa funktion, jossa lasketaan pallon piiri. Pallon piiri tallennetaan muuttujaan `circumference`ja se palautetaan. \n",
    "6. Tämän jälkeen palataan riville 14 ja kutsutaan viimeistä funktiota `calculate_volume`. \n",
    "7. Ohjelman kulku siirtyy riville 9. Funktio laskee tilavuuden ja tallentaa arvon muuttujaan `volume` ja palauttaa sen. \n",
    "8. Ohjelman kulku siirtyy riville 15, jossa tulostetaan pinta-ala, piiri ja tilavuus muuttujien `a`,`v` ja `p` avulla."
   ]
  },
  {
   "cell_type": "markdown",
   "metadata": {},
   "source": [
    "###### HARJOITUS 8"
   ]
  },
  {
   "cell_type": "markdown",
   "metadata": {},
   "source": [
    "Kirjoita ohjelma, joka muuttaa merkkijonon \"MM\" merkkijonoksi \"DDMMYY\" kahden funktion avulla. Aloita ohjelma merkkijonolla \"MM\". Ensimmäinen funktio lisää kirjaimen \"D\" merkkijonon alkuun ja toinen funktio lisää kirjaimen \"Y\" merkkijonon loppuun. Kutsu molempia funktioita kahteen kertaan. Muista tallentaa palautukset uusiin muuttujiin pääohjelmassa. Ohjelman pitäisi tulostaa merkkijono DDMMYY. *Vinkki: käytä funktioissa merkkijonojen pluslaskua(+).* (Tuloste)"
   ]
  },
  {
   "cell_type": "code",
   "execution_count": 8,
   "metadata": {},
   "outputs": [
    {
     "name": "stdout",
     "output_type": "stream",
     "text": [
      "DDMMYY\n"
     ]
    }
   ],
   "source": [
    "def add_dd(month):\n",
    "    d_month = \"DD\" + month\n",
    "    return d_month\n",
    "\n",
    "def add_yy(year):\n",
    "    d_year = year + \"YY\"\n",
    "    return d_year\n",
    "\n",
    "\n",
    "x = add_dd(\"MM\")\n",
    "\n",
    "DDMMYY = add_yy(x)\n",
    "print(DDMMYY)"
   ]
  },
  {
   "cell_type": "markdown",
   "metadata": {},
   "source": [
    "### Totuusarvon palauttavat funktiot"
   ]
  },
  {
   "cell_type": "markdown",
   "metadata": {},
   "source": [
    "Tähän mennessä funktiot ovat palauttaneet pelkkiä lukuarvoja, mutta funktiot voivat palauttaa myös totuusarvoja. Tätä voidaan käyttää, kun halutaan esimerkiksi funktion tarkistavan onko ehto tosi vai epätosi. Tällöin funktio palauttaa arvon `True` tai `False`."
   ]
  },
  {
   "cell_type": "markdown",
   "metadata": {},
   "source": [
    "**Esimerkkiohjelma 5:** Maksurajan tarkistus"
   ]
  },
  {
   "cell_type": "markdown",
   "metadata": {},
   "source": [
    "Alla oleva ohjelma tarkistaa pankkikortilla maksettaessa päivittäisen maksurajan ja kertoo onko maksu sallittu."
   ]
  },
  {
   "cell_type": "code",
   "execution_count": 17,
   "metadata": {},
   "outputs": [
    {
     "name": "stdout",
     "output_type": "stream",
     "text": [
      "How much is the payment?\n",
      "2000\n",
      "How much is you daily payment limit?\n",
      "500\n",
      "Payment denied.\n"
     ]
    }
   ],
   "source": [
    "def payment(amount,limit):\n",
    "    if amount > limit:\n",
    "        return False\n",
    "    else:\n",
    "        return True\n",
    "    \n",
    "payment_amount = float(input('How much is the payment?\\n'))\n",
    "payment_limit = float(input('How much is you daily payment limit?\\n'))\n",
    "if payment(payment_amount,payment_limit) == True:\n",
    "    print('Payment accepted.')\n",
    "else:\n",
    "    print('Payment denied.')"
   ]
  },
  {
   "cell_type": "markdown",
   "metadata": {},
   "source": [
    "###### HARJOITUS 9"
   ]
  },
  {
   "cell_type": "markdown",
   "metadata": {},
   "source": [
    "Kirjoita ohjelma, jossa funktio tarkistaa onko luku parillinen. Funktio palauttaa totuusarvon ja sen perusteella pääohjelmassa tulostetaan joko \"Number is even\" tai \"Number is odd\". Kutsu funktiota usealla eri arvolla. (Tuloste)"
   ]
  },
  {
   "cell_type": "code",
   "execution_count": 16,
   "metadata": {},
   "outputs": [
    {
     "name": "stdout",
     "output_type": "stream",
     "text": [
      "Enter a number: 4\n",
      "Number is even\n"
     ]
    }
   ],
   "source": [
    "def number(outcome, value):\n",
    "    outcome = int(input(\"Enter a number: \"))\n",
    "    if outcome%2  == 0:\n",
    "        print(\"Number is even\")\n",
    "    else:\n",
    "        print(\"Number is odd\")\n",
    "number('outcome','value')"
   ]
  },
  {
   "cell_type": "markdown",
   "metadata": {},
   "source": [
    "## Kertaus"
   ]
  },
  {
   "cell_type": "markdown",
   "metadata": {},
   "source": [
    "Funktioita käyttään koodin ohjaamiseen, etenkin pitkissä ohjelmissa. Jokaisella funktiolla on oma tehtävä, jonka se suorittaa, kun sitä kutsutaan."
   ]
  },
  {
   "cell_type": "code",
   "execution_count": 3,
   "metadata": {},
   "outputs": [
    {
     "name": "stdout",
     "output_type": "stream",
     "text": [
      "This is a function.\n"
     ]
    }
   ],
   "source": [
    "def function():\n",
    "    print('This is a function.')\n",
    "    \n",
    "function()"
   ]
  },
  {
   "cell_type": "markdown",
   "metadata": {},
   "source": [
    "Funktiolle voidaan antaa parametrejä, jotka sijoitetaan sulkujen sisään funktiota kutsuttaessa. Tällainen funktio ei toimi ilman annettua parametriä. Parametrejä voi käyttää funktion käskyissä niin kuin muitakin muuttujia. Parametrejä voi olla useampi kuin yksi."
   ]
  },
  {
   "cell_type": "code",
   "execution_count": 5,
   "metadata": {},
   "outputs": [
    {
     "name": "stdout",
     "output_type": "stream",
     "text": [
      "6\n"
     ]
    }
   ],
   "source": [
    "def multiplier(number1,number2):\n",
    "    multiply = number1*number2\n",
    "    print(multiply)\n",
    "\n",
    "multiplier(2,3)"
   ]
  },
  {
   "cell_type": "markdown",
   "metadata": {},
   "source": [
    "Funktiolle voi määrittää palautusarvon käskyllä `return`. Tämän arvon voi esimerkiksi tallentaa pääohjelmassa muuttujaan."
   ]
  },
  {
   "cell_type": "code",
   "execution_count": 1,
   "metadata": {},
   "outputs": [
    {
     "name": "stdout",
     "output_type": "stream",
     "text": [
      "4\n"
     ]
    }
   ],
   "source": [
    "def calculate_square(number):\n",
    "    square = number**2\n",
    "    return square\n",
    "\n",
    "square = calculate_square(2)\n",
    "print(square)"
   ]
  },
  {
   "cell_type": "markdown",
   "metadata": {},
   "source": [
    "Funktio voi myös palauttaa useamman arvon ja ne voidaan suoraan palauttaa useampaan muuttujaan yhdellä käskyllä."
   ]
  },
  {
   "cell_type": "code",
   "execution_count": 2,
   "metadata": {},
   "outputs": [
    {
     "name": "stdout",
     "output_type": "stream",
     "text": [
      "2*4 is 8 and 4^2 is 16\n"
     ]
    }
   ],
   "source": [
    "def calculator(number):\n",
    "    square = number**2\n",
    "    double = number*2\n",
    "    return square, double\n",
    "\n",
    "square, double = calculator(4)\n",
    "print('2*4 is',double,'and 4^2 is',square)"
   ]
  },
  {
   "cell_type": "markdown",
   "metadata": {},
   "source": [
    "Funktiot voivat myös palauttaa totuusarvoja `True` ja `False`. Tällöin funktio tarkistaa onko jokin ehto tosi. Totuusarvoja voi tällöin vertailla esimerkiksi pääohjelmassa. "
   ]
  },
  {
   "cell_type": "markdown",
   "metadata": {},
   "source": [
    "### Palaute\n",
    "\n",
    "Muistathan antaa [palautetta](https://docs.google.com/forms/d/e/1FAIpQLSfZH6EDFiU7JxZd90j07YagAVFFJqWNu47RtHDQozDeaeQcXw/viewform?usp=sf_link)!"
   ]
  }
 ],
 "metadata": {
  "kernelspec": {
   "display_name": "Python 3",
   "language": "python",
   "name": "python3"
  },
  "language_info": {
   "codemirror_mode": {
    "name": "ipython",
    "version": 3
   },
   "file_extension": ".py",
   "mimetype": "text/x-python",
   "name": "python",
   "nbconvert_exporter": "python",
   "pygments_lexer": "ipython3",
   "version": "3.7.4"
  }
 },
 "nbformat": 4,
 "nbformat_minor": 2
}
