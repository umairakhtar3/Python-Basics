{
 "cells": [
  {
   "cell_type": "markdown",
   "metadata": {},
   "source": [
    "# Luku 5: Listat"
   ]
  },
  {
   "cell_type": "markdown",
   "metadata": {},
   "source": [
    "**Huom!** Tämä luku on hieman pidempi kuin muut koulutuksen luvut, sillä listat ovat erittäin merkittävä osa Pythonin. Käytä tähän lukuun hieman enemmän aikaa, ja käy se huolellisesti läpi! Mikäli mahdollista, yritä tehdä luku yhdellä kerralla kokonaan. Tämän kappaleen jälkeen tulee onneksi lyhyempiä lukuja!"
   ]
  },
  {
   "cell_type": "markdown",
   "metadata": {},
   "source": [
    "Lista on tietorakenne, jossa on useita arvoja tietyssä järjestyksessä. Lista voi koostua esimerkiksi numeroista, kirjaimista, kokonaisista sanoista tai totuusarvoista. Listan avulla yhteen muuttujaan voidaan tallentaa monta eri asiaa.\n",
    "\n",
    "Pythonissa listaa merkitsevät hakasulut `[]`, ja listan eri arvot erotellaan pilkulla.\n",
    "\n",
    "Uusi tyhjä lista luodaan kirjoittamalla listan nimi ja tyhjät hakasulkeet.\n",
    "\n",
    "``` Python\n",
    "lista = [] ```\n",
    "\n",
    "Alla on kaksi esimerkkiä listoista: toisessa on arvoina merkkijonoja (eläimiä) ja toisessa kokonaislukuja (numerot 1-5). Listojen nimiksi tulee vasemmalla oleva muuttuja eli tässä tapauksessa `animals` ja `numbers`."
   ]
  },
  {
   "cell_type": "markdown",
   "metadata": {},
   "source": [
    "```Python\n",
    "animals = ['dog', 'tiger', 'mouse', 'cat']\n",
    "\n",
    "numbers = [1, 2, 3, 4, 5] ```\n"
   ]
  },
  {
   "cell_type": "markdown",
   "metadata": {},
   "source": [
    "Lista voidaan tulostaa Print-käskyllä."
   ]
  },
  {
   "cell_type": "code",
   "execution_count": 1,
   "metadata": {},
   "outputs": [
    {
     "name": "stdout",
     "output_type": "stream",
     "text": [
      "['dog', 'tiger', 'mouse', 'cat']\n"
     ]
    }
   ],
   "source": [
    "animals = ['dog', 'tiger', 'mouse', 'cat']\n",
    "print(animals)"
   ]
  },
  {
   "cell_type": "markdown",
   "metadata": {},
   "source": [
    "Jos halutaan tulostaa vain tietty arvo listasta, tarvitaan käyttöön listan indeksöinti. Jokaisella listan alkiolla on oma indeksi, jolla siihen viitataan. **Indeksöinti alkaa `0`:sta ja jatkuu `n-1` asti, missä `n` on listan alkioiden lukumäärä.** Eli siis listan ensimmäisen arvon indeksi on `0`, seuraavan `1` ja niin edelleen.\n",
    "\n",
    "Tietyn indeksin omaavaan arvoon päästään käsiksi hakasulkujen avulla. Hakasulut laitetaan listan nimen perään, ja hakasulkujen sisälle tulee sen arvon indeksi, joka halutaan. \n",
    "\n",
    "Esimerkiksi, jos halutaan päästä käsiksi `animals` listan arvoon `'dog'`, voimme käyttää indeksöintiä. Merkkijonon indeksi on `0`, sillä se on listan ensimmäinen arvo. "
   ]
  },
  {
   "cell_type": "code",
   "execution_count": 2,
   "metadata": {},
   "outputs": [
    {
     "name": "stdout",
     "output_type": "stream",
     "text": [
      "dog\n"
     ]
    }
   ],
   "source": [
    "animals = ['dog', 'tiger', 'mouse', 'cat', 'dog']\n",
    "print(animals[0])"
   ]
  },
  {
   "cell_type": "markdown",
   "metadata": {},
   "source": [
    "Kun halutaan tulostaa listasta `numbers` numero 4, kirjoitetaan `print(numbers[3])`, koska tämän arvon indeksi on 3, kun se on listan neljäs luku. **On siis hyvin tärkeää muistaa, että indeksöinti alkaa nollasta eikä ykkösestä!**"
   ]
  },
  {
   "cell_type": "code",
   "execution_count": 3,
   "metadata": {},
   "outputs": [
    {
     "name": "stdout",
     "output_type": "stream",
     "text": [
      "4\n"
     ]
    }
   ],
   "source": [
    "numbers = [1, 2, 3, 4, 5]\n",
    "print(numbers[3])"
   ]
  },
  {
   "cell_type": "markdown",
   "metadata": {},
   "source": [
    "Indeksi voi myös olla negatiivinen. Silloin aloitetaan listan toisesta päästä, ja kuljetaan vasemmalta oikealle. Indeksi `-1` palauttaa listan viimeisen arvon:"
   ]
  },
  {
   "cell_type": "code",
   "execution_count": 4,
   "metadata": {
    "scrolled": true
   },
   "outputs": [
    {
     "name": "stdout",
     "output_type": "stream",
     "text": [
      "5\n"
     ]
    }
   ],
   "source": [
    "numbers = [1, 2, 3, 4, 5]\n",
    "print(numbers[-1])"
   ]
  },
  {
   "cell_type": "markdown",
   "metadata": {},
   "source": [
    "Tälläin indeksi `-2` palauttaa toiseksi viimeisen arvon, `-3` kolmanneksi viimeisen ja niin edelleen."
   ]
  },
  {
   "cell_type": "code",
   "execution_count": 5,
   "metadata": {},
   "outputs": [
    {
     "name": "stdout",
     "output_type": "stream",
     "text": [
      "4\n",
      "3\n"
     ]
    }
   ],
   "source": [
    "numbers = [1, 2, 3, 4, 5]\n",
    "print(numbers[-2]) # Tulostetaan toiseksi viimeinen arvo\n",
    "print(numbers[-3]) # Tulostetaan kolmanneksi viimeinen arvo"
   ]
  },
  {
   "cell_type": "markdown",
   "metadata": {},
   "source": [
    "Listalla on kuitenkin rajattu määrä indeksejä, koska listassa ei voi olla ääretöntä määrää arvoja. On siis mahdollista kutsua sellaista listan indeksiä, jota ei ole olemassa. Tällöin Python antaa virheilmoituksen:"
   ]
  },
  {
   "cell_type": "code",
   "execution_count": 6,
   "metadata": {},
   "outputs": [
    {
     "ename": "IndexError",
     "evalue": "list index out of range",
     "output_type": "error",
     "traceback": [
      "\u001b[1;31m---------------------------------------------------------------------------\u001b[0m",
      "\u001b[1;31mIndexError\u001b[0m                                Traceback (most recent call last)",
      "\u001b[1;32m<ipython-input-6-bc795f74d7b2>\u001b[0m in \u001b[0;36m<module>\u001b[1;34m\u001b[0m\n\u001b[0;32m      1\u001b[0m \u001b[0mlista\u001b[0m \u001b[1;33m=\u001b[0m \u001b[1;33m[\u001b[0m\u001b[1;36m1\u001b[0m\u001b[1;33m,\u001b[0m \u001b[1;36m5\u001b[0m\u001b[1;33m,\u001b[0m \u001b[1;36m9\u001b[0m\u001b[1;33m,\u001b[0m \u001b[1;36m2\u001b[0m\u001b[1;33m]\u001b[0m\u001b[1;33m\u001b[0m\u001b[1;33m\u001b[0m\u001b[0m\n\u001b[1;32m----> 2\u001b[1;33m \u001b[0mprint\u001b[0m\u001b[1;33m(\u001b[0m\u001b[0mlista\u001b[0m\u001b[1;33m[\u001b[0m\u001b[1;36m5\u001b[0m\u001b[1;33m]\u001b[0m\u001b[1;33m)\u001b[0m\u001b[1;33m\u001b[0m\u001b[1;33m\u001b[0m\u001b[0m\n\u001b[0m",
      "\u001b[1;31mIndexError\u001b[0m: list index out of range"
     ]
    }
   ],
   "source": [
    "lista = [1, 5, 9, 2]\n",
    "print(lista[5])"
   ]
  },
  {
   "cell_type": "markdown",
   "metadata": {},
   "source": [
    "Yritämme siis päästä käsiksi listan kuudenteen arvoon (indeksillä `5`, koska indeksöinti alkaa arvosta `0`!), listassa on kuitenkin vain 4 arvoa. Tämän listan viimeinen indeksi on siis `3`."
   ]
  },
  {
   "cell_type": "markdown",
   "metadata": {},
   "source": [
    "Indeksin voi myös ylittää silloin, kun lähdetään liikkeelle oikeasta reunasta:"
   ]
  },
  {
   "cell_type": "code",
   "execution_count": 7,
   "metadata": {},
   "outputs": [
    {
     "ename": "IndexError",
     "evalue": "list index out of range",
     "output_type": "error",
     "traceback": [
      "\u001b[1;31m---------------------------------------------------------------------------\u001b[0m",
      "\u001b[1;31mIndexError\u001b[0m                                Traceback (most recent call last)",
      "\u001b[1;32m<ipython-input-7-59f14861a6fb>\u001b[0m in \u001b[0;36m<module>\u001b[1;34m\u001b[0m\n\u001b[0;32m      1\u001b[0m \u001b[0mlista\u001b[0m \u001b[1;33m=\u001b[0m \u001b[1;33m[\u001b[0m\u001b[1;36m1\u001b[0m\u001b[1;33m,\u001b[0m \u001b[1;36m5\u001b[0m\u001b[1;33m,\u001b[0m \u001b[1;36m9\u001b[0m\u001b[1;33m,\u001b[0m \u001b[1;36m2\u001b[0m\u001b[1;33m]\u001b[0m\u001b[1;33m\u001b[0m\u001b[1;33m\u001b[0m\u001b[0m\n\u001b[1;32m----> 2\u001b[1;33m \u001b[0mprint\u001b[0m\u001b[1;33m(\u001b[0m\u001b[0mlista\u001b[0m\u001b[1;33m[\u001b[0m\u001b[1;33m-\u001b[0m\u001b[1;36m6\u001b[0m\u001b[1;33m]\u001b[0m\u001b[1;33m)\u001b[0m\u001b[1;33m\u001b[0m\u001b[1;33m\u001b[0m\u001b[0m\n\u001b[0m",
      "\u001b[1;31mIndexError\u001b[0m: list index out of range"
     ]
    }
   ],
   "source": [
    "lista = [1, 5, 9, 2]\n",
    "print(lista[-6])"
   ]
  },
  {
   "cell_type": "markdown",
   "metadata": {},
   "source": [
    "Nyt yritämme tavoitella kuudenneksi viimeistä arvoa listasta, jossa on ainoastaan 4 arvoa. Lopputuloksena on siis virheviesti, sillä tällaisella indeksillä ei esiinny arvoa listassa `a`. "
   ]
  },
  {
   "cell_type": "markdown",
   "metadata": {},
   "source": [
    "Indeksien avulla voidaan päivittää myös listan arvoja: "
   ]
  },
  {
   "cell_type": "code",
   "execution_count": 8,
   "metadata": {},
   "outputs": [
    {
     "name": "stdout",
     "output_type": "stream",
     "text": [
      "[1, 2, 3, 4]\n",
      "[5, 2, 3, 4]\n"
     ]
    }
   ],
   "source": [
    "lista = [1, 2, 3, 4]\n",
    "print(lista)\n",
    "lista[0] = 5\n",
    "print(lista)"
   ]
  },
  {
   "cell_type": "markdown",
   "metadata": {},
   "source": [
    "Nyt päivitimme listan ensimmäisen alkion arvon lukuun `5`. "
   ]
  },
  {
   "cell_type": "markdown",
   "metadata": {},
   "source": [
    "#### HARJOITUS 1"
   ]
  },
  {
   "cell_type": "markdown",
   "metadata": {},
   "source": [
    "Luo lista, joka sisältää arvot `5`, `True`, `'Banana'`, ja tallenna lista muuttujaan. Kutsu muuttujaa. (Lista)"
   ]
  },
  {
   "cell_type": "code",
   "execution_count": 9,
   "metadata": {},
   "outputs": [
    {
     "name": "stdout",
     "output_type": "stream",
     "text": [
      "[5, 'True', 'Banana']\n"
     ]
    }
   ],
   "source": [
    "list = [5, 'True', 'Banana']\n",
    "print(list)"
   ]
  },
  {
   "cell_type": "markdown",
   "metadata": {},
   "source": [
    "#### HARJOITUS 2"
   ]
  },
  {
   "cell_type": "markdown",
   "metadata": {},
   "source": [
    "Alla on annettu valmiiksi lista `l`. Tulosta siitä ensimmäinen, kolmas ja toiseksi viimeinen arvo. Käytä kolmanneksi viimeisen arvon kanssa negatiivista indeksiä."
   ]
  },
  {
   "cell_type": "code",
   "execution_count": 35,
   "metadata": {},
   "outputs": [
    {
     "name": "stdout",
     "output_type": "stream",
     "text": [
      "76\n",
      "5\n",
      "-5\n",
      "-5\n"
     ]
    }
   ],
   "source": [
    "l = [76, 232, 5, 210, 78, 90, -5, 2]\n",
    "print(l[0])\n",
    "print(l[2])\n",
    "print(l[6])\n",
    "print(l[-2])"
   ]
  },
  {
   "cell_type": "markdown",
   "metadata": {},
   "source": [
    "### Listafunktioita"
   ]
  },
  {
   "cell_type": "markdown",
   "metadata": {},
   "source": [
    "Listoilla on muutamia yleishyödyllisiä funktioita joita tarkastelemme seuraavaksi"
   ]
  },
  {
   "cell_type": "markdown",
   "metadata": {},
   "source": [
    "Seuraavaksi käsittelemme funktioita jotka ottavat parametrikseen listan."
   ]
  },
  {
   "cell_type": "markdown",
   "metadata": {},
   "source": [
    "#### `len()`"
   ]
  },
  {
   "cell_type": "markdown",
   "metadata": {},
   "source": [
    "`len()` ottaa parametriksi listan, ja palauttaa sen pituuden, eli listassa olevien alkioiden lukumäärän:"
   ]
  },
  {
   "cell_type": "markdown",
   "metadata": {},
   "source": [
    "#### Esimerkki"
   ]
  },
  {
   "cell_type": "code",
   "execution_count": 36,
   "metadata": {},
   "outputs": [
    {
     "data": {
      "text/plain": [
       "3"
      ]
     },
     "execution_count": 36,
     "metadata": {},
     "output_type": "execute_result"
    }
   ],
   "source": [
    "animals = ['Zebra', 'Pony', 'Elephant']\n",
    "len(animals)"
   ]
  },
  {
   "cell_type": "code",
   "execution_count": 37,
   "metadata": {},
   "outputs": [
    {
     "data": {
      "text/plain": [
       "6"
      ]
     },
     "execution_count": 37,
     "metadata": {},
     "output_type": "execute_result"
    }
   ],
   "source": [
    "numbers = [6, 5215, 20, 642, 0, 123]\n",
    "len(numbers)"
   ]
  },
  {
   "cell_type": "markdown",
   "metadata": {},
   "source": [
    "#### `sorted()`"
   ]
  },
  {
   "cell_type": "markdown",
   "metadata": {},
   "source": [
    "`sorted()` palauttaa järjestetyn version listasta. Järjestäminen vaatii, että kaikki alkiot ovat **samaa datatyyppiä**."
   ]
  },
  {
   "cell_type": "markdown",
   "metadata": {},
   "source": [
    "#### Esimerkki"
   ]
  },
  {
   "cell_type": "code",
   "execution_count": 38,
   "metadata": {},
   "outputs": [
    {
     "data": {
      "text/plain": [
       "[-2, 1, 5, 10]"
      ]
     },
     "execution_count": 38,
     "metadata": {},
     "output_type": "execute_result"
    }
   ],
   "source": [
    "numbers = [1, -2, 5, 10]\n",
    "sorted(numbers)"
   ]
  },
  {
   "cell_type": "markdown",
   "metadata": {},
   "source": [
    "Numeroiden kanssa `sorted()` järjestää listan kasvavaan järjestykseen, eli pienin arvo on siis ensimmäisenä ja suurin viimeisenä."
   ]
  },
  {
   "cell_type": "markdown",
   "metadata": {},
   "source": [
    "#### Esimerkki"
   ]
  },
  {
   "cell_type": "code",
   "execution_count": 39,
   "metadata": {},
   "outputs": [
    {
     "data": {
      "text/plain": [
       "['Eel', 'Elephant', 'Pony', 'Zebra']"
      ]
     },
     "execution_count": 39,
     "metadata": {},
     "output_type": "execute_result"
    }
   ],
   "source": [
    "animals = ['Zebra', 'Pony', 'Elephant','Eel']\n",
    "sorted(animals)"
   ]
  },
  {
   "cell_type": "markdown",
   "metadata": {},
   "source": [
    "Merkkijonojen tapauksessa alkiot laitetaan aakkosjärjestykseen."
   ]
  },
  {
   "cell_type": "markdown",
   "metadata": {},
   "source": [
    "`sorted()`:ille voi myös antaa listan lisäksi valinnaisen parametrin `reverse = True`, jolloin palautettava lista on käänteisessä järjestyksessä:"
   ]
  },
  {
   "cell_type": "markdown",
   "metadata": {},
   "source": [
    "#### Esimerkki"
   ]
  },
  {
   "cell_type": "code",
   "execution_count": 40,
   "metadata": {},
   "outputs": [
    {
     "name": "stdout",
     "output_type": "stream",
     "text": [
      "[10, 5, 1, -2]\n",
      "['Zebra', 'Pony', 'Elephant', 'Eel']\n"
     ]
    }
   ],
   "source": [
    "numbers = [1,-2,5,10]\n",
    "print(sorted(numbers, reverse=True))\n",
    "\n",
    "animals = ['Zebra', 'Pony', 'Elephant','Eel']\n",
    "print(sorted(animals,reverse=True))"
   ]
  },
  {
   "cell_type": "markdown",
   "metadata": {},
   "source": [
    "Numeroiden järjestys on siis tässä tapauksessa suurimmasta pienempään, ja aakkoset menevät Z:sta A:han."
   ]
  },
  {
   "cell_type": "markdown",
   "metadata": {},
   "source": [
    "####  `min()` ja `max()`"
   ]
  },
  {
   "cell_type": "markdown",
   "metadata": {},
   "source": [
    "Listan pienimmän ja suurimman arvon saa kätevästi funktioilla `min()` ja `max()`. Funktiot ottavat parametriksi listan, josta suurinta tai pienintä alkiota etsitään. **Myös `min()` ja `max()` vaativat, että listan kaikki alkiot ovat samaa datatyyppiä!** "
   ]
  },
  {
   "cell_type": "code",
   "execution_count": 41,
   "metadata": {},
   "outputs": [
    {
     "name": "stdout",
     "output_type": "stream",
     "text": [
      "Largest value: 9000\n",
      "Smallest value: -5\n"
     ]
    }
   ],
   "source": [
    "l = [1,-5,27,9000]\n",
    "print('Largest value:',max(l))\n",
    "print('Smallest value:',min(l))"
   ]
  },
  {
   "cell_type": "markdown",
   "metadata": {},
   "source": [
    "Jos lista koostuu merkkijonoista, palauttavat funktiot alkiot aakkosjärjestyksen perusteella."
   ]
  },
  {
   "cell_type": "code",
   "execution_count": 44,
   "metadata": {},
   "outputs": [
    {
     "name": "stdout",
     "output_type": "stream",
     "text": [
      "Largest value: pear\n",
      "Smallest value: Yellow\n"
     ]
    }
   ],
   "source": [
    "l = ['Yellow', 'pear', 'john', 'bicycle']\n",
    "print('Largest value:', max(l))\n",
    "print('Smallest value:', min(l))"
   ]
  },
  {
   "cell_type": "markdown",
   "metadata": {},
   "source": [
    "Merkkijonojen vertailusta täytyy kuitenkin tietää, että pieni kirjain on aina \"isompi\", kuin iso kirjain. Jos muutat esimerkiksi merkkijonon `'yellow'` ensimmäisen kirjaimen isoksi kirjaimeksi, ja ajat ohjelman uudelleen, niin huomaat, miten ohjelman tulos muuttuu."
   ]
  },
  {
   "cell_type": "markdown",
   "metadata": {},
   "source": [
    "#### `in`"
   ]
  },
  {
   "cell_type": "markdown",
   "metadata": {},
   "source": [
    "`in`:iin olemme tutustuneet jo `for`-silmukan yhteydessä, mutta `in` on myös Pythonissa oleva listaoperaattori, joka palauttaa totuusarvon (eli `True` tai `False`). Se vertailee, että löytyykö tietty arvo tietystä listasta. Mikäli tarkasteltava arvo löytyy listasta, palauttaa vertailu arvon `True`. Muuten palautuu arvo `False`. `in`:in käyttö näyttää tältä:"
   ]
  },
  {
   "cell_type": "code",
   "execution_count": 45,
   "metadata": {},
   "outputs": [
    {
     "name": "stdout",
     "output_type": "stream",
     "text": [
      "True\n"
     ]
    }
   ],
   "source": [
    "animals = ['Zebra', 'Pony', 'Elephant']\n",
    "print('Elephant' in animals)"
   ]
  },
  {
   "cell_type": "markdown",
   "metadata": {},
   "source": [
    "`in` palauttaa Booleanarvon, ja arvo on tosi (`True`), **jos ja vain jos `in`:in vasemmalla puolella oleva arvo löytyy oikealla puolella olevasta listasta**. Muuten vertailu palauttaa arvon epätosi (`False`)."
   ]
  },
  {
   "cell_type": "code",
   "execution_count": 46,
   "metadata": {},
   "outputs": [
    {
     "name": "stdout",
     "output_type": "stream",
     "text": [
      "True\n",
      "False\n"
     ]
    }
   ],
   "source": [
    "numbers1 = [1,5,2,7]\n",
    "numbers2 = [3,3,4]\n",
    "\n",
    "print(5 in numbers1)\n",
    "print(5 in numbers2)"
   ]
  },
  {
   "cell_type": "markdown",
   "metadata": {},
   "source": [
    "Niin kuin muitakin vertailuja, `in` vertailua voidaan käyttää `if-else` -rakenteissa:"
   ]
  },
  {
   "cell_type": "code",
   "execution_count": 49,
   "metadata": {},
   "outputs": [
    {
     "name": "stdout",
     "output_type": "stream",
     "text": [
      "Value is in list\n"
     ]
    }
   ],
   "source": [
    "a = [1, 10, 212, 56]\n",
    "value = 10\n",
    "if value in a:\n",
    "    print(\"Value is in list\")\n",
    "else:\n",
    "    print(\"Value isn't in list\")"
   ]
  },
  {
   "cell_type": "markdown",
   "metadata": {},
   "source": [
    "Nyt ylläoleva ohjelma vertailee onko muuttujan `value` arvo listassa `a` vai ei. Voit kokeilla vaihtaa muuttujan `value` arvoa joksikin muuksi, ja kokeilla miten ohjelman toiminta tällöin muuttuu. "
   ]
  },
  {
   "cell_type": "markdown",
   "metadata": {},
   "source": [
    "#### HARJOITUS 3"
   ]
  },
  {
   "cell_type": "markdown",
   "metadata": {},
   "source": [
    "Sinulle on annettuna muuttuja `l`, joka sisältää listan, jossa on eri numeroarvoja. Tulosta seuraavat arvot (Tuloste):\n",
    "- listan pituus\n",
    "- lista kokojärjestyksessa suurimmasta pienimpään\n",
    "- listan suurin arvo\n",
    "- listan pienin arvo\n",
    "- onko listassa arvoa `4` (Booleanarvo)"
   ]
  },
  {
   "cell_type": "code",
   "execution_count": 50,
   "metadata": {},
   "outputs": [
    {
     "name": "stdout",
     "output_type": "stream",
     "text": [
      "7\n",
      "['Zebra', 'Pony', 'Elephant']\n",
      "Largest value: 2453\n",
      "Smallest value: -7\n",
      "True\n"
     ]
    }
   ],
   "source": [
    "l = [1, 25, -7, 100, 2453, 5, 4]\n",
    "print(len(l))\n",
    "print(sorted(animals,reverse=True))\n",
    "print('Largest value:', max(l))\n",
    "print('Smallest value:', min(l))\n",
    "print(4 in l)"
   ]
  },
  {
   "cell_type": "markdown",
   "metadata": {},
   "source": [
    "### Metodit"
   ]
  },
  {
   "cell_type": "markdown",
   "metadata": {},
   "source": [
    "Jokaisella tietotyypillä on omat valmiiksi määritellyt tietotyyppifunktiot, näitä voidaan kutsua funktioiksi tai metodeiksi. Metodeita kutsutaan muuttujan nimen jälkeen pisteellä eroteltuna. Katsotaan nyt muutamia yleisimpiä metodeja listoille. "
   ]
  },
  {
   "cell_type": "markdown",
   "metadata": {},
   "source": [
    " ### `count()`"
   ]
  },
  {
   "cell_type": "markdown",
   "metadata": {},
   "source": [
    "`count()` ottaa parametriksi jonkin arvon, ja palauttaa numeroarvon, joka kertoo kuinka monta kertaa tämä parametrinä annettu arvo esiintyy listassa. Metodi ei siis tee muutoksia listaan, jota se tarkastelee. "
   ]
  },
  {
   "cell_type": "markdown",
   "metadata": {},
   "source": [
    "```Python\n",
    "l.count(x)\n",
    "```"
   ]
  },
  {
   "cell_type": "markdown",
   "metadata": {},
   "source": [
    "Tässä `l` on jokin lista. `l`:n perään kirjoitetaan `.count()`, mikä tarkoittaa että juuri tämän tietyn listan arvoja haluamme tarkastella. `x` voi olla mikä tahansa arvo, tai muuttuja, jonka määrän listassa `l` haluamme tietää. "
   ]
  },
  {
   "cell_type": "code",
   "execution_count": 51,
   "metadata": {},
   "outputs": [
    {
     "data": {
      "text/plain": [
       "3"
      ]
     },
     "execution_count": 51,
     "metadata": {},
     "output_type": "execute_result"
    }
   ],
   "source": [
    "numbers = [1, 2, 2, 2, 3]\n",
    "numbers.count(2)"
   ]
  },
  {
   "cell_type": "code",
   "execution_count": 52,
   "metadata": {},
   "outputs": [
    {
     "data": {
      "text/plain": [
       "2"
      ]
     },
     "execution_count": 52,
     "metadata": {},
     "output_type": "execute_result"
    }
   ],
   "source": [
    "colours = ['red', 'blue', 'yellow', 'black', 'blue']\n",
    "colours.count('blue')"
   ]
  },
  {
   "cell_type": "markdown",
   "metadata": {},
   "source": [
    "Seuraavista metodeista on tärkeä tiedostaa se, että ne tekevät muutoksia listoihin **ilman, että niitä täytyy tallentaa uudelleen johonkin muuttujaan.**"
   ]
  },
  {
   "cell_type": "markdown",
   "metadata": {},
   "source": [
    "### `append()`"
   ]
  },
  {
   "cell_type": "markdown",
   "metadata": {},
   "source": [
    "`append()`-funktio lisää yhden alkion lisään **listan loppuun**."
   ]
  },
  {
   "cell_type": "markdown",
   "metadata": {},
   "source": [
    "```python\n",
    "l.append(x)\n",
    "```"
   ]
  },
  {
   "cell_type": "markdown",
   "metadata": {},
   "source": [
    "Tässä `l` on jokin lista, jonka loppuun haluamme lisätä arvon. `l`:n perään kirjoitetaan `.append()`, mikä tarkoittaa että juuri tähän listaan haluamme lisätä arvon. `x` voi olla mikä tahansa arvo, tai muuttuja."
   ]
  },
  {
   "cell_type": "code",
   "execution_count": 53,
   "metadata": {},
   "outputs": [
    {
     "name": "stdout",
     "output_type": "stream",
     "text": [
      "['red', 'yellow', 'blue']\n"
     ]
    }
   ],
   "source": [
    "colours = []\n",
    "colours.append('red')\n",
    "colours.append('yellow')\n",
    "colours.append('blue')\n",
    "\n",
    "print(colours)"
   ]
  },
  {
   "cell_type": "markdown",
   "metadata": {},
   "source": [
    "`append()` lisää arvon aina listan loppuun, joten koodissa lisäysjärjestyksellä on väliä.\n",
    "\n",
    "Huomataan, että lista `colours` päivittyy ilman, että tallennamme sitä uuteen muuttujaan, kun käytämme `append()`-metodia.  "
   ]
  },
  {
   "cell_type": "markdown",
   "metadata": {},
   "source": [
    "### `remove()`"
   ]
  },
  {
   "cell_type": "markdown",
   "metadata": {},
   "source": [
    "`remove()` muistuttaa paljon `append()`:ia, mutta lisäämisen sijaan se poistaa alkion, jolla on parametrinä annettu arvo."
   ]
  },
  {
   "cell_type": "markdown",
   "metadata": {},
   "source": [
    "```Python\n",
    "l.remove(x)\n",
    "```"
   ]
  },
  {
   "cell_type": "markdown",
   "metadata": {},
   "source": [
    "Tässä `l` on jokin lista, josta haluamme poistaa arvon. `l`:n perään kirjoitetaan `.remove()`, mikä tarkoittaa että juuri tästä listasta haluamme poistaa arvon. `x` voi olla mikä tahansa arvo, tai muuttuja."
   ]
  },
  {
   "cell_type": "code",
   "execution_count": 54,
   "metadata": {},
   "outputs": [
    {
     "name": "stdout",
     "output_type": "stream",
     "text": [
      "['red', 'blue']\n"
     ]
    }
   ],
   "source": [
    "colours = ['red', 'yellow', 'blue']\n",
    "colours.remove('yellow')\n",
    "print(colours)"
   ]
  },
  {
   "cell_type": "markdown",
   "metadata": {},
   "source": [
    "Nyt merkkijono `'yellow'` poistettiin listasta. Poistetun arvon paikalle ei jää tyhjää aukkoa, vaan poistetun arvon oikealle puolella olevien alkioiden indeksi pienenee  yhdellä. "
   ]
  },
  {
   "cell_type": "markdown",
   "metadata": {},
   "source": [
    "**Tärkeä huomio!** `remove()` poistaa ainoastaan **ensimmäisen alkion, joka vastaa sille annettua arvoa**."
   ]
  },
  {
   "cell_type": "code",
   "execution_count": 55,
   "metadata": {},
   "outputs": [
    {
     "name": "stdout",
     "output_type": "stream",
     "text": [
      "['red', 'yellow', 'blue']\n"
     ]
    }
   ],
   "source": [
    "colours = ['red', 'blue', 'yellow', 'blue'] # Alustetaan lista\n",
    "colours.remove('blue') # Poistetaan ensimmäinen vastaantuleva 'blue'\n",
    "print(colours) # Tulostetaan lista"
   ]
  },
  {
   "cell_type": "markdown",
   "metadata": {},
   "source": [
    "Ylläolevasta esimerkistä huomataan, että yksi `'blue'` säilyy listassa, koska `remove()` poisti ainoastaan ensimmäisenä vastaan tulleen `'blue'`:n listaa läpikäydessä. Metodi lähtee käymään läpi listaa ensimmäisestä alkiosta, eli vasemmasta reunasta. "
   ]
  },
  {
   "cell_type": "markdown",
   "metadata": {},
   "source": [
    "Jos parametrina annettua arvoa ei vastaa yksikään alkio, syntyy virheilmoitus. "
   ]
  },
  {
   "cell_type": "code",
   "execution_count": 56,
   "metadata": {},
   "outputs": [
    {
     "ename": "ValueError",
     "evalue": "list.remove(x): x not in list",
     "output_type": "error",
     "traceback": [
      "\u001b[1;31m---------------------------------------------------------------------------\u001b[0m",
      "\u001b[1;31mValueError\u001b[0m                                Traceback (most recent call last)",
      "\u001b[1;32m<ipython-input-56-6491697a5000>\u001b[0m in \u001b[0;36m<module>\u001b[1;34m\u001b[0m\n\u001b[0;32m      1\u001b[0m \u001b[0mcolours\u001b[0m \u001b[1;33m=\u001b[0m \u001b[1;33m[\u001b[0m\u001b[1;34m'red'\u001b[0m\u001b[1;33m,\u001b[0m \u001b[1;34m'blue'\u001b[0m\u001b[1;33m,\u001b[0m \u001b[1;34m'yellow'\u001b[0m\u001b[1;33m,\u001b[0m \u001b[1;34m'blue'\u001b[0m\u001b[1;33m]\u001b[0m\u001b[1;33m\u001b[0m\u001b[1;33m\u001b[0m\u001b[0m\n\u001b[1;32m----> 2\u001b[1;33m \u001b[0mcolours\u001b[0m\u001b[1;33m.\u001b[0m\u001b[0mremove\u001b[0m\u001b[1;33m(\u001b[0m\u001b[1;34m'black'\u001b[0m\u001b[1;33m)\u001b[0m\u001b[1;33m\u001b[0m\u001b[1;33m\u001b[0m\u001b[0m\n\u001b[0m",
      "\u001b[1;31mValueError\u001b[0m: list.remove(x): x not in list"
     ]
    }
   ],
   "source": [
    "colours = ['red', 'blue', 'yellow', 'blue'] \n",
    "colours.remove('black')"
   ]
  },
  {
   "cell_type": "markdown",
   "metadata": {},
   "source": [
    "Nyt yritimme poistaa listasta arvoa, jota listassa ei ole, joten ruudulle tulostuu virheilmoitus. "
   ]
  },
  {
   "cell_type": "markdown",
   "metadata": {},
   "source": [
    "### `index()`"
   ]
  },
  {
   "cell_type": "markdown",
   "metadata": {},
   "source": [
    "`index()`-metodi palauttaa **ensimmäisen** indeksin, jonka arvo vastaa parametrina annettua lukua. "
   ]
  },
  {
   "cell_type": "markdown",
   "metadata": {},
   "source": [
    "```Python\n",
    "l.index(x)\n",
    "```"
   ]
  },
  {
   "cell_type": "markdown",
   "metadata": {},
   "source": [
    "Tässä `l` on jokin lista, josta arvoa haluamme etsiä. `x` voi olla mikä tahansa arvo, tai muuttuja, jonka indeksin listassa `l` haluamme tietää. "
   ]
  },
  {
   "cell_type": "code",
   "execution_count": 57,
   "metadata": {},
   "outputs": [
    {
     "name": "stdout",
     "output_type": "stream",
     "text": [
      "2\n"
     ]
    }
   ],
   "source": [
    "a = [5, 7, 10, 200, 1]\n",
    "print(a.index(10))"
   ]
  },
  {
   "cell_type": "markdown",
   "metadata": {},
   "source": [
    "Arvoa kymmenen vastasi indeksi `2` listassa `a`. "
   ]
  },
  {
   "cell_type": "markdown",
   "metadata": {},
   "source": [
    "Myös `index()`-metodi palauttaa virheen, mikäli etsittävää arvoa ei löydy listasta."
   ]
  },
  {
   "cell_type": "code",
   "execution_count": 58,
   "metadata": {},
   "outputs": [
    {
     "ename": "ValueError",
     "evalue": "20 is not in list",
     "output_type": "error",
     "traceback": [
      "\u001b[1;31m---------------------------------------------------------------------------\u001b[0m",
      "\u001b[1;31mValueError\u001b[0m                                Traceback (most recent call last)",
      "\u001b[1;32m<ipython-input-58-ccd0a6311563>\u001b[0m in \u001b[0;36m<module>\u001b[1;34m\u001b[0m\n\u001b[0;32m      1\u001b[0m \u001b[0ma\u001b[0m \u001b[1;33m=\u001b[0m \u001b[1;33m[\u001b[0m\u001b[1;36m5\u001b[0m\u001b[1;33m,\u001b[0m \u001b[1;36m7\u001b[0m\u001b[1;33m,\u001b[0m \u001b[1;36m10\u001b[0m\u001b[1;33m,\u001b[0m \u001b[1;36m200\u001b[0m\u001b[1;33m,\u001b[0m \u001b[1;36m1\u001b[0m\u001b[1;33m]\u001b[0m\u001b[1;33m\u001b[0m\u001b[1;33m\u001b[0m\u001b[0m\n\u001b[1;32m----> 2\u001b[1;33m \u001b[0mprint\u001b[0m\u001b[1;33m(\u001b[0m\u001b[0ma\u001b[0m\u001b[1;33m.\u001b[0m\u001b[0mindex\u001b[0m\u001b[1;33m(\u001b[0m\u001b[1;36m20\u001b[0m\u001b[1;33m)\u001b[0m\u001b[1;33m)\u001b[0m\u001b[1;33m\u001b[0m\u001b[1;33m\u001b[0m\u001b[0m\n\u001b[0m",
      "\u001b[1;31mValueError\u001b[0m: 20 is not in list"
     ]
    }
   ],
   "source": [
    "a = [5, 7, 10, 200, 1]\n",
    "print(a.index(20))"
   ]
  },
  {
   "cell_type": "markdown",
   "metadata": {},
   "source": [
    "### `insert()`"
   ]
  },
  {
   "cell_type": "markdown",
   "metadata": {},
   "source": [
    "`insert()`:in avulla voidaan lisätä tietty arvo tiettyyn kohtaan listaa."
   ]
  },
  {
   "cell_type": "markdown",
   "metadata": {},
   "source": [
    "```Python\n",
    "l.insert(i,x)\n",
    "```"
   ]
  },
  {
   "cell_type": "markdown",
   "metadata": {},
   "source": [
    "Tässä `l` on jokin lista, johon haluamme lisätä alkion. `x` voi olla mikä tahansa arvo, tai muuttuja, jonka haluamme laittaa listan indeksin `i` paikalle. Metodi ei poista vanhaa indeksillä `i` olevaa arvoa, vaan kasvattaa tämän ja seuraavien alkioiden indeksiä yhdellä. "
   ]
  },
  {
   "cell_type": "code",
   "execution_count": 59,
   "metadata": {},
   "outputs": [
    {
     "name": "stdout",
     "output_type": "stream",
     "text": [
      "['Markus', 'Milla', 'Olli', 'Topi', 'Kaisa']\n"
     ]
    }
   ],
   "source": [
    "names = [\"Markus\", \"Milla\", \"Topi\", \"Kaisa\"]\n",
    "names.insert(2, \"Olli\")\n",
    "print(names)"
   ]
  },
  {
   "cell_type": "markdown",
   "metadata": {},
   "source": [
    "Lisättiin onnistuneesti listan `names` indeksiin 2 merkkijono `\"Olli\"`. Aikaisemmin indeksillä `2` ollut arvo siirtyi siis yhden paikan eteenpäin listassa, eikä sitä korvattu tällä uudella arvolla. "
   ]
  },
  {
   "cell_type": "markdown",
   "metadata": {},
   "source": [
    "Jos indeksiä, johon arvoa yritään sijoittaa, ei listassa ole olemassa, lisätään alkio listan loppuun. "
   ]
  },
  {
   "cell_type": "code",
   "execution_count": 60,
   "metadata": {},
   "outputs": [
    {
     "name": "stdout",
     "output_type": "stream",
     "text": [
      "['Markus', 'Milla', 'Topi', 'Kaisa', 'Olli']\n"
     ]
    }
   ],
   "source": [
    "names = [\"Markus\", \"Milla\", \"Topi\", \"Kaisa\"]\n",
    "names.insert(200, \"Olli\")\n",
    "print(names)"
   ]
  },
  {
   "cell_type": "markdown",
   "metadata": {},
   "source": [
    "Vastaavasti, jos käytetään negatiivista alkiota, joka on liian pieni, arvo lisätään listan alkuun."
   ]
  },
  {
   "cell_type": "code",
   "execution_count": 61,
   "metadata": {},
   "outputs": [
    {
     "name": "stdout",
     "output_type": "stream",
     "text": [
      "['Olli', 'Markus', 'Milla', 'Topi', 'Kaisa']\n"
     ]
    }
   ],
   "source": [
    "names = [\"Markus\", \"Milla\", \"Topi\", \"Kaisa\"]\n",
    "names.insert(-50, \"Olli\")\n",
    "print(names)"
   ]
  },
  {
   "cell_type": "markdown",
   "metadata": {},
   "source": [
    "### `pop()`"
   ]
  },
  {
   "cell_type": "markdown",
   "metadata": {},
   "source": [
    "`pop()`-metodilla voidaan poistaa tietyssä kohtaa listaa oleva alkio, ja tallentaa se muistiin. Metodi siis palauttaa poistetun arvon."
   ]
  },
  {
   "cell_type": "markdown",
   "metadata": {},
   "source": [
    "```Python\n",
    "l.pop(i)\n",
    "```"
   ]
  },
  {
   "cell_type": "markdown",
   "metadata": {},
   "source": [
    "Tässä `l` on jokin lista, josta haluamme poistaa alkion. `i` on indeksi, jota vastaavan alkion haluamme listasta poistaa. Jos indeksiä ei anneta, poistetaan viimeinen alkio listasta. \n",
    "\n",
    "Niin kuin `remove()`:ssa, ei poistetun alkion tilalle jää aukkoa, vaan poistetun alkion jälkeen tulevien alkioiden indeksi pienenee yhdellä. "
   ]
  },
  {
   "cell_type": "code",
   "execution_count": 62,
   "metadata": {},
   "outputs": [
    {
     "name": "stdout",
     "output_type": "stream",
     "text": [
      "20\n",
      "[1, 6, 79, 205]\n"
     ]
    }
   ],
   "source": [
    "numbers = [1, 6, 20, 79, 205]\n",
    "removed_number = numbers.pop(2)\n",
    "print(removed_number)\n",
    "print(numbers)"
   ]
  },
  {
   "cell_type": "markdown",
   "metadata": {},
   "source": [
    "Nyt poistettu numero tallennettiin muuttujaan `removed_number`. Tämä muuttuja sekä lista `numbers` tulostettiin, josta voidaan nähdä, että indeksiä 2 vastaava luku, eli luku `20`, on poistettu. Sama luku tallentui muuttujaan `removed_number`."
   ]
  },
  {
   "cell_type": "markdown",
   "metadata": {},
   "source": [
    "#### HARJOITUS 4"
   ]
  },
  {
   "cell_type": "markdown",
   "metadata": {},
   "source": [
    "Sinulle on annettuna muuttuja `l`, joka on lista, missä on numeerisia arvoja. Älä muuta riviä 1. Suorita seuraavat operaatiot listalle käyttäen listan metodeja:\n",
    "\n",
    "- Tulosta kuinka montaa luku `0` esiintyy listassa `l`\n",
    "- Lisää listan loppuun kokonaisluku `75`, jonka jälkeen tulosta lista\n",
    "- Poista listasta ensimmäinen alkio arvolla `6`, jonka jälkeen tulosta lista\n",
    "- Tulosta, mikä on listassa olevan arvon `9` indeksi\n",
    "- Lisää listaan indeksille `3` luku `100`, jonka jälkeen tulosta lista\n",
    "- Poista listasta indeksillä `6` oleva arvo, ja tallenna se erilliseen muuttujaan. Tulosta tämä muuttuja, sekä lista `l`"
   ]
  },
  {
   "cell_type": "code",
   "execution_count": 66,
   "metadata": {},
   "outputs": [
    {
     "name": "stdout",
     "output_type": "stream",
     "text": [
      "4\n",
      "[1, 6, 0, 2, 2, 7, 0, 0, 9, 6, 0, 2, 5, 1, 75]\n",
      "[1, 0, 2, 2, 7, 0, 0, 9, 6, 0, 2, 5, 1, 75]\n",
      "7\n",
      "[1, 0, 2, 3, 2, 7, 0, 0, 9, 6, 0, 2, 5, 1, 75]\n",
      "0\n",
      "[1, 0, 2, 3, 2, 7, 0, 9, 6, 0, 2, 5, 1, 75]\n"
     ]
    }
   ],
   "source": [
    "l = [1, 6, 0, 2, 2, 7, 0, 0, 9, 6, 0, 2, 5, 1]\n",
    "print(l.count(0))\n",
    "\n",
    "l.append(75)\n",
    "print(l)\n",
    "\n",
    "l.remove(6)\n",
    "print(l)\n",
    "\n",
    "print(l.index(9))\n",
    "\n",
    "l.insert(3, 3)\n",
    "print(l)\n",
    "\n",
    "popped_value = l.pop(6)\n",
    "print(popped_value)\n",
    "print(l)"
   ]
  },
  {
   "cell_type": "markdown",
   "metadata": {},
   "source": [
    "## Listat ja silmukat"
   ]
  },
  {
   "cell_type": "markdown",
   "metadata": {},
   "source": [
    "Listat toimivat hyvin silmukoiden kanssa. Varsinkin `for`-silmukka ja listat toimivat Pythonissa erityisen hyvin yhdessä. Katsotaan kuitenkin ensiksi, miten luodaan lista `while`-silmukalla."
   ]
  },
  {
   "cell_type": "markdown",
   "metadata": {},
   "source": [
    "#### Esimerkki"
   ]
  },
  {
   "cell_type": "code",
   "execution_count": 67,
   "metadata": {},
   "outputs": [
    {
     "name": "stdout",
     "output_type": "stream",
     "text": [
      "[0, 3, 6, 9, 12, 15, 18, 21, 24, 27]\n"
     ]
    }
   ],
   "source": [
    "numbers_of_three = []\n",
    "i = 0\n",
    "n = 10\n",
    "while i < n:\n",
    "    numbers_of_three.append(3 * i)\n",
    "    i+=1\n",
    "print(numbers_of_three)"
   ]
  },
  {
   "cell_type": "markdown",
   "metadata": {},
   "source": [
    "- Rivi 1: Luodaan tyhjä lista `numbers_of_three`\n",
    "- Rivi 2: Laitetaan muuttujan `i` arvoksi `0`\n",
    "- Rivi 3: Laitetaan muuttujan `n` arvoksi `10`\n",
    "- Rivi 4: Aloitetaan `while`-silmukka, käytetään ehtona vertailua `i < n`\n",
    "- Rivi 5: Lisätään rivillä 1 luotuun listaan arvo `3 * i`.\n",
    "- Rivi 6: Kasvatetaan `i`:tä yhdellä\n",
    "- Rivi 7: Tulostetaan lista, kun `while`-silmukasta päästään pois"
   ]
  },
  {
   "cell_type": "markdown",
   "metadata": {},
   "source": [
    "Sama `for`-silmukalla:"
   ]
  },
  {
   "cell_type": "markdown",
   "metadata": {},
   "source": [
    "#### Esimerkki"
   ]
  },
  {
   "cell_type": "code",
   "execution_count": 68,
   "metadata": {},
   "outputs": [
    {
     "name": "stdout",
     "output_type": "stream",
     "text": [
      "[0, 3, 6, 9, 12, 15, 18, 21, 24, 27]\n"
     ]
    }
   ],
   "source": [
    "numbers_of_three = []\n",
    "n = 10\n",
    "for i in range(n):\n",
    "    numbers_of_three.append(3 * i)\n",
    "print(numbers_of_three)"
   ]
  },
  {
   "cell_type": "markdown",
   "metadata": {},
   "source": [
    "- Rivi 1: Luodaan tyhjä lista\n",
    "- Rivi 2: Laitetaan muuttujan `n` arvoksi `10`\n",
    "- Rivi 3: Aloitetaan `for`-silmukka, käydään läpi numerot 0-9 (koska `n` = 10)\n",
    "- Rivi 4: Lisätään rivillä 1 luotuun listaan arvo `3 * i`.\n",
    "- Rivi 5: Tulostetaan lista"
   ]
  },
  {
   "cell_type": "markdown",
   "metadata": {},
   "source": [
    "#### HARJOITUS  5"
   ]
  },
  {
   "cell_type": "markdown",
   "metadata": {},
   "source": [
    "Luo ohjelma, joka lisää käyttäjän syöttämiä positiivisia desimaalinumeroita listaan, niin kauan kunnes käyttäjä syöttää negatiivisen luvun. Listaan lisätään viimeisenä tämä negatiivinen luku, ja tämän jälkeen ohjelma tulostaa listan kokonaisuudessan. Alla esimerkki ohjelman toiminnasta. (Tuloste)\n",
    "\n",
    "```\n",
    "Add a number to the list:\n",
    "1.5\n",
    "Add a number to the list:\n",
    "5.2\n",
    "Add a number to the list:\n",
    "6\n",
    "Add a number to the list:\n",
    "-2\n",
    "The list: [1.5, 5.2, 6.0, -2.0]\n",
    "\n",
    "```"
   ]
  },
  {
   "cell_type": "code",
   "execution_count": 1,
   "metadata": {},
   "outputs": [
    {
     "name": "stdout",
     "output_type": "stream",
     "text": [
      "Add a decimal number to the list:\n",
      "5\n",
      "Add a decimal number to the list:\n",
      "6\n",
      "Add a decimal number to the list:\n",
      "3\n",
      "Add a decimal number to the list:\n",
      "-4\n",
      "[5.0, 6.0, 3.0, -4.0]\n"
     ]
    }
   ],
   "source": [
    "l = []\n",
    "\n",
    "#n = 4\n",
    "#for i in range(n):      \n",
    " #   i = input(str('Add a decimal number to the list:\\n'))\n",
    "  #  l.append(1 * i)\n",
    "    \n",
    "#print(l)\n",
    "i = 0\n",
    "while i == 0:\n",
    "    x =float(input('Add a decimal number to the list:\\n'))\n",
    "    l.append(x)\n",
    "    if x < 0:\n",
    "        break\n",
    "\n",
    "print(l) "
   ]
  },
  {
   "cell_type": "markdown",
   "metadata": {},
   "source": [
    "#### HARJOITUS 6"
   ]
  },
  {
   "cell_type": "markdown",
   "metadata": {},
   "source": [
    "Alusta tyhjä lista. Käyttäen `for`-silmukkaa ja `range()`-funktiota, lisää listaan ensimmäiset 20 parillista lukua, alkaen luvulla `2`. Lopuksi tulosta lista. (Tuloste)"
   ]
  },
  {
   "cell_type": "code",
   "execution_count": 106,
   "metadata": {},
   "outputs": [
    {
     "name": "stdout",
     "output_type": "stream",
     "text": [
      "[2, 4, 6, 8, 10, 12, 14, 16, 18, 20]\n"
     ]
    }
   ],
   "source": [
    "l = []\n",
    "n = 21\n",
    "for i in range(2, n):\n",
    "    if i %2 == 0:\n",
    "        l.append(1 * i)\n",
    "\n",
    "print(l)"
   ]
  },
  {
   "cell_type": "markdown",
   "metadata": {},
   "source": [
    "### Listat ja  `for`"
   ]
  },
  {
   "cell_type": "markdown",
   "metadata": {},
   "source": [
    "\n",
    "Pythonissa listojen läpikäyminen on tehty helpoksi `for`-silmukan avulla. Pythonissa listaa voi käyttää aivan niin kuin `range()` funktiota."
   ]
  },
  {
   "cell_type": "markdown",
   "metadata": {},
   "source": [
    "#### Esimerkki"
   ]
  },
  {
   "cell_type": "code",
   "execution_count": null,
   "metadata": {},
   "outputs": [],
   "source": [
    "weekdays = ['Monday','Tuesday','Wednesday','Thursday','Friday','Saturday','Sunday']\n",
    "for day in weekdays:\n",
    "    print('Today is',day)"
   ]
  },
  {
   "cell_type": "markdown",
   "metadata": {},
   "source": [
    "`for`-silmukalla voidaan siis käydä lista suoraan läpi, ja `for`-silmukan luoma muuttuja (tässä tapauksessa `day`) käy listan alkiot läpi yksitellen."
   ]
  },
  {
   "cell_type": "markdown",
   "metadata": {},
   "source": [
    "#### Esimerkki"
   ]
  },
  {
   "cell_type": "code",
   "execution_count": 1,
   "metadata": {},
   "outputs": [
    {
     "name": "stdout",
     "output_type": "stream",
     "text": [
      "[2, 10, 4, 156, -10]\n"
     ]
    }
   ],
   "source": [
    "numbers = [1,5,2,78,-5]\n",
    "new_numbers = []\n",
    "for number in numbers:\n",
    "    new_number = number*2\n",
    "    new_numbers.append(new_number)\n",
    "    \n",
    "print(new_numbers)"
   ]
  },
  {
   "cell_type": "markdown",
   "metadata": {},
   "source": [
    "Esimerkissä `for`-silmukan sisällä muuttuja `number` saa yksitellen aina yhden `numbers` listan alkion arvon. Laskemme `number*2` ja sijoittaa sen uuteen muuttujaan `new_number`. `new_number` lisätään tyhjäksi luotuun listaan `new_numbers`. Lopuksi tulostamme listan, joka sisältää alkuperäisen listan kaikki arvot kerrottuna kahdella."
   ]
  },
  {
   "cell_type": "markdown",
   "metadata": {},
   "source": [
    "#### HARJOITUS 7"
   ]
  },
  {
   "cell_type": "markdown",
   "metadata": {},
   "source": [
    "Annettuna on lista `l`. Luo ohjelma, joka käy läpi listan jokaisen arvon, ja tulostaa sen. Käytä `for - in -` rakennetta. (Tuloste)."
   ]
  },
  {
   "cell_type": "code",
   "execution_count": 114,
   "metadata": {},
   "outputs": [
    {
     "name": "stdout",
     "output_type": "stream",
     "text": [
      "1\n",
      "2\n",
      "7\n",
      "hello\n"
     ]
    }
   ],
   "source": [
    "l = [1, 2, 7, 'hello']\n",
    "   #why no variable was assigned\n",
    "for numbers in l:\n",
    "        print(numbers)    "
   ]
  },
  {
   "cell_type": "markdown",
   "metadata": {},
   "source": [
    "#### Esimerkki: Funktio palauttaa listan"
   ]
  },
  {
   "cell_type": "code",
   "execution_count": 53,
   "metadata": {},
   "outputs": [
    {
     "name": "stdout",
     "output_type": "stream",
     "text": [
      "[0, 1, 2, 3, 4, 5, 6]\n",
      "[0, 1, 2]\n"
     ]
    }
   ],
   "source": [
    "def create_list(n):\n",
    "    list_of_numbers = []\n",
    "    for i in range(n):\n",
    "        list_of_numbers.append(i)\n",
    "    return list_of_numbers\n",
    "\n",
    "list1 = create_list(7)\n",
    "list2 = create_list(3)\n",
    "print(list1)\n",
    "print(list2)"
   ]
  },
  {
   "cell_type": "markdown",
   "metadata": {},
   "source": [
    "Yllä olevassa esimerkissä luodaan funktio, joka palauttaa listan, joka koostuu 0:sta ylöspäin kasvavista numeroista, aina `n - 1` asti. Pääohjelmassa funktion palauttama lista sijoitetaan muuttujaan.\n",
    "\n",
    "- Rivi 1: Määritellään funktio `create_list()`, joka tarvitsee yhden parametrin: `n`\n",
    "- Rivi 2: Funktion sisällä luodaan tyhjä lista ja sijoitetaan se muuttujaan `list_of_numbers`. \n",
    "- Rivi 3: Aloitetaan `for`-silmukka. Silmukassa arvo `i` käy läpi kokonaisluvut `0 - (n-1)`\n",
    "- Rivi 4: Lisätään listan `list_of_numbers` loppuun `i`:n arvo `append()`-metodilla\n",
    "- Rivi 5: **Palautetaan** lista `list_of_numbers`\n",
    "- Rivi 6: (Ei-pakollinen) Tyhjä rivi selkeyttää koodia\n",
    "- Rivi 7: Kutsutaan funktiota arvolla `7`, ja sijoitetaan palautusarvo (eli lista) muuttujaan `list1`\n",
    "- Rivi 8: Kutsutaan funktiota uudelleen arvolla `3`, ja sijoitetaan palautusarvo muuttujaan `list2`\n",
    "- Rivi 9-10: Tulostetaan muuttujien `list1`ja `list2` arvot.      \n",
    "\n"
   ]
  },
  {
   "cell_type": "markdown",
   "metadata": {},
   "source": [
    "### Listat ja funktiot"
   ]
  },
  {
   "cell_type": "markdown",
   "metadata": {},
   "source": [
    "Luvussa 4 kävimme läpi miten funktiot toimivat. Jos tietoa halutaan välittää funktiosta takaisin sinne, missä funktiota on kutsuttu, tulee käyttää `return` komentoa. **Listojen kohdalla näin ei kuitenkaan aina tarvitse tehdä!**\n",
    "\n",
    "Jos parametrinä annettu lista pysyy samassa muuttujassa funktion ajon aikana, tallentuu siihen tehdyt muutokset myös pääohjelmassa. "
   ]
  },
  {
   "cell_type": "code",
   "execution_count": 54,
   "metadata": {},
   "outputs": [
    {
     "name": "stdout",
     "output_type": "stream",
     "text": [
      "First print: [1, 2, 3, 4]\n",
      "Second print: [-1, 2, 3, 4, 9]\n",
      "Third print: [-1, 2, 3, 4, 9]\n"
     ]
    }
   ],
   "source": [
    "def test_function(l):\n",
    "    print(\"First print:\", l)\n",
    "    l[0] = -1\n",
    "    l.append(9)\n",
    "    print(\"Second print:\", l)\n",
    "    \n",
    "\n",
    "test = [1,2,3,4]\n",
    "test_function(test)\n",
    "print(\"Third print:\", test)"
   ]
  },
  {
   "cell_type": "markdown",
   "metadata": {},
   "source": [
    "Ylläolevassa esimerkissä luodaan pääohjelmassa lista `test`, jossa on 4 arvoa. Tämä lista annetaan parametrinä funktiolle `test_function`. \n",
    "\n",
    "Funktiossa tallennetaan parametrina saatu lista muuttujaan `l`. \n",
    "\n",
    "Tulostetaan lista `l`, jonka jälkeen sen ensimmäisen alkion arvoksi annetaan luku `-1`. Sitten listan loppuun lisätään arvo `9` `append()`-metodilla. Tulostetaan `l`, jotta nähdään tehdyt muutokset. Tämän jälkeen funktion suoritus päättyy. Funktio ei siis palauta mitään. \n",
    "\n",
    "Pääohjelmassa tulostetaan vielä lista `test`, jotta voidaan nähdä, ovatko funktiossa parametriin `l` tehdyt muutokset siirtyneet pääohjelmassa olevaan listaan.\n",
    "\n",
    "Muutokset löytyvät myös listasta `test`, niin kuin pitääkin.  "
   ]
  },
  {
   "cell_type": "markdown",
   "metadata": {},
   "source": [
    "Funktio voi myös palauttaa `return` käskyn avulla jotain muuta tietoa, muutokset listaan siirtyvät silti. Tämä saattaa olla hyödyllistä joissain tapauksissa."
   ]
  },
  {
   "cell_type": "code",
   "execution_count": 55,
   "metadata": {},
   "outputs": [
    {
     "name": "stdout",
     "output_type": "stream",
     "text": [
      "First print: [1, 2, 3, 4]\n",
      "Second print: [-1, 2, 3, 4, 9]\n",
      "Third print: [-1, 2, 3, 4, 9]\n",
      "Return value of the function: True\n"
     ]
    }
   ],
   "source": [
    "def test_function(l):\n",
    "    print(\"First print:\", l)\n",
    "    l[0] = -1\n",
    "    l.append(9)\n",
    "    print(\"Second print:\", l)\n",
    "    return True\n",
    "\n",
    "test = [1,2,3,4]\n",
    "return_value = test_function(test)\n",
    "print(\"Third print:\", test)\n",
    "print(\"Return value of the function:\", return_value)"
   ]
  },
  {
   "cell_type": "markdown",
   "metadata": {},
   "source": [
    "Jos funktio kuitenkin luo uuden listan, tulee tämä luotu lista palauttaa:"
   ]
  },
  {
   "cell_type": "code",
   "execution_count": null,
   "metadata": {},
   "outputs": [],
   "source": [
    "def create_list(num):\n",
    "    l = []\n",
    "    for i in range(num):\n",
    "        l.append(i)\n",
    "    return l\n",
    "\n",
    "num = 6\n",
    "l = create_list(6)\n",
    "print(l)"
   ]
  },
  {
   "cell_type": "markdown",
   "metadata": {},
   "source": [
    "Voit kokeilla mitä tapahtuu, jos funktiosta `create_list` jätetään pois `return l` komento."
   ]
  },
  {
   "cell_type": "markdown",
   "metadata": {},
   "source": [
    "**Esimerkkiohjelma 1:** Funktio muuttaa listan arvoja"
   ]
  },
  {
   "cell_type": "markdown",
   "metadata": {},
   "source": [
    "Tässä esimerkissä funktio ei luo listaa, **vaan muuttaa parametrinä annettua listaa**."
   ]
  },
  {
   "cell_type": "code",
   "execution_count": 73,
   "metadata": {},
   "outputs": [
    {
     "name": "stdout",
     "output_type": "stream",
     "text": [
      "Animals before the function: ['cat', 'dog', 'zebra']\n",
      "Animals after the function: ['mouse', 'dog', 'zebra']\n"
     ]
    }
   ],
   "source": [
    "def change_first(input_list):\n",
    "    input_list[0] = 'mouse'\n",
    "\n",
    "animals = ['cat', 'dog', 'zebra']\n",
    "print('Animals before the function:',animals)\n",
    "change_first(animals)\n",
    "print('Animals after the function:',animals)"
   ]
  },
  {
   "cell_type": "markdown",
   "metadata": {},
   "source": [
    "- Rivi 1: Aloitetaan funktio `change_first()`, joka ottaa yhden parametrin, ja se nimetään `input_list`:iksi.\n",
    "- Rivi 2: Funktion ainoa käsky. Oletetaan, että `input_list` on lista, ja muutetaan sen ensimmäinen alkio merkkijonoksi `'mouse'`.\n",
    "- Rivi 3: Tyhjä rivi selkeyden vuoksi.\n",
    "- Rivi 4: Luodaan lista `animals`, joka koostuu merkkijonoista.\n",
    "- Rivi 5: Tulostetaan lista `animals` ennen kuin kutsumme funktiota.\n",
    "- Rivi 6: Kutsutaan funktiota `change_first` antamalla sille parametriksi luotu lista `animals`\n",
    "- Rivi 7: Tulostetaan lista `animals` funktion kutsumisen jälkeen.\n",
    "\n",
    "Ensimmäinen arvo listassa `animals` on siis muuttunut, vaikka emme tallenna mitään, eikä funktio `change_first()` palauta mitään arvoa.\n",
    "\n",
    "Voit kokeilla kirjoittaa palautuskomennon funktioon `change_first()`, tallentaa sen palauttaman arvon pääohjelmassa sekä printata sen. Lopputulos on tällöin sama. Eli mikään ei siis estä listan palauttamista, vaikka niin ei välttämättä tarvitsisi tehdä. "
   ]
  },
  {
   "cell_type": "markdown",
   "metadata": {},
   "source": [
    "Muutamia huomionarvoisia seikkoja:\n",
    "- Koodin luettavuuden kannalta funktiot on hyvä pitää erillään muista toiminnallisuuksista, ja usein ne on hyvä laittaa ohjelman alkuun, ennen kuin muita muuttujia nimetään tai arvoja tulostetaan.\n",
    "- Koodin luettavuuden ja seurattavuuden kannalta on suositeltavaa tehdä arvoja palauttavia funktioita, mutta kaikissa tapauksissa ei ole välttämätöntä kirjoittaa `return` käskyä, jotta funktion tekemät muutokset siirtyvät sinne, missä funktiota on kutsuttu."
   ]
  },
  {
   "cell_type": "markdown",
   "metadata": {},
   "source": [
    "#### HARJOITUS 8"
   ]
  },
  {
   "cell_type": "markdown",
   "metadata": {},
   "source": [
    "Tee ohjelma, jossa on seuraavat asiat:\n",
    "- Funktio, joka ottaa parametriksi kokonaisluvun, ja palauttaa listan. Funktio luo listan, jossa on parametrinä annetun kokonaisluvun verran kakkosen kertotaulun arvoja suuruusjärjestyksessä, alkaen nollasta.\n",
    "- Kutsu funktiota eri arvoilla, ja tulosta palautettujen listojen arvot. (Tuloste)\n",
    "\n",
    "Alla esimerkki ohjelman tulostuksesta, kun parametri on luku `5`:\n",
    "\n",
    "```\n",
    "[0, 2, 4, 6, 8]\n",
    "```"
   ]
  },
  {
   "cell_type": "code",
   "execution_count": 118,
   "metadata": {},
   "outputs": [
    {
     "name": "stdout",
     "output_type": "stream",
     "text": [
      "[0, 2, 4, 6, 8, 10]\n"
     ]
    }
   ],
   "source": [
    "def number(num_x):\n",
    "    num_x = int(num_x)\n",
    "    l = []\n",
    "    for i in range(num_x):\n",
    "        l.append(i * 2) \n",
    "    return l\n",
    "\n",
    "num_x = 6\n",
    "l = number(num_x)\n",
    "print(l)"
   ]
  },
  {
   "cell_type": "markdown",
   "metadata": {},
   "source": [
    "## Listaoperaatiot"
   ]
  },
  {
   "cell_type": "markdown",
   "metadata": {},
   "source": [
    "Listojen muokattavuutta auttavat Pythonin kompaktit listaoperaatiot. Näitä ovat:\n",
    "- Listojen liittämien ja moninkertaistaminen\n",
    "- Slicing\n"
   ]
  },
  {
   "cell_type": "markdown",
   "metadata": {},
   "source": [
    "### Listojen liittämien ja moninkertaistaminen"
   ]
  },
  {
   "cell_type": "markdown",
   "metadata": {},
   "source": [
    "Listoja pystyy yhdistelemään `+`-operaatiolla:"
   ]
  },
  {
   "cell_type": "code",
   "execution_count": null,
   "metadata": {},
   "outputs": [],
   "source": [
    "animals = ['Dog', 'Cat', 'Mouse']\n",
    "numbers = [1, 2, 3]\n",
    "animals_and_numbers = animals + numbers\n",
    "print(animals_and_numbers)"
   ]
  },
  {
   "cell_type": "markdown",
   "metadata": {},
   "source": [
    "`+`-operaatio ei muuta alkuperäisiä listoja, vaan palauttaa yhdistelmän, joten yllä olevassa esimerkissä se tallennetaan muuttujaan."
   ]
  },
  {
   "cell_type": "markdown",
   "metadata": {},
   "source": [
    "Listoja voi myös moninkertaistaa `*`-operaatiolla. Tällöin lista kerrotaan jollain kokonaisluvulla:"
   ]
  },
  {
   "cell_type": "code",
   "execution_count": null,
   "metadata": {
    "scrolled": true
   },
   "outputs": [],
   "source": [
    "a = [1,2,'Banana']\n",
    "b = a * 3\n",
    "c = 3 * a\n",
    "print(b)\n",
    "print(c)"
   ]
  },
  {
   "cell_type": "markdown",
   "metadata": {},
   "source": [
    "Myös `*`-operaatio palauttaa uuden listan eikä muokkaa alkuperäisiä. Kuten esimerkistä käy ilmi, ei ole väliä, kirjoittako `numero * lista` vai `lista * numero`."
   ]
  },
  {
   "cell_type": "markdown",
   "metadata": {},
   "source": [
    "Usein on kätevää alustaa lista myöhempää käyttöä varten täyttämällä se tilapäisesti esimerkiksi nollilla käyttämällä`*`-operaatiolla:"
   ]
  },
  {
   "cell_type": "code",
   "execution_count": 82,
   "metadata": {},
   "outputs": [
    {
     "name": "stdout",
     "output_type": "stream",
     "text": [
      "[0, 0, 0, 0, 0, 0, 0, 0, 0, 0]\n"
     ]
    }
   ],
   "source": [
    "a = [0]*10\n",
    "print(a)"
   ]
  },
  {
   "cell_type": "markdown",
   "metadata": {},
   "source": [
    "#### HARJOITUS 9"
   ]
  },
  {
   "cell_type": "markdown",
   "metadata": {},
   "source": [
    "Luo 50 alkion lista, jonka kaikki arvot ovat `1`. (Lista)"
   ]
  },
  {
   "cell_type": "code",
   "execution_count": 83,
   "metadata": {},
   "outputs": [
    {
     "name": "stdout",
     "output_type": "stream",
     "text": [
      "[1, 1, 1, 1, 1, 1, 1, 1, 1, 1, 1, 1, 1, 1, 1, 1, 1, 1, 1, 1, 1, 1, 1, 1, 1, 1, 1, 1, 1, 1, 1, 1, 1, 1, 1, 1, 1, 1, 1, 1, 1, 1, 1, 1, 1, 1, 1, 1, 1, 1]\n"
     ]
    }
   ],
   "source": [
    "a = [1]*50\n",
    "print(a)"
   ]
  },
  {
   "cell_type": "markdown",
   "metadata": {},
   "source": [
    "### Slicing"
   ]
  },
  {
   "cell_type": "markdown",
   "metadata": {},
   "source": [
    "Erittäin nopea ja kätevä tapa käsitellä listoja on **Slice**-operaatiot. Slice-operaation avulla voidaan paloitella listoja. Slice-operaatioiden käyttö muistuttaa indeksillä hakemista, mutta **Slice-operaatiot palauttavat aina uuden listan**."
   ]
  },
  {
   "cell_type": "markdown",
   "metadata": {},
   "source": [
    "```python\n",
    "lista[alku:loppu:askel]\n",
    "```"
   ]
  },
  {
   "cell_type": "markdown",
   "metadata": {},
   "source": [
    "Slice-operaatio tehdään samalla tyylillä kuin indeksillä hakeminen: listan jälkeen hakasulkujen sisälle laitetaan arvot `alku`, `loppu`ja `askel`. Slice-operaatioiden logiikka muistuttaa `range()`-funktiota."
   ]
  },
  {
   "cell_type": "markdown",
   "metadata": {},
   "source": [
    "Slice palauttaa listan, joka alkaa indeksistä `alku`, loppuu ennen indeksiä `loppu`, ja jonka askelpituus ja suunta on `askel`. Käytetään listaa numeroita esimerkkinä:"
   ]
  },
  {
   "cell_type": "code",
   "execution_count": null,
   "metadata": {},
   "outputs": [],
   "source": [
    "numbers = [1, 2, 3, 4, 5, 6, 7]"
   ]
  },
  {
   "cell_type": "markdown",
   "metadata": {},
   "source": [
    "Aloitetaan käyttämällä slicea ilman `askel`:ta, eli pelkästään määritelemällä uuden listan alku ja/tai loppu"
   ]
  },
  {
   "cell_type": "code",
   "execution_count": null,
   "metadata": {},
   "outputs": [],
   "source": [
    "numbers = [1, 2, 3, 4, 5, 6, 7]\n",
    "numbers[0:2]"
   ]
  },
  {
   "cell_type": "markdown",
   "metadata": {},
   "source": [
    "Yllä oleva Slice-operaatio palauttaa listasta `numbers` muunnelman, joka sisältää ainoastaan ainoastaan arvot, joiden indeksit ovat välillä `0-1` (koska niin kuin `range()`:ssa, ainoastaan arvot **ennen `loppu`:a sisällytetään**)."
   ]
  },
  {
   "cell_type": "markdown",
   "metadata": {},
   "source": [
    "Jos `alku` on `0`, tai `loppu` on listan pituus, voidaan ne jättää kirjoittamatta kokonaan (huomaa, että `:` tarvitaan silti!):"
   ]
  },
  {
   "cell_type": "code",
   "execution_count": null,
   "metadata": {},
   "outputs": [],
   "source": [
    "numbers = [1, 2, 3, 4, 5, 6, 7]\n",
    "a = numbers[5:]\n",
    "b = numbers[5:7]\n",
    "print(a)\n",
    "print(b)"
   ]
  },
  {
   "cell_type": "markdown",
   "metadata": {},
   "source": [
    "Niin kuin näkyy, yllä olevassa esimerksisä molemmat slice-operaatiot ajavat saman asian."
   ]
  },
  {
   "cell_type": "markdown",
   "metadata": {},
   "source": [
    "Listojen keskeltä osien ottaminen on vaivatonta:"
   ]
  },
  {
   "cell_type": "code",
   "execution_count": null,
   "metadata": {},
   "outputs": [],
   "source": [
    "numbers = [1, 2, 3, 4, 5, 6, 7]\n",
    "print(numbers[3:6])\n",
    "print(numbers[1:5])"
   ]
  },
  {
   "cell_type": "markdown",
   "metadata": {},
   "source": [
    "Niinkuin indeksienkin kanssa, Slicing tukee negatiivisä indeksejä."
   ]
  },
  {
   "cell_type": "code",
   "execution_count": null,
   "metadata": {},
   "outputs": [],
   "source": [
    "numbers = [1, 2, 3, 4, 5, 6, 7]\n",
    "new_numbers = numbers[:2]+numbers[-2:]\n",
    "\n",
    "print(new_numbers)"
   ]
  },
  {
   "cell_type": "markdown",
   "metadata": {},
   "source": [
    "Listojen yhdistäminen ja Slice toimivat hyvin yhteen. Yllä oleva esimerkki ottaa listan ensimmäiset ja viimeiset kaksi alkiota ja tekee niista uuden listan yhdistämällä ne `+`-operaattorin avulla."
   ]
  },
  {
   "cell_type": "markdown",
   "metadata": {},
   "source": [
    "Slicestä tekee vielä kätevämmän `askel`-arvo. Kuten nähtiin, se on valinnainen, mutta toimii savalla tavalla kuin `range()`:n vastaava kolmas parametri. Eli `askel` määrää millä askelvälillä arvoja otetaan:"
   ]
  },
  {
   "cell_type": "code",
   "execution_count": null,
   "metadata": {},
   "outputs": [],
   "source": [
    "numbers = [1, 2, 3, 4, 5, 6, 7]\n",
    "numbers[::2]"
   ]
  },
  {
   "cell_type": "markdown",
   "metadata": {},
   "source": [
    "Yllä yksinkertainen `[::2]` riittää palauttamaan listan joka toisen arvon. Koska haluamme käydä koko listan läpi, meidän ei tarvitse määritellä `alku`:a tai `loppu`:a. Slice voi myös ottaa negatiivisen arvon. Tämä tarkoittaa että lista käydään läpi käänteisessä järjestyksessä."
   ]
  },
  {
   "cell_type": "code",
   "execution_count": null,
   "metadata": {},
   "outputs": [],
   "source": [
    "numbers = [1, 2, 3, 4, 5, 6, 7]\n",
    "numbers[::-1]"
   ]
  },
  {
   "cell_type": "markdown",
   "metadata": {},
   "source": [
    "Samalla voi myös käyttä isompiakin arvoja kuin vain `1`, jolloin myös askelkoko kasvaa:"
   ]
  },
  {
   "cell_type": "code",
   "execution_count": null,
   "metadata": {},
   "outputs": [],
   "source": [
    "numbers = [1, 2, 3, 4, 5, 6, 7]\n",
    "numbers[::-3]"
   ]
  },
  {
   "cell_type": "markdown",
   "metadata": {},
   "source": [
    "Eli aloitetaan lopusta, ja otetaan ainoastaan joka kolmas arvo."
   ]
  },
  {
   "cell_type": "markdown",
   "metadata": {},
   "source": [
    "Yhdistelmänä näistä kaikista kolmesta voisi olla Slice-operaatio, jolla käännetään lista, otetaan joka toinen alkio alkaen indeksistä 6, poislukien viimeinen alkio. Huomaa, että nyt indeksi 6 on listan viimeinen arvo, eli se voitaisiin jättää myös kirjoittamatta."
   ]
  },
  {
   "cell_type": "code",
   "execution_count": null,
   "metadata": {},
   "outputs": [],
   "source": [
    "numbers = [1, 2, 3, 4, 5, 6, 7]\n",
    "numbers[6:0:-2]"
   ]
  },
  {
   "cell_type": "markdown",
   "metadata": {},
   "source": [
    "Käänteisen listan slice-operaatioissa täytyy muistaa, että `alku`-arvo, täytyy olla **suurempi**, kuin `loppu`. Muuten se toimii samalla tavalla, kuin normaali slice-operaatio. "
   ]
  },
  {
   "cell_type": "markdown",
   "metadata": {},
   "source": [
    "#### HARJOITUS 10"
   ]
  },
  {
   "cell_type": "markdown",
   "metadata": {},
   "source": [
    "Annettuna on lista. Kutsu listalle Slice-operaatioita ja yhdistä leikatut listat niin, että lopputuloksena on lista, joka koostuu seuraavasta arvoista:\n",
    "- Alkuperäisen listan ensimmäiset 2 alkiota\n",
    "- Alkuperäisen listan alkiot indekseillä 6-8 (mukaanlukien 8) alkiot\n",
    "- Alkuperäisen listan viimeiset 3 alkiota käänteisessä järjestyksessä. "
   ]
  },
  {
   "cell_type": "code",
   "execution_count": 136,
   "metadata": {
    "scrolled": false
   },
   "outputs": [
    {
     "data": {
      "text/plain": [
       "['to', 'Slice', '!']"
      ]
     },
     "execution_count": 136,
     "metadata": {},
     "output_type": "execute_result"
    }
   ],
   "source": [
    "l = ['I', 'have','am','yesterday','who','be','now','learned', 'how', '!','Slice', 'to']\n",
    "#l[:2] + l[6:9] + l[-1:-4:-1]\n",
    "#l [:2]\n",
    "#l [6:9]\n",
    "l [-1:-4:-1]\n",
    " "
   ]
  },
  {
   "cell_type": "markdown",
   "metadata": {},
   "source": [
    "## Moniulotteiset listat"
   ]
  },
  {
   "cell_type": "markdown",
   "metadata": {},
   "source": [
    "Listojen alkiot voivat voivat olla toisia listoja. Näitä sanotaan moniulotteisiksi listoiksi:"
   ]
  },
  {
   "cell_type": "code",
   "execution_count": null,
   "metadata": {},
   "outputs": [],
   "source": [
    "list_of_lists = [[1, 2, 3], [4, 5, 6], [7, 8, 9]]\n",
    "print(list_of_lists)"
   ]
  },
  {
   "cell_type": "code",
   "execution_count": null,
   "metadata": {},
   "outputs": [],
   "source": [
    "categories = [[True, True, False], [6,3,1], ['Banana', 'Potatoe', 'Strawberry']]\n",
    "print(categories)"
   ]
  },
  {
   "cell_type": "markdown",
   "metadata": {},
   "source": [
    "Listan sisällä olevan listan yksittäisen alkion saa tulostettua seuraavalla tavalla:"
   ]
  },
  {
   "cell_type": "code",
   "execution_count": null,
   "metadata": {},
   "outputs": [],
   "source": [
    "list_of_lists = [[1, 2, 3], [4, 5, 6], [7, 8, 9]]\n",
    "print(list_of_lists[0][0])"
   ]
  },
  {
   "cell_type": "markdown",
   "metadata": {},
   "source": [
    "Moniulotteisten listojen \"syvyydellä\" ei ole rajoja:"
   ]
  },
  {
   "cell_type": "code",
   "execution_count": null,
   "metadata": {},
   "outputs": [],
   "source": [
    "crazy_list = [[[[[[[1]]]]]],2]\n",
    "crazy_list"
   ]
  },
  {
   "cell_type": "markdown",
   "metadata": {},
   "source": [
    "## Kertaus"
   ]
  },
  {
   "cell_type": "markdown",
   "metadata": {},
   "source": [
    "Listat sisältävät useita arvoja tietyssä järjestyksessä. Lista voi koostua numeroista, kirjaimista tai esimerkiksi sanoista."
   ]
  },
  {
   "cell_type": "markdown",
   "metadata": {},
   "source": [
    "```Python\n",
    "names = ['Joe', 'Allison', 'Maria']\n",
    "numbers = [1,2,3]\n",
    "list = [] (empty list)```"
   ]
  },
  {
   "cell_type": "markdown",
   "metadata": {},
   "source": [
    "Indeksöinnin avulla voidaan hakea listoista alkioita. Indeksöinti alkaa `0`:sta ja jatkuu `n-1` asti, missä `n` on listassa esiintyvien alkioiden määrä."
   ]
  },
  {
   "cell_type": "code",
   "execution_count": null,
   "metadata": {},
   "outputs": [],
   "source": [
    "numbers = [1,2,3]\n",
    "numbers[1]"
   ]
  },
  {
   "cell_type": "markdown",
   "metadata": {},
   "source": [
    "### Listafunktioita"
   ]
  },
  {
   "cell_type": "markdown",
   "metadata": {},
   "source": [
    "`len()` palauttaa listan pituuden eli alkioiden määrän."
   ]
  },
  {
   "cell_type": "markdown",
   "metadata": {},
   "source": [
    "```Python\n",
    "len(list)```"
   ]
  },
  {
   "cell_type": "markdown",
   "metadata": {},
   "source": [
    "`min()` palauttaa listan pienimmän arvon ja `max()` suurimman"
   ]
  },
  {
   "cell_type": "markdown",
   "metadata": {},
   "source": [
    "```python\n",
    "min(list)\n",
    "max(list)```"
   ]
  },
  {
   "cell_type": "markdown",
   "metadata": {},
   "source": [
    "`sorted()` palauttaa järjestetyn version listasta. Toimii vain, jos alkiot ovat kaikki samaa datatyyppiä"
   ]
  },
  {
   "cell_type": "markdown",
   "metadata": {},
   "source": [
    "```Python\n",
    "sorted(list)```"
   ]
  },
  {
   "cell_type": "markdown",
   "metadata": {},
   "source": [
    "`in` palauttaa totuusarvon, jos annettu arvo löytyy listasta"
   ]
  },
  {
   "cell_type": "markdown",
   "metadata": {},
   "source": [
    "```python\n",
    "x in list```"
   ]
  },
  {
   "cell_type": "markdown",
   "metadata": {},
   "source": [
    "### Listametodit"
   ]
  },
  {
   "cell_type": "markdown",
   "metadata": {},
   "source": [
    "`count()`laskee kuinka monta annettua arvoa listasta löytyy."
   ]
  },
  {
   "cell_type": "markdown",
   "metadata": {},
   "source": [
    "```Python\n",
    "l.count(x)```"
   ]
  },
  {
   "cell_type": "markdown",
   "metadata": {},
   "source": [
    "`append()` lisää alkion listan loppuun."
   ]
  },
  {
   "cell_type": "markdown",
   "metadata": {},
   "source": [
    "```Python\n",
    "l.append(x)\n",
    "```"
   ]
  },
  {
   "cell_type": "markdown",
   "metadata": {},
   "source": [
    "`remove()` poistaa ensimmäisen listan alkion, joka vastaa haluttua arvoa."
   ]
  },
  {
   "cell_type": "markdown",
   "metadata": {},
   "source": [
    "```Python\n",
    "l.remove(x)```"
   ]
  },
  {
   "cell_type": "markdown",
   "metadata": {},
   "source": [
    "`index()` palauttaa ensimmäisen indeksin, joka vastaa parametrina annettua arvoa."
   ]
  },
  {
   "cell_type": "markdown",
   "metadata": {},
   "source": [
    "```Python\n",
    "l.index(i)\n",
    "```"
   ]
  },
  {
   "cell_type": "markdown",
   "metadata": {},
   "source": [
    "`insert()` lisää tiettyyn paikkaan alkion halutulla arvolla."
   ]
  },
  {
   "cell_type": "markdown",
   "metadata": {},
   "source": [
    "```Python\n",
    "l.insert(i,x)```"
   ]
  },
  {
   "cell_type": "markdown",
   "metadata": {},
   "source": [
    "`pop()` poistaa tietyllä indeksillä olevan arvon listasta, ja palauttaa sen. Jos parametria ei anneta, listan viimeinen alkio poistetaan. "
   ]
  },
  {
   "cell_type": "markdown",
   "metadata": {},
   "source": [
    "```Python\n",
    "l.pop(i)\n",
    "```"
   ]
  },
  {
   "cell_type": "markdown",
   "metadata": {},
   "source": [
    "### Listat ja silmukat"
   ]
  },
  {
   "cell_type": "markdown",
   "metadata": {},
   "source": [
    "Listojen luonti ja läpikäyminen on erityisen helppoa `for` ja `while` -silmukoilla."
   ]
  },
  {
   "cell_type": "code",
   "execution_count": 137,
   "metadata": {},
   "outputs": [
    {
     "name": "stdout",
     "output_type": "stream",
     "text": [
      "[1, 2, 3, 4, 5, 6, 7, 8, 9]\n"
     ]
    }
   ],
   "source": [
    "numbers = []\n",
    "for i in range(1,10,1):\n",
    "    numbers.append(i)\n",
    "print(numbers)"
   ]
  },
  {
   "cell_type": "code",
   "execution_count": 138,
   "metadata": {},
   "outputs": [
    {
     "name": "stdout",
     "output_type": "stream",
     "text": [
      "Hello Bill\n",
      "Hello Jack\n",
      "Hello Jane\n"
     ]
    }
   ],
   "source": [
    "names = ['Bill', 'Jack', 'Jane']\n",
    "for i in names:\n",
    "    print('Hello',i)"
   ]
  },
  {
   "cell_type": "markdown",
   "metadata": {},
   "source": [
    "Listoja voidaan käyttää myös funktioissa. Näissä voidaan esimerkiksi luoda lista tai muokata listan alkioita."
   ]
  },
  {
   "cell_type": "code",
   "execution_count": 139,
   "metadata": {
    "scrolled": true
   },
   "outputs": [
    {
     "name": "stdout",
     "output_type": "stream",
     "text": [
      "What is the index of the element you want to change?\n",
      "5\n",
      "With which number you want to replace the element?\n",
      "3\n"
     ]
    },
    {
     "ename": "IndexError",
     "evalue": "list assignment index out of range",
     "output_type": "error",
     "traceback": [
      "\u001b[1;31m---------------------------------------------------------------------------\u001b[0m",
      "\u001b[1;31mIndexError\u001b[0m                                Traceback (most recent call last)",
      "\u001b[1;32m<ipython-input-139-94bb99d15941>\u001b[0m in \u001b[0;36m<module>\u001b[1;34m\u001b[0m\n\u001b[0;32m      6\u001b[0m \u001b[0mlist_index\u001b[0m \u001b[1;33m=\u001b[0m \u001b[0mint\u001b[0m\u001b[1;33m(\u001b[0m\u001b[0minput\u001b[0m\u001b[1;33m(\u001b[0m\u001b[1;34m'What is the index of the element you want to change?\\n'\u001b[0m\u001b[1;33m)\u001b[0m\u001b[1;33m)\u001b[0m\u001b[1;33m\u001b[0m\u001b[1;33m\u001b[0m\u001b[0m\n\u001b[0;32m      7\u001b[0m \u001b[0mlist_input\u001b[0m \u001b[1;33m=\u001b[0m \u001b[0mint\u001b[0m\u001b[1;33m(\u001b[0m\u001b[0minput\u001b[0m\u001b[1;33m(\u001b[0m\u001b[1;34m'With which number you want to replace the element?\\n'\u001b[0m\u001b[1;33m)\u001b[0m\u001b[1;33m)\u001b[0m\u001b[1;33m\u001b[0m\u001b[1;33m\u001b[0m\u001b[0m\n\u001b[1;32m----> 8\u001b[1;33m \u001b[0mnew_numbers\u001b[0m \u001b[1;33m=\u001b[0m \u001b[0mchange_list\u001b[0m\u001b[1;33m(\u001b[0m\u001b[0mnumbers\u001b[0m\u001b[1;33m,\u001b[0m\u001b[0mlist_index\u001b[0m\u001b[1;33m,\u001b[0m\u001b[0mlist_input\u001b[0m\u001b[1;33m)\u001b[0m\u001b[1;33m\u001b[0m\u001b[1;33m\u001b[0m\u001b[0m\n\u001b[0m\u001b[0;32m      9\u001b[0m \u001b[0mprint\u001b[0m\u001b[1;33m(\u001b[0m\u001b[0mnew_numbers\u001b[0m\u001b[1;33m)\u001b[0m\u001b[1;33m\u001b[0m\u001b[1;33m\u001b[0m\u001b[0m\n\u001b[0;32m     10\u001b[0m \u001b[1;33m\u001b[0m\u001b[0m\n",
      "\u001b[1;32m<ipython-input-139-94bb99d15941>\u001b[0m in \u001b[0;36mchange_list\u001b[1;34m(testlist, index, new_value)\u001b[0m\n\u001b[0;32m      1\u001b[0m \u001b[1;32mdef\u001b[0m \u001b[0mchange_list\u001b[0m\u001b[1;33m(\u001b[0m\u001b[0mtestlist\u001b[0m\u001b[1;33m,\u001b[0m\u001b[0mindex\u001b[0m\u001b[1;33m,\u001b[0m\u001b[0mnew_value\u001b[0m\u001b[1;33m)\u001b[0m\u001b[1;33m:\u001b[0m\u001b[1;33m\u001b[0m\u001b[1;33m\u001b[0m\u001b[0m\n\u001b[1;32m----> 2\u001b[1;33m     \u001b[0mtestlist\u001b[0m\u001b[1;33m[\u001b[0m\u001b[0mindex\u001b[0m\u001b[1;33m]\u001b[0m \u001b[1;33m=\u001b[0m \u001b[0mnew_value\u001b[0m\u001b[1;33m\u001b[0m\u001b[1;33m\u001b[0m\u001b[0m\n\u001b[0m\u001b[0;32m      3\u001b[0m     \u001b[1;32mreturn\u001b[0m \u001b[0mtestlist\u001b[0m\u001b[1;33m\u001b[0m\u001b[1;33m\u001b[0m\u001b[0m\n\u001b[0;32m      4\u001b[0m \u001b[1;33m\u001b[0m\u001b[0m\n\u001b[0;32m      5\u001b[0m \u001b[0mnumbers\u001b[0m \u001b[1;33m=\u001b[0m \u001b[1;33m[\u001b[0m\u001b[1;36m1\u001b[0m\u001b[1;33m,\u001b[0m \u001b[1;36m2\u001b[0m\u001b[1;33m,\u001b[0m \u001b[1;36m3\u001b[0m\u001b[1;33m,\u001b[0m \u001b[1;36m4\u001b[0m\u001b[1;33m,\u001b[0m \u001b[1;36m5\u001b[0m\u001b[1;33m]\u001b[0m\u001b[1;33m\u001b[0m\u001b[1;33m\u001b[0m\u001b[0m\n",
      "\u001b[1;31mIndexError\u001b[0m: list assignment index out of range"
     ]
    }
   ],
   "source": [
    "def change_list(testlist,index,new_value):\n",
    "    testlist[index] = new_value\n",
    "    return testlist\n",
    "    \n",
    "numbers = [1, 2, 3, 4, 5]\n",
    "list_index = int(input('What is the index of the element you want to change?\\n'))\n",
    "list_input = int(input('With which number you want to replace the element?\\n'))\n",
    "new_numbers = change_list(numbers,list_index,list_input)\n",
    "print(new_numbers)\n",
    "    "
   ]
  },
  {
   "cell_type": "markdown",
   "metadata": {},
   "source": [
    "### Listaoperaatiot"
   ]
  },
  {
   "cell_type": "markdown",
   "metadata": {},
   "source": [
    "Listoja pystyy yhdistelemään `+`-operaattorilla ja moninkertaistamaan `*`operaattorilla."
   ]
  },
  {
   "cell_type": "code",
   "execution_count": 140,
   "metadata": {},
   "outputs": [
    {
     "name": "stdout",
     "output_type": "stream",
     "text": [
      "[1, 2, 'cat', 'dog', 1, 2, 'cat', 'dog']\n"
     ]
    }
   ],
   "source": [
    "a = [1, 2, 'cat', 'dog']\n",
    "b = a*2\n",
    "print(b)"
   ]
  },
  {
   "cell_type": "markdown",
   "metadata": {},
   "source": [
    "Voi olla kätevää luoda ohjelmassa nolla-lista tulevaisuuden varalle. Nolla-lista sisältää pelkkiä nollia ja tällä saadaan \"tyhjä\" lista, jossa on määrätty valmiiksi alkioiden määrä."
   ]
  },
  {
   "cell_type": "code",
   "execution_count": 141,
   "metadata": {},
   "outputs": [
    {
     "name": "stdout",
     "output_type": "stream",
     "text": [
      "[0, 0, 0, 0, 0, 0, 0, 0, 0, 0]\n"
     ]
    }
   ],
   "source": [
    "testlist = [0]*10\n",
    "print(testlist)"
   ]
  },
  {
   "cell_type": "markdown",
   "metadata": {},
   "source": [
    "### Slice"
   ]
  },
  {
   "cell_type": "markdown",
   "metadata": {},
   "source": [
    "Slice palauttaa uuden version alkuperäisestä listasta. Slice merkitään kaksoispisteellä `:`. Sen logiikka toimii samankaltaisesti kuin `range()`-funktion, eli hakasulkeisiin tulee `alku`, `loppu`, `askel`. Listan indeksöinti menee myös samalla tavalla `0`:sta `n-1`:een. Tällä voidaan hakea listasta esimerkiksi osa siitä."
   ]
  },
  {
   "cell_type": "code",
   "execution_count": null,
   "metadata": {},
   "outputs": [],
   "source": [
    "numbers = [1, 2, 3, 4, 5, 6]\n",
    "numbers[0:4:2]"
   ]
  },
  {
   "cell_type": "markdown",
   "metadata": {},
   "source": [
    "Yllä olevassa esimerkissä palautuu indeksien 0-3 väliltä joka toinen arvo, eli arvot jotka vastaavat indeksejä 0 ja 2."
   ]
  },
  {
   "cell_type": "markdown",
   "metadata": {},
   "source": [
    "Listan joka toinen arvo saadaan antamalla ainostaan `askel` koko. Eli `alku` ja `loppu` tietoja ei määritellä. "
   ]
  },
  {
   "cell_type": "code",
   "execution_count": 142,
   "metadata": {},
   "outputs": [
    {
     "data": {
      "text/plain": [
       "[1, 3, 5]"
      ]
     },
     "execution_count": 142,
     "metadata": {},
     "output_type": "execute_result"
    }
   ],
   "source": [
    "numbers = [1, 2, 3, 4, 5, 6]\n",
    "numbers[::2]"
   ]
  },
  {
   "cell_type": "markdown",
   "metadata": {},
   "source": [
    "### Moniulotteiset listat"
   ]
  },
  {
   "cell_type": "markdown",
   "metadata": {},
   "source": [
    "Listoja voi luoda listojen sisään, jolloin saadaan moniulotteisia listoja."
   ]
  },
  {
   "cell_type": "code",
   "execution_count": 143,
   "metadata": {},
   "outputs": [
    {
     "name": "stdout",
     "output_type": "stream",
     "text": [
      "[1, 2, 3]\n",
      "4\n"
     ]
    }
   ],
   "source": [
    "l = [[1,2,3],[4,5,6]]\n",
    "print(l[0])\n",
    "print(l[1][0])"
   ]
  },
  {
   "cell_type": "markdown",
   "metadata": {},
   "source": [
    "### Palaute\n",
    "\n",
    "Muistathan antaa [palautetta](https://docs.google.com/forms/d/e/1FAIpQLSfZH6EDFiU7JxZd90j07YagAVFFJqWNu47RtHDQozDeaeQcXw/viewform?usp=sf_link)!"
   ]
  }
 ],
 "metadata": {
  "kernelspec": {
   "display_name": "Python 3",
   "language": "python",
   "name": "python3"
  },
  "language_info": {
   "codemirror_mode": {
    "name": "ipython",
    "version": 3
   },
   "file_extension": ".py",
   "mimetype": "text/x-python",
   "name": "python",
   "nbconvert_exporter": "python",
   "pygments_lexer": "ipython3",
   "version": "3.7.4"
  }
 },
 "nbformat": 4,
 "nbformat_minor": 2
}
