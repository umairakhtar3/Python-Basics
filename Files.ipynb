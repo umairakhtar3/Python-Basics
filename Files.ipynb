{
 "cells": [
  {
   "cell_type": "markdown",
   "metadata": {},
   "source": [
    "# Luku 7: Tiedostot"
   ]
  },
  {
   "cell_type": "markdown",
   "metadata": {},
   "source": [
    "Toistaiseksi olemma käsitelleet tietoa, joka on annettu valmiiksi tai sitten käyttäjän toimesta `input()`-komennon avulla.\n",
    "\n",
    "Pythonilla voidaan lukea tietoa tiedostoista, sekä tallentaa niihin tietoa. Pythonilla voidaan käsitellä monenlaisia eri tiedostoja kuten teksti, csv, xml, JSON jne. Tällä kurssilla keskitymme teksti- sekä csv-tiedostojen käsittelyyn.\n",
    "\n",
    "Tiedostot helpottavat informaation säilyttämistä, sillä tällä tavalla informaatio pysyy tallessa. Myös ohjelmassa luotu data voidaan tallentaa pysyvästi omaan tiedostoon. On paljon helpompaa hakea esimerkiksi yhteystietoja valmiista tiedostoista kuin, että pyydetään käyttäjää antamaan kaikki halutut tiedot jokaisella kerralla uudelleen."
   ]
  },
  {
   "cell_type": "markdown",
   "metadata": {},
   "source": [
    "Ennen tiedoston lukua ohjelmaan pitää määritellä mitä tiedostoa käsitellään ja avata tiedosto `open()`-funktiolla. Tämä tallennetaan muuttujaan, jonka avulla voidaan tiedostoa voidaan käsitellä. "
   ]
  },
  {
   "cell_type": "markdown",
   "metadata": {},
   "source": [
    "```Python\n",
    "file = open(filename, mode)```"
   ]
  },
  {
   "cell_type": "markdown",
   "metadata": {},
   "source": [
    "Funktion sisälle tulee ensiksi tiedoston nimi (`filename`), sekä käsittelytapa (`mode`). Käsittelytapa kertoo lukeeko ohjelma tietoa tiedostosta vai kirjoittaako se siihen tietoa. Jos halutaan lukea tiedostosta, käsittelytavaksi laitetaan `'r'` (read). Jos taas halutaan kirjoittaa tiedostoon, laitetaan käsittelytavaksi `'w'` (write). Jos funktiolle ei määritetä parametria `mode`, funktio käyttää oletusarvoisesti käsittelytapaa `'r'`. "
   ]
  },
  {
   "cell_type": "markdown",
   "metadata": {},
   "source": [
    "```Python\n",
    "file = open('testfile.txt', 'r')\n",
    "\n",
    "file = open('testfile.txt', 'w')```"
   ]
  },
  {
   "cell_type": "markdown",
   "metadata": {},
   "source": [
    "**Huom!** Sekä tiedoston nimi että käsittelytapa täytyy olla merkkijonoina (eli ne pitää kirjoittaa hipsujen sisään), jotta funktio toimii oikein. Nämä voidaan kuitenkin myös tottakai antaa muuttujina, ja monesti näkeekin tiedostonimen annettuna muuttujan avulla. Seuraavassa on kaksi tapaa avata sama tiedosto:\n",
    "\n",
    "```Python\n",
    "filename = 'testfile.txt'\n",
    "file = open(filename,'r')\n",
    "######\n",
    "file = open('testfile.txt', 'r')\n",
    "```"
   ]
  },
  {
   "cell_type": "markdown",
   "metadata": {},
   "source": [
    "### Tiedoston lukeminen riveittäin"
   ]
  },
  {
   "cell_type": "markdown",
   "metadata": {},
   "source": [
    "Kuten aikaisemmin sanottiin, tiedostoja voi lukea kokonaan tai riveittäin. Tiedoston voi lukea riveittäin esimerkiksi metodin `readline()` avulla:"
   ]
  },
  {
   "cell_type": "markdown",
   "metadata": {},
   "source": [
    "```Python\n",
    "file = open('testfile.txt','r')\n",
    "row = file.readline()```"
   ]
  },
  {
   "cell_type": "markdown",
   "metadata": {},
   "source": [
    "Tällöin metodia käytetään merkitsemällä `tiedostomuuttuja.readline()`. Metodia kutsuttaessa ensimmäisen kerran se palauttaa tiedoston ensimmäisen rivin. Python seuraa missä kohdassa tiedoston lukua mennään, jolloin toisen kerran kutsuttaessa se palauttaa tiedoston toisen rivin jne. Kun tiedosto on luettu loppuun, metodi palauttaa tyhjän merkkijonon `\"\"`. Jos tiedostossa on tyhjiä rivejä metodi palauttaa niiden kohdalla rivinvaihtomerkin `\\n`, eikä tyhjää merkkijonoa."
   ]
  },
  {
   "cell_type": "markdown",
   "metadata": {},
   "source": [
    "### Tiedoston sulkeminen"
   ]
  },
  {
   "cell_type": "markdown",
   "metadata": {},
   "source": [
    "Tiedoston lukemisen jälkeen tiedosto pitää aina sulkea, jotta ohjelma toimii oikein. Tämä usein ohjelmoidessa unohtuu ja se johtaa virheilmoitukseen, eli muista tarkistaa silloin puuttuuko sulkeminen! "
   ]
  },
  {
   "cell_type": "markdown",
   "metadata": {},
   "source": [
    "Tiedosto suljetaan metodilla `close()`. Metodi merkitään samalla tavalla kuin edellinen `readline`, eli `tiedostomuuttuja.close()`."
   ]
  },
  {
   "cell_type": "markdown",
   "metadata": {},
   "source": [
    "Käytetään esimerkkinä tiedostoa, jossa on neljä riviä, joista yksi on tyhjä:\n",
    "\n",
    "```Python\n",
    "first row\n",
    "second row\n",
    "\n",
    "fourth row```"
   ]
  },
  {
   "cell_type": "code",
   "execution_count": 14,
   "metadata": {},
   "outputs": [
    {
     "name": "stdout",
     "output_type": "stream",
     "text": [
      "first row\n",
      "\n",
      "second row\n",
      "\n",
      "\n",
      "\n",
      "fourth row\n"
     ]
    }
   ],
   "source": [
    "file = open('C:\\\\Users\\\\35844\\\\OneDrive\\\\Desktop\\\\Python Programming\\\\Aalto\\\\testfile.txt','r')\n",
    "row = file.readline() # read the first line\n",
    "while row != \"\": # readline ends with \"\"\n",
    "    print(row)\n",
    "    row = file.readline() # read the next row \n",
    "file.close()"
   ]
  },
  {
   "cell_type": "markdown",
   "metadata": {},
   "source": [
    "Kuten yllä olevasta esimerkistä nähdään, `readline` tulostaa ylimääräisen rivinvaihdon joka rivin jälkeen, sillä se palauttaa myös  rivin lopussa olevan rivinvaihtomerkin. `print` käskyn lisätessä tulostuksen loppuun rivinvaihdon, tulee tulee kaksi rivinvaihtoa, joka näkyy ylimääräisenä rivinä. \n",
    "\n",
    "Tämä voidaan korjata `rstrip`-metodilla. Se poistaa rivin lopussa olevan rivinvaihtomerkin ja lisäksi tyhjät merkit, kuten välilyönnit jne. "
   ]
  },
  {
   "cell_type": "code",
   "execution_count": 13,
   "metadata": {},
   "outputs": [
    {
     "name": "stdout",
     "output_type": "stream",
     "text": [
      "first row\n",
      "second row\n",
      "\n",
      "fourth row\n"
     ]
    }
   ],
   "source": [
    "name = \"C:\\\\Users\\\\35844\\\\OneDrive\\\\Desktop\\\\Python Programming\\\\Aalto\\\\testfile.txt\"\n",
    "file = open(name,'r')\n",
    "row = file.readline()\n",
    "while row != \"\": # readline ends with \"\"q\n",
    "    row = row.rstrip()\n",
    "    print(row)\n",
    "    row = file.readline()\n",
    "file.close()"
   ]
  },
  {
   "cell_type": "markdown",
   "metadata": {},
   "source": [
    "Nyt tulostuksesta jää ylimääräiset rivinvaihdot pois."
   ]
  },
  {
   "cell_type": "markdown",
   "metadata": {},
   "source": [
    "##### HARJOITUS 1"
   ]
  },
  {
   "cell_type": "markdown",
   "metadata": {},
   "source": [
    "Lue tiedosto 'alphabet.txt' rivi riviltä ja tallenna jokainen rivi merkkijonoon `alphabets`, ja tulosta lopuksi tämä merkkijono. Muista poistaa ylimääräiset välit/rivinvaihdot! (Merkkijono)"
   ]
  },
  {
   "cell_type": "code",
   "execution_count": 16,
   "metadata": {},
   "outputs": [
    {
     "name": "stdout",
     "output_type": "stream",
     "text": [
      "a\n",
      "b\n",
      "c\n",
      "d\n",
      "e\n",
      "f\n",
      "g\n",
      "h\n",
      "i\n",
      "j\n",
      "k\n",
      "l\n",
      "m\n",
      "n\n",
      "o\n",
      "p\n",
      "q\n",
      "r\n",
      "s\n",
      "t\n",
      "u\n",
      "v\n",
      "w\n",
      "x\n",
      "y\n",
      "z\n",
      "Ã¥\n",
      "Ã¤\n",
      "Ã¶\n"
     ]
    }
   ],
   "source": [
    "name = \"C:\\\\Users\\\\35844\\\\OneDrive\\\\Desktop\\\\Python Programming\\\\Aalto\\\\alphabet.txt\"\n",
    "file = open(name,'r')\n",
    "row = file.readline()\n",
    "while row != \"\":\n",
    "    row = row.rstrip()\n",
    "    print(row)\n",
    "    row = file.readline()\n",
    "file.close()"
   ]
  },
  {
   "cell_type": "markdown",
   "metadata": {},
   "source": [
    "### Tiedoston lukeminen `for`-loopilla"
   ]
  },
  {
   "cell_type": "markdown",
   "metadata": {},
   "source": [
    "Edellinen esimerkki voidaan tehdä myös `for`-loopilla. Tällöin silmukka käy läpi jokaisen rivin kerrallaan ja  tällöin ei tarvita erikseen `readline`-käskyä. \n",
    "\n",
    "**Huom!** Jos tiedosto käydään läpi `for`-loopin avulla, ei samassa ohjelmassa kannata käyttää `readline`-käskyä, sillä `for`-silmukka käy rivit itse yksitellen läpi."
   ]
  },
  {
   "cell_type": "code",
   "execution_count": 17,
   "metadata": {},
   "outputs": [
    {
     "name": "stdout",
     "output_type": "stream",
     "text": [
      "first row\n",
      "second row\n",
      "\n",
      "fourth row\n"
     ]
    }
   ],
   "source": [
    "name = \"C:\\\\Users\\\\35844\\\\OneDrive\\\\Desktop\\\\Python Programming\\\\Aalto\\\\testfile.txt\"\n",
    "file = open(name,'r')\n",
    "for row in file: # every row in file\n",
    "    row = row.rstrip()\n",
    "    print(row)\n",
    "file.close()"
   ]
  },
  {
   "cell_type": "markdown",
   "metadata": {},
   "source": [
    "**Esimerkkiohjelma 1:** Nimilista"
   ]
  },
  {
   "cell_type": "markdown",
   "metadata": {},
   "source": [
    "Alla olevassa ohjelmassa käytetään tiedostona nimilistaa, jota etsitään henkilöitä. `rstrip()` on erittäin tärkeä ohjelmassa, sillä ilman sitä nimiä ei voitaisi verrata, koska rivin lopussa olisi ylimääräisiä merkkejä/rivinväli."
   ]
  },
  {
   "cell_type": "code",
   "execution_count": 9,
   "metadata": {},
   "outputs": [
    {
     "name": "stdout",
     "output_type": "stream",
     "text": [
      "Tell me the name you are looking for: \n",
      "jamil\n",
      "Name jamil was not found.\n"
     ]
    }
   ],
   "source": [
    "filename = 'C:\\\\Users\\\\35844\\\\OneDrive\\\\Desktop\\\\Python Programming\\\\Aalto\\\\namelist.txt'\n",
    "file = open(filename,'r') # Open the file \n",
    "name = input('Tell me the name you are looking for: \\n') # The name we are looking for\n",
    "for row in file: # Go through the rows in the file\n",
    "    row = row.rstrip() # Remove excess spaces and linebreaks from the end of the line\n",
    "    if row == name: # If the name matches the row in the file\n",
    "        result = True \n",
    "        break # We do not have to go through the file anymore, so we break from the loop\n",
    "    else:\n",
    "        result = False \n",
    "file.close()\n",
    "if result: # Shorter form for if result == True\n",
    "    print('Name',name,'is on the list.')\n",
    "else: # So result == False\n",
    "    print('Name',name,'was not found.')"
   ]
  },
  {
   "cell_type": "markdown",
   "metadata": {},
   "source": [
    "Ohjelma käy siis tiedoston rivi kerrallaan läpi, ja jos rivi täsmää pyydettyyn nimeen, se tallentaa tulokseksi arvon `True`. Muuten tulokseksi tallennetaan `False`. Loopin jälkeen ohjelma tarkistaa onko tuloksen arvo tosi vai epätosi ja tulostaa tekstin sen mukaan."
   ]
  },
  {
   "cell_type": "markdown",
   "metadata": {},
   "source": [
    "Tiedostojen rivit luetaan aina merkkijonoina, eli luvut täytyy tässäkin tapauksessa muuttaa kokonais- tai desimaaliluvuksi."
   ]
  },
  {
   "cell_type": "markdown",
   "metadata": {},
   "source": [
    "**Esimerkkiohjelma 2:** Arvosanojen keskiarvo"
   ]
  },
  {
   "cell_type": "markdown",
   "metadata": {},
   "source": [
    "Alla oleva ohjelma lukee tiedostosta kurssien arvosanat ja laskee niistä keskiarvon."
   ]
  },
  {
   "cell_type": "code",
   "execution_count": 12,
   "metadata": {},
   "outputs": [
    {
     "name": "stdout",
     "output_type": "stream",
     "text": [
      "The mean of the grades: 3.75\n"
     ]
    }
   ],
   "source": [
    "sum_of_grades = 0\n",
    "count = 0\n",
    "file = open('C:\\\\Users\\\\35844\\\\OneDrive\\\\Desktop\\\\Python Programming\\\\Aalto\\\\grades.txt','r')\n",
    "for row in file:\n",
    "    row = row.rstrip()\n",
    "    grade = int(row) # Saving grades as integers, because information is read as str\n",
    "    sum_of_grades += grade\n",
    "    count += 1\n",
    "file.close()\n",
    "if count == 0:\n",
    "    print('There is no grades to calculate the mean from.')\n",
    "else:\n",
    "    mean = sum_of_grades/count \n",
    "    print('The mean of the grades:',mean)"
   ]
  },
  {
   "cell_type": "markdown",
   "metadata": {},
   "source": [
    "### Tiedoston rivien lukeminen listaan"
   ]
  },
  {
   "cell_type": "markdown",
   "metadata": {},
   "source": [
    "Tiedosto voidaan käydä läpi käskyllä `readlines()`, joka tallentaa tiedoston **kaikki rivit** listaan (yhdestä rivistä tulee yksi listan alkio). Tämän jälkeen rivit voidaan käydä läpi `for`-silmukalla."
   ]
  },
  {
   "cell_type": "code",
   "execution_count": 21,
   "metadata": {},
   "outputs": [
    {
     "name": "stdout",
     "output_type": "stream",
     "text": [
      "James Bond\n",
      "John Doe\n",
      "Marilyn Monroe\n",
      "Barack Obama\n"
     ]
    }
   ],
   "source": [
    "file = open('C:\\\\Users\\\\35844\\\\OneDrive\\\\Desktop\\\\Python Programming\\\\Aalto\\\\namelist.txt','r')\n",
    "row_list = file.readlines()\n",
    "file.close()\n",
    "for row in row_list:\n",
    "    row = row.strip()\n",
    "    print(row)"
   ]
  },
  {
   "cell_type": "markdown",
   "metadata": {},
   "source": [
    "Kuten olet ehkä saattanut jo huomata, lukevat `readline()` ja `readlines()` metodit sekä `for`-rakenne informaation sisään tietotyypissä `str`. Tämän takia voimme käyttää luetuille riveille merkkijonojen metodeita, kuten `split()` ja `strip()` (luku 6). Numeroita luettaessa, tulee ne siis muuttaa muotoon `int` tai `float`, jos niille halutaan suorittaa numeerisia operaatiota Pythonissa."
   ]
  },
  {
   "cell_type": "markdown",
   "metadata": {},
   "source": [
    "### Tiedoston lukeminen `with`-käskyllä"
   ]
  },
  {
   "cell_type": "markdown",
   "metadata": {},
   "source": [
    "Tiedosto voidaan lukea myös `with`-käskyn avulla:\n",
    "\n",
    "```Python\n",
    "with open(filename) as file:\n",
    "```\n",
    "\n",
    "`with`-aloittaa uuden ohjelmalohkon, jonka suorituksen aikana tiedosto on auki. `with`-komento on siis käyttäjälle ystävällinen, sillä se sulkee itse automaattisesti tiedoston, kun ohjelmalohkosta poistutaan. Käskyllä voidaan käydä suoraan läpi koko tiedosto, tai tiedosto voidaan käydä läpi riveittäin `for`-loopilla."
   ]
  },
  {
   "cell_type": "code",
   "execution_count": 22,
   "metadata": {},
   "outputs": [
    {
     "name": "stdout",
     "output_type": "stream",
     "text": [
      "James Bond\n",
      "John Doe\n",
      "Marilyn Monroe\n",
      "Barack Obama\n"
     ]
    }
   ],
   "source": [
    "with open('C:\\\\Users\\\\35844\\\\OneDrive\\\\Desktop\\\\Python Programming\\\\Aalto\\\\namelist.txt') as file1:\n",
    "    content = file1.readlines()\n",
    "\n",
    "for row in content:\n",
    "    row = row.rstrip()\n",
    "    print(row)"
   ]
  },
  {
   "cell_type": "markdown",
   "metadata": {},
   "source": [
    "`for`-loopilla tiedoston lukeminen riveittäin tehdään seuraavalla tavalla."
   ]
  },
  {
   "cell_type": "code",
   "execution_count": 24,
   "metadata": {},
   "outputs": [
    {
     "name": "stdout",
     "output_type": "stream",
     "text": [
      "James Bond\n",
      "John Doe\n",
      "Marilyn Monroe\n",
      "Barack Obama\n"
     ]
    }
   ],
   "source": [
    "with open('C:\\\\Users\\\\35844\\\\OneDrive\\\\Desktop\\\\Python Programming\\\\Aalto\\\\namelist.txt') as file2:\n",
    "    for line in file2:\n",
    "        print(line.rstrip())"
   ]
  },
  {
   "cell_type": "markdown",
   "metadata": {},
   "source": [
    "Voit halutessasi käyttää kumpaa tahansa opetettua rakennetta tiedostojen käsittelyyn. Jos et käytä `with`-komentoa, muista aina sulkea tiedosto, kun sitä ei ohjelmassa enää käsitellä!"
   ]
  },
  {
   "cell_type": "markdown",
   "metadata": {},
   "source": [
    "##### HARJOITUS 2"
   ]
  },
  {
   "cell_type": "markdown",
   "metadata": {},
   "source": [
    "Lue tiedosto 'namelist.txt' `readlines()`-käskyn avulla ja tulosta sitten nimilista aakkosjärjestyksessä. Poista luetuista riveistä myös mahdolliset turhat välilyönnit ja rivinvaihdot `rstrip()` metodilla. *Vinkki: Tarvittaessa kannattaa virkistää muistia siitä miten listojen yksittäisiä alkioita käsitellään indeksien avulla kappaleesta 5.* (Lista)"
   ]
  },
  {
   "cell_type": "code",
   "execution_count": 33,
   "metadata": {},
   "outputs": [
    {
     "name": "stdout",
     "output_type": "stream",
     "text": [
      "['Barack Obama', 'James Bond\\n', 'John Doe\\n', 'Marilyn Monroe\\n']\n"
     ]
    }
   ],
   "source": [
    "with open('C:\\\\Users\\\\35844\\\\OneDrive\\\\Desktop\\\\Python Programming\\\\Aalto\\\\namelist.txt') as file1:\n",
    "    names = file1.readlines()\n",
    "    line = line.rstrip()\n",
    "    print(sorted(names))     "
   ]
  },
  {
   "cell_type": "markdown",
   "metadata": {},
   "source": [
    "### Split()"
   ]
  },
  {
   "cell_type": "markdown",
   "metadata": {},
   "source": [
    "Tiedostoissa voi olla samalla rivillä useita tietoja, jolloin rivi täytyy jakaa osiin jos halutaan käyttää yksittäisiä tietoja. Tämä voidaan tehdä `split()` -metodilla. Sulkeiden sisään tulee hipsuissa erotin. Esimerkissä 3 käydään läpi miten metodilla erotetaan päivävämäärä ja erään firman osakkeen keskihinta sinä päivänä."
   ]
  },
  {
   "cell_type": "markdown",
   "metadata": {},
   "source": [
    "```Python\n",
    "row.split(',')\n",
    "row.split('/')\n",
    "row.split(' ')```"
   ]
  },
  {
   "cell_type": "markdown",
   "metadata": {},
   "source": [
    "### CSV-tiedostot"
   ]
  },
  {
   "cell_type": "markdown",
   "metadata": {},
   "source": [
    "Pythonilla voidaan avata ja käsitellä myös taulukkolaskennassa käytettäviä CSV-tiedostoja (Comma Separated Values). CSV -tiedostoissa tiedot on tallennettu tekstitiedostoon, jossa sarakkeiden erottimena on pilkku. Monet taulukkolaskentaohjelmat, kuten Excel, antavat valita erottimen tiedostoa avatessa.\n"
   ]
  },
  {
   "cell_type": "markdown",
   "metadata": {},
   "source": [
    "**Esimerkki CSV-tiedostosta** \n",
    "\n",
    "Alla oleva `stock_prices.csv` (CSV) näyttää tulostettaessa seuraavanlaiselta:"
   ]
  },
  {
   "cell_type": "code",
   "execution_count": 34,
   "metadata": {},
   "outputs": [
    {
     "name": "stdout",
     "output_type": "stream",
     "text": [
      "06/01/12,6.01\n",
      "\n",
      "06/06/12,6.32\n",
      "\n",
      "06/11/12,6.3\n",
      "\n",
      "06/16/12,6.22\n",
      "\n",
      "06/21/12,6.24\n",
      "\n",
      "06/26/12,6.2\n",
      "\n"
     ]
    }
   ],
   "source": [
    "stock_file = open('C:\\\\Users\\\\35844\\\\OneDrive\\\\Desktop\\\\Python Programming\\\\Aalto\\\\stock_prices.csv','r')\n",
    "for row in stock_file:\n",
    "    print(row)\n",
    "stock_file.close()"
   ]
  },
  {
   "cell_type": "markdown",
   "metadata": {},
   "source": [
    "Kuten nähdään, kun CSV-tiedosto tulostetaan merkkijonoina, ne tulostuvat erotettuina pilkuilla."
   ]
  },
  {
   "cell_type": "markdown",
   "metadata": {},
   "source": [
    "**Esimerkkiohjelma 3:** Osakkeen keskihinta"
   ]
  },
  {
   "cell_type": "code",
   "execution_count": 36,
   "metadata": {},
   "outputs": [
    {
     "name": "stdout",
     "output_type": "stream",
     "text": [
      "['06/01/12', '6.01']\n",
      "['06/06/12', '6.32']\n",
      "['06/11/12', '6.3']\n",
      "['06/16/12', '6.22']\n",
      "['06/21/12', '6.24']\n",
      "['06/26/12', '6.2']\n"
     ]
    }
   ],
   "source": [
    "stock_file = open('C:\\\\Users\\\\35844\\\\OneDrive\\\\Desktop\\\\Python Programming\\\\Aalto\\\\stock_prices.csv','r')\n",
    "for row in stock_file:\n",
    "    row = row.strip()\n",
    "    parts = row.split(',')\n",
    "    print(parts)\n",
    "stock_file.close()"
   ]
  },
  {
   "cell_type": "markdown",
   "metadata": {},
   "source": [
    "Alla on esimerkki, miten Pythonissa avataan ja käsitellään CSV-tiedostoja. Osat erotellaan `split()` -metodilla, jossa erottimena on pilkku. Näin saamme eroteltua pilkun erottamat osat toisistaan."
   ]
  },
  {
   "cell_type": "markdown",
   "metadata": {},
   "source": [
    "**Esimerkkiohjelma 4:** CSV-tiedoston käsittely"
   ]
  },
  {
   "cell_type": "markdown",
   "metadata": {},
   "source": [
    "CSV-tiedosto sisältää samalla rivillä päivämäärän ja yrityksen kurssin keskihinnan sinä päivänä. Ohjelma erottele arvot ja laskee kurssin keskihinnan kaikilta päiviltä. Päivämäärillä ei tässä ole väliä, vaan halutaan tallentaa vain osakkeiden hinnat keskiarvoa varten."
   ]
  },
  {
   "cell_type": "code",
   "execution_count": 37,
   "metadata": {},
   "outputs": [
    {
     "name": "stdout",
     "output_type": "stream",
     "text": [
      "The overall mean of the stock prices is 6.215\n"
     ]
    }
   ],
   "source": [
    "sum_of_stock_prices = 0\n",
    "count = 0\n",
    "stock_file = open('C:\\\\Users\\\\35844\\\\OneDrive\\\\Desktop\\\\Python Programming\\\\Aalto\\\\stock_prices.csv','r')\n",
    "for row in stock_file:\n",
    "    row = row.strip()\n",
    "    parts = row.split(',')  # Splits the string from the sign ','\n",
    "    if len(parts) != 2:  # Checking if there is only two parts in the new list\n",
    "        print('Error row') # This means that the list does not have exactly 2 elements\n",
    "    else:\n",
    "        stock = float(parts[1]) # We have to change the type of the number from string to float\n",
    "        sum_of_stock_prices += stock\n",
    "        count += 1\n",
    "stock_file.close()\n",
    "if count == 0:\n",
    "    print('There are no stock prices')\n",
    "else:\n",
    "    mean = sum_of_stock_prices / count\n",
    "    print('The overall mean of the stock prices is',mean)"
   ]
  },
  {
   "cell_type": "markdown",
   "metadata": {},
   "source": [
    "##### HARJOITUS 3"
   ]
  },
  {
   "cell_type": "markdown",
   "metadata": {},
   "source": [
    "Sinulle on annettu tiedosto 'prices.csv', jossa on listattu eri tuotteiden hintoja. Ensimmäisessä sarakkeessa on tuotteen nimi ja toisessa sen hinta. Tiedot on eroteltu pilkulla. Luo ohjelma, joka erottelee rivin osat ja tallentaa ne kahteen listaan `products` ja `prices` ja tulostaa nämä kaksi listaa erikseen. Muista poistaa jälleen rivinvaihtomerkit lopusta. (Tulose)"
   ]
  },
  {
   "cell_type": "code",
   "execution_count": 1,
   "metadata": {},
   "outputs": [
    {
     "name": "stdout",
     "output_type": "stream",
     "text": [
      "['Shampoo', 'Bread', 'Bananas', 'Cheese', 'Chicken', 'Cereal']\n",
      "['5', '2', '3', '4', '6', '3']\n"
     ]
    }
   ],
   "source": [
    "item_prices = open(r'C:\\Users\\35844\\OneDrive\\Desktop\\Python Programming\\Aalto\\prices.csv', 'r')\n",
    "p_name = []\n",
    "p_price = []\n",
    "for row in item_prices:\n",
    "    row = row.strip()\n",
    "    products = row.split(',') \n",
    "    prod = products[0]\n",
    "    price = products[1].strip()\n",
    "    p_name.append(prod)\n",
    "    p_price.append(price)\n",
    "    \n",
    "item_prices.close()   \n",
    "print(p_name)\n",
    "print(p_price)"
   ]
  },
  {
   "cell_type": "markdown",
   "metadata": {},
   "source": [
    "## Tiedostoon kirjoittaminen"
   ]
  },
  {
   "cell_type": "markdown",
   "metadata": {},
   "source": [
    "Lukemisen lisäksi tiedostoihin voidaan myös kirjoittaa. Tällöin tiedosto avataan muuten samalla tavalla, mutta käsittelytapana on joko `'w'` tai `'a'`. `'w'` kirjoittaa vanhan tiedoston päälle ja poistaa vanhan tekstin, kun `'a'` säilyttää avattaessa mahdollisen alkuperäisen tekstin ja kirjoittaa avatun tiedoston loppuun. Jos tiedostoa, johon halutaan kirjoittaa, ei ole olemassa, luo Python sellaisen itse."
   ]
  },
  {
   "cell_type": "markdown",
   "metadata": {},
   "source": [
    "```Python \n",
    "file = open('testfile.txt', 'w')\n",
    "\n",
    "file = open('testfile.txt', 'a')```"
   ]
  },
  {
   "cell_type": "markdown",
   "metadata": {},
   "source": [
    "Tiedostoon voidaan tulostaa tekstiä metodilla `write`. **Se ei lisää rivinvaihtomerkkiä rivin loppuun, vaan se pitää halutessaan lisätä itse.** Metodilla voidaan tulostaa vain merkkijonoja, eli numeroita kirjoittaessa ne pitää ensin muuttaa merkkijonoiksi. "
   ]
  },
  {
   "cell_type": "markdown",
   "metadata": {},
   "source": [
    "```Python\n",
    "file.write('Random text\\n')```"
   ]
  },
  {
   "cell_type": "markdown",
   "metadata": {},
   "source": [
    "**Esimerkkiohjelma 5:** Tiedostoon kirjoittaminen"
   ]
  },
  {
   "cell_type": "code",
   "execution_count": 8,
   "metadata": {},
   "outputs": [
    {
     "name": "stdout",
     "output_type": "stream",
     "text": [
      "Give me rows and Ill add them to the file.\n",
      "Stop with an empty row.\n",
      "12\n",
      "546\n",
      "\n",
      "This is what the file looks like:\n",
      "\n",
      "12\n",
      "546\n"
     ]
    }
   ],
   "source": [
    "file = open('incomplete_file.txt','w')\n",
    "print('Give me rows and Ill add them to the file.\\nStop with an empty row.')\n",
    "row = input() #it is not necessary to have text as a parameter for input()\n",
    "while row != \"\":\n",
    "    file.write(row + \"\\n\")\n",
    "    row = input()\n",
    "file.close()\n",
    "\n",
    "#following part prints the file so that you see the result\n",
    "\n",
    "file1 = open('incomplete_file.txt','r')\n",
    "print('This is what the file looks like:\\n')\n",
    "for row in file1:\n",
    "    row = row.rstrip() \n",
    "    print(row)\n",
    "file1.close()"
   ]
  },
  {
   "cell_type": "markdown",
   "metadata": {},
   "source": [
    "##### HARJOITUS 4: "
   ]
  },
  {
   "cell_type": "markdown",
   "metadata": {},
   "source": [
    "Luo tiedosto, johon tallennat käyttäjän antaman syötteen luvun mukaan sen kertotaulun 1-10. Esimerkiksi jos käyttäjä antaa luvun 3, tallennat tiedostoon luvun 3 kertotaulun 10:een kertoimeen saakka (eli 3, 6, 9, 12 ja niin edelleen). Muista lisätä rivinvaihto aina yhden numeron perään! Tämän jälkeen avaa tiedosto Pythonissa ja tulosta tiedoston sisältö, jotta näät toimiiko luomasi ohjelma oikein. (Tuloste)"
   ]
  },
  {
   "cell_type": "code",
   "execution_count": 5,
   "metadata": {},
   "outputs": [
    {
     "name": "stdout",
     "output_type": "stream",
     "text": [
      "Write a number.\n",
      "\n",
      "3\n",
      "This is what the file looks like:\n",
      "\n",
      "3\n",
      "6\n",
      "9\n",
      "12\n",
      "15\n",
      "18\n",
      "21\n",
      "24\n",
      "27\n",
      "30\n"
     ]
    }
   ],
   "source": [
    "\n",
    "print('Write a number.\\n') #\n",
    "row = input() #it is not necessary to have text as a parameter for input()\n",
    "n = 10\n",
    "file = open('incomplete_file.txt','w')\n",
    "for i in range(1,n+1):\n",
    "    x = int(row) * i\n",
    "    file.write(str(x) + '\\n') \n",
    "file.close()\n",
    "\n",
    "file1 = open('incomplete_file.txt','r')\n",
    "print('This is what the file looks like:\\n')\n",
    "for row in file1:\n",
    "    row = row.rstrip()\n",
    "    print(row)\n",
    "file1.close()"
   ]
  },
  {
   "cell_type": "markdown",
   "metadata": {},
   "source": [
    "## Kertaus"
   ]
  },
  {
   "cell_type": "markdown",
   "metadata": {},
   "source": [
    "Dataa voidaan lukea tiedostoista Pythonissa. Tiedostojen avulla data pysyy helposti tallessa, eikä sitä tarvitse aina erikseen luoda uudelleen."
   ]
  },
  {
   "cell_type": "markdown",
   "metadata": {},
   "source": [
    "Tiedosto avataan `open()` -käskyllä, johon määritellään tiedoston käsittelytapa `'r'` (luetaan tiedosto) tai `'w'` (kirjoitetaan tiedostoon)."
   ]
  },
  {
   "cell_type": "markdown",
   "metadata": {},
   "source": [
    "```Python\n",
    "file = open('testfile.txt','r')\n",
    "file = open('testfile.txt','w')```"
   ]
  },
  {
   "cell_type": "markdown",
   "metadata": {},
   "source": [
    "Tiedostoja voidaan lukea riveittäin käskyllä `readline()`. Jos halutaan lukea kerralla koko tiedosto, se täytyy tehdä käskyllä `readlines()`, joka tallentaa tiedoston rivit listaan."
   ]
  },
  {
   "cell_type": "markdown",
   "metadata": {},
   "source": [
    "Tiedosto suljetaan lopuksi käskyllä `close()`."
   ]
  },
  {
   "cell_type": "code",
   "execution_count": null,
   "metadata": {},
   "outputs": [],
   "source": [
    "file = open('testfile.txt','r')\n",
    "row = file.readline()\n",
    "while row != \"\": #readline ends with \"\"\n",
    "    print(row)\n",
    "    row = file.readline()\n",
    "file.close()"
   ]
  },
  {
   "cell_type": "markdown",
   "metadata": {},
   "source": [
    "`rstrip()`-metodilla voidaan poistaa **merkkijonon lopusta** ylimääräiset välilyönnit ja rivinvälit."
   ]
  },
  {
   "cell_type": "markdown",
   "metadata": {},
   "source": [
    "Tiedostoja voidaan lukea myös `for`-silmukalla tai käskyllä `with`."
   ]
  },
  {
   "cell_type": "code",
   "execution_count": null,
   "metadata": {},
   "outputs": [],
   "source": [
    "file = open('namelist.txt','r')\n",
    "row_list = file.readlines()\n",
    "file.close()\n",
    "for row in row_list:\n",
    "    row = row.strip()\n",
    "    print(row)"
   ]
  },
  {
   "cell_type": "markdown",
   "metadata": {},
   "source": [
    "`split()`-metodilla voidaan jakaa tiedoston rivejä osiin. Tätä käytetään erityisesti CSV-tiedostojen käsittelyssä. CSV-tiedostot ovat taulukkoja, joissa sarakkeet ovat eroteltu pilkulla."
   ]
  },
  {
   "cell_type": "markdown",
   "metadata": {},
   "source": [
    "```Python\n",
    "row.split(',')```"
   ]
  },
  {
   "cell_type": "markdown",
   "metadata": {},
   "source": [
    "Tiedostoon voidaan kirjoittaa käskyllä `write()`. Jos annettua tiedostoa ei ole olemassa, käsky luo uuden tiedoston, johon tiedot kirjoitetaan."
   ]
  },
  {
   "cell_type": "markdown",
   "metadata": {},
   "source": [
    "```Python\n",
    "testfile = open('new_file.txt','w')\n",
    "testfile.write('Random text')```"
   ]
  },
  {
   "cell_type": "markdown",
   "metadata": {},
   "source": [
    "### Palaute\n",
    "\n",
    "Muistathan antaa [palautetta](https://docs.google.com/forms/d/e/1FAIpQLSfZH6EDFiU7JxZd90j07YagAVFFJqWNu47RtHDQozDeaeQcXw/viewform?usp=sf_link)!"
   ]
  }
 ],
 "metadata": {
  "kernelspec": {
   "display_name": "Python 3",
   "language": "python",
   "name": "python3"
  },
  "language_info": {
   "codemirror_mode": {
    "name": "ipython",
    "version": 3
   },
   "file_extension": ".py",
   "mimetype": "text/x-python",
   "name": "python",
   "nbconvert_exporter": "python",
   "pygments_lexer": "ipython3",
   "version": "3.7.4"
  }
 },
 "nbformat": 4,
 "nbformat_minor": 2
}
