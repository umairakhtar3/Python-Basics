{
 "cells": [
  {
   "cell_type": "markdown",
   "metadata": {},
   "source": [
    "# Luku 9: Numpy ja matplotlib"
   ]
  },
  {
   "cell_type": "markdown",
   "metadata": {},
   "source": [
    "Nykyajan tekoäly pohjautuu vahvasti koneoppimiseen, jonka keskiössä on matriisilaskenta. Valtaosassa koneoppimisen sovelluksia, on kriittistä että isoja määriä syötedataa voidaan prosessoida yhtäaikaisesti ja tehokkaaasti. Käytännössä kaikki koneoppimisessa käytetty data on matriisimuotoista, joten on tärkeää, että on olemassa laadukkaita työkaluja niiden kanssa työskentelyyn."
   ]
  },
  {
   "cell_type": "markdown",
   "metadata": {},
   "source": [
    "Moniulotteisia listoja voi käyttää matriiseina:"
   ]
  },
  {
   "cell_type": "code",
   "execution_count": 1,
   "metadata": {},
   "outputs": [
    {
     "data": {
      "text/plain": [
       "[[1, 2, 3], [2, 3, 4], [3, 4, 5]]"
      ]
     },
     "execution_count": 1,
     "metadata": {},
     "output_type": "execute_result"
    }
   ],
   "source": [
    "matrix = [\n",
    "[1,2,3],\n",
    "[2,3,4],\n",
    "[3,4,5]\n",
    "]\n",
    "\n",
    "matrix"
   ]
  },
  {
   "cell_type": "markdown",
   "metadata": {},
   "source": [
    "## Numpy"
   ]
  },
  {
   "cell_type": "markdown",
   "metadata": {},
   "source": [
    "Numpy on Python-kirjasto, joka sisältää työkaluja tehokkaaseen laskentaan."
   ]
  },
  {
   "cell_type": "markdown",
   "metadata": {},
   "source": [
    "### Numpyn tuonti"
   ]
  },
  {
   "cell_type": "markdown",
   "metadata": {},
   "source": [
    "Numpy tuodaan `import`:illa, aivan niin kuin muutkin kirjastot. Numpyn kanssa käytetään usein `np` lyhennettä."
   ]
  },
  {
   "cell_type": "code",
   "execution_count": 2,
   "metadata": {},
   "outputs": [
    {
     "data": {
      "text/plain": [
       "array([1, 2, 3])"
      ]
     },
     "execution_count": 2,
     "metadata": {},
     "output_type": "execute_result"
    }
   ],
   "source": [
    "import numpy as np\n",
    "\n",
    "np.array([1,2,3])"
   ]
  },
  {
   "cell_type": "markdown",
   "metadata": {},
   "source": [
    "Yllä olevassa esimerkissä luotiin ensimmäinen `numpy.ndarray`. Numpyssä listoja vastaa tietotyyppi `ndarray`. Tämä tietotyyppi on se, johon Numpyn käyttö perustuu. "
   ]
  },
  {
   "cell_type": "markdown",
   "metadata": {},
   "source": [
    "### numpy.array()"
   ]
  },
  {
   "cell_type": "markdown",
   "metadata": {},
   "source": [
    "Numpyn `array()`-funktio muuntaa parametrinä annetun listan taulukoksi."
   ]
  },
  {
   "cell_type": "code",
   "execution_count": 2,
   "metadata": {},
   "outputs": [
    {
     "name": "stdout",
     "output_type": "stream",
     "text": [
      "[[1 2 3]\n",
      " [2 3 4]\n",
      " [3 4 5]]\n",
      "<class 'numpy.ndarray'>\n"
     ]
    }
   ],
   "source": [
    "import numpy as np\n",
    "\n",
    "matrix = [\n",
    "[1,2,3],\n",
    "[2,3,4],\n",
    "[3,4,5]\n",
    "]\n",
    "\n",
    "matrix = np.array(matrix) # We change the datatype of the variable 'matrix'\n",
    "print(matrix)\n",
    "print(type(matrix))"
   ]
  },
  {
   "cell_type": "markdown",
   "metadata": {},
   "source": [
    "Huomaa, että Numpy-taulukon rivien (eli siis sisäkkäisten listojen) tulee kaikkien olla yhtä pitkiä!"
   ]
  },
  {
   "cell_type": "markdown",
   "metadata": {},
   "source": [
    "Numpy-taulokoiden alkiohin päästään käsiksi täysin samalla tavalla kuin listojen:"
   ]
  },
  {
   "cell_type": "code",
   "execution_count": 3,
   "metadata": {},
   "outputs": [
    {
     "data": {
      "text/plain": [
       "3"
      ]
     },
     "execution_count": 3,
     "metadata": {},
     "output_type": "execute_result"
    }
   ],
   "source": [
    "a = np.array([1,2,3,4])\n",
    "a[2] # Third value in the list "
   ]
  },
  {
   "cell_type": "markdown",
   "metadata": {},
   "source": [
    "Moniulotteisten taulukoiden tapauksessa pitää antaa alkiota vastaava **rivin** sekä **sarakkeen** indeksi:"
   ]
  },
  {
   "cell_type": "code",
   "execution_count": 4,
   "metadata": {},
   "outputs": [
    {
     "data": {
      "text/plain": [
       "5"
      ]
     },
     "execution_count": 4,
     "metadata": {},
     "output_type": "execute_result"
    }
   ],
   "source": [
    "a = np.array([[1,2,3], \n",
    "              [7,6,3], \n",
    "              [7,5,9]])\n",
    "\n",
    "a[2,1] # Third row, second column"
   ]
  },
  {
   "cell_type": "markdown",
   "metadata": {},
   "source": [
    "### Taulukoiden käsittely"
   ]
  },
  {
   "cell_type": "markdown",
   "metadata": {},
   "source": [
    "###### zeros()"
   ]
  },
  {
   "cell_type": "markdown",
   "metadata": {},
   "source": [
    "`numpy.zeros()` tekee parametrin perusteella taulukon, joka on täynnä nollia."
   ]
  },
  {
   "cell_type": "code",
   "execution_count": 5,
   "metadata": {},
   "outputs": [
    {
     "name": "stdout",
     "output_type": "stream",
     "text": [
      "[0. 0. 0. 0. 0. 0. 0. 0. 0. 0.]\n"
     ]
    }
   ],
   "source": [
    "import numpy as np\n",
    "\n",
    "print(np.zeros(10))"
   ]
  },
  {
   "cell_type": "markdown",
   "metadata": {},
   "source": [
    "Funktion avulla voidaan luoda myös matriiseja antamalla sille kaksiulotteinen parametri. "
   ]
  },
  {
   "cell_type": "code",
   "execution_count": 6,
   "metadata": {},
   "outputs": [
    {
     "data": {
      "text/plain": [
       "array([[0., 0.],\n",
       "       [0., 0.]])"
      ]
     },
     "execution_count": 6,
     "metadata": {},
     "output_type": "execute_result"
    }
   ],
   "source": [
    "import numpy as np\n",
    "\n",
    "np.zeros((2,2))"
   ]
  },
  {
   "cell_type": "markdown",
   "metadata": {},
   "source": [
    "Ylempi esimerkki luo 2x2 nollamatrisiin. Ulottuvuuksien määrää ja kokoa voi muuttaa mielivaltaisesti. Huom! Luodessa moniulotteisia taulukoita muista laittaa ulottuvuudet sulkujen sisään! Yksiulotteisissa taulukoissa pelkkä numero riittää."
   ]
  },
  {
   "cell_type": "code",
   "execution_count": 7,
   "metadata": {},
   "outputs": [
    {
     "data": {
      "text/plain": [
       "array([[[0., 0., 0., 0.],\n",
       "        [0., 0., 0., 0.],\n",
       "        [0., 0., 0., 0.]],\n",
       "\n",
       "       [[0., 0., 0., 0.],\n",
       "        [0., 0., 0., 0.],\n",
       "        [0., 0., 0., 0.]]])"
      ]
     },
     "execution_count": 7,
     "metadata": {},
     "output_type": "execute_result"
    }
   ],
   "source": [
    "import numpy as np\n",
    "\n",
    "np.zeros((2,3,4))"
   ]
  },
  {
   "cell_type": "markdown",
   "metadata": {},
   "source": [
    "#### ones()"
   ]
  },
  {
   "cell_type": "markdown",
   "metadata": {},
   "source": [
    "`ones()` tekee saman kuin `zeros()`, mutta `0` sijaan arvona on `1`:"
   ]
  },
  {
   "cell_type": "code",
   "execution_count": 8,
   "metadata": {},
   "outputs": [
    {
     "data": {
      "text/plain": [
       "array([[1., 1., 1., 1., 1.],\n",
       "       [1., 1., 1., 1., 1.],\n",
       "       [1., 1., 1., 1., 1.],\n",
       "       [1., 1., 1., 1., 1.]])"
      ]
     },
     "execution_count": 8,
     "metadata": {},
     "output_type": "execute_result"
    }
   ],
   "source": [
    "import numpy as np\n",
    "\n",
    "np.ones((4,5))"
   ]
  },
  {
   "cell_type": "markdown",
   "metadata": {},
   "source": [
    "#### shape"
   ]
  },
  {
   "cell_type": "markdown",
   "metadata": {},
   "source": [
    "Usein on hyödyllistä tietää, mitkä ovat käsiteltävän taulukon muoto. Tätä varten voimme käyttää komentoa `numpy.ndarray.shape`. "
   ]
  },
  {
   "cell_type": "code",
   "execution_count": 9,
   "metadata": {},
   "outputs": [
    {
     "name": "stdout",
     "output_type": "stream",
     "text": [
      "[1. 1. 1. 1. 1.]\n",
      "(5,)\n"
     ]
    }
   ],
   "source": [
    "a = np.ones(5)\n",
    "print(a)\n",
    "print(a.shape) "
   ]
  },
  {
   "cell_type": "markdown",
   "metadata": {},
   "source": [
    "Kaksi ulotteisessa tapauksesssa tulostuu ensiksi rivien määrä, ja sitten sarakkeiden:"
   ]
  },
  {
   "cell_type": "code",
   "execution_count": 10,
   "metadata": {},
   "outputs": [
    {
     "name": "stdout",
     "output_type": "stream",
     "text": [
      "[[1. 1. 1. 1.]\n",
      " [1. 1. 1. 1.]\n",
      " [1. 1. 1. 1.]\n",
      " [1. 1. 1. 1.]\n",
      " [1. 1. 1. 1.]\n",
      " [1. 1. 1. 1.]]\n",
      "(6, 4)\n"
     ]
    }
   ],
   "source": [
    "a = np.ones((6,4))\n",
    "print(a)\n",
    "print(a.shape)"
   ]
  },
  {
   "cell_type": "markdown",
   "metadata": {},
   "source": [
    "#### linspace(start, stop, num, endpoint)"
   ]
  },
  {
   "cell_type": "markdown",
   "metadata": {},
   "source": [
    "`linspace` muodostaa `numpy.ndarray`:n, joka sisältää `num` määrän tasaisesti sijoitettuja numeroita `start`:in ja `stop`:in välillä. `endpoint`-parametrin avulla voidaan päättää, halutaanko sisältää `stop` arvoissa. Parametrit `start`, `stop` ja `num` ovat numeroita, `endpoint` on tyyppiä Boolean."
   ]
  },
  {
   "cell_type": "markdown",
   "metadata": {},
   "source": [
    "Ainoastaan `start` ja `stop` ovat pakollisia parametrejä, oletuksena `num = 50` ja `endpoint = True`."
   ]
  },
  {
   "cell_type": "code",
   "execution_count": 11,
   "metadata": {},
   "outputs": [
    {
     "name": "stdout",
     "output_type": "stream",
     "text": [
      "[ 0.  1.  2.  3.  4.  5.  6.  7.  8.  9. 10. 11. 12. 13. 14. 15. 16. 17.\n",
      " 18. 19. 20. 21. 22. 23. 24. 25. 26. 27. 28. 29. 30. 31. 32. 33. 34. 35.\n",
      " 36. 37. 38. 39. 40. 41. 42. 43. 44. 45. 46. 47. 48. 49.]\n"
     ]
    }
   ],
   "source": [
    "import numpy as np\n",
    "\n",
    "print(np.linspace(0,49))"
   ]
  },
  {
   "cell_type": "code",
   "execution_count": 31,
   "metadata": {},
   "outputs": [
    {
     "name": "stdout",
     "output_type": "stream",
     "text": [
      "[ 0.  5. 10. 15. 20.]\n",
      "[ 0.  4.  8. 12. 16.]\n"
     ]
    }
   ],
   "source": [
    "import numpy as np\n",
    "\n",
    "\n",
    "print(np.linspace(0,20,5)) # 5 numbers with equal spacing between 0 and 20\n",
    "print(np.linspace(0,20,5,False)) # 5 numbers with equal spacing from 0 up to 20, but excluding value 20"
   ]
  },
  {
   "cell_type": "markdown",
   "metadata": {},
   "source": [
    "#### arange()"
   ]
  },
  {
   "cell_type": "markdown",
   "metadata": {},
   "source": [
    "Numpyn `numpy.arange()` on käytännössä sama kuin aikasemmin esitelty `range()`, mutta `numpy.arange()` palauttaa suoraan `numpy.ndarray`:n."
   ]
  },
  {
   "cell_type": "code",
   "execution_count": 12,
   "metadata": {},
   "outputs": [
    {
     "name": "stdout",
     "output_type": "stream",
     "text": [
      "[0 1 2]\n",
      "[0. 1. 2.]\n",
      "[3 4 5 6]\n",
      "[3 5]\n"
     ]
    }
   ],
   "source": [
    "import numpy as np\n",
    "\n",
    "print(np.arange(3))\n",
    "print(np.arange(3.0))\n",
    "print(np.arange(3,7))\n",
    "print(np.arange(3,7,2))"
   ]
  },
  {
   "cell_type": "markdown",
   "metadata": {},
   "source": [
    "#### reshape()"
   ]
  },
  {
   "cell_type": "markdown",
   "metadata": {},
   "source": [
    "Nimensä mukaisesti `reshape()` muotoilee `numpy.ndarray()`:n parametrien mukaisesti:"
   ]
  },
  {
   "cell_type": "code",
   "execution_count": 67,
   "metadata": {},
   "outputs": [
    {
     "name": "stdout",
     "output_type": "stream",
     "text": [
      "[ 0  1  2  3  4  5  6  7  8  9 10 11]\n",
      "\n",
      "--------\n",
      "\n",
      "[[ 0  1  2  3]\n",
      " [ 4  5  6  7]\n",
      " [ 8  9 10 11]]\n",
      "\n",
      "--------\n",
      "\n",
      "[[[ 0  1]\n",
      "  [ 2  3]]\n",
      "\n",
      " [[ 4  5]\n",
      "  [ 6  7]]\n",
      "\n",
      " [[ 8  9]\n",
      "  [10 11]]]\n"
     ]
    }
   ],
   "source": [
    "import numpy as np\n",
    "\n",
    "a = np.arange(12)\n",
    "print(a) # Original one dimensional array\n",
    "print(\"\\n--------\\n\")\n",
    "print(np.reshape(a,(3,4))) # two dimensional array\n",
    "print(\"\\n--------\\n\")\n",
    "print(np.reshape(a,(3,2,2))) # three dimensional array"
   ]
  },
  {
   "cell_type": "markdown",
   "metadata": {},
   "source": [
    "Huomaa, että `reshape()` ei muuta alkuperäistä taulukkoa, vaan palauttaa uuden taulukon, joka on muunnelma parametrinä annetusta taulukosta. "
   ]
  },
  {
   "cell_type": "markdown",
   "metadata": {},
   "source": [
    "##### HARJOITUS 1 "
   ]
  },
  {
   "cell_type": "markdown",
   "metadata": {},
   "source": [
    "Luo kaksiulotteinen taulukko, jonka arvot ovat nollia. Taulukossa tulee olla 5 riviä ja 8 saraketta. Kutsu luomaasi taulukkoa. (`numpy.ndarray`)."
   ]
  },
  {
   "cell_type": "code",
   "execution_count": 36,
   "metadata": {
    "scrolled": true
   },
   "outputs": [
    {
     "name": "stdout",
     "output_type": "stream",
     "text": [
      "[[[0. 0. 0. 0. 0. 0. 0. 0.]\n",
      "  [0. 0. 0. 0. 0. 0. 0. 0.]\n",
      "  [0. 0. 0. 0. 0. 0. 0. 0.]\n",
      "  [0. 0. 0. 0. 0. 0. 0. 0.]\n",
      "  [0. 0. 0. 0. 0. 0. 0. 0.]]\n",
      "\n",
      " [[0. 0. 0. 0. 0. 0. 0. 0.]\n",
      "  [0. 0. 0. 0. 0. 0. 0. 0.]\n",
      "  [0. 0. 0. 0. 0. 0. 0. 0.]\n",
      "  [0. 0. 0. 0. 0. 0. 0. 0.]\n",
      "  [0. 0. 0. 0. 0. 0. 0. 0.]]]\n",
      "<class 'numpy.ndarray'>\n"
     ]
    }
   ],
   "source": [
    "import numpy as np\n",
    "a = np.zeros((2,5,8))\n",
    "print(a)\n",
    "print(type(a))"
   ]
  },
  {
   "cell_type": "markdown",
   "metadata": {},
   "source": [
    "###### HARJOITUS 2"
   ]
  },
  {
   "cell_type": "markdown",
   "metadata": {},
   "source": [
    "Luo kaksiulotteinen `numpy.ndarray()`, joka sisältää arvot 0-99. Taulukon koon tulee olla 10x10. Vinkki: käytä `numpy.arange()`:a ja `reshape()`:a. Lopuksi kutsu taulukkoa. (`numpy.ndarray`)"
   ]
  },
  {
   "cell_type": "code",
   "execution_count": 5,
   "metadata": {},
   "outputs": [
    {
     "name": "stdout",
     "output_type": "stream",
     "text": [
      "[ 0  1  2  3  4  5  6  7  8  9 10 11 12 13 14 15 16 17 18 19 20 21 22 23\n",
      " 24 25 26 27 28 29 30 31 32 33 34 35 36 37 38 39 40 41 42 43 44 45 46 47\n",
      " 48 49 50 51 52 53 54 55 56 57 58 59 60 61 62 63 64 65 66 67 68 69 70 71\n",
      " 72 73 74 75 76 77 78 79 80 81 82 83 84 85 86 87 88 89 90 91 92 93 94 95\n",
      " 96 97 98 99]\n",
      "\n",
      "--------\n",
      "\n",
      "[[ 0  1  2  3  4  5  6  7  8  9]\n",
      " [10 11 12 13 14 15 16 17 18 19]\n",
      " [20 21 22 23 24 25 26 27 28 29]\n",
      " [30 31 32 33 34 35 36 37 38 39]\n",
      " [40 41 42 43 44 45 46 47 48 49]\n",
      " [50 51 52 53 54 55 56 57 58 59]\n",
      " [60 61 62 63 64 65 66 67 68 69]\n",
      " [70 71 72 73 74 75 76 77 78 79]\n",
      " [80 81 82 83 84 85 86 87 88 89]\n",
      " [90 91 92 93 94 95 96 97 98 99]]\n",
      "\n",
      "--------\n",
      "\n"
     ]
    }
   ],
   "source": [
    "import numpy as np\n",
    "a = np.arange(100)\n",
    "print(a)\n",
    "print(\"\\n--------\\n\")\n",
    "print(np.reshape(a,(10,10)))\n",
    "print(\"\\n--------\\n\")"
   ]
  },
  {
   "cell_type": "markdown",
   "metadata": {},
   "source": [
    "##### HARJOITUS 3"
   ]
  },
  {
   "cell_type": "markdown",
   "metadata": {},
   "source": [
    "Luo ohjelma, joka pyytää käyttäjältä kaksi kokonaislukua. Tämän jälkeen luo nollamatriisi, jonka rivien määrä vastaa käyttäjän ensiksi antamaa lukua, ja sarakkeiden määrä vastaa toiseksi annettua lukua. Tulosta matriisi, sekä matriisin muoto (`shape` komento!). (Tuloste)"
   ]
  },
  {
   "cell_type": "code",
   "execution_count": 12,
   "metadata": {},
   "outputs": [
    {
     "name": "stdout",
     "output_type": "stream",
     "text": [
      "Enter the number of rows3\n",
      "Enter the number of columns5\n",
      "[[0. 0. 0. 0. 0.]\n",
      " [0. 0. 0. 0. 0.]\n",
      " [0. 0. 0. 0. 0.]]\n"
     ]
    }
   ],
   "source": [
    "import numpy as np \n",
    "x = int(input('Enter the number of rows'))\n",
    "y = int(input('Enter the number of columns'))\n",
    "a = np.zeros((x,y))\n",
    "print(np.reshape(a,(x,y)))"
   ]
  },
  {
   "cell_type": "markdown",
   "metadata": {},
   "source": [
    "#### Lisääminen taulukkoon"
   ]
  },
  {
   "cell_type": "markdown",
   "metadata": {},
   "source": [
    "Yksiulotteiseen taulukkoon voidaan lisätä arvo `numpy.append()` komennolla. Funktio toimii hieman eri tavalla, kuin Pythonin sisäänrakennettu versio. \n",
    "1. Funktio ei muokkaa alkuperäistä taulukkoa, vaan palauttaa uuden taulukon.\n",
    "2. Funktiolle pitää antaa parametriksi taulukko johon lisätään, sekä lisättävä arvo."
   ]
  },
  {
   "cell_type": "code",
   "execution_count": 63,
   "metadata": {},
   "outputs": [
    {
     "name": "stdout",
     "output_type": "stream",
     "text": [
      "The original array (unchanged): [1 2 3 4]\n",
      "Array where we append a to value: [1 2 3 4 5]\n"
     ]
    }
   ],
   "source": [
    "a = np.array([1,2,3,4])\n",
    "print(\"The original array (unchanged):\",a)\n",
    "print(\"Array where we append a to value:\",np.append(a,5))"
   ]
  },
  {
   "cell_type": "markdown",
   "metadata": {},
   "source": [
    "Yksi- tai moniulotteiseen taulukkoon voidaan lisätä rivejä käyttäen funktiota `numpy.vstack()` sekä sarakkeita käyttäen `numpy.column_stack()`-funktiota. Myös nämä funktiot palauttavat uuden taulukon!\n",
    "\n",
    "`numpy.vstack()` toimii `numpy.append()`in tavoin, mutta sille voidaan antaa yksi- tai moniulotteisia taulukoita yhdistettäväksi mielivaltainen määrä. Huomaa kuitenkin, että rivien pituuksien tulee olla samat. Kasattavat rivit tulee myös antaa vielä erillisten sulkujen sisällä (katso alla oleva esimerkki). Nämä kaksi asiaa pitää muistaa, muuten lisäys ei onnistu ja Python tulostaa virheilmoituksen!"
   ]
  },
  {
   "cell_type": "code",
   "execution_count": 1,
   "metadata": {},
   "outputs": [
    {
     "ename": "NameError",
     "evalue": "name 'np' is not defined",
     "output_type": "error",
     "traceback": [
      "\u001b[1;31m---------------------------------------------------------------------------\u001b[0m",
      "\u001b[1;31mNameError\u001b[0m                                 Traceback (most recent call last)",
      "\u001b[1;32m<ipython-input-1-a1641cc6931a>\u001b[0m in \u001b[0;36m<module>\u001b[1;34m\u001b[0m\n\u001b[1;32m----> 1\u001b[1;33m \u001b[0ma\u001b[0m \u001b[1;33m=\u001b[0m \u001b[0mnp\u001b[0m\u001b[1;33m.\u001b[0m\u001b[0marray\u001b[0m\u001b[1;33m(\u001b[0m\u001b[1;33m[\u001b[0m\u001b[1;36m1\u001b[0m\u001b[1;33m,\u001b[0m\u001b[1;36m2\u001b[0m\u001b[1;33m,\u001b[0m\u001b[1;36m3\u001b[0m\u001b[1;33m]\u001b[0m\u001b[1;33m)\u001b[0m\u001b[1;33m\u001b[0m\u001b[1;33m\u001b[0m\u001b[0m\n\u001b[0m\u001b[0;32m      2\u001b[0m \u001b[0mb\u001b[0m \u001b[1;33m=\u001b[0m \u001b[0mnp\u001b[0m\u001b[1;33m.\u001b[0m\u001b[0marray\u001b[0m\u001b[1;33m(\u001b[0m\u001b[1;33m[\u001b[0m\u001b[1;36m4\u001b[0m\u001b[1;33m,\u001b[0m\u001b[1;36m5\u001b[0m\u001b[1;33m,\u001b[0m\u001b[1;36m6\u001b[0m\u001b[1;33m]\u001b[0m\u001b[1;33m)\u001b[0m\u001b[1;33m\u001b[0m\u001b[1;33m\u001b[0m\u001b[0m\n\u001b[0;32m      3\u001b[0m \u001b[0mc\u001b[0m \u001b[1;33m=\u001b[0m \u001b[0mnp\u001b[0m\u001b[1;33m.\u001b[0m\u001b[0marray\u001b[0m\u001b[1;33m(\u001b[0m\u001b[1;33m[\u001b[0m\u001b[1;36m7\u001b[0m\u001b[1;33m,\u001b[0m\u001b[1;36m8\u001b[0m\u001b[1;33m,\u001b[0m\u001b[1;36m9\u001b[0m\u001b[1;33m]\u001b[0m\u001b[1;33m)\u001b[0m\u001b[1;33m\u001b[0m\u001b[1;33m\u001b[0m\u001b[0m\n\u001b[0;32m      4\u001b[0m \u001b[1;33m\u001b[0m\u001b[0m\n\u001b[0;32m      5\u001b[0m \u001b[0mmatrix\u001b[0m \u001b[1;33m=\u001b[0m \u001b[0mnp\u001b[0m\u001b[1;33m.\u001b[0m\u001b[0mvstack\u001b[0m\u001b[1;33m(\u001b[0m\u001b[1;33m(\u001b[0m\u001b[0ma\u001b[0m\u001b[1;33m,\u001b[0m\u001b[0mb\u001b[0m\u001b[1;33m,\u001b[0m\u001b[0mc\u001b[0m\u001b[1;33m)\u001b[0m\u001b[1;33m)\u001b[0m \u001b[1;31m# We add all rows at once\u001b[0m\u001b[1;33m\u001b[0m\u001b[1;33m\u001b[0m\u001b[0m\n",
      "\u001b[1;31mNameError\u001b[0m: name 'np' is not defined"
     ]
    }
   ],
   "source": [
    "a = np.array([1,2,3])\n",
    "b = np.array([4,5,6])\n",
    "c = np.array([7,8,9])\n",
    "\n",
    "matrix = np.vstack((a,b,c)) # We add all rows at once\n",
    "print(matrix)\n",
    "print(\"----\")\n",
    "matrix2 = np.vstack((c,b)) # First we stack c and b\n",
    "matrix2 = np.vstack((matrix2,a)) # Then we add a\n",
    "print(matrix2)"
   ]
  },
  {
   "cell_type": "markdown",
   "metadata": {},
   "source": [
    "Funktio liittää siis taulukot sille annetussa järjestyksessä. Huom! Parametrit pitää jälleen antaa ylimääräisten sulkujen sisällä.\n",
    "\n",
    "`numpy.column_stack()`-funktion avulla voidaan taulukkoon lisätä sarakkeita. Funktiota käytetään täysin samalla tavalla kuin funktiota `numpy.vstack()`. `numpy.column_stack()`-funktio siis järjestää siis listojen sisällöt uudelleen, sillä Numpy-taulukoissa alkiot ilmoitetaan aina riveittäin. "
   ]
  },
  {
   "cell_type": "code",
   "execution_count": 2,
   "metadata": {},
   "outputs": [
    {
     "ename": "NameError",
     "evalue": "name 'np' is not defined",
     "output_type": "error",
     "traceback": [
      "\u001b[1;31m---------------------------------------------------------------------------\u001b[0m",
      "\u001b[1;31mNameError\u001b[0m                                 Traceback (most recent call last)",
      "\u001b[1;32m<ipython-input-2-5a3e7719ec50>\u001b[0m in \u001b[0;36m<module>\u001b[1;34m\u001b[0m\n\u001b[1;32m----> 1\u001b[1;33m \u001b[0ma\u001b[0m \u001b[1;33m=\u001b[0m \u001b[0mnp\u001b[0m\u001b[1;33m.\u001b[0m\u001b[0marray\u001b[0m\u001b[1;33m(\u001b[0m\u001b[1;33m[\u001b[0m\u001b[1;36m1\u001b[0m\u001b[1;33m,\u001b[0m\u001b[1;36m2\u001b[0m\u001b[1;33m,\u001b[0m\u001b[1;36m3\u001b[0m\u001b[1;33m]\u001b[0m\u001b[1;33m)\u001b[0m\u001b[1;33m\u001b[0m\u001b[1;33m\u001b[0m\u001b[0m\n\u001b[0m\u001b[0;32m      2\u001b[0m \u001b[0mb\u001b[0m \u001b[1;33m=\u001b[0m \u001b[0mnp\u001b[0m\u001b[1;33m.\u001b[0m\u001b[0marray\u001b[0m\u001b[1;33m(\u001b[0m\u001b[1;33m[\u001b[0m\u001b[1;36m4\u001b[0m\u001b[1;33m,\u001b[0m\u001b[1;36m5\u001b[0m\u001b[1;33m,\u001b[0m\u001b[1;36m6\u001b[0m\u001b[1;33m]\u001b[0m\u001b[1;33m)\u001b[0m\u001b[1;33m\u001b[0m\u001b[1;33m\u001b[0m\u001b[0m\n\u001b[0;32m      3\u001b[0m \u001b[0mc\u001b[0m \u001b[1;33m=\u001b[0m \u001b[0mnp\u001b[0m\u001b[1;33m.\u001b[0m\u001b[0marray\u001b[0m\u001b[1;33m(\u001b[0m\u001b[1;33m[\u001b[0m\u001b[1;36m7\u001b[0m\u001b[1;33m,\u001b[0m\u001b[1;36m8\u001b[0m\u001b[1;33m,\u001b[0m\u001b[1;36m9\u001b[0m\u001b[1;33m]\u001b[0m\u001b[1;33m)\u001b[0m\u001b[1;33m\u001b[0m\u001b[1;33m\u001b[0m\u001b[0m\n\u001b[0;32m      4\u001b[0m \u001b[1;33m\u001b[0m\u001b[0m\n\u001b[0;32m      5\u001b[0m \u001b[0mmatrix\u001b[0m \u001b[1;33m=\u001b[0m \u001b[0mnp\u001b[0m\u001b[1;33m.\u001b[0m\u001b[0mcolumn_stack\u001b[0m\u001b[1;33m(\u001b[0m\u001b[1;33m(\u001b[0m\u001b[0ma\u001b[0m\u001b[1;33m,\u001b[0m\u001b[0mb\u001b[0m\u001b[1;33m,\u001b[0m\u001b[0mc\u001b[0m\u001b[1;33m)\u001b[0m\u001b[1;33m)\u001b[0m\u001b[1;33m\u001b[0m\u001b[1;33m\u001b[0m\u001b[0m\n",
      "\u001b[1;31mNameError\u001b[0m: name 'np' is not defined"
     ]
    }
   ],
   "source": [
    "a = np.array([1,2,3])\n",
    "b = np.array([4,5,6])\n",
    "c = np.array([7,8,9])\n",
    "\n",
    "matrix = np.column_stack((a,b,c)) \n",
    "print(matrix)\n",
    "print(\"-----\")\n",
    "matrix2 = np.column_stack((b,c,a))\n",
    "print(matrix2)"
   ]
  },
  {
   "cell_type": "markdown",
   "metadata": {},
   "source": [
    "Funktioiden avulla voidaan myös yhdistää moniulotteisia taulukkoja toisiinsa. Myös tällöin lisättävien taulukoiden muotojen tulee olla yhteensopivat."
   ]
  },
  {
   "cell_type": "code",
   "execution_count": 3,
   "metadata": {},
   "outputs": [
    {
     "ename": "NameError",
     "evalue": "name 'np' is not defined",
     "output_type": "error",
     "traceback": [
      "\u001b[1;31m---------------------------------------------------------------------------\u001b[0m",
      "\u001b[1;31mNameError\u001b[0m                                 Traceback (most recent call last)",
      "\u001b[1;32m<ipython-input-3-f5f225e2c1fa>\u001b[0m in \u001b[0;36m<module>\u001b[1;34m\u001b[0m\n\u001b[1;32m----> 1\u001b[1;33m a = np.array([[1,2,3],\n\u001b[0m\u001b[0;32m      2\u001b[0m               [4,5,6]])\n\u001b[0;32m      3\u001b[0m \u001b[1;33m\u001b[0m\u001b[0m\n\u001b[0;32m      4\u001b[0m b = np.array([[5,6,7],\n\u001b[0;32m      5\u001b[0m               [9,8,7]])\n",
      "\u001b[1;31mNameError\u001b[0m: name 'np' is not defined"
     ]
    }
   ],
   "source": [
    "a = np.array([[1,2,3],\n",
    "              [4,5,6]])\n",
    "\n",
    "b = np.array([[5,6,7],\n",
    "              [9,8,7]])\n",
    "\n",
    "print(np.vstack((a,b)))\n",
    "print(\"------\")\n",
    "print(np.column_stack((a,b)))"
   ]
  },
  {
   "cell_type": "markdown",
   "metadata": {},
   "source": [
    "##### HARJOITUS 4"
   ]
  },
  {
   "cell_type": "markdown",
   "metadata": {},
   "source": [
    "Sinulle on annettu valmiiksi kolme taulukkoa `a`, `b` ja `c`.\n",
    "\n",
    "1. Lisää ensiksi taulukkoon `a` luku `3` käyttäen komentoa `np.append()`, ja tallenna tämä uusi taulukko muuttujaan `d`.\n",
    "2. Tämän jälkeen lisää taulukkoon `b` taulukko `d` käyttäen funktiota `np.vstack()`, ja tallenna uusi taulukko muuttujaan `mat1`.\n",
    "3. Lopuksi lisää muuttujaan `mat1` taulukko `c` komennolla `np.column_stack()`, ja tallenna se muuttuujaan `mat2`. \n",
    "\n",
    "Tulosta jokaisen lisäämisoperaation jälkeen uusi muuttuja, jonka olet luonut. Lopputuloksena pitäisi olla 4 kertaa 4 matriisi. (Tuloste)"
   ]
  },
  {
   "cell_type": "code",
   "execution_count": 17,
   "metadata": {},
   "outputs": [
    {
     "name": "stdout",
     "output_type": "stream",
     "text": [
      "[1 2 3]\n",
      "[[7 4 3 2]\n",
      " [5 6 5 4]\n",
      " [2 5 2 7]\n",
      " [3 1 2 3]]\n"
     ]
    }
   ],
   "source": [
    "a = np.array([1,2])\n",
    "\n",
    "b = np.array([[4,3,2], \n",
    "              [6,5,4], \n",
    "              [5,2,7]])\n",
    "\n",
    "c = np.array([7,5,2,3])\n",
    "\n",
    "d = np.append(a,3)\n",
    "print(d)\n",
    "mat1 = np.vstack((b,d))\n",
    "\n",
    "mat2 = np.column_stack((c,mat1))\n",
    "print(mat2)"
   ]
  },
  {
   "cell_type": "markdown",
   "metadata": {},
   "source": [
    "#### Vakiot"
   ]
  },
  {
   "cell_type": "markdown",
   "metadata": {},
   "source": [
    "Piit ja muut vakiot löytyvät tutulla tavalla:"
   ]
  },
  {
   "cell_type": "code",
   "execution_count": 18,
   "metadata": {},
   "outputs": [
    {
     "name": "stdout",
     "output_type": "stream",
     "text": [
      "3.141592653589793\n",
      "2.718281828459045\n"
     ]
    }
   ],
   "source": [
    "import numpy as np\n",
    "\n",
    "print(np.pi)\n",
    "print(np.e)"
   ]
  },
  {
   "cell_type": "markdown",
   "metadata": {},
   "source": [
    "#### Trigonometriset funktiot"
   ]
  },
  {
   "cell_type": "markdown",
   "metadata": {},
   "source": [
    "Trigonometriset funktioit toimivat samalla tavalla kuin `math`-kirjastossa:"
   ]
  },
  {
   "cell_type": "code",
   "execution_count": 19,
   "metadata": {},
   "outputs": [
    {
     "data": {
      "text/plain": [
       "0.7071067811865476"
      ]
     },
     "execution_count": 19,
     "metadata": {},
     "output_type": "execute_result"
    }
   ],
   "source": [
    "import numpy as np\n",
    "\n",
    "angle = 45\n",
    "radians = np.radians(angle)\n",
    "np.sin(radians)"
   ]
  },
  {
   "cell_type": "markdown",
   "metadata": {},
   "source": [
    "Ja taas, jos parametrina on `np.ndarray`, suoritetaan muunnos kaikille arvoille!"
   ]
  },
  {
   "cell_type": "code",
   "execution_count": 14,
   "metadata": {},
   "outputs": [
    {
     "data": {
      "text/plain": [
       "array([0.       , 0.5      , 0.8660254, 1.       ])"
      ]
     },
     "execution_count": 14,
     "metadata": {},
     "output_type": "execute_result"
    }
   ],
   "source": [
    "import numpy as np\n",
    "\n",
    "angles = np.array([0,30,60,90])\n",
    "radians = np.radians(angles)\n",
    "np.sin(radians)"
   ]
  },
  {
   "cell_type": "markdown",
   "metadata": {},
   "source": [
    "#### mean()"
   ]
  },
  {
   "cell_type": "markdown",
   "metadata": {},
   "source": [
    "`numpy.mean()` laskee taulukon keskiarvon."
   ]
  },
  {
   "cell_type": "code",
   "execution_count": 15,
   "metadata": {},
   "outputs": [
    {
     "name": "stdout",
     "output_type": "stream",
     "text": [
      "[0 1 2 3 4 5 6 7 8 9]\n"
     ]
    },
    {
     "data": {
      "text/plain": [
       "4.5"
      ]
     },
     "execution_count": 15,
     "metadata": {},
     "output_type": "execute_result"
    }
   ],
   "source": [
    "import numpy as np\n",
    "\n",
    "x = np.arange(10)\n",
    "print(x)\n",
    "np.mean(x)"
   ]
  },
  {
   "cell_type": "markdown",
   "metadata": {},
   "source": [
    "Moniulotteisilla taulukoilla lasketaan oletuksena keskiarvo jokaisesta alkiosta:"
   ]
  },
  {
   "cell_type": "code",
   "execution_count": 16,
   "metadata": {},
   "outputs": [
    {
     "data": {
      "text/plain": [
       "2.3333333333333335"
      ]
     },
     "execution_count": 16,
     "metadata": {},
     "output_type": "execute_result"
    }
   ],
   "source": [
    "import numpy as np\n",
    "\n",
    "A = np.array([\n",
    "    [1,2,3],\n",
    "    [2,3,4],\n",
    "    [1,2,3]\n",
    "])\n",
    "\n",
    "np.mean(A)"
   ]
  },
  {
   "cell_type": "markdown",
   "metadata": {},
   "source": [
    "Jos kuitenkin halutaan laskea jokaisen sarakkeen tai rivin keskiarvot, voidaan käyttää vapaavalintaista `axis`-parametriä. Sarakekeskiarvot saadaan asettamalla `axis=0` ja rivikeskiarvot saadaan käyttämällä `axis=1`. Tällöin funktio palauttaa Numpy-taulukon:"
   ]
  },
  {
   "cell_type": "code",
   "execution_count": 17,
   "metadata": {},
   "outputs": [
    {
     "name": "stdout",
     "output_type": "stream",
     "text": [
      "Column means: [1.33333333 2.         2.66666667]\n",
      "------\n",
      "Row means: [2. 3. 1.]\n"
     ]
    }
   ],
   "source": [
    "import numpy as np\n",
    "\n",
    "A = np.array([\n",
    "    [1,2,3],\n",
    "    [2,3,4],\n",
    "    [1,1,1]\n",
    "])\n",
    "\n",
    "print(\"Column means:\",np.mean(A,axis=0))\n",
    "print(\"------\")\n",
    "print(\"Row means:\",np.mean(A,axis=1))"
   ]
  },
  {
   "cell_type": "markdown",
   "metadata": {},
   "source": [
    "#### sum()"
   ]
  },
  {
   "cell_type": "markdown",
   "metadata": {},
   "source": [
    "Matriisista voidaan laskea yhteen sen kaikki alkiot `numpy.sum()` komennon avulla:"
   ]
  },
  {
   "cell_type": "code",
   "execution_count": 18,
   "metadata": {},
   "outputs": [
    {
     "name": "stdout",
     "output_type": "stream",
     "text": [
      "21\n"
     ]
    }
   ],
   "source": [
    "A = np.array([[1,2,3],\n",
    "              [3,2,2],\n",
    "              [1,5,2]])\n",
    "\n",
    "print(np.sum(A))"
   ]
  },
  {
   "cell_type": "markdown",
   "metadata": {},
   "source": [
    "Funktion avulla voidaan laskea myös sarakkeiden sekä rivien summat antamalla parametri `axis=0` tai `axis=1`, vastaavasti."
   ]
  },
  {
   "cell_type": "code",
   "execution_count": 19,
   "metadata": {},
   "outputs": [
    {
     "name": "stdout",
     "output_type": "stream",
     "text": [
      "Column sums: [5 9 7]\n",
      "-----\n",
      "Row sums: [6 7 8]\n"
     ]
    }
   ],
   "source": [
    "A = np.array([[1,2,3],\n",
    "              [3,2,2],\n",
    "              [1,5,2]])\n",
    "\n",
    "print(\"Column sums:\", np.sum(A,axis=0))\n",
    "print(\"-----\")\n",
    "print(\"Row sums:\", np.sum(A,axis=1))"
   ]
  },
  {
   "cell_type": "markdown",
   "metadata": {},
   "source": [
    "###### HARJOITUS 5"
   ]
  },
  {
   "cell_type": "markdown",
   "metadata": {},
   "source": [
    "Anettuna on taulukko `A`. Laske taulukon kokonaiskeskiarvo, sekä sarake- että rivikeskiarvot, ja tulosta ne. (Tuloste)"
   ]
  },
  {
   "cell_type": "code",
   "execution_count": 26,
   "metadata": {},
   "outputs": [
    {
     "name": "stdout",
     "output_type": "stream",
     "text": [
      "13.25\n",
      "17.666666666666668\n",
      "4.416666666666667\n"
     ]
    }
   ],
   "source": [
    "import numpy as np\n",
    "\n",
    "A = np.array([\n",
    "    [1,5,7,8],\n",
    "    [3,3,3,3],\n",
    "    [9,1,9,1]\n",
    "])\n",
    "\n",
    "y=np.sum(A,axis=0)\n",
    "x=np.sum(A,axis=1)\n",
    "np.mean(y)\n",
    "print(np.mean(y))\n",
    "np.mean(x)\n",
    "print(np.mean(x))\n",
    "np.mean(A)\n",
    "\n",
    "print(np.mean(A))"
   ]
  },
  {
   "cell_type": "markdown",
   "metadata": {},
   "source": [
    "##### HARJOITUS 6"
   ]
  },
  {
   "cell_type": "markdown",
   "metadata": {},
   "source": [
    "Anettuna on taulukko `A`. Laske taulukon kokonaissumma, sekä sarake- että rivisummat, ja tulosta ne. (Tuloste)"
   ]
  },
  {
   "cell_type": "code",
   "execution_count": 8,
   "metadata": {},
   "outputs": [
    {
     "name": "stdout",
     "output_type": "stream",
     "text": [
      "Total: 53\n",
      "Column sums: [13  9 19 12]\n",
      "-----\n",
      "Row sums: [21 12 20]\n"
     ]
    }
   ],
   "source": [
    "import numpy as np\n",
    "\n",
    "A = np.array([\n",
    "    [1,5,7,8],\n",
    "    [3,3,3,3],\n",
    "    [9,1,9,1]\n",
    "])\n",
    "\n",
    "print(\"Total:\", np.sum(A))\n",
    "print(\"Column sums:\", np.sum(A,axis=0))\n",
    "print(\"-----\")\n",
    "print(\"Row sums:\", np.sum(A,axis=1))"
   ]
  },
  {
   "cell_type": "markdown",
   "metadata": {},
   "source": [
    "### Matematiikkaoperaatiot"
   ]
  },
  {
   "cell_type": "markdown",
   "metadata": {},
   "source": [
    "Numpyssä lähtökohtana on, että kaikki laskuoperaatiot on yleistetty myös taulukoille, ja siksi talukoiden käyttäminen on kätevä ja nopea tapa laskea:"
   ]
  },
  {
   "cell_type": "code",
   "execution_count": 22,
   "metadata": {},
   "outputs": [
    {
     "data": {
      "text/plain": [
       "array([[5., 5., 5., 5., 5.],\n",
       "       [5., 5., 5., 5., 5.]])"
      ]
     },
     "execution_count": 22,
     "metadata": {},
     "output_type": "execute_result"
    }
   ],
   "source": [
    "import numpy as np\n",
    "\n",
    "a = np.ones((2,5))\n",
    "    5 * a"
   ]
  },
  {
   "cell_type": "markdown",
   "metadata": {},
   "source": [
    "Toisin kuin listojen kanssa, `numpy.ndarray`:n kanssa laskuoperaatiot kohdistuvat jokaiseen alkioon erikseen."
   ]
  },
  {
   "cell_type": "code",
   "execution_count": 23,
   "metadata": {},
   "outputs": [
    {
     "name": "stdout",
     "output_type": "stream",
     "text": [
      "[[3. 3. 3.]\n",
      " [3. 3. 3.]\n",
      " [3. 3. 3.]]\n",
      "-----\n",
      "[[-4. -4. -4.]\n",
      " [-4. -4. -4.]\n",
      " [-4. -4. -4.]]\n",
      "-----\n",
      "[[0.5 0.5 0.5]\n",
      " [0.5 0.5 0.5]\n",
      " [0.5 0.5 0.5]]\n",
      "-----\n",
      "[[2. 2. 2.]\n",
      " [2. 2. 2.]\n",
      " [2. 2. 2.]]\n"
     ]
    }
   ],
   "source": [
    "import numpy as np\n",
    "\n",
    "a = np.ones((3,3))\n",
    "print(a+2)\n",
    "print(\"-----\")\n",
    "print(a-5)\n",
    "print(\"-----\")\n",
    "print(a/2)\n",
    "print(\"-----\")\n",
    "print(a*2)"
   ]
  },
  {
   "cell_type": "markdown",
   "metadata": {},
   "source": [
    "Jos molemmat laskettavat ovat matriiseja, suoritetaan laskuoperaatio matriisien saman indeksin alkioiden välillä:"
   ]
  },
  {
   "cell_type": "code",
   "execution_count": 24,
   "metadata": {},
   "outputs": [
    {
     "name": "stdout",
     "output_type": "stream",
     "text": [
      "Matrix a:\n",
      " [[1 2]\n",
      " [3 4]]\n",
      "-----\n",
      "Matrix b:\n",
      " [[1 1]\n",
      " [5 7]]\n",
      "-----\n",
      "a+b:\n",
      " [[ 2  3]\n",
      " [ 8 11]]\n",
      "-----\n",
      "a-b:\n",
      " [[ 0  1]\n",
      " [-2 -3]]\n",
      "-----\n",
      "a/b:\n",
      " [[1.         2.        ]\n",
      " [0.6        0.57142857]]\n",
      "-----\n",
      "a*b:\n",
      " [[ 1  2]\n",
      " [15 28]]\n"
     ]
    }
   ],
   "source": [
    "a = np.array([[1,2],[3,4]])\n",
    "b = np.array([[1,1],[5,7]])\n",
    "\n",
    "print(\"Matrix a:\\n\",a)\n",
    "print(\"-----\")\n",
    "print(\"Matrix b:\\n\",b)\n",
    "print(\"-----\")\n",
    "print(\"a+b:\\n\",a+b)\n",
    "print(\"-----\")\n",
    "print(\"a-b:\\n\",a-b)\n",
    "print(\"-----\")\n",
    "print(\"a/b:\\n\",a/b)\n",
    "print(\"-----\")\n",
    "print(\"a*b:\\n\",a*b)"
   ]
  },
  {
   "cell_type": "markdown",
   "metadata": {},
   "source": [
    "Jos samanlaista operaatiota yritetään Pythonin tavallisten listojen kanssa, syntyy virheilmoitus:"
   ]
  },
  {
   "cell_type": "code",
   "execution_count": null,
   "metadata": {},
   "outputs": [],
   "source": [
    "a = [1, 1, 1, 1, 1, 1]\n",
    "print(a+2)"
   ]
  },
  {
   "cell_type": "markdown",
   "metadata": {},
   "source": [
    "##### HARJOITUS 7"
   ]
  },
  {
   "cell_type": "markdown",
   "metadata": {},
   "source": [
    "Sinulle on annettu taulukot `a` ja `b`. Laske niille seuraavat eri laskutoimitukset:\n",
    "\n",
    "1. Laske mitä on `a+b`.\n",
    "2. Kerro taulukko `a` luvulla 3, ja korota sitten sen arvot toiseen potenssiin.\n",
    "3. Laske `(a+b)*(a-b)` ja korota sitten sen arvot kolmanteen potenssiin."
   ]
  },
  {
   "cell_type": "code",
   "execution_count": 30,
   "metadata": {},
   "outputs": [
    {
     "name": "stdout",
     "output_type": "stream",
     "text": [
      "[[ 6  5 10]\n",
      " [ 8  9 16]\n",
      " [ 7 13 18]]\n",
      "--------\n",
      "[[  9  36 324]\n",
      " [441 225 576]\n",
      " [  9 324 729]]\n",
      "--------\n",
      "[[-13824   -125   8000]\n",
      " [110592    729      0]\n",
      " [-42875  -2197      0]]\n"
     ]
    }
   ],
   "source": [
    "a = np.array([[1,2,6], \n",
    "              [7,5,8], \n",
    "              [1,6,9]])\n",
    "\n",
    "b = np.array([[5,3,4], \n",
    "              [1,4,8], \n",
    "              [6,7,9]])\n",
    "\n",
    "\n",
    "print(a+b)\n",
    "print(\"--------\")\n",
    "print((a*3)**2)\n",
    "print(\"--------\")\n",
    "print(((a+b)*(a-b))**3)"
   ]
  },
  {
   "cell_type": "markdown",
   "metadata": {},
   "source": [
    "### Slicing"
   ]
  },
  {
   "cell_type": "markdown",
   "metadata": {},
   "source": [
    "Kappaleessa 5 tutustuimme listoihin ja niiden ominaisuuksiin. Yksi listojen ominaisuus oli slice-operaatiot, jolla listoista pystyttiin ottamaan tietty osa. Numpy-taulukoille slicing toimii samalla tavalla kuin listoille:"
   ]
  },
  {
   "cell_type": "code",
   "execution_count": 25,
   "metadata": {},
   "outputs": [
    {
     "name": "stdout",
     "output_type": "stream",
     "text": [
      "[11  7  5 21 89 64 86 48]\n",
      "[11  7  5 21 89]\n",
      "[11  5 89 86]\n",
      "[64 89 21]\n"
     ]
    }
   ],
   "source": [
    "a = np.array([11,7,5,21,89,64,86,48])\n",
    "print(a)\n",
    "print(a[:5]) # First 5 values\n",
    "print(a[::2]) # Every other value\n",
    "print(a[5:2:-1]) # Values from idx 5 to idx 3 backwards"
   ]
  },
  {
   "cell_type": "markdown",
   "metadata": {},
   "source": [
    "Voimme myös suorittaa slice-operaatioita moniulotteisille taulukoille. Moniulotteisen taulukon ulottuvuudet, erotellaan pilkulla. Kaksiulotteisessa taulukossa siis `taulukko[rivi, sarake]`.  Jos halutaan jonkin ulottuvuuden kaikki alkiot (eli siis esim. kaikki rivit tai sarakkeet), voidaan käyttää `:`-merkkiä kyseisen ulottuvuuden kohdalla. "
   ]
  },
  {
   "cell_type": "code",
   "execution_count": 33,
   "metadata": {},
   "outputs": [
    {
     "name": "stdout",
     "output_type": "stream",
     "text": [
      "[[7 6 4 3]\n",
      " [9 5 3 6]\n",
      " [4 6 7 8]]\n",
      "------\n",
      "[[1 3]\n",
      " [9 3]]\n",
      "------\n",
      "[[4 6 7 8]\n",
      " [9 5 3 6]\n",
      " [7 6 4 3]\n",
      " [1 2 3 6]]\n",
      "------\n",
      "[1 7 9 4]\n"
     ]
    }
   ],
   "source": [
    "a = np.array([[1,2,3,6], \n",
    "              [7,6,4,3], \n",
    "              [9,5,3,6], \n",
    "              [4,6,7,8]])\n",
    "\n",
    "print(a[1:,:]) # Ignore first row\n",
    "print(\"------\")\n",
    "print(a[::2,::2]) # Take every other row and column\n",
    "print(\"------\")\n",
    "print(a[::-1,:]) # Change the order of the rows\n",
    "print(\"------\")\n",
    "print(a[:,0]) # Take the first column"
   ]
  },
  {
   "cell_type": "markdown",
   "metadata": {},
   "source": [
    "##### HARJOITUS 8"
   ]
  },
  {
   "cell_type": "markdown",
   "metadata": {},
   "source": [
    "Sinulle on annettu taulukko `a`. Tee sille seuraavat slice-operaatiot:\n",
    "\n",
    "1. Tulosta `a` ilman ensimmäistä saraketta.\n",
    "2. Tulosta taulukosta `a` rivien 2 ja 3 viimeisen sarakkeen arvot.\n",
    "3. Tulosta taulukko `a` ottaen vain joka toisen sarakkeen (alkaen indeksistä 0).\n",
    "4. Tulosta taulukon `a` kaksi ensimmäistä riviä ja kolme ensimmäistä saraketta niin, että rivien ja sarakkeiden arvot ovat käänteisessä järjestyksessä.  "
   ]
  },
  {
   "cell_type": "code",
   "execution_count": 41,
   "metadata": {},
   "outputs": [
    {
     "name": "stdout",
     "output_type": "stream",
     "text": [
      "[[  9  33  67]\n",
      " [ 44  12   8]\n",
      " [125   6   3]\n",
      " [  7  68   3]]\n",
      "------\n",
      "[8 3]\n",
      "------\n",
      "[[ 1 33]\n",
      " [ 6 12]\n",
      " [94  6]\n",
      " [ 5 68]]\n",
      "------\n",
      "[[12 44  6]\n",
      " [33  9  1]]\n"
     ]
    }
   ],
   "source": [
    "a = np.array([[1,9,33,67], \n",
    "              [6,44,12,8], \n",
    "              [94,125,6,3], \n",
    "              [5,7,68,3]])\n",
    "\n",
    "\n",
    "\n",
    "print(a[:,1:]) \n",
    "print(\"------\")\n",
    "print(a[1:3,3])\n",
    "print(\"------\")\n",
    "print(a[:,::2])\n",
    "print(\"------\")\n",
    "print(a[1::-1,2::-1])"
   ]
  },
  {
   "cell_type": "markdown",
   "metadata": {},
   "source": [
    "# Matplotlib"
   ]
  },
  {
   "cell_type": "markdown",
   "metadata": {},
   "source": [
    "Matplotlib on kirjasto, jonka avulla voidaan piirtää kuvaajia. Matplotlibistä tuodaa lähestulkoon aina ainoastaan siitä löytyvä alikirjasto `pyplot`, jonka avulla voi muutamalla rivillä koodia piirtää kuvaajia."
   ]
  },
  {
   "cell_type": "markdown",
   "metadata": {},
   "source": [
    "Aloitetaan yksinkertaisella esimerkillä:"
   ]
  },
  {
   "cell_type": "markdown",
   "metadata": {},
   "source": [
    "###### Esimerkki"
   ]
  },
  {
   "cell_type": "code",
   "execution_count": 43,
   "metadata": {},
   "outputs": [
    {
     "data": {
      "image/png": "[encoded data removed]",
      "text/plain": [
       "<Figure size 432x288 with 1 Axes>"
      ]
     },
     "metadata": {
      "needs_background": "light"
     },
     "output_type": "display_data"
    }
   ],
   "source": [
    "%matplotlib inline\n",
    "\n",
    "import numpy as np\n",
    "import matplotlib.pyplot as plt\n",
    "\n",
    "x = np.arange(5)\n",
    "y = np.arange(5)\n",
    "\n",
    "plt.plot(x, y)\n",
    "plt.show()"
   ]
  },
  {
   "cell_type": "markdown",
   "metadata": {},
   "source": [
    "Käydään esimerkki läpi"
   ]
  },
  {
   "cell_type": "markdown",
   "metadata": {},
   "source": [
    "`%matplotlib inline` on Jupyteriä varten, ja se piirtää kuvaajan koodikentän alapuolelle. Tämä rivin on pakollinen, mutta siihen ei muuten tarvitse kiinnittää huomiota, eikä se vaikuta muun koodin toimintaan."
   ]
  },
  {
   "cell_type": "markdown",
   "metadata": {},
   "source": [
    "```python\n",
    "import numpy as np\n",
    "import matplotlib.pyplot as plt\n",
    "```\n",
    "Tuodaan kirjastot, `pyplot`:in kirjastomuuttuja nimetään tavan mukaisesti `plt`:ksi."
   ]
  },
  {
   "cell_type": "markdown",
   "metadata": {},
   "source": [
    "```\n",
    "x = np.arange(5)\n",
    "y = np.arange(5)\n",
    "```"
   ]
  },
  {
   "cell_type": "markdown",
   "metadata": {},
   "source": [
    "Luodaan `numpy.arange()`:n avulla kaksi listaa, jotka molemmat sisältävät kokonaisluvut nollasta neljään (Muista miten `numpy.arange()` toimii), ja tallennetaan muuttujiin `x` ja `y`."
   ]
  },
  {
   "cell_type": "markdown",
   "metadata": {},
   "source": [
    "Kutsutaan `pyplot`:in `plot()`-funktiota. `pyplot.plot()` ottaa parametreinä kaksi yksiulotteista taulukkoa **joissa pitää olla sama määrä alkioita.** Ensimmäinen taulukko on x-akselin arvot, ja toisessa taulukossa on y-akselin arvot. `pyplot.plot()` luo kuvaajan, jossa taulukoiden arvot \"niputetaan yhteen\" ja luodaan koordinaatteja. Koordinaatit yhdistetään viivalla."
   ]
  },
  {
   "cell_type": "markdown",
   "metadata": {},
   "source": [
    "`show()` näyttää lopullisen kuvaajan. Huomaa, että kuvaaja luodaan `plot()`:issa, mutta kuvaaja näytetään vasta kun `show()`:ta kutsutaan."
   ]
  },
  {
   "cell_type": "markdown",
   "metadata": {},
   "source": [
    "Koska `plot()`:iin annetut taulukot ovat identtiset, syntyy kuvaajaan suora viiva, joka alkaa nollasta ja jatkuu neljään asti."
   ]
  },
  {
   "cell_type": "markdown",
   "metadata": {},
   "source": [
    "###### Esimerkki"
   ]
  },
  {
   "cell_type": "code",
   "execution_count": 27,
   "metadata": {},
   "outputs": [
    {
     "data": {
      "image/png": "[encoded data removed]",
      "text/plain": [
       "<Figure size 432x288 with 1 Axes>"
      ]
     },
     "metadata": {
      "needs_background": "light"
     },
     "output_type": "display_data"
    }
   ],
   "source": [
    "%matplotlib inline\n",
    "\n",
    "import numpy as np\n",
    "import matplotlib.pyplot as plt\n",
    "\n",
    "x = np.linspace(0,20,100)\n",
    "y = np.sin(x)\n",
    "\n",
    "plt.plot(x, y)\n",
    "plt.show()"
   ]
  },
  {
   "cell_type": "markdown",
   "metadata": {},
   "source": [
    "Tässä esimerkissä luodaan yksinkertainen sinikäyrä. Identtisten taulukoiden sijaan rivillä 6 luodaan `linspace()`:n  avulla taulukko, joka sisältää 100 arvoa väliltä 0-20. Syöttämällä muuttujan `x` funktioon `sin()`, saamme y-akselin arvot."
   ]
  },
  {
   "cell_type": "markdown",
   "metadata": {},
   "source": [
    "Samalla `plot()`-funktiolla kuin aikaisemmin luomme uuden kuvaajan ja `show()`näyttää sen."
   ]
  },
  {
   "cell_type": "markdown",
   "metadata": {},
   "source": [
    "## Useampi käyrä"
   ]
  },
  {
   "cell_type": "markdown",
   "metadata": {},
   "source": [
    "`plot()`-funktio sallii useamman käyrän samassa kuvaajassa."
   ]
  },
  {
   "cell_type": "markdown",
   "metadata": {},
   "source": [
    "Toisen käyrän saa lisäämällä `plot()`-funktioon, kaksi parametriä lisää, jotka ovat uuden käyrän x ja y-taulukot. Käyriä voi lisätä haluaman määrän."
   ]
  },
  {
   "cell_type": "code",
   "execution_count": 44,
   "metadata": {},
   "outputs": [
    {
     "data": {
      "image/png": "[encoded data removed]",
      "text/plain": [
       "<Figure size 432x288 with 1 Axes>"
      ]
     },
     "metadata": {
      "needs_background": "light"
     },
     "output_type": "display_data"
    }
   ],
   "source": [
    "%matplotlib inline\n",
    "\n",
    "import numpy as np\n",
    "import matplotlib.pyplot as plt\n",
    "\n",
    "x = np.linspace(0,20,100)\n",
    "y1 = np.sin(x)\n",
    "y2 = np.cos(x)\n",
    "plt.plot(x, y1, x, y2)\n",
    "plt.show()"
   ]
  },
  {
   "cell_type": "markdown",
   "metadata": {},
   "source": [
    "Ylemmässä esimerkissä kuvaajaan lisättiin kosini-käyrä samoilla x:n arvoilla"
   ]
  },
  {
   "cell_type": "markdown",
   "metadata": {},
   "source": [
    "Useampi käyrä voitaisiin piirtää myös kutsumalla `plt.plot()` komentoa useamman kerran:"
   ]
  },
  {
   "cell_type": "code",
   "execution_count": 28,
   "metadata": {},
   "outputs": [
    {
     "data": {
      "image/png": "[encoded data removed]",
      "text/plain": [
       "<Figure size 432x288 with 1 Axes>"
      ]
     },
     "metadata": {
      "needs_background": "light"
     },
     "output_type": "display_data"
    }
   ],
   "source": [
    "%matplotlib inline\n",
    "\n",
    "import numpy as np\n",
    "import matplotlib.pyplot as plt\n",
    "\n",
    "x = np.linspace(0,20,100)\n",
    "y1 = np.sin(x)\n",
    "y2 = np.cos(x)\n",
    "plt.plot(x, y1)\n",
    "plt.plot(x, y2)\n",
    "plt.show()"
   ]
  },
  {
   "cell_type": "markdown",
   "metadata": {},
   "source": [
    "###### HARJOITUS 9"
   ]
  },
  {
   "cell_type": "markdown",
   "metadata": {},
   "source": [
    "Tee kuvaaja, jossa tarkastellaan x:n arvoa eri funktioissa. Luo taulukko `x`, joka sisältää 100 arvoa väliltä 0-25 (poislukien 25). Luo kolme käyrää. Käyrien y-arvot määritellään näin:\n",
    "- Käyrä 1: $y_1$ = $x$\n",
    "- Käyrä 2: $y_2$ = $x^2$\n",
    "- Käyrä 3: $y_3$ = $\\frac{1}{x}$"
   ]
  },
  {
   "cell_type": "markdown",
   "metadata": {},
   "source": [
    "Piirrä yhteen kuvaajaan kaikki kolme käyrää, ja näytä kuvaaja."
   ]
  },
  {
   "cell_type": "markdown",
   "metadata": {},
   "source": [
    "Vinkki: Kannattaa luoda yksi taulukko x-arvoille, ja käyttää sitä samaa taulukkoa kaikkien eri y-akselin taulukkojen kanssa. Käytä `numpy.ndarray` taulukoita. y-akselien taulukoiden luominen on helppoa, kun x-akselin taulukko on tiedossa. Muista, että Numpy-taulukkojen peruslaskutoimituksissa operaatiot tapahtuvat jokaiselle alkiolle erikseen, jolloin tuloksena on uusi taulukko. Tällöin jokaista taulukon arvoa ei ole tarpeellista laskea erikseen (katso kohta matematiikkaoperaatiot)."
   ]
  },
  {
   "cell_type": "code",
   "execution_count": 54,
   "metadata": {},
   "outputs": [
    {
     "data": {
      "image/png": "[encoded data removed]",
      "text/plain": [
       "<Figure size 432x288 with 1 Axes>"
      ]
     },
     "metadata": {
      "needs_background": "light"
     },
     "output_type": "display_data"
    }
   ],
   "source": [
    "%matplotlib inline\n",
    "\n",
    "import numpy as np\n",
    "import matplotlib.pyplot as plt\n",
    "\n",
    "\n",
    "x = np.linspace(0,24,100)\n",
    "y = x\n",
    "y1 = y\n",
    "y2 = y**2\n",
    "y3 = x//2\n",
    "\n",
    "\n",
    "#y2 = np.cos(x)\n",
    "#y3 = np.ten(x)\n",
    "plt.plot(x, y1,x, y2, x, y3)\n",
    "#plt.plot(x, y2)\n",
    "\n",
    "plt.show()"
   ]
  },
  {
   "cell_type": "markdown",
   "metadata": {},
   "source": [
    "##  Kertaus"
   ]
  },
  {
   "cell_type": "markdown",
   "metadata": {},
   "source": [
    "### Numpyn tuonti"
   ]
  },
  {
   "cell_type": "markdown",
   "metadata": {},
   "source": [
    "Numpy tuodaan Pythoniin niin kuin muutkin kirjastot, ja usein siitä käytetään lyhennettä `np`"
   ]
  },
  {
   "cell_type": "code",
   "execution_count": null,
   "metadata": {},
   "outputs": [],
   "source": [
    "import numpy as np"
   ]
  },
  {
   "cell_type": "markdown",
   "metadata": {},
   "source": [
    "### Numpy.array()"
   ]
  },
  {
   "cell_type": "markdown",
   "metadata": {},
   "source": [
    "Numpyn perustietotyyppi on `numpy.ndarray`. Tavallisen listan voi muuttaa tähän muontoon komennolla `numpy.array()`."
   ]
  },
  {
   "cell_type": "code",
   "execution_count": null,
   "metadata": {},
   "outputs": [],
   "source": [
    "import numpy as np\n",
    "\n",
    "a = [1,2,3]\n",
    "\n",
    "a_np = np.array(a)\n",
    "print(a_np)\n",
    "print(type(a_np))"
   ]
  },
  {
   "cell_type": "markdown",
   "metadata": {},
   "source": [
    "Numpy-taulukko voi olla myös moniulotteinen. Tällöin sisäkkäisten listojen tulee olla yhtä pitkiä!"
   ]
  },
  {
   "cell_type": "code",
   "execution_count": null,
   "metadata": {},
   "outputs": [],
   "source": [
    "import numpy as np\n",
    "\n",
    "l = np.array([[1,2,3], \n",
    "              [4,5,6], \n",
    "              [7,8,9]])\n",
    "print(l)"
   ]
  },
  {
   "cell_type": "markdown",
   "metadata": {},
   "source": [
    "Numpy-taulukosta yksittäisiä arvoja saadaan indeksien avulla. Moniulotteisten taulukkojen tapauksessa tulee antaa sekä **rivin** että **sarakkeen** indeksi."
   ]
  },
  {
   "cell_type": "code",
   "execution_count": null,
   "metadata": {},
   "outputs": [],
   "source": [
    "a = np.array([1,2,3,4,5])\n",
    "print(a[3])\n",
    "\n",
    "A = np.array([[1,2,3], \n",
    "              [4,5,6], \n",
    "              [7,8,9]])\n",
    "print(A[1,2])"
   ]
  },
  {
   "cell_type": "markdown",
   "metadata": {},
   "source": [
    "`numpy.array()`:n luontia varten on erilaisia funktioita:"
   ]
  },
  {
   "cell_type": "markdown",
   "metadata": {},
   "source": [
    "###### zeros()"
   ]
  },
  {
   "cell_type": "markdown",
   "metadata": {},
   "source": [
    "`numpy.zeros()` tekee parametrin perusteella tyhjän taulukon (`ndarray`:n). Nollataulukon voi tehdä useammassa ulottuvuudessa antamalla sille sulkujen sisällä halutun muodon."
   ]
  },
  {
   "cell_type": "code",
   "execution_count": 55,
   "metadata": {},
   "outputs": [
    {
     "name": "stdout",
     "output_type": "stream",
     "text": [
      "[0. 0. 0. 0. 0. 0. 0. 0. 0. 0.]\n",
      "[[0. 0.]\n",
      " [0. 0.]]\n"
     ]
    }
   ],
   "source": [
    "import numpy as np\n",
    "\n",
    "print(np.zeros(10))\n",
    "print(np.zeros((2,2)))"
   ]
  },
  {
   "cell_type": "markdown",
   "metadata": {},
   "source": [
    "###### ones()"
   ]
  },
  {
   "cell_type": "markdown",
   "metadata": {},
   "source": [
    "`ones()` tekee saman kuin `zeros()`, mutta `0` sijaan arvona on `1`:"
   ]
  },
  {
   "cell_type": "code",
   "execution_count": 56,
   "metadata": {},
   "outputs": [
    {
     "data": {
      "text/plain": [
       "array([[1., 1., 1., 1., 1.],\n",
       "       [1., 1., 1., 1., 1.],\n",
       "       [1., 1., 1., 1., 1.],\n",
       "       [1., 1., 1., 1., 1.]])"
      ]
     },
     "execution_count": 56,
     "metadata": {},
     "output_type": "execute_result"
    }
   ],
   "source": [
    "import numpy as np\n",
    "\n",
    "np.ones((4,5))"
   ]
  },
  {
   "cell_type": "markdown",
   "metadata": {},
   "source": [
    "#### shape"
   ]
  },
  {
   "cell_type": "markdown",
   "metadata": {},
   "source": [
    "Taulukon muoto saadaan komennolla `numpy.ndarray.shape`:"
   ]
  },
  {
   "cell_type": "code",
   "execution_count": 57,
   "metadata": {},
   "outputs": [
    {
     "name": "stdout",
     "output_type": "stream",
     "text": [
      "(2, 3)\n"
     ]
    }
   ],
   "source": [
    "a = np.array([[1,2,3],\n",
    "              [6,7,8]])\n",
    "print(a.shape) # 2 riviä, 3 saraketta "
   ]
  },
  {
   "cell_type": "markdown",
   "metadata": {},
   "source": [
    "#### linspace(start, stop, num, endpoint)"
   ]
  },
  {
   "cell_type": "markdown",
   "metadata": {},
   "source": [
    "`linspace` muodostaa `numpy.ndarray`:n, joka sisältää `num` määrän tasaisesti sijoitettuja numeroita `start`:in ja `stop`:in välillä. `endpoint`-parametrin avulla voidaan päättää, halutaanko `stop` arvo sisältää. Ainoastaan `start` ja `stop` ovat pakollisia parametrejä, oletuksena `num` on `50` ja `endpoint` `True`."
   ]
  },
  {
   "cell_type": "code",
   "execution_count": 58,
   "metadata": {},
   "outputs": [
    {
     "name": "stdout",
     "output_type": "stream",
     "text": [
      "[ 0.  4.  8. 12. 16.]\n"
     ]
    }
   ],
   "source": [
    "import numpy as np\n",
    "print(np.linspace(0,20,5,False))"
   ]
  },
  {
   "cell_type": "code",
   "execution_count": 59,
   "metadata": {},
   "outputs": [
    {
     "name": "stdout",
     "output_type": "stream",
     "text": [
      "[ 0.  1.  2.  3.  4.  5.  6.  7.  8.  9. 10. 11. 12. 13. 14. 15. 16. 17.\n",
      " 18. 19. 20. 21. 22. 23. 24. 25. 26. 27. 28. 29. 30. 31. 32. 33. 34. 35.\n",
      " 36. 37. 38. 39. 40. 41. 42. 43. 44. 45. 46. 47. 48. 49.]\n"
     ]
    }
   ],
   "source": [
    "import numpy as np\n",
    "print(np.linspace(0,49))"
   ]
  },
  {
   "cell_type": "markdown",
   "metadata": {},
   "source": [
    "###### arange()"
   ]
  },
  {
   "cell_type": "markdown",
   "metadata": {},
   "source": [
    "Numpyn `numpy.arange()` on käytännössä sama kuin aikasemmin esitelty `range()`, mutta `numpy.arange()` palauttaa`numpy.ndarray`:n."
   ]
  },
  {
   "cell_type": "code",
   "execution_count": 60,
   "metadata": {},
   "outputs": [
    {
     "name": "stdout",
     "output_type": "stream",
     "text": [
      "[1 3 5]\n"
     ]
    }
   ],
   "source": [
    "import numpy as np\n",
    "print(np.arange(1,7,2))"
   ]
  },
  {
   "cell_type": "markdown",
   "metadata": {},
   "source": [
    "###### reshape()"
   ]
  },
  {
   "cell_type": "markdown",
   "metadata": {},
   "source": [
    "Nimensä mukaisesti `reshape()` muotoilee `numpy.ndarray`:n parametrien mukaisesti:"
   ]
  },
  {
   "cell_type": "code",
   "execution_count": 61,
   "metadata": {},
   "outputs": [
    {
     "name": "stdout",
     "output_type": "stream",
     "text": [
      "[[ 0  1  2  3]\n",
      " [ 4  5  6  7]\n",
      " [ 8  9 10 11]\n",
      " [12 13 14 15]\n",
      " [16 17 18 19]]\n",
      "------\n",
      "[[[ 0  1]\n",
      "  [ 2  3]]\n",
      "\n",
      " [[ 4  5]\n",
      "  [ 6  7]]\n",
      "\n",
      " [[ 8  9]\n",
      "  [10 11]]\n",
      "\n",
      " [[12 13]\n",
      "  [14 15]]\n",
      "\n",
      " [[16 17]\n",
      "  [18 19]]]\n"
     ]
    }
   ],
   "source": [
    "import numpy as np\n",
    "\n",
    "a = np.arange(20)\n",
    "\n",
    "print(np.reshape(a,(5,4))) # 2D array\n",
    "print(\"------\")\n",
    "print(np.reshape(a,(5,2,2))) # 3D array"
   ]
  },
  {
   "cell_type": "markdown",
   "metadata": {},
   "source": [
    "#### Taulukkoon lisääminen"
   ]
  },
  {
   "cell_type": "markdown",
   "metadata": {},
   "source": [
    "Yksiuloitteeseen taulukkoon voidan helposti lisätä arvo komennolla `numpy.append()`. Funktio palauttaa uuden taulukon, eikä siis muokkaa vanhaa."
   ]
  },
  {
   "cell_type": "code",
   "execution_count": 62,
   "metadata": {},
   "outputs": [
    {
     "name": "stdout",
     "output_type": "stream",
     "text": [
      "a: [1 2 3 4]\n",
      "b: [1 2 3 4 5]\n"
     ]
    }
   ],
   "source": [
    "a = np.array([1,2,3,4])\n",
    "b = np.append(a,5)\n",
    "print(\"a:\", a)\n",
    "print(\"b:\", b)"
   ]
  },
  {
   "cell_type": "markdown",
   "metadata": {},
   "source": [
    "Rivejä voidaan lisätä taulukkoihin `numpy.vstack()`-funktion avulla. "
   ]
  },
  {
   "cell_type": "code",
   "execution_count": 63,
   "metadata": {},
   "outputs": [
    {
     "data": {
      "text/plain": [
       "array([[1, 2, 3],\n",
       "       [4, 5, 6],\n",
       "       [1, 2, 3]])"
      ]
     },
     "execution_count": 63,
     "metadata": {},
     "output_type": "execute_result"
    }
   ],
   "source": [
    "a = np.array([[1,2,3], \n",
    "              [4,5,6]])\n",
    "\n",
    "np.vstack((a,np.array([1,2,3])))"
   ]
  },
  {
   "cell_type": "markdown",
   "metadata": {},
   "source": [
    "Sarakkeita voidaan lisätä taulukkoihin `numpy.column_stack()`-funktion avulla."
   ]
  },
  {
   "cell_type": "code",
   "execution_count": 64,
   "metadata": {},
   "outputs": [
    {
     "data": {
      "text/plain": [
       "array([[1, 2, 3, 1],\n",
       "       [4, 5, 6, 2]])"
      ]
     },
     "execution_count": 64,
     "metadata": {},
     "output_type": "execute_result"
    }
   ],
   "source": [
    "a = np.array([[1,2,3], \n",
    "              [4,5,6]])\n",
    "\n",
    "np.column_stack((a,np.array([1,2])))"
   ]
  },
  {
   "cell_type": "markdown",
   "metadata": {},
   "source": [
    "Funktioita käyttäessä tulee lisättävien taulukkojen muoto olla sopiva, muuten lisäystä ei voida tehdä. "
   ]
  },
  {
   "cell_type": "markdown",
   "metadata": {},
   "source": [
    "#### Vakiot"
   ]
  },
  {
   "cell_type": "markdown",
   "metadata": {},
   "source": [
    "Numpy sisältää samoja vakioita kuin `math`-kirjasto."
   ]
  },
  {
   "cell_type": "code",
   "execution_count": 65,
   "metadata": {},
   "outputs": [
    {
     "name": "stdout",
     "output_type": "stream",
     "text": [
      "3.141592653589793\n",
      "2.718281828459045\n"
     ]
    }
   ],
   "source": [
    "import numpy as np\n",
    "\n",
    "print(np.pi)\n",
    "print(np.e)"
   ]
  },
  {
   "cell_type": "markdown",
   "metadata": {},
   "source": [
    "#### Trigonometriset funktiot"
   ]
  },
  {
   "cell_type": "markdown",
   "metadata": {},
   "source": [
    "Myös Numpystä löytyy trigonometrisia funktioita:"
   ]
  },
  {
   "cell_type": "code",
   "execution_count": 66,
   "metadata": {},
   "outputs": [
    {
     "data": {
      "text/plain": [
       "array([0.70710678, 1.        , 0.70710678, 0.76604444])"
      ]
     },
     "execution_count": 66,
     "metadata": {},
     "output_type": "execute_result"
    }
   ],
   "source": [
    "import numpy as np\n",
    "\n",
    "angles = np.array([45,90,135,50])\n",
    "radians = np.radians(angles)\n",
    "np.sin(radians)"
   ]
  },
  {
   "cell_type": "markdown",
   "metadata": {},
   "source": [
    "#### mean()"
   ]
  },
  {
   "cell_type": "markdown",
   "metadata": {},
   "source": [
    "Keskiarvon saa `numpy.mean()`-funktiolla:"
   ]
  },
  {
   "cell_type": "code",
   "execution_count": 67,
   "metadata": {},
   "outputs": [
    {
     "data": {
      "text/plain": [
       "4.5"
      ]
     },
     "execution_count": 67,
     "metadata": {},
     "output_type": "execute_result"
    }
   ],
   "source": [
    "import numpy as np\n",
    "\n",
    "x = np.arange(10)\n",
    "np.mean(x)"
   ]
  },
  {
   "cell_type": "markdown",
   "metadata": {},
   "source": [
    "Moniulotteisen taulukon sarake- tai rivikeskiarvon saa käyttämällä `axis`-parametriä:"
   ]
  },
  {
   "cell_type": "code",
   "execution_count": 68,
   "metadata": {},
   "outputs": [
    {
     "name": "stdout",
     "output_type": "stream",
     "text": [
      "[[1 2 3]\n",
      " [2 3 4]\n",
      " [1 1 1]]\n",
      "[1.33333333 2.         2.66666667]\n",
      "[2. 3. 1.]\n"
     ]
    }
   ],
   "source": [
    "import numpy as np\n",
    "\n",
    "A = np.array([\n",
    "    [1,2,3],\n",
    "    [2,3,4],\n",
    "    [1,1,1]\n",
    "])\n",
    "print(A)\n",
    "print(np.mean(A,axis=0))\n",
    "print(np.mean(A,axis=1))"
   ]
  },
  {
   "cell_type": "markdown",
   "metadata": {},
   "source": [
    "#### sum()"
   ]
  },
  {
   "cell_type": "markdown",
   "metadata": {},
   "source": [
    "Alkioiden summan saa `numpy.sum()`-funktiolla:"
   ]
  },
  {
   "cell_type": "code",
   "execution_count": 69,
   "metadata": {},
   "outputs": [
    {
     "name": "stdout",
     "output_type": "stream",
     "text": [
      "[[1 2 3]\n",
      " [2 3 4]\n",
      " [1 1 1]]\n",
      "18\n"
     ]
    }
   ],
   "source": [
    "import numpy as np \n",
    "\n",
    "A = np.array([\n",
    "    [1,2,3],\n",
    "    [2,3,4],\n",
    "    [1,1,1]\n",
    "])\n",
    "print(A)\n",
    "print(np.sum(A))"
   ]
  },
  {
   "cell_type": "markdown",
   "metadata": {},
   "source": [
    "Moniulotteisen taulukon sarake- tai rivisumman saa käyttämällä `axis`-parametriä:"
   ]
  },
  {
   "cell_type": "code",
   "execution_count": 70,
   "metadata": {},
   "outputs": [
    {
     "name": "stdout",
     "output_type": "stream",
     "text": [
      "[[1 2 3]\n",
      " [2 3 4]\n",
      " [1 1 1]]\n",
      "[4 6 8]\n",
      "[6 9 3]\n"
     ]
    }
   ],
   "source": [
    "import numpy as np\n",
    "\n",
    "A = np.array([\n",
    "    [1,2,3],\n",
    "    [2,3,4],\n",
    "    [1,1,1]\n",
    "])\n",
    "print(A)\n",
    "print(np.sum(A,axis=0))\n",
    "print(np.sum(A,axis=1))"
   ]
  },
  {
   "cell_type": "markdown",
   "metadata": {},
   "source": [
    "### Matriisioperaatiot"
   ]
  },
  {
   "cell_type": "markdown",
   "metadata": {},
   "source": [
    "Numpyssä voidaan suorittaa myös peruslaskuoperaatioita taulukoille. Tällöin lasku suoritetaan kaikille taulukon arvoille:"
   ]
  },
  {
   "cell_type": "code",
   "execution_count": null,
   "metadata": {},
   "outputs": [],
   "source": [
    "a = np.array([[1,2,3], \n",
    "              [5,7,1], \n",
    "              [2,9,8]])\n",
    "\n",
    "print(a+2)\n",
    "print(\"-----\")\n",
    "print(a-2)\n",
    "print(\"-----\")\n",
    "print(a*2)\n",
    "print(\"-----\")\n",
    "print(a/2)"
   ]
  },
  {
   "cell_type": "markdown",
   "metadata": {},
   "source": [
    "Jos operaatio suoritetaan kahden taulukon välillä, tapahtuu laskuoperaatio taulukoiden saman indeksin arvojen välillä:"
   ]
  },
  {
   "cell_type": "code",
   "execution_count": 71,
   "metadata": {},
   "outputs": [
    {
     "name": "stdout",
     "output_type": "stream",
     "text": [
      "[[ 2  5  7]\n",
      " [ 7  8  7]\n",
      " [10 15 11]]\n",
      "-----\n",
      "[[ 0 -1 -1]\n",
      " [ 3  6 -5]\n",
      " [-6  3  5]]\n",
      "-----\n",
      "[[ 1  6 12]\n",
      " [10  7  6]\n",
      " [16 54 24]]\n",
      "-----\n",
      "[[1.         0.66666667 0.75      ]\n",
      " [2.5        7.         0.16666667]\n",
      " [0.25       1.5        2.66666667]]\n"
     ]
    }
   ],
   "source": [
    "a = np.array([[1,2,3], \n",
    "              [5,7,1], \n",
    "              [2,9,8]])\n",
    "\n",
    "b = np.array([[1,3,4], \n",
    "              [2,1,6], \n",
    "              [8,6,3]])\n",
    "\n",
    "print(a+b)\n",
    "print(\"-----\")\n",
    "print(a-b)\n",
    "print(\"-----\")\n",
    "print(a*b)\n",
    "print(\"-----\")\n",
    "print(a/b)"
   ]
  },
  {
   "cell_type": "markdown",
   "metadata": {},
   "source": [
    "### Slicing"
   ]
  },
  {
   "cell_type": "markdown",
   "metadata": {},
   "source": [
    "Taulukoista saadaan arvoja slicing-operaatioiden avulla samalla tavalla kuin listoista."
   ]
  },
  {
   "cell_type": "code",
   "execution_count": 72,
   "metadata": {},
   "outputs": [
    {
     "name": "stdout",
     "output_type": "stream",
     "text": [
      "[11  7  5 21 89]\n",
      "[[1 3]\n",
      " [9 3]]\n"
     ]
    }
   ],
   "source": [
    "a = np.array([11,7,5,21,89,64,86,48])\n",
    "print(a[:5]) # First 5 values\n",
    "\n",
    "A = np.array([[1,2,3,6], \n",
    "              [7,6,4,3], \n",
    "              [9,5,3,6], \n",
    "              [4,6,7,8]])\n",
    "print(A[::2,::2]) # Take every other row and column"
   ]
  },
  {
   "cell_type": "markdown",
   "metadata": {},
   "source": [
    "### Matplotlib"
   ]
  },
  {
   "cell_type": "markdown",
   "metadata": {},
   "source": [
    "Matplotlibin avulla voidaan piirtää kuvaajia."
   ]
  },
  {
   "cell_type": "code",
   "execution_count": 73,
   "metadata": {},
   "outputs": [
    {
     "data": {
      "image/png": "[encoded data removed]",
      "text/plain": [
       "<Figure size 432x288 with 1 Axes>"
      ]
     },
     "metadata": {
      "needs_background": "light"
     },
     "output_type": "display_data"
    }
   ],
   "source": [
    "%matplotlib inline\n",
    "\n",
    "import numpy as np\n",
    "import matplotlib.pyplot as plt\n",
    "\n",
    "x = np.arange(5)\n",
    "y = np.arange(5)\n",
    "\n",
    "plt.plot(x, y)\n",
    "plt.show()"
   ]
  },
  {
   "cell_type": "markdown",
   "metadata": {},
   "source": [
    "Matplotlib-kirjasto tuodaan tutulla tavalla. Siitä tuodaan yleensä anoastaan alikirjasto `pyplot`. Kutsuttu alikirjasto nimetään usein `plt`:ksi. `plt.plot()` piirtää käyrän, jossa jokaiselle x:n arvolle annetaan yksi arvo y-taulukosta. Jotta kuvaaja näkyy, tarvitaan koodikentän alussa `%matplotlib inline` ja lopuksi `plt.show()`."
   ]
  },
  {
   "cell_type": "markdown",
   "metadata": {},
   "source": [
    "### Palaute\n",
    "\n",
    "Muistathan antaa [palautetta](https://docs.google.com/forms/d/e/1FAIpQLSfZH6EDFiU7JxZd90j07YagAVFFJqWNu47RtHDQozDeaeQcXw/viewform?usp=sf_link)!"
   ]
  }
 ],
 "metadata": {
  "kernelspec": {
   "display_name": "Python 3",
   "language": "python",
   "name": "python3"
  },
  "language_info": {
   "codemirror_mode": {
    "name": "ipython",
    "version": 3
   },
   "file_extension": ".py",
   "mimetype": "text/x-python",
   "name": "python",
   "nbconvert_exporter": "python",
   "pygments_lexer": "ipython3",
   "version": "3.7.4"
  }
 },
 "nbformat": 4,
 "nbformat_minor": 2
}
