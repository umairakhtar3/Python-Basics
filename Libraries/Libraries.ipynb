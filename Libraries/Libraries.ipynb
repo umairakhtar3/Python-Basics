{
 "cells": [
  {
   "cell_type": "markdown",
   "metadata": {},
   "source": [
    "# Luku 8: Kirjastot"
   ]
  },
  {
   "cell_type": "markdown",
   "metadata": {},
   "source": [
    "Python perustuu modulaarisuuteen, eli ohjelmia voi jakaa aliohjelmiin ja ohjelmia ja rakenteita voi yhdistellä vapaasti. Tämä mahdollistaa kirjastot, eli ohjelmapaketit, joita voi latailla ja lisätä vapaasti."
   ]
  },
  {
   "cell_type": "markdown",
   "metadata": {},
   "source": [
    "Kirjastot ovat paketteja, jotka sisältävät valmiiksitehtyjä funktioita ja tietorakenteita. Usein on tehokkaampaa tuoda kirjasto, kuin että luo kaikki funktiot itse. Tämä pätee varsinkin matematiikassa ja koneoppimisessa."
   ]
  },
  {
   "cell_type": "markdown",
   "metadata": {},
   "source": [
    "Tässä luvussa käydään läpi kaksi yleistä Pythonin kirjastoa:\n",
    "- math\n",
    "- random\n",
    "\n",
    "Usein kirjastot pitävät sisällään kymmeniä ellei satoja funktiota. Tämä tarkoittaa sitä, että kirjaston käyttäjän tulee itse perehtyä kirjaston sisältämiin funktioihin ja siihen miten ne toimivat. Kirjastoilla on aina olemassa oma virallinen dokumentaationsa, joka löytyy yleensä nopeasti kirjoittamalla hakukoneeseen kirjaston nimen. Tässä kappaleessa käymme läpi muutamia funktioita kirjastoista math ja random. "
   ]
  },
  {
   "cell_type": "markdown",
   "metadata": {},
   "source": [
    "## Kirjaston tuominen"
   ]
  },
  {
   "cell_type": "markdown",
   "metadata": {},
   "source": [
    "Kirjasto tuodaan `import`-käskyllä. \"Importtaus\" tehdään **heti ohjelman alussa**."
   ]
  },
  {
   "cell_type": "markdown",
   "metadata": {},
   "source": [
    "```python\n",
    "import kirjasto\n",
    "```"
   ]
  },
  {
   "cell_type": "markdown",
   "metadata": {},
   "source": [
    "Kirjaston sisältöön pääsee käsiksi kutsumalla funktioita sen nimen kautta."
   ]
  },
  {
   "cell_type": "markdown",
   "metadata": {},
   "source": [
    "```python\n",
    "import kirjasto\n",
    "\n",
    "kirjasto.esimerkkiFunktio()\n",
    "```"
   ]
  },
  {
   "cell_type": "markdown",
   "metadata": {},
   "source": [
    "## math-kirjasto"
   ]
  },
  {
   "cell_type": "markdown",
   "metadata": {},
   "source": [
    "Pythonin yksi keskeinen kirjasto on `math`. Nimensä mukaisesti se sisältää matematiikassa käytettyjä hyödyllisiä arvoja ja funktioita."
   ]
  },
  {
   "cell_type": "markdown",
   "metadata": {},
   "source": [
    "### Yleishyödyllisiä funktioita"
   ]
  },
  {
   "cell_type": "markdown",
   "metadata": {},
   "source": [
    "#### $\\pi$\n"
   ]
  },
  {
   "cell_type": "markdown",
   "metadata": {},
   "source": [
    "Piin käyttö helpottuu, kun sen voi kutsua `math`-kirjastosta."
   ]
  },
  {
   "cell_type": "code",
   "execution_count": 1,
   "metadata": {},
   "outputs": [
    {
     "name": "stdout",
     "output_type": "stream",
     "text": [
      "3.141592653589793\n"
     ]
    }
   ],
   "source": [
    "import math\n",
    "\n",
    "print(math.pi)"
   ]
  },
  {
   "cell_type": "markdown",
   "metadata": {},
   "source": [
    "#### $e$"
   ]
  },
  {
   "cell_type": "markdown",
   "metadata": {},
   "source": [
    "Neepperin luvun saa kutsumalla `math.e`"
   ]
  },
  {
   "cell_type": "code",
   "execution_count": 1,
   "metadata": {
    "scrolled": true
   },
   "outputs": [
    {
     "data": {
      "text/plain": [
       "2.718281828459045"
      ]
     },
     "execution_count": 1,
     "metadata": {},
     "output_type": "execute_result"
    }
   ],
   "source": [
    "import math\n",
    "\n",
    "math.e"
   ]
  },
  {
   "cell_type": "markdown",
   "metadata": {},
   "source": [
    "#### sqrt()"
   ]
  },
  {
   "cell_type": "markdown",
   "metadata": {},
   "source": [
    "`sqrt()`laskee parametrin neliöjuuren."
   ]
  },
  {
   "cell_type": "code",
   "execution_count": 2,
   "metadata": {
    "scrolled": true
   },
   "outputs": [
    {
     "data": {
      "text/plain": [
       "3.0"
      ]
     },
     "execution_count": 2,
     "metadata": {},
     "output_type": "execute_result"
    }
   ],
   "source": [
    "import math\n",
    "\n",
    "x = 9\n",
    "math.sqrt(x)"
   ]
  },
  {
   "cell_type": "markdown",
   "metadata": {},
   "source": [
    "#### exp()"
   ]
  },
  {
   "cell_type": "markdown",
   "metadata": {},
   "source": [
    "Neepperin luvun potensseja laskettaessa voi käyttää myös `exp()`-funktiota:"
   ]
  },
  {
   "cell_type": "code",
   "execution_count": 4,
   "metadata": {},
   "outputs": [
    {
     "name": "stdout",
     "output_type": "stream",
     "text": [
      "148.4131591025766\n"
     ]
    }
   ],
   "source": [
    "import math\n",
    "\n",
    "x = 5\n",
    "\n",
    "print(math.exp(x))"
   ]
  },
  {
   "cell_type": "markdown",
   "metadata": {},
   "source": [
    "#### log()"
   ]
  },
  {
   "cell_type": "markdown",
   "metadata": {},
   "source": [
    "Palauttaa parametrin luonnollisen logaritmin:"
   ]
  },
  {
   "cell_type": "code",
   "execution_count": 3,
   "metadata": {},
   "outputs": [
    {
     "name": "stdout",
     "output_type": "stream",
     "text": [
      "148.4131591025766\n",
      "5.0\n"
     ]
    }
   ],
   "source": [
    "import math\n",
    "\n",
    "x = 5\n",
    "\n",
    "fx = math.exp(x)\n",
    "print(fx)\n",
    "\n",
    "log_fx = math.log(fx)\n",
    "print(log_fx)"
   ]
  },
  {
   "cell_type": "markdown",
   "metadata": {},
   "source": [
    "#### ceil() ja floor()"
   ]
  },
  {
   "cell_type": "markdown",
   "metadata": {},
   "source": [
    "`ceil()` palauttaa parametrina annetun luvun pyöristettynä ylöspäin, ja `floor()` pyöristettynä alaspäin."
   ]
  },
  {
   "cell_type": "code",
   "execution_count": 1,
   "metadata": {},
   "outputs": [
    {
     "name": "stdout",
     "output_type": "stream",
     "text": [
      "3\n",
      "2\n"
     ]
    }
   ],
   "source": [
    "import math\n",
    "\n",
    "x = 2.5\n",
    "\n",
    "print(math.ceil(x))\n",
    "\n",
    "print(math.floor(x))\n"
   ]
  },
  {
   "cell_type": "markdown",
   "metadata": {},
   "source": [
    "##### HARJOITUS 1"
   ]
  },
  {
   "cell_type": "markdown",
   "metadata": {},
   "source": [
    "Luo ohjelma, joka pyytää käyttäjältä ympyrän säteen, ja laskee erillisessä funktiossa ympyrän piirin pituuden. Ohjelma tulostaa ympyrän piirin pituuden. Käytä tehtävässä `math` -kirjastoa. Vinkki: Ympyrän piirin kaava on $2\\cdot\\pi\\cdot r$.(Numero)"
   ]
  },
  {
   "cell_type": "code",
   "execution_count": 34,
   "metadata": {},
   "outputs": [
    {
     "name": "stdout",
     "output_type": "stream",
     "text": [
      "Write the radius of the circle.:\n",
      "9\n",
      "Cicumference of the circle is : 56.548667764616276\n"
     ]
    }
   ],
   "source": [
    "import math\n",
    "radius = float(input('Write the radius of the circle.:\\n'))\n",
    "circumference = 2 * math.pi * radius\n",
    "print('Cicumference of the circle is :', circumference)"
   ]
  },
  {
   "cell_type": "markdown",
   "metadata": {},
   "source": [
    "### Trigonometriset funktiot"
   ]
  },
  {
   "cell_type": "markdown",
   "metadata": {},
   "source": [
    "Pythonissa trigonometrisiä funktioita kutsutaan `math`-kirjastoa käyttäen. HUOM! Funktiot ottava parametreinä radiaaneja, eikä kulmia. Radiaanit ovat vaihtoehtoinen muoto ilmoittaa kulman suuruus, jota käytetään usein matematiikassa ja fysiikassa. Kulmat voi muuntaa radiaaneiksi käyttämällä `math.radians()`-funktiota."
   ]
  },
  {
   "cell_type": "code",
   "execution_count": 35,
   "metadata": {},
   "outputs": [
    {
     "name": "stdout",
     "output_type": "stream",
     "text": [
      "45 degrees is 0.7853981633974483 radians\n"
     ]
    }
   ],
   "source": [
    "import math \n",
    "\n",
    "degree = 45\n",
    "radians = math.radians(degree)\n",
    "\n",
    "print(degree, 'degrees is', radians, 'radians')"
   ]
  },
  {
   "cell_type": "code",
   "execution_count": 36,
   "metadata": {},
   "outputs": [
    {
     "name": "stdout",
     "output_type": "stream",
     "text": [
      "Sine of 75 degrees is 0.9659258262890683\n",
      "Cosine of 75 degrees is 0.25881904510252074\n"
     ]
    }
   ],
   "source": [
    "import math \n",
    "\n",
    "degree = 75\n",
    "radians = math.radians(degree)\n",
    "sine = math.sin(radians)\n",
    "cosine = math.cos(radians)\n",
    "\n",
    "print('Sine of',degree,'degrees is',sine)\n",
    "print('Cosine of',degree,'degrees is',cosine)"
   ]
  },
  {
   "cell_type": "markdown",
   "metadata": {},
   "source": [
    "##### HARJOITUS 2"
   ]
  },
  {
   "cell_type": "markdown",
   "metadata": {},
   "source": [
    "Tee ohjelma, jossa tuot `math`-kirjaston. Kysy käyttäjältä syötteenä numero, muuta se desimaaliluvuksi, ota siitä neliöjuuri ja tulosta arvo pyöristettynä alaspäin. (Tuloste)"
   ]
  },
  {
   "cell_type": "code",
   "execution_count": 41,
   "metadata": {},
   "outputs": [
    {
     "name": "stdout",
     "output_type": "stream",
     "text": [
      "Write a number to take sqaure root: \n",
      "10\n",
      "3\n"
     ]
    }
   ],
   "source": [
    "import math\n",
    "number = float(input('Write a number to take sqaure root: \\n'))\n",
    "math.sqrt(number)\n",
    "x = math.sqrt(number)\n",
    "y = round(x)\n",
    "print(y)"
   ]
  },
  {
   "cell_type": "markdown",
   "metadata": {},
   "source": [
    "### Random"
   ]
  },
  {
   "cell_type": "markdown",
   "metadata": {},
   "source": [
    "Välillä on haluttua että ohjelmassa esiintyy satunnaisuutta. Tämä voi olla esimerkiksi arvon generointi, tai listasta satunnaisesti valittu arvo. Tätä varten Pythonissa on `random`-kirjasto."
   ]
  },
  {
   "cell_type": "markdown",
   "metadata": {},
   "source": [
    "`random`-kirjasto tuodaan samalla tavalla kuin muutkin kirjastot:"
   ]
  },
  {
   "cell_type": "code",
   "execution_count": 42,
   "metadata": {},
   "outputs": [],
   "source": [
    "import random"
   ]
  },
  {
   "cell_type": "markdown",
   "metadata": {},
   "source": [
    "Kirjaston kaikki funktiot löytyvät täältä: https://docs.python.org/3/library/random.html \n",
    "Yleisimmät funktiot ovat:\n",
    "- `random()`\n",
    "- `randrange()`\n",
    "- `choice()`\n",
    "- `sample()`\n",
    "- `shuffle()`"
   ]
  },
  {
   "cell_type": "markdown",
   "metadata": {},
   "source": [
    "#### random()"
   ]
  },
  {
   "cell_type": "markdown",
   "metadata": {},
   "source": [
    "`random`-kirjaston `random()`-funktio palauttaa satunnaisen desimaalinumeron väliltä 0-1 (poislukien 1)"
   ]
  },
  {
   "cell_type": "code",
   "execution_count": 45,
   "metadata": {},
   "outputs": [
    {
     "data": {
      "text/plain": [
       "0.9798787761980349"
      ]
     },
     "execution_count": 45,
     "metadata": {},
     "output_type": "execute_result"
    }
   ],
   "source": [
    "import random\n",
    "\n",
    "random.random()"
   ]
  },
  {
   "cell_type": "markdown",
   "metadata": {},
   "source": [
    "Kokeile ajaa esimerkkikenttää uudelleen, ja huomaa kuinka arvo muuttuu!"
   ]
  },
  {
   "cell_type": "markdown",
   "metadata": {},
   "source": [
    "#### randrange(start,stop,step)"
   ]
  },
  {
   "cell_type": "markdown",
   "metadata": {},
   "source": [
    "`randrange()`-funktio palauttaa satunnaisen kokonaisluvun annetulta väliltä. Parametrit toimivat samalla tavalla kuin `range()`-funktion kanssa."
   ]
  },
  {
   "cell_type": "code",
   "execution_count": 46,
   "metadata": {},
   "outputs": [
    {
     "name": "stdout",
     "output_type": "stream",
     "text": [
      "2\n",
      "17\n",
      "4\n"
     ]
    }
   ],
   "source": [
    "import random\n",
    "\n",
    "print(random.randrange(5))\n",
    "print(random.randrange(10,20))\n",
    "print(random.randrange(0,10,2))"
   ]
  },
  {
   "cell_type": "markdown",
   "metadata": {},
   "source": [
    "Ylemmän esimerkin ensimmäinen `randrange()` paluttaa kokonaisluvun väliltä 0-4, toinen väliltä 10-19, ja kolmas parillisen kokonaisluvun väliltä 0-9."
   ]
  },
  {
   "cell_type": "markdown",
   "metadata": {},
   "source": [
    "#### choice(list)"
   ]
  },
  {
   "cell_type": "markdown",
   "metadata": {},
   "source": [
    "`choice()` palauttaa parametrinä annetusta listasta satunnaisen alkion."
   ]
  },
  {
   "cell_type": "code",
   "execution_count": 47,
   "metadata": {},
   "outputs": [
    {
     "data": {
      "text/plain": [
       "True"
      ]
     },
     "execution_count": 47,
     "metadata": {},
     "output_type": "execute_result"
    }
   ],
   "source": [
    "import random\n",
    "\n",
    "l = [1,\"yes\",True]\n",
    "\n",
    "random.choice(l)"
   ]
  },
  {
   "cell_type": "markdown",
   "metadata": {},
   "source": [
    "#### sample(l,k)"
   ]
  },
  {
   "cell_type": "markdown",
   "metadata": {},
   "source": [
    "`sample()` ottaa parametriksi listan `l` ja kokonaisluvun `k`. Funktio valitsee listasta `k` alkiota satunnaisesti, ja muodostaa niistä listan. Funktio ei ota samaa alkiota useaan kertaan, ja siksi `k`:n tulee olla pienempi tai yhtäsuuri kuin listan koon!"
   ]
  },
  {
   "cell_type": "code",
   "execution_count": 48,
   "metadata": {},
   "outputs": [
    {
     "data": {
      "text/plain": [
       "['yes', 1]"
      ]
     },
     "execution_count": 48,
     "metadata": {},
     "output_type": "execute_result"
    }
   ],
   "source": [
    "import random\n",
    "\n",
    "l = [1,\"yes\",True]\n",
    "\n",
    "random.sample(l,2)"
   ]
  },
  {
   "cell_type": "code",
   "execution_count": 50,
   "metadata": {},
   "outputs": [
    {
     "data": {
      "text/plain": [
       "[3, 8, 6, 2, 1]"
      ]
     },
     "execution_count": 50,
     "metadata": {},
     "output_type": "execute_result"
    }
   ],
   "source": [
    "import random\n",
    "\n",
    "l = list(range(10))\n",
    "    \n",
    "random.sample(l,5)"
   ]
  },
  {
   "cell_type": "code",
   "execution_count": 53,
   "metadata": {},
   "outputs": [
    {
     "ename": "ValueError",
     "evalue": "Sample larger than population or is negative",
     "output_type": "error",
     "traceback": [
      "\u001b[1;31m---------------------------------------------------------------------------\u001b[0m",
      "\u001b[1;31mValueError\u001b[0m                                Traceback (most recent call last)",
      "\u001b[1;32m<ipython-input-53-bda25085211a>\u001b[0m in \u001b[0;36m<module>\u001b[1;34m\u001b[0m\n\u001b[0;32m      3\u001b[0m \u001b[0ml\u001b[0m \u001b[1;33m=\u001b[0m \u001b[1;33m[\u001b[0m\u001b[1;36m1\u001b[0m\u001b[1;33m,\u001b[0m\u001b[1;34m\"yes\"\u001b[0m\u001b[1;33m,\u001b[0m\u001b[1;32mTrue\u001b[0m\u001b[1;33m]\u001b[0m\u001b[1;33m\u001b[0m\u001b[1;33m\u001b[0m\u001b[0m\n\u001b[0;32m      4\u001b[0m \u001b[1;33m\u001b[0m\u001b[0m\n\u001b[1;32m----> 5\u001b[1;33m \u001b[0mrandom\u001b[0m\u001b[1;33m.\u001b[0m\u001b[0msample\u001b[0m\u001b[1;33m(\u001b[0m\u001b[0ml\u001b[0m\u001b[1;33m,\u001b[0m\u001b[1;36m5\u001b[0m\u001b[1;33m)\u001b[0m\u001b[1;33m\u001b[0m\u001b[1;33m\u001b[0m\u001b[0m\n\u001b[0m",
      "\u001b[1;32m~\\Anaconda3\\lib\\random.py\u001b[0m in \u001b[0;36msample\u001b[1;34m(self, population, k)\u001b[0m\n\u001b[0;32m    319\u001b[0m         \u001b[0mn\u001b[0m \u001b[1;33m=\u001b[0m \u001b[0mlen\u001b[0m\u001b[1;33m(\u001b[0m\u001b[0mpopulation\u001b[0m\u001b[1;33m)\u001b[0m\u001b[1;33m\u001b[0m\u001b[1;33m\u001b[0m\u001b[0m\n\u001b[0;32m    320\u001b[0m         \u001b[1;32mif\u001b[0m \u001b[1;32mnot\u001b[0m \u001b[1;36m0\u001b[0m \u001b[1;33m<=\u001b[0m \u001b[0mk\u001b[0m \u001b[1;33m<=\u001b[0m \u001b[0mn\u001b[0m\u001b[1;33m:\u001b[0m\u001b[1;33m\u001b[0m\u001b[1;33m\u001b[0m\u001b[0m\n\u001b[1;32m--> 321\u001b[1;33m             \u001b[1;32mraise\u001b[0m \u001b[0mValueError\u001b[0m\u001b[1;33m(\u001b[0m\u001b[1;34m\"Sample larger than population or is negative\"\u001b[0m\u001b[1;33m)\u001b[0m\u001b[1;33m\u001b[0m\u001b[1;33m\u001b[0m\u001b[0m\n\u001b[0m\u001b[0;32m    322\u001b[0m         \u001b[0mresult\u001b[0m \u001b[1;33m=\u001b[0m \u001b[1;33m[\u001b[0m\u001b[1;32mNone\u001b[0m\u001b[1;33m]\u001b[0m \u001b[1;33m*\u001b[0m \u001b[0mk\u001b[0m\u001b[1;33m\u001b[0m\u001b[1;33m\u001b[0m\u001b[0m\n\u001b[0;32m    323\u001b[0m         \u001b[0msetsize\u001b[0m \u001b[1;33m=\u001b[0m \u001b[1;36m21\u001b[0m        \u001b[1;31m# size of a small set minus size of an empty list\u001b[0m\u001b[1;33m\u001b[0m\u001b[1;33m\u001b[0m\u001b[0m\n",
      "\u001b[1;31mValueError\u001b[0m: Sample larger than population or is negative"
     ]
    }
   ],
   "source": [
    "import random\n",
    "\n",
    "l = [1,\"yes\",True]\n",
    "\n",
    "random.sample(l,5)"
   ]
  },
  {
   "cell_type": "markdown",
   "metadata": {},
   "source": [
    "Alimmasta esimerkistä tulee virhe, koska `k` on isompi kuin listan koko."
   ]
  },
  {
   "cell_type": "markdown",
   "metadata": {},
   "source": [
    "#### shuffle(list)"
   ]
  },
  {
   "cell_type": "markdown",
   "metadata": {},
   "source": [
    "`shuffle()` ottaa parametriksi listan, ja satunnaistaa sen järjestyksen. Huom! Funktio ei palauta mitään, vaan ainoastaan muuttaa alkuperäistä listaa."
   ]
  },
  {
   "cell_type": "code",
   "execution_count": 54,
   "metadata": {},
   "outputs": [
    {
     "name": "stdout",
     "output_type": "stream",
     "text": [
      "[3, 0, 2, 1, 4]\n"
     ]
    }
   ],
   "source": [
    "import random\n",
    "\n",
    "l = [0, 1, 2, 3, 4]\n",
    "\n",
    "random.shuffle(l)\n",
    "print(l)"
   ]
  },
  {
   "cell_type": "markdown",
   "metadata": {},
   "source": [
    "##### HARJOITUS 3"
   ]
  },
  {
   "cell_type": "markdown",
   "metadata": {},
   "source": [
    "Luo lottokoneohjelma. Käyttäjältä kysytään numero väliltä 0-9. Seuraavaksi ohjelma valitsee satunnaiset kolme \"voittonumeroa\" samalta väliltä. Ohjelma tulostaa käyttäjän numeron, voittonumerot, sekä voittiko käyttäjä vai ei. Käyttäjä voittaa, jos hän valitsi numeron joka esiintyy voittonumeroissa. *Vinkki: Käytä `sample()`:a voittonumeroiden valitsemisessa. Käyttäjän numeron tarkastaminen voittonumeroissa toimii hyvin `in` operaatiolla.*"
   ]
  },
  {
   "cell_type": "code",
   "execution_count": 7,
   "metadata": {},
   "outputs": [
    {
     "name": "stdout",
     "output_type": "stream",
     "text": [
      "Write your lottery number: \n",
      "1\n",
      "[4, 3, 0]\n",
      "User lost the lottery\n"
     ]
    }
   ],
   "source": [
    "import random\n",
    "user_number = int(input('Write your lottery number: \\n'))\n",
    "l = list(range(9))\n",
    "winning_numbers = random.sample(l,3)\n",
    "print(winning_numbers)\n",
    "if user_number in winning_numbers:\n",
    "    print('User won the lottery')\n",
    "else:\n",
    "    print('User lost the lottery')\n",
    "    "
   ]
  },
  {
   "cell_type": "markdown",
   "metadata": {},
   "source": [
    "## Lisää tapoja tuoda kirjasto\n"
   ]
  },
  {
   "cell_type": "markdown",
   "metadata": {},
   "source": [
    "### as"
   ]
  },
  {
   "cell_type": "markdown",
   "metadata": {},
   "source": [
    "Kuten tämän luvun esimerkeissä on käynyt ilmi, kirjastosta kutsuttavat arvot ja funktiot vaativat `kirjaston_nimi.`-etuliitteen. `math`:in kohdalla tämä ei ole ongelma, sillä kirjaston nimi on lyhyt, mutta jos haluaisimme käyttää eri nimeä kuin `math`, sen voi tehdä näin:"
   ]
  },
  {
   "cell_type": "code",
   "execution_count": 3,
   "metadata": {},
   "outputs": [
    {
     "data": {
      "text/plain": [
       "3.141592653589793"
      ]
     },
     "execution_count": 3,
     "metadata": {},
     "output_type": "execute_result"
    }
   ],
   "source": [
    "import math as m\n",
    "m.pi"
   ]
  },
  {
   "cell_type": "code",
   "execution_count": 4,
   "metadata": {},
   "outputs": [
    {
     "data": {
      "text/plain": [
       "0.9396926207859083"
      ]
     },
     "execution_count": 4,
     "metadata": {},
     "output_type": "execute_result"
    }
   ],
   "source": [
    "import math as potato\n",
    "\n",
    "potato.sin(potato.radians(70))"
   ]
  },
  {
   "cell_type": "markdown",
   "metadata": {},
   "source": [
    "### from"
   ]
  },
  {
   "cell_type": "markdown",
   "metadata": {},
   "source": [
    "Joskus kirjastot voivat olla tarpeettoman isoja, ja niistä halutaan tuoda ainoastaan yksi osa. Tämän voi tehdä `from`:in avulla"
   ]
  },
  {
   "cell_type": "code",
   "execution_count": 5,
   "metadata": {},
   "outputs": [
    {
     "data": {
      "text/plain": [
       "3.141592653589793"
      ]
     },
     "execution_count": 5,
     "metadata": {},
     "output_type": "execute_result"
    }
   ],
   "source": [
    "from math import pi\n",
    "\n",
    "pi"
   ]
  },
  {
   "cell_type": "markdown",
   "metadata": {},
   "source": [
    "Nyt `math`:ista on tuotu ainoastaa `.pi`, ja pii ei vaadi erillistä `math.` etuliitettä."
   ]
  },
  {
   "cell_type": "markdown",
   "metadata": {},
   "source": [
    "`from`:in ja `as`:in voi myös yhdistää:"
   ]
  },
  {
   "cell_type": "code",
   "execution_count": 6,
   "metadata": {},
   "outputs": [
    {
     "name": "stdout",
     "output_type": "stream",
     "text": [
      "3\n",
      "2\n"
     ]
    }
   ],
   "source": [
    "from math import ceil as c\n",
    "from math import floor as f\n",
    "\n",
    "print(c(2.5))\n",
    "print(f(2.5))"
   ]
  },
  {
   "cell_type": "markdown",
   "metadata": {},
   "source": [
    "## Csv"
   ]
  },
  {
   "cell_type": "markdown",
   "metadata": {},
   "source": [
    "Aikaisemmassa kappaleessa kävimme läpi yhden tavan, miten käsitellä .csv tiedostoja. Pythonissa on olemassa myös valmis kirjasto nimeltä `csv`, jolla .csv tiedostoja voidaan käsitellä helposti. Seuraavassa esimerkissä käymme läpi, miten kirjastoa käytetään samalla `stock_prices.csv` tiedostolla mitä käytettiin luvussa 7:"
   ]
  },
  {
   "cell_type": "code",
   "execution_count": 60,
   "metadata": {},
   "outputs": [
    {
     "name": "stdout",
     "output_type": "stream",
     "text": [
      "['06/01/12', '6.01']\n",
      "['06/06/12', '6.32']\n",
      "['06/11/12', '6.3']\n",
      "['06/16/12', '6.22']\n",
      "['06/21/12', '6.24']\n",
      "['06/26/12', '6.2']\n",
      "The dates: ['06/01/12', '06/06/12', '06/11/12', '06/16/12', '06/21/12', '06/26/12']\n",
      "The stock prices: [6.01, 6.32, 6.3, 6.22, 6.24, 6.2]\n",
      "The average stock price is: 6.215\n"
     ]
    }
   ],
   "source": [
    "import csv\n",
    "dates = [] # Initialize an empty list\n",
    "prices = [] # Initialize an empty list\n",
    "filename = \"C:\\\\Users\\\\35844\\\\OneDrive\\\\Desktop\\\\Python Programming\\\\Aalto\\\\stock_prices.csv\" # Define the file we want to open\n",
    "with open(filename) as file: # Open the file\n",
    "    csv_file = csv.reader(file) # Create a csv reader object\n",
    "    for row in csv_file: # Iterate through the csv file with the help of the reader object \n",
    "        print(row) # Print a row \n",
    "        dates.append(row[0]) # Append the date information to the corresponding list\n",
    "        prices.append(float(row[1])) # Append the stock price information to the corresponding list. Note the type conversion!\n",
    "print(\"The dates:\",dates) # Print the dates\n",
    "print(\"The stock prices:\",prices) # Print the stock prices \n",
    "if len(prices) > 0: # Make sure that we have read at least one value\n",
    "    print(\"The average stock price is:\",sum(prices)/len(prices)) # Calculate the average stock price"
   ]
  },
  {
   "cell_type": "markdown",
   "metadata": {},
   "source": [
    "Käydään läpi ohjelma:\n",
    "- Rivi 1: Tuodaan kirjasto `csv` Pythoniin `import` komennon avulla\n",
    "- Rivit 2 & 3: Luodaan tyhjät listat luettavaa informaatiota varten\n",
    "- Rivi 4: Määritellään tiedoston nimi, joka halutaan lukea\n",
    "- Rivi 5: Avataan tiedosto\n",
    "- Rivi 6: Kutsutaan `csv.reader()` funktiota. Funktio palauttaa lukijaobjektin, jonka avulla tiedosto voidaan läydä läpi. \n",
    "- Rivi 7: Voimme käydä .csv tiedoston läpi `for`-loopilla läpi käyttäen edellisellä rivillä luotua lukijaobjektia. \n",
    "- Rivi 8: Printataan yksi rivi, ja katsotaan mitä olemme lukeneet \n",
    "- Rivit 9 & 10: Lisätään luetun listan osat niitä vastaaviin listoihin\n",
    "- Rivit 11 & 12: Kun olemme lukeneet koko tiedoston, printtaamme lopulliset listat. \n",
    "- Rivit 13 & 14: Laskemme osakkeiden keskiarvon. Rivin 13 ehto on sitä varten, jos lista olisikin tyhjä. Tällöin keskiarvon laskeminen ei olisi mielekästä. \n",
    "\n",
    "Huomaa, että myös `csv.reader()` lukee kaiken tiedon myös merkkijonoina. Eli siis samalla tavalla kuin esim. `readline()` ja `readlines()` metodit kappaleessa 7. "
   ]
  },
  {
   "cell_type": "markdown",
   "metadata": {},
   "source": [
    "##### HARJOITUS 4"
   ]
  },
  {
   "cell_type": "markdown",
   "metadata": {},
   "source": [
    "Sinulle on annettu tiedosto 'prices.csv', jossa on listattu eri tuotteiden hintoja. Ensimmäisessä sarakkeessa on tuotteen nimi ja toisessa sen hinta. Tiedot on eroteltu pilkulla. Luo ohjelma, joka lukee tiedoston käyttäen `csv.reader()` funktiota. Erottele sarakkeet kahteen eri listaan `products` ja `prices`. Lopuksi tulosta saamasi listat. (Tuloste)"
   ]
  },
  {
   "cell_type": "code",
   "execution_count": 1,
   "metadata": {},
   "outputs": [
    {
     "name": "stdout",
     "output_type": "stream",
     "text": [
      "['Bread', 'Bananas', 'Cheese', 'Chicken', 'Cereal']\n",
      "['2', '3', '4', '6', '3']\n"
     ]
    }
   ],
   "source": [
    "import csv\n",
    "file = open(r'C:\\Users\\35844\\OneDrive\\Desktop\\Python Programming\\Aalto\\prices.csv', 'r')\n",
    "data = csv.reader(file)\n",
    "p_name = []\n",
    "price = []\n",
    "i = 0\n",
    "for row in data:\n",
    "    if i != 0:\n",
    "        p_name.append(row[0])\n",
    "        price.append(row[1])\n",
    "    i+=1\n",
    "print(p_name)\n",
    "print(price)\n",
    "\n",
    "file.close()"
   ]
  },
  {
   "cell_type": "markdown",
   "metadata": {},
   "source": [
    "## Kertaus "
   ]
  },
  {
   "cell_type": "markdown",
   "metadata": {},
   "source": [
    "Kirjastot tuodaan Pythoniin `import` käskyllä."
   ]
  },
  {
   "cell_type": "markdown",
   "metadata": {},
   "source": [
    "```python\n",
    "import library```"
   ]
  },
  {
   "cell_type": "markdown",
   "metadata": {},
   "source": [
    "### Math"
   ]
  },
  {
   "cell_type": "markdown",
   "metadata": {},
   "source": [
    "math-kirjasto sisältää matematiikkaoperaatioita:"
   ]
  },
  {
   "cell_type": "markdown",
   "metadata": {},
   "source": [
    "###### Vakioita:"
   ]
  },
  {
   "cell_type": "markdown",
   "metadata": {},
   "source": [
    "```python\n",
    "math.pi\n",
    "math.e```"
   ]
  },
  {
   "cell_type": "markdown",
   "metadata": {},
   "source": [
    "###### Neliöjuuri"
   ]
  },
  {
   "cell_type": "markdown",
   "metadata": {},
   "source": [
    "```python\n",
    "math.sqrt(10)\n",
    "```"
   ]
  },
  {
   "cell_type": "markdown",
   "metadata": {},
   "source": [
    "###### Eksponentti"
   ]
  },
  {
   "cell_type": "markdown",
   "metadata": {},
   "source": [
    "```python\n",
    "math.exp(5)\n",
    "```"
   ]
  },
  {
   "cell_type": "markdown",
   "metadata": {},
   "source": [
    "###### Logaritmi"
   ]
  },
  {
   "cell_type": "markdown",
   "metadata": {},
   "source": [
    "```python\n",
    "math.log(16)\n",
    "```"
   ]
  },
  {
   "cell_type": "markdown",
   "metadata": {},
   "source": [
    "###### Pyöristäminen"
   ]
  },
  {
   "cell_type": "markdown",
   "metadata": {},
   "source": [
    "```python\n",
    "math.ceil(2.5)\n",
    "math.floor(3.6)\n",
    "```"
   ]
  },
  {
   "cell_type": "markdown",
   "metadata": {},
   "source": [
    "###### Trigonometriset funktiot"
   ]
  },
  {
   "cell_type": "markdown",
   "metadata": {},
   "source": [
    "```python\n",
    "math.radians(45) # Turns degrees to radians\n",
    "math.sin(0.5) # Calculates sine from given radians\n",
    "math.cos(7.2) # Calculates cosine from given radians\n",
    "```"
   ]
  },
  {
   "cell_type": "markdown",
   "metadata": {},
   "source": [
    "### Random"
   ]
  },
  {
   "cell_type": "markdown",
   "metadata": {},
   "source": [
    "Random-kirjasto sisältää funktioita, jotka valitsevat satunnaisia arvoja tai alkioita."
   ]
  },
  {
   "cell_type": "markdown",
   "metadata": {},
   "source": [
    "###### random()"
   ]
  },
  {
   "cell_type": "markdown",
   "metadata": {},
   "source": [
    "`random()` valitsee satunnaisen arvon väliltä 0-1, poislukien 1."
   ]
  },
  {
   "cell_type": "markdown",
   "metadata": {},
   "source": [
    "```python\n",
    "random.random()\n",
    "```"
   ]
  },
  {
   "cell_type": "markdown",
   "metadata": {},
   "source": [
    "###### randrange()"
   ]
  },
  {
   "cell_type": "markdown",
   "metadata": {},
   "source": [
    "`randrange()` valitsee satunnaisen kokonaisluvun annetulta väliltä. Väli annetaan samalla tavalla kuin `range()`-funktiolle."
   ]
  },
  {
   "cell_type": "markdown",
   "metadata": {},
   "source": [
    "```python\n",
    "random.randrange(5)\n",
    "random.randrange(1,5)\n",
    "random.randrange(0,10,2)\n",
    "```"
   ]
  },
  {
   "cell_type": "markdown",
   "metadata": {},
   "source": [
    "###### choice()"
   ]
  },
  {
   "cell_type": "markdown",
   "metadata": {},
   "source": [
    "`choice()` valitsee ja palauttaa satunnaisen arvon parametrinä annetusta listasta."
   ]
  },
  {
   "cell_type": "markdown",
   "metadata": {},
   "source": [
    "```python\n",
    "random.choice(list)\n",
    "```"
   ]
  },
  {
   "cell_type": "markdown",
   "metadata": {},
   "source": [
    "###### sample()"
   ]
  },
  {
   "cell_type": "markdown",
   "metadata": {},
   "source": [
    "`sample()` ottaa parametriksi listan ja kokonaisluvun, ja palauttaa listan, jossa on satunnaisesti valittu lista annetun kokonaisluvun verran alkioita alkuperäisestä listasta."
   ]
  },
  {
   "cell_type": "markdown",
   "metadata": {},
   "source": [
    "```python\n",
    "random.sample(list,k)\n",
    "```"
   ]
  },
  {
   "cell_type": "markdown",
   "metadata": {},
   "source": [
    "###### shuffle()"
   ]
  },
  {
   "cell_type": "markdown",
   "metadata": {},
   "source": [
    "`shuffle()` järjestää parametrinä annetun listan uudelleen eikä palauta mitään"
   ]
  },
  {
   "cell_type": "markdown",
   "metadata": {},
   "source": [
    "```python\n",
    "random.shuffle(list)\n",
    "```"
   ]
  },
  {
   "cell_type": "markdown",
   "metadata": {},
   "source": [
    "### Csv"
   ]
  },
  {
   "cell_type": "markdown",
   "metadata": {},
   "source": [
    "csv-kirjaston avulla voidaan lukea helposti .csv tiedostoja Pythonissa. Kirjasto perustuu `csv.reader()` funktioon, jonka avulla voidaan rivi kerrallaan lukea .csv tiedosto."
   ]
  },
  {
   "cell_type": "markdown",
   "metadata": {},
   "source": [
    "```Python\n",
    "import csv\n",
    "with open(filename) as file:\n",
    "    csv_file = csv.reader(file)\n",
    "    for row in csv_file:\n",
    "        print(row)\n",
    "```"
   ]
  },
  {
   "cell_type": "markdown",
   "metadata": {},
   "source": [
    "### Lisää kirjastojen tuontia"
   ]
  },
  {
   "cell_type": "markdown",
   "metadata": {},
   "source": [
    "Kirjastojen tuontia voi spesifioida `from` ja `as` määreillä:"
   ]
  },
  {
   "cell_type": "markdown",
   "metadata": {},
   "source": [
    "```python\n",
    "from library import sublibrary```"
   ]
  },
  {
   "cell_type": "markdown",
   "metadata": {},
   "source": [
    "`from`:in avulla kirjastosta tuodaan vain osa."
   ]
  },
  {
   "cell_type": "markdown",
   "metadata": {},
   "source": [
    "```python \n",
    "import library as lib```"
   ]
  },
  {
   "cell_type": "markdown",
   "metadata": {},
   "source": [
    "`as`:in avulla kirjasto tuodaan eri nimellä."
   ]
  },
  {
   "cell_type": "markdown",
   "metadata": {},
   "source": [
    "### Palaute\n",
    "\n",
    "Muistathan antaa [palautetta](https://docs.google.com/forms/d/e/1FAIpQLSfZH6EDFiU7JxZd90j07YagAVFFJqWNu47RtHDQozDeaeQcXw/viewform?usp=sf_link)!"
   ]
  }
 ],
 "metadata": {
  "kernelspec": {
   "display_name": "Python 3",
   "language": "python",
   "name": "python3"
  },
  "language_info": {
   "codemirror_mode": {
    "name": "ipython",
    "version": 3
   },
   "file_extension": ".py",
   "mimetype": "text/x-python",
   "name": "python",
   "nbconvert_exporter": "python",
   "pygments_lexer": "ipython3",
   "version": "3.7.4"
  }
 },
 "nbformat": 4,
 "nbformat_minor": 2
}
