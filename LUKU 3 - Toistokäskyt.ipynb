{
  "cells": [
    {
      "metadata": {},
      "cell_type": "markdown",
      "source": "# Luku 3: Toistokäskyt"
    },
    {
      "metadata": {},
      "cell_type": "markdown",
      "source": "Monissa ohjelmissa jokin käsky halutaan toistaa monta kertaa. Esimerkiksi voidaan haluta tulostaa sarja lukuja. Sen sijaan, että käskyt kirjoitettaisiin monta kertaa, on monissa ohjelmointikielissä on toistokäskyjä. Pythonissa on kaksi eri toistokäskyä: **`while`** ja **`for`**, joiden toimintaan tutustutaan tässä luvussa. \n\nMyös toistokäskyissä täytyy rakenteen perässä olla kaksoispiste `:`. Molemmat näistä käskyistä aloittavat myös uuden ohjelmalohkon. Niin kuin `if-else`-rakenteessa, myös silmukoiden aloittamien ohjelmalohkojen koodit tulee sisentää."
    },
    {
      "metadata": {},
      "cell_type": "markdown",
      "source": "### while-silmukka"
    },
    {
      "metadata": {},
      "cell_type": "markdown",
      "source": "Pythonissa `while`-silmukka muodostetaan seuraavanlaisesti:     \n```python\nwhile condition:\n    command\n```"
    },
    {
      "metadata": {},
      "cell_type": "markdown",
      "source": "`while`-silmukan ehto toimii samalla tavalla kuin `if-else`-lausekkeissa. Nimensä mukaisesti, niin kauan kuin ehto on `True`, käsky suoritetaan uudelleen."
    },
    {
      "metadata": {
        "trusted": true
      },
      "cell_type": "code",
      "source": "i = 0\nwhile i < 3:\n    print(i)\n    i = i + 1",
      "execution_count": null,
      "outputs": []
    },
    {
      "metadata": {},
      "cell_type": "markdown",
      "source": "Yllä oleva silmukka käynnistyy aina kun `i` on pienempi kuin 3. `i` tulostetaan ja sen jälkeen kasvatetaan yhdellä. Koska tulostaminen (rivi 3) tapahtuu ennen `i`:n kasvattamista yhdellä (rivi 4), tulostuvat numerot 0-2. "
    },
    {
      "metadata": {},
      "cell_type": "markdown",
      "source": "**Esimerkkiohjelma 1:** Kertotaulu"
    },
    {
      "metadata": {
        "trusted": true
      },
      "cell_type": "code",
      "source": "print('This program prints the multiplication table of number 2 until 10.\\n')\ni = 0\nwhile i < 11:\n    print('2 *',i,'=',2*i)\n    i += 1 # shorter form for i = i + 1\n",
      "execution_count": null,
      "outputs": []
    },
    {
      "metadata": {},
      "cell_type": "markdown",
      "source": "Ohjelman kulku vaiheittain:\n\n- Rivi 1: Tulostetaan infoteksti\n- Rivi 2: Ohjelman muuttujan `i` arvoksi asetetaan 0 \n- Rivi 3: Ohjelma siirtyy while-silmukkaan. Ensin tarkistetaan onko ehto tosi (onko muuttujan `i` arvo pienempi kuin 11) ja ensimmäisellä kierroksella ehto 0 < 11 on tosi\n- Rivi 4: Suoritetaan tulostuskäsky silmukan sisällä. Tulostuskäskyssä käytetään hyväksi merkkijonoja, sekä muuttujaa i. Kaikki nämä osat yhdistetään toisiinsa käyttäen pilkkua.\n- Rivi 5: Kasvatetaan `i`:n arvoa `i = i + 1` eli muuttujan `i` arvoksi jää 1. Ohjelman kulku siirtyy takaisin riville 3.\n- Rivi 3: Seuraavalla kierroksella tarkistetaan ehto `1 < 11` (tosi) ja toteutetaan käskyt\n\nTätä jatketaan kunnes `i < 11` on epätosi, jolloin silmukka ja ohjelman ajaminen loppuu"
    },
    {
      "metadata": {},
      "cell_type": "markdown",
      "source": "###### HARJOITUS 1"
    },
    {
      "metadata": {},
      "cell_type": "markdown",
      "source": "Tee ohjelma, jossa on `while`-silmukka, joka tulostaa numerot 10:stä 1:een, laskevassa järjestyksessä.      \nVinkki: luo muuttuja (esim. `i`) jonka arvo on aluksi 10, ja silmukan sisällä tulosta sen arvo, ja\npienennä sitä yhdellä. Silmukan ehtona vertaa muuttujaa lukuun `0`. (Tuloste)"
    },
    {
      "metadata": {
        "trusted": true
      },
      "cell_type": "code",
      "source": "",
      "execution_count": null,
      "outputs": []
    },
    {
      "metadata": {},
      "cell_type": "markdown",
      "source": "**Esimerkkiohjelma 2:** Ohjelma ei etene ilman et kirjottaa \"Hello\""
    },
    {
      "metadata": {},
      "cell_type": "markdown",
      "source": "`while`-silmukoita käytetään usein käyttäjän syötteen yhteydessä. Jos käyttäjältä vaaditaan tiettyä syötettä, voidaan `while`-silmukalla estää ohjelman eteneminen ennen, kuin syöte on oikein"
    },
    {
      "metadata": {
        "trusted": true
      },
      "cell_type": "code",
      "source": "hasnt_said_hello = True\nwhile hasnt_said_hello:\n    user_input = input('Type \"Hello\" to proceed: ')\n    if user_input == 'Hello':\n        hasnt_said_hello = False\n    else:\n        print(\"User has not said Hello yet.\")\nprint('Hello to you too!')",
      "execution_count": null,
      "outputs": []
    },
    {
      "metadata": {},
      "cell_type": "markdown",
      "source": "Rivi kerrallaan:\n- Rivi 1: määritellään muuttuja `hasnt_said_hello`, jota käytetään ehtona `while`-silmukassa. Asetetaan arvoksi `True`, jotta `while`-silmukka käynnistyy\n- Rivi 2: Aloitetaan `while`-silmukka. Koska ehtona on muuttuja, jonka arvo on `True`, `while`-silmukka käynnistyy.\n- Rivi 3: Sijoitetaan käyttäjän syöte `user_input` muuttujaan. Koska syöte luetaan aina merkkijonona, sen datatyyppiä ei tarvitse vaihtaa.\n- Rivi 4: Yksinkertainen `if`-lauseke tarkastaa, onko `user_input` täsmälleen sama kuin merkkijono \"Hello\". Vertailu voidaan tehdä, koska molemmat ovat samaa datatyyppiä.\n- Rivi 5: Jos syötteet ovat identtiset, muutetaan muuttuja `hasnt_said_hello` `False`ksi. Koska tämä on ainoa tapa miten `while`-silmukan ehto saa negatiivisen arvo, ei silmukka lopu ennen kuin syötteet täsmäävät.\n- Rivi 6 & 7: Jos käyttäjä kirjoitti jotain muuta kuin Hello, ohjelma kertoo sen.\n"
    },
    {
      "metadata": {},
      "cell_type": "markdown",
      "source": "###### HARJOITUS 2"
    },
    {
      "metadata": {},
      "cell_type": "markdown",
      "source": "Tee ohjelma jossa on `while`-silmukka. Silmukan sisällä pyydä käyttäjältä numeroa ja muuta syöte kokonaisluvuksi. Jos kokonaisluku on isompi kuin 0, silmukka jatkuu, muuten ohjelma loppuu.\n\nVinkki: Katso miten edellisessä esimerkkiohjelmassa ehtona käytettävä muuttuja on alustettu arvolla ennen silmukkaa. (Tuloste)"
    },
    {
      "metadata": {
        "trusted": true
      },
      "cell_type": "code",
      "source": "",
      "execution_count": null,
      "outputs": []
    },
    {
      "metadata": {},
      "cell_type": "markdown",
      "source": "### Ikuiset silmukat"
    },
    {
      "metadata": {},
      "cell_type": "markdown",
      "source": "Yksi yleisimpiä virheitä niin aloittelevien kuin kokeneempien ohjelmoijien parissa on **ikuinen `while`-silmukka**. Ikuinen `while`-silmukka syntyy, kun silmukka käynnistyy, mutta ehto ei saa koskaa arvoa `False`. Helpoin tapa tehdä ikuinen silmukka on laittaa yksinkertaisesti\n```python\nwhile True:\n    käsky\n```"
    },
    {
      "metadata": {},
      "cell_type": "markdown",
      "source": "Koska ei ole väliä mitä käsky tekee, `True` ei ole muuttuja eikä se voi vaihtaa arvoa, joten silmukka jatkuu loputtomiin."
    },
    {
      "metadata": {},
      "cell_type": "markdown",
      "source": "**ENNEN KUIN AJAT ALLA OLEVAN KOODIN:** Ohjelman ajon voi keskeyttää painamalla yläpalkin stop-painiketta (musta neliö). Keskeytä ohjelman ajo muutaman sekunnin jälkeen, kun olet ajanut ohjelman."
    },
    {
      "metadata": {
        "trusted": true
      },
      "cell_type": "code",
      "source": "while True:\n    print('This loop never ends!')",
      "execution_count": null,
      "outputs": []
    },
    {
      "metadata": {},
      "cell_type": "markdown",
      "source": "Niin kuin näkyy, ohjelma jatkaa saman `print()`-funktion kutsumista äärettömyyteen. Todellisuudessa lopulta ohjelmalta ehtyvät muistiresurssit, ja ohjelma keskeytyy."
    },
    {
      "metadata": {},
      "cell_type": "markdown",
      "source": "**Jupyterissä näkee että ohjelma on ikuisessa `while`-silmukassa,** jos ohjelman viereisessä lukee `In [*]`. Asteriski merkitsee että ohjelma on edelleen käynnissä, ja vaikka ohjelma ei tulostaisi tai pyytäisi käyttäjän syötettä, siitä näkee onko ohjelman ajo vielä käynnissä."
    },
    {
      "metadata": {},
      "cell_type": "markdown",
      "source": "Seuraavassa ohjelmassa on todennäköisesti yleisin `while`-silmukka virhe:"
    },
    {
      "metadata": {
        "trusted": true
      },
      "cell_type": "code",
      "source": "i = 0\nwhile i < 10:\n    print(i + 1)\n",
      "execution_count": null,
      "outputs": []
    },
    {
      "metadata": {},
      "cell_type": "markdown",
      "source": "Vaikka silmukan sisäinen käsky laskee `i + 1`, se ei päivitä muuttujaa `i`. Muuttujan päivittämisen unohtaminen on yleisin `while`-silmukkavirhe. Ikuisen silmukan voi välttää varmistamalla aina, että ehdossa käytettävät muuttujat päivittyvät silmukan sisällä."
    },
    {
      "metadata": {},
      "cell_type": "markdown",
      "source": "### BREAK"
    },
    {
      "metadata": {},
      "cell_type": "markdown",
      "source": "Ikuisiin silmukoihin on kuitenkin yksi pelastus, nimittäin komento `break`.\n`while`-loopissa voidaan käyttäjän antaa päättää millon ohjelma päättyy. "
    },
    {
      "metadata": {
        "trusted": true
      },
      "cell_type": "code",
      "source": "print('Tell me a word and Ill print it.\\nEnd program by writing \"quit\" \\n') #We want to print this only once\nword = '' #Setting to value so that we can enter the loop\nwhile word != 'quit':\n    word = input('Word:\\n')\nprint('The program has ended')",
      "execution_count": null,
      "outputs": []
    },
    {
      "metadata": {},
      "cell_type": "markdown",
      "source": "Ohjelma jatkaa siis `while`-looppia jos syöte on eri kuin 'quit'."
    },
    {
      "metadata": {},
      "cell_type": "markdown",
      "source": "Toinen tapa ohjata ohjelman lopettamista on `break`-käskyn avulla. Tällöin silmukan suorittaminen loppuu heti `break`-käskyn jälkeen ilman, että suoritetaan mitään silmukassa jäljellä olevaa koodia. Käytännössä käskyn kanssa käytetään `True` arvon avulla ikuista `while`-looppia, jonka kulku katkaistaan `break` -käskyllä. "
    },
    {
      "metadata": {
        "trusted": true
      },
      "cell_type": "code",
      "source": "question = 'Please tell me your name. Enter \"quit\" when you want to end.\\n'\nwhile True:\n    name = input(question)\n    if name == 'quit':\n        break\n    else:\n        print('Hello '+ name+'!') #printing with + since we do not want an extra space after the name",
      "execution_count": null,
      "outputs": []
    },
    {
      "metadata": {},
      "cell_type": "markdown",
      "source": "### Summa"
    },
    {
      "metadata": {},
      "cell_type": "markdown",
      "source": "Ohjelmissa käytetään usein summaa, eli lisätään yhteen annettuja edellisiä arvoja. Näitä käytetään etenkin kontrollirakenteissa `while` ja `for`."
    },
    {
      "metadata": {},
      "cell_type": "markdown",
      "source": "**Esimerkkiohjelma 3:** Keskiarvo"
    },
    {
      "metadata": {},
      "cell_type": "markdown",
      "source": "Alla oleva ohjelma laskee keskiarvon käyttäjän antamista luvuista. Kerkiarvoon tarvitaan lukujen summa ja niiden määrä."
    },
    {
      "metadata": {
        "trusted": true
      },
      "cell_type": "code",
      "source": "print('This program calculates the mean of the given numbers.')\nsum_of_numbers = 0\ncount = 0\nwhile True:\n    number = float(input('Give me a number. End with a negative number.\\n'))\n    if number >= 0:\n        sum_of_numbers += number # Raising the sum by the value of number\n        count += 1 # Raising the count by 1\n    else:\n        break # We encountered a negative number\nmean = sum_of_numbers/count\nprint('The mean of the numbers is',mean)",
      "execution_count": null,
      "outputs": []
    },
    {
      "metadata": {},
      "cell_type": "markdown",
      "source": "###### HARJOITUS 3"
    },
    {
      "metadata": {},
      "cell_type": "markdown",
      "source": "Luo Blackjackia muistuttava peli. Ohjelma laskee käyttäjän kokonaispisteitä. `while`-silmukan sisällä ohjelma kysyy kuinka paljon lisää pisteitä käyttäjä saa. Silmukka loppuu, jos käyttäjän kokonaispistemäärä on isompi tai yhtäsuuri kuin 21. Lopuksi ohjelma tulostaa käyttäjän kokonaispistemäärän. (Tuloste)"
    },
    {
      "metadata": {
        "trusted": true
      },
      "cell_type": "code",
      "source": "",
      "execution_count": null,
      "outputs": []
    },
    {
      "metadata": {},
      "cell_type": "markdown",
      "source": "# For-silmukka"
    },
    {
      "metadata": {},
      "cell_type": "markdown",
      "source": "Ohjelmoinnissa eri arvojen kokoelmaa sanotaan **alkiokokoelmaksi** (eng. collection). Yksittäiset arvot ovat **alkioita** (eng. element, item)."
    },
    {
      "metadata": {},
      "cell_type": "markdown",
      "source": "`for` käskyä käytetään, kun halutaan käydä jokin alkiokokoelma läpi. `for`-silmukka eroaa `while`stä siten, että se käy läpi ennaltamäärätyn alkiokokoelman, ja ei siten voi jatkua loputtomiin."
    },
    {
      "metadata": {},
      "cell_type": "markdown",
      "source": "`for`-silmukan muodostaminen tapahtuu seuraavanlaisesti:\n```python\nfor element in collection:\n    command\n```"
    },
    {
      "metadata": {},
      "cell_type": "markdown",
      "source": "Käydään läpi `for`-silmukan luonti. `for`-silmukan aloittava rivi koostuu neljästä kohdasta:\n- 1) `for` - Tämä Pythoniin sisäänrakennettu sana aloittaa silmukan\n- 2) `element` - Vapaasti nimettävissä oleva muuttuja, joka saa arvoksi `collection`:in arvoja.\n- 3) `in`- Tämä Pythoniin sisäänrakennettu sana erottaa muuttujan alkiokokoelmasta.\n- 4) `collection`- Jokin alkiokokoelma, tai muuttuja joka sisältää alkiokokoelman."
    },
    {
      "metadata": {},
      "cell_type": "markdown",
      "source": "`for`-silmukka noudattaa samaa muotoilua kuin muut kontrollirakenteet (esim. `if`,`while`). Silmukan aloittava rivi päättyy `:` ja silmukan sisälle ohjelmalohkoon menevät rivit sisennetään."
    },
    {
      "metadata": {},
      "cell_type": "markdown",
      "source": "`for`-silmukka vaatii toimiakseen aina jonkin alkiokokoelman. Yleisin käytettävä tietorakenne `for`-silmukan kanssa on lista. Listat käydään kuitenkin läpi vasta luvussa 5. Tätä varten voimme käyttää **`range()`-funktiota**."
    },
    {
      "metadata": {},
      "cell_type": "markdown",
      "source": "### range()-funktio"
    },
    {
      "metadata": {},
      "cell_type": "markdown",
      "source": "`range()`-funktio luo alkiojoukon, joka pitää sisällään kokonaislukuja kasvavassa järjestyksessä. `range()`-funktio on hyvin keskeinen funktio tällä kurssilla, joten varmista, että sisäistät miten se toimii ja miten sitä käytetään! Käydään läpi ero tapoja käyttää `range()`-funktiota. "
    },
    {
      "metadata": {},
      "cell_type": "markdown",
      "source": "#### range(n)"
    },
    {
      "metadata": {},
      "cell_type": "markdown",
      "source": "```python\nrange(n)\n```"
    },
    {
      "metadata": {},
      "cell_type": "markdown",
      "source": "Tässä muuttuja `n` voi olla mikä tahansa **kokonaisluku**. "
    },
    {
      "metadata": {},
      "cell_type": "markdown",
      "source": "**`range()`-funktio palauttaa lukujonon, jossa on luvun `n` verran numeroita. Lukujonon alkiot saavat arvot väliltä `0`  -  (`n-1`)**. Lukujonon ensimmäinen arvo on `0` ja viimeinen `n-1`.\n\nEli `range(n)`-funktio palauttaa nollasta alkaen kaikki kokonaisluvut **ennen numeroa `n`**."
    },
    {
      "metadata": {},
      "cell_type": "markdown",
      "source": "#### range(start,stop)"
    },
    {
      "metadata": {},
      "cell_type": "markdown",
      "source": "Usein halutaan, että lukujono **ei ala nollasta**. Aloituskohdan voi lisätä kutsumalla `range(n)` sijasta `range(start,stop)`, missä `start` on pienempi kokonaisluku kuin `stop`. Lukujono sisältää kaikki kokonaisluvut alkaen luvusta `start`ja loppuen yhtä pienempään kuin luku `stop`."
    },
    {
      "metadata": {},
      "cell_type": "markdown",
      "source": "`range(n)`:n voi nähdä eräänlaisen erikoistapauksena `range(start,stop)`:ista, jossa `start` on 0."
    },
    {
      "metadata": {},
      "cell_type": "markdown",
      "source": "Katsotaan mitä `range()` palauttaa:"
    },
    {
      "metadata": {
        "trusted": true
      },
      "cell_type": "code",
      "source": "range(5)",
      "execution_count": null,
      "outputs": []
    },
    {
      "metadata": {},
      "cell_type": "markdown",
      "source": "`range()` ei palauta itse numeroita, vaan **läpikäytävän lukujonon**. Yllä oleva esimerkki palauttaa `range(0,5)`, eli lukujonon, joka alkaa nollasta ja sisältää kaikki kokonaisluvut alle 5."
    },
    {
      "metadata": {
        "trusted": true
      },
      "cell_type": "code",
      "source": "range(2,7)",
      "execution_count": null,
      "outputs": []
    },
    {
      "metadata": {},
      "cell_type": "markdown",
      "source": "Tämäkin esimerkki palauttaa lukujonon, joka alkaa ensimmäisestä annetusta arvosta (tässä tapauksessa 2) ja loppuu ennen jälkimmäistä arvoa (tässä 7)."
    },
    {
      "metadata": {},
      "cell_type": "markdown",
      "source": "#### range(start,stop,step)"
    },
    {
      "metadata": {},
      "cell_type": "markdown",
      "source": "`range()`:n toiminnallisuutta voi muokata vielä enemmän lisäämällä kolmannen, `step` arvon:"
    },
    {
      "metadata": {
        "trusted": true
      },
      "cell_type": "code",
      "source": "range(0,10,2)",
      "execution_count": null,
      "outputs": []
    },
    {
      "metadata": {},
      "cell_type": "markdown",
      "source": "Kolmas luku (ylemmässä esimerkissä `2`), määrittelee `range()`:n askelpituuden. Eli sen sijaan että valitaan jokainen kokonaisluku väliltä `0`-`9`, valitaan ainoastaan joka toinen, eli tässä tapauksessa parilliset numerot."
    },
    {
      "metadata": {},
      "cell_type": "markdown",
      "source": "### For-silmukka ja range()"
    },
    {
      "metadata": {},
      "cell_type": "markdown",
      "source": "Erikseen näistä kahdesta ei ole vielä ollut juurikaan hyötyä, mutta yhdessä `for`-silmukka ja `range()` muodostavat todella hyödyllisen yhdistelmän:"
    },
    {
      "metadata": {},
      "cell_type": "markdown",
      "source": "**Esimerkkiohjelma 4:** Tulostetaan kasvavia numeroita"
    },
    {
      "metadata": {
        "trusted": true
      },
      "cell_type": "code",
      "source": "for i in range(10):\n    print(i)",
      "execution_count": null,
      "outputs": []
    },
    {
      "metadata": {},
      "cell_type": "markdown",
      "source": "Käydään esimerkki läpi kohta kohdalta.      \nRivillä 1 tapahtuu paljon: \n- 1) Aloitetaan silmukka sanalla `for`\n- 2) Annetaan muuttujalle jokin nimi. Usein numeroiden kanssa käytetään lyhyesti kirjainta `i`. Tämän muuttujan arvo muuttuu joka kerta, kun silmukka alkaa alusta.\n- 3) Erotetaan alkio ja alkiokokoelma toisistaan sanalla `in`.\n- 4) Muodostetaan lukujono, joka alkaa nollasta ja jatkuu numeroon 9 asti.      "
    },
    {
      "metadata": {},
      "cell_type": "markdown",
      "source": "Kaikki tämä on vain `for`-silmukan määrittelemistä, mutta itse toiminta tapahtuu rivillä 2:\n`print(i)`.        \nMiksi tämä käsky tulostaa kaikki oikeat numerot?        "
    },
    {
      "metadata": {},
      "cell_type": "markdown",
      "source": "Rivi 1 pitää huolen, että muuttujaa `i` päivitetään aina kun ohjelmalohko on käyty kertaalleen läpi. Seuraavan arvon `i`:lle se antaa lukujonosta `range(10)`. `for`-silmukka käy lukujonon järjestyksessä läpi, ja lopettaa kun lukujono on käyty kokonaisuudessaan läpi."
    },
    {
      "metadata": {},
      "cell_type": "markdown",
      "source": "Koska rivi 2 on silmukan käskyosuus, se käydään läpi aina kun silmukka alkaa uudelleen. `print()` tulostaa `i`:n, ja koska `i` päivittyy rivin 1 mukaisesti, lopulta ruudulle tulostuu lukujonon kaikki numerot."
    },
    {
      "metadata": {},
      "cell_type": "markdown",
      "source": "**Esimerkkiohjelma 5:** kertotaulu"
    },
    {
      "metadata": {},
      "cell_type": "markdown",
      "source": "Aiemmin esitetyssä Esimerkkiohjelma 1:ssä suoritettiin 2:n kertotaulu `while`-käskyllä. Tämä sama voidaan suorittaa yksinkertaisemmin `for`-silmukalla."
    },
    {
      "metadata": {
        "trusted": true
      },
      "cell_type": "code",
      "source": "for i in range(11):\n    print('2 *', i, '=', 2*i)",
      "execution_count": null,
      "outputs": []
    },
    {
      "metadata": {},
      "cell_type": "markdown",
      "source": "Huomaa, että `range()`-funktiolle annetaan luku 11 (eikä lukua 10), sillä `range()`-funktion luomaan lukujonoon ei sisälly kutsussa annettu arvo, vaan lukujono päättyy yhtä pienempään arvoon.\n\nOhjelma siis tulostaa jokaisella silmukan suorituksella kertolaskun `2*i`. Ja koska `i` käy läpi arvot `0`-`10`, tulostuu ruudulle kakkosen kertotaulu lukuun kymmenen asti. "
    },
    {
      "metadata": {},
      "cell_type": "markdown",
      "source": "Tai jos pelkät arvot riittävät, `range()`:n askelkokoa kasvattamalla koodia yksinkertaistettua entisestään:"
    },
    {
      "metadata": {
        "trusted": true
      },
      "cell_type": "code",
      "source": "for i in range(0,21,2):\n    print(i)",
      "execution_count": null,
      "outputs": []
    },
    {
      "metadata": {},
      "cell_type": "markdown",
      "source": "Ohjelma tulostaa siis käytännössä parilliset luvut nollasta kahteenkymmeneen."
    },
    {
      "metadata": {},
      "cell_type": "markdown",
      "source": "###### HARJOITUS 4"
    },
    {
      "metadata": {},
      "cell_type": "markdown",
      "source": "Tee ohjelma joka tulostaa parittomat luvut 1:stä 21:een `for`-silmukan ja `range()`:n avulla. (Tuloste)"
    },
    {
      "metadata": {
        "trusted": true
      },
      "cell_type": "code",
      "source": "",
      "execution_count": null,
      "outputs": []
    },
    {
      "metadata": {},
      "cell_type": "markdown",
      "source": "### Sisäkkäiset for-silmukat"
    },
    {
      "metadata": {},
      "cell_type": "markdown",
      "source": "`for`-silmukoiden tehokkuus korostuu sisäkkäisissä silmukoissa:"
    },
    {
      "metadata": {},
      "cell_type": "markdown",
      "source": "**Esimerkkiohjelma 6:** Tervehdys"
    },
    {
      "metadata": {
        "trusted": true
      },
      "cell_type": "code",
      "source": "for i in range(5):\n    for j in range(2):\n        print(\"Hi\")",
      "execution_count": null,
      "outputs": []
    },
    {
      "metadata": {},
      "cell_type": "markdown",
      "source": "Esimerkkiohjelma tulostaa tekstin `\"Hi\"` 10 kertaa, koska ulompi silmukka käydään läpi 5 kertaa, ja jokaisella kerralla käydään sisempi silmukka läpi 2 kertaa: `5*2 = 10`"
    },
    {
      "metadata": {},
      "cell_type": "markdown",
      "source": "**Esimerkkiohjelma 7:** i & j"
    },
    {
      "metadata": {
        "trusted": true
      },
      "cell_type": "code",
      "source": "for i in range(3):\n    print('i:',i)\n    for j in range(i):\n        print('j:',j)\n    print(\"-------\")",
      "execution_count": null,
      "outputs": []
    },
    {
      "metadata": {},
      "cell_type": "markdown",
      "source": "Käydään läpi ohjelman kulkua:\n- Ensin ohjelma aloittaa silmukan rivillä 1, ja `range()`:n ensimmäinen arvon mukaan `i`:hin sijoittuu `0`.\n- Ohjelma siirtyy silmukan sisälle, ja rivillä 2 tulostuu `i: 0`\n- Koska `i`on `0`, ei toista silmukkaa aloiteta, sillä `range(0)` ei sisällä lukuja. Ulompi silmukka alkaa alusta.\n- Ulompi silmukka sijoittaa `i`:n arvoksi `1`, ja rivillä 2 tulostetaan uusi `i`:n arvo.\n- Koska `i` on isompi kuin `0`, käynnistyy sisempi silmukka rivillä kolme.\n- `range(1)` sisältää ainoastaan yksittäisen luvun `0`, ja siksi silmukan käskyosuus käydään läpi ainoastaan kerran. Ohjelma tulostaa `j: 0`.\n- Sisempi silmukka on käyty läpi, ja samalla ulompi silmukka myös. Ohjelma siirtyy ulomman silmukan alkuun.\n- Ulompi silmukka päivittää `i`:n arvon viimeisen kerran, ja samalla käynnistyy viimeinen kierros.\n- Sisempi silmukka käy läpi lukujonon `range(2)`, eli numerot `0` ja `1`. Nämä `j`:n arvot tulostetaan.\n- Kun sisempi silmukka loppuu myös ulompi silmukka päättyy.\n\nVoit kokeilla ohjelman ajamista sijoittamalla eri lukuarvoja ulompaan silmukkaan!"
    },
    {
      "metadata": {},
      "cell_type": "markdown",
      "source": "###### HARJOITUS 5"
    },
    {
      "metadata": {},
      "cell_type": "markdown",
      "source": "Kirjoita ohjelma, joka kysyy käyttäjältä kaksi kokonaislukua, ja tallentaa ne järjestyksessä muuttujiin `x` ja `y`. Sen jälkeen ohjelma tulostaa kaikki mahdolliset kahden numeron yhdistelmät, joissa ensimmäinen numero on pienempi tai yhtäsuuri kuin `x` ja toinen numeron  on pienempi tai yhtäsuuri kuin `y`.\n\nEsimerkki: Jos käyttäjän antamat numerot ovat 1 ja 2, ohjelma tulostaa:\n```\n0,0\n0,1\n0,2\n1,0\n1,1\n1,2\n```\n\nTarvitset ohjelman tekemiseen kaksi `for`-silmukkaa, joista jälkimmäinen on ensimmäisen silmukan sisällä. Käytä myös `range()` funktiota saadaksesi oikeat tulostettavat luvut."
    },
    {
      "metadata": {
        "trusted": true
      },
      "cell_type": "code",
      "source": "",
      "execution_count": null,
      "outputs": []
    },
    {
      "metadata": {},
      "cell_type": "markdown",
      "source": "## Kertaus"
    },
    {
      "metadata": {},
      "cell_type": "markdown",
      "source": "Toistokäskyllä `while` voidaan toistaa koodia niin kauan, kuin jokin määritelty ehto on tosi. Toinen Pythonista löytyvä toistokäsky on `for`. `for`-silmukka käy kaikki sille annetun alkiojoukon alkiot läpi. "
    },
    {
      "metadata": {},
      "cell_type": "markdown",
      "source": "Alla oleva ohjelma tulostaa `i`:n arvon niin kauan kunnes se on yli 4. `i`:n arvoa täytyy kasvattaa jokaisella silmukalla, jotta ohjelma etenee."
    },
    {
      "metadata": {
        "trusted": true
      },
      "cell_type": "code",
      "source": "i = 0\nwhile i < 5:\n    print(i)\n    i = i + 1",
      "execution_count": null,
      "outputs": []
    },
    {
      "metadata": {},
      "cell_type": "markdown",
      "source": "`while` -silmukoita käytetään usein käyttäjän syötteen yhteydessä. Alla oleva ohjelma pyytää käyttäjältä positiivisia kokonaislukuja ja laskee niiden neliön. Ohjelma loppuu, kun käyttäjä antaa negatiivisen numeron."
    },
    {
      "metadata": {
        "trusted": true
      },
      "cell_type": "code",
      "source": "print('This program calculates squares for integers. End the program with a negative number.')\ni = int(input('Give me an integer:\\n'))\nwhile i > 0:\n    print(i**2)\n    i = int(input('Give me an integer:\\n'))",
      "execution_count": null,
      "outputs": []
    },
    {
      "metadata": {},
      "cell_type": "markdown",
      "source": "Silmukoissa voidaan haluta tallentaa kierroksilla arvoja talteen esimerkiksi summaksi."
    },
    {
      "metadata": {},
      "cell_type": "markdown",
      "source": "`for` käskyä käytetään, kun halutaan käydä jokin alkiokokoelma läpi. Se käy ennalta määrätyn alkiokokoelman, eikä voi jatkua loputtomiin, toisin kuin `while`-silmukka.\n\n```Python\nfor variable in collection:\n    command\n```\n\nMuuttuja, joka käy alkiokokoelman läpi, voidaan nimetä samalla tavalla kuin mikä muu tahansa muuttuja. Sen täytyy ainoastaan noudattaa Pythonin yleisiä nimeämiskäytäntöjä."
    },
    {
      "metadata": {},
      "cell_type": "markdown",
      "source": "`range()` -funktion avulla voidaan luoda alkiokokoelma. Sitä käytetään usein yhdessä `for` käskyn kanssa. `range()`-funktiota voidaan kutsua kolmella eri tavalla: antamalla pelkkä lopetusarvo, antamalla alku- sekä lopetusarvo tai antamalla alku- ja lopetusarvo sekä askelkoko."
    },
    {
      "metadata": {
        "trusted": true
      },
      "cell_type": "code",
      "source": "range(5)",
      "execution_count": null,
      "outputs": []
    },
    {
      "metadata": {
        "trusted": true
      },
      "cell_type": "code",
      "source": "range(1,5)",
      "execution_count": null,
      "outputs": []
    },
    {
      "metadata": {
        "trusted": true
      },
      "cell_type": "code",
      "source": "range(1,10,2)",
      "execution_count": null,
      "outputs": []
    },
    {
      "metadata": {},
      "cell_type": "markdown",
      "source": "Tätä rakennetta voidaan käyttää helposti esimerkiksi lukujen tulostamiseen."
    },
    {
      "metadata": {
        "trusted": true
      },
      "cell_type": "code",
      "source": "for i in range(5):\n    print(i)",
      "execution_count": null,
      "outputs": []
    },
    {
      "metadata": {
        "trusted": true
      },
      "cell_type": "code",
      "source": "for j in range(1,5):\n    print(j)",
      "execution_count": null,
      "outputs": []
    },
    {
      "metadata": {
        "trusted": true
      },
      "cell_type": "code",
      "source": "for k in range(1,10,2):\n    print(k)",
      "execution_count": null,
      "outputs": []
    },
    {
      "metadata": {},
      "cell_type": "markdown",
      "source": "### Palaute\n\nMuistathan antaa [palautetta](https://docs.google.com/forms/d/e/1FAIpQLSfZH6EDFiU7JxZd90j07YagAVFFJqWNu47RtHDQozDeaeQcXw/viewform?usp=sf_link)!"
    }
  ],
  "metadata": {
    "kernelspec": {
      "name": "python3",
      "display_name": "Python 3",
      "language": "python"
    },
    "language_info": {
      "mimetype": "text/x-python",
      "nbconvert_exporter": "python",
      "name": "python",
      "file_extension": ".py",
      "version": "3.5.4",
      "pygments_lexer": "ipython3",
      "codemirror_mode": {
        "version": 3,
        "name": "ipython"
      }
    }
  },
  "nbformat": 4,
  "nbformat_minor": 2
}